{
 "cells": [
  {
   "cell_type": "code",
   "execution_count": null,
   "id": "a7833e9c-4fdb-44fb-b8b0-8afa401020ce",
   "metadata": {},
   "outputs": [],
   "source": [
    "import pandas as pd\n",
    "import matplotlib.pyplot as plt\n",
    "import seaborn as sns"
   ]
  },
  {
   "cell_type": "markdown",
   "id": "fdae9308-26ff-4c2b-8126-aa4141c0724c",
   "metadata": {},
   "source": [
    "# Data exploration and cleaning\n",
    "\n",
    "The process of revieuwing and cleaning data to derive insights and generate hypotheses."
   ]
  },
  {
   "cell_type": "markdown",
   "id": "e3af12ba-c3a9-4818-88e2-04efae738d28",
   "metadata": {},
   "source": [
    "## 1. Get started \n",
    "\n",
    "Gather some basic information about the dataset."
   ]
  },
  {
   "cell_type": "code",
   "execution_count": null,
   "id": "66020fce-a623-4996-bfbf-622a31daa20f",
   "metadata": {},
   "outputs": [],
   "source": [
    "# import\n",
    "df = pd.read_csv('file.csv')\n",
    "\n",
    "# What meta data do we have? How does the dataset looks like?\n",
    "print(df.head())\n",
    "\n",
    "# Are there missing values? What type of values are included?\n",
    "df.info()\n",
    "df.dtypes"
   ]
  },
  {
   "cell_type": "markdown",
   "id": "573780a6-992e-4472-a222-6ccb4797c8a0",
   "metadata": {},
   "source": [
    "### Explore numerical data\n",
    "\n",
    "How is the data distributed? Some standaard describtions are given by .describe for the whole dataset."
   ]
  },
  {
   "cell_type": "code",
   "execution_count": null,
   "id": "f0c47112-b5cb-4bbc-bd66-809b0568f07a",
   "metadata": {},
   "outputs": [],
   "source": [
    "df.describe()"
   ]
  },
  {
   "cell_type": "code",
   "execution_count": null,
   "id": "9f6a8941-804b-44ba-8700-b2015ccee9ab",
   "metadata": {},
   "outputs": [],
   "source": [
    "sns.histplot(x = 'column', data = df, binwidth = 1)"
   ]
  },
  {
   "cell_type": "markdown",
   "id": "2a8fabaf-3004-4311-a4b3-84be16e00529",
   "metadata": {},
   "source": [
    "### Explore categorical data\n",
    "\n",
    "How many datapoints do we have in each catergory?"
   ]
  },
  {
   "cell_type": "code",
   "execution_count": null,
   "id": "fca6ac8a-204e-4bd9-9ea8-6cd8e1bfe33b",
   "metadata": {},
   "outputs": [],
   "source": [
    "df['columnname'].value_counts()"
   ]
  },
  {
   "cell_type": "markdown",
   "id": "5603290f-de44-4ad1-8be2-9b83a3b8e5a6",
   "metadata": {},
   "source": [
    "## 2. Validate datatypes\n",
    "\n",
    "Datatypes:\n",
    "* str\n",
    "* int\n",
    "* float\n",
    "* dict\n",
    "* list\n",
    "* bool"
   ]
  },
  {
   "cell_type": "markdown",
   "id": "870c9edc-ce4f-445d-a84e-09e8e50d4e9a",
   "metadata": {},
   "source": [
    "### Update type"
   ]
  },
  {
   "cell_type": "code",
   "execution_count": null,
   "id": "49e66863-6364-4bd6-ae64-571e31a90ce6",
   "metadata": {},
   "outputs": [],
   "source": [
    "# Update dtype\n",
    "df['column'] = df['column'].astype(int)\n",
    "\n",
    "# Check\n",
    "df.dtypes"
   ]
  },
  {
   "cell_type": "markdown",
   "id": "1f0641a7-797d-4771-94c4-90143ec1bf12",
   "metadata": {},
   "source": [
    "### Validate numerical data"
   ]
  },
  {
   "cell_type": "code",
   "execution_count": null,
   "id": "290d625a-2f2f-4382-828c-3c49ed8b1a99",
   "metadata": {},
   "outputs": [],
   "source": [
    "# What is the datatype of column '..'\n",
    "df.select_dtypes('number')\n",
    "\n",
    "# Range\n",
    "df['column'].min()\n",
    "df['column'].max()\n",
    "\n",
    "# Distribution\n",
    "sns.boxplot(x = 'column', data = df)"
   ]
  },
  {
   "cell_type": "markdown",
   "id": "e102d85e-c8c0-44be-b1cd-f0c7cce404ef",
   "metadata": {},
   "source": [
    "### Validate categorical data\n",
    "\n",
    "using .isin() return a serie with True and False. This can be used for filtering."
   ]
  },
  {
   "cell_type": "code",
   "execution_count": null,
   "id": "beb482b8-7a31-4215-95db-dd4b6bed20be",
   "metadata": {},
   "outputs": [],
   "source": [
    "# Validate categorical data\n",
    "df['column'].isin([\"var1\",\"var2\"])\n",
    "~df['column'].isin([\"var1\",\"var2\"]) "
   ]
  },
  {
   "cell_type": "markdown",
   "id": "a463553f-fe27-4a74-b6a6-04178138dbba",
   "metadata": {},
   "source": [
    "## 3. Explore subsets\n",
    "\n",
    "bla bla"
   ]
  },
  {
   "cell_type": "markdown",
   "id": "c6f10419-91e1-430c-b4d6-9955b42e7ad0",
   "metadata": {},
   "source": [
    "### Numerical data\n",
    "\n",
    "..."
   ]
  },
  {
   "cell_type": "markdown",
   "id": "154dc01f-9a5f-4be2-a871-7cbd0e3b2fca",
   "metadata": {},
   "source": [
    "### Categorical data\n",
    "\n",
    "Use groups of data to describe a subset of data using:\n",
    "* .group_by()\n",
    "\n",
    "with an aggragating function\n",
    "* .agg()\n",
    "* .mean()\n",
    "* .median()\n",
    "* .min()\n",
    "* .max()\n",
    "* .sum()\n",
    "* .count()\n",
    "* .var()\n",
    "* .std()\n",
    "\n",
    "Or use an aggregating function for ungrouped data. \n",
    "* .agg(['func1', 'func2'])\n",
    "\n",
    "This one is often used if we want to apply more than one function. The agg function only applies to numeric columns.\n",
    "\n",
    "Visalization:\n",
    "* barplot()"
   ]
  },
  {
   "cell_type": "code",
   "execution_count": null,
   "id": "e77861f9-a2f1-4b1c-bc58-5d7fdc3c612f",
   "metadata": {},
   "outputs": [],
   "source": [
    "# grouped data\n",
    "df.groupby('column').mean()\n",
    "df.groupby('column').agg( name_col = ('column1', 'mean'),  (name_col2 = 'column1', 'std'), (name_col3 = ('column2', 'median') )"
   ]
  },
  {
   "cell_type": "code",
   "execution_count": null,
   "id": "b8bb4d3e-5f2f-404d-802a-9c64febe3d38",
   "metadata": {},
   "outputs": [],
   "source": [
    "# ungrouped data\n",
    "df.agg(['mean', 'std'])\n",
    "\n",
    "# ungrouped data with diff agg functions for diff columns\n",
    "df.agg({'column1': ['mean', 'var'], 'column2': ['median'])"
   ]
  },
  {
   "cell_type": "code",
   "execution_count": null,
   "id": "cccad8c4-e422-4273-b1a3-7393600c16d8",
   "metadata": {},
   "outputs": [],
   "source": [
    "# Visalization\n",
    "sns.barplot(x = 'columnname', y = 'columnname', data = df)"
   ]
  },
  {
   "cell_type": "markdown",
   "id": "abdc6b7e-1517-46e5-ab86-a7d5884e1932",
   "metadata": {},
   "source": [
    "## 4. Cleaning and imputation\n",
    "\n",
    "Missing data affects distributions, and gives a less representatative view of the data and can result in drawing incorrect conclusions."
   ]
  },
  {
   "cell_type": "markdown",
   "id": "2cbc497f-7b38-4270-ae11-824bf721635f",
   "metadata": {},
   "source": [
    "### Numerical data\n",
    "\n",
    "Stragegies for adressing missing data, by:\n",
    "* Drop missing values (<5% of total)\n",
    "* impute mean, median, mode (depends on distribution and context). mode = central tendency\n",
    "* Impute by sub-group"
   ]
  },
  {
   "cell_type": "code",
   "execution_count": null,
   "id": "1413c731-de06-4a5c-9d2c-0fc76f0aa06a",
   "metadata": {},
   "outputs": [],
   "source": [
    "# Check missing values for each column\n",
    "df.isna().sum()"
   ]
  },
  {
   "cell_type": "code",
   "execution_count": null,
   "id": "e66185a6-4d37-4f80-9388-4ce2b797985f",
   "metadata": {},
   "outputs": [],
   "source": [
    "# step 1: Filter columns with less than threshold (drop missing values)\n",
    "threshold = len(df)*0.05\n",
    "cols_to_drop = df.columns[df.isna().sum() <= threshold]\n",
    "df.dropna(subset = cols_to_drop, inplace = True)"
   ]
  },
  {
   "cell_type": "code",
   "execution_count": null,
   "id": "90028b50-41b7-445f-841b-af4fe2f86fa6",
   "metadata": {},
   "outputs": [],
   "source": [
    "# step 2: Filter remaining columns with missing values (impute sum statistics)\n",
    "cols_with_missing_values = df.columns[df.isna().sum() > 0]\n",
    "\n",
    "# This examples uses the mode statistics to fill missing values\n",
    "for col in cols_with_missing_values[:,-1]:\n",
    "    df[col].fillna(df[col].mode()[0])"
   ]
  },
  {
   "cell_type": "code",
   "execution_count": null,
   "id": "23ac3d03-94e0-4866-b20f-d220c3d81a96",
   "metadata": {},
   "outputs": [],
   "source": [
    "# step interm: Can you remove a whole column which has no influence on the missing data?\n",
    "df['columnname'].value_counts()"
   ]
  },
  {
   "cell_type": "code",
   "execution_count": null,
   "id": "dac71469-cac0-4c35-87b4-d9ef47e77c8c",
   "metadata": {},
   "outputs": [],
   "source": [
    "# Check remaining missing values for each column\n",
    "df.isna().sum()"
   ]
  },
  {
   "cell_type": "code",
   "execution_count": null,
   "id": "36315d1f-2bd5-47fa-8563-36ce29002636",
   "metadata": {},
   "outputs": [],
   "source": [
    "# Step 3: Add data using impute data of subgroups\n",
    "df_dict = df.groupby('columname1')['columnanme2'].median().to_dict()\n",
    "df['columnname2'] = df['columnname2'].fillna(df['columname1'].map(df_dict))\n",
    "\n",
    "# df['columnname2'].fillna(df['columname1'].map(df_dict)) --> fill NaN values with using a dictionary. It searches for the key [columname1] and gives the value for [columname2]"
   ]
  },
  {
   "cell_type": "code",
   "execution_count": null,
   "id": "e2a1979f-d083-40a5-a75d-0b41b66b5e68",
   "metadata": {},
   "outputs": [],
   "source": [
    "# Check  missing values for each column again\n",
    "df.isna().sum()"
   ]
  },
  {
   "cell_type": "markdown",
   "id": "f4c244d0-f849-4f82-8333-c044a3294f37",
   "metadata": {},
   "source": [
    "### Categorical data"
   ]
  },
  {
   "cell_type": "markdown",
   "id": "8f3bd00a-a1dd-41d4-bd87-d5c57c9a3128",
   "metadata": {},
   "source": [
    "Previewing only categorical data:"
   ]
  },
  {
   "cell_type": "code",
   "execution_count": null,
   "id": "c3f8cd1d-f771-4966-b838-8d9c19a77db1",
   "metadata": {},
   "outputs": [],
   "source": [
    "df.select_dtypes(\"objects\").head()"
   ]
  },
  {
   "cell_type": "markdown",
   "id": "6cf835e0-20a2-453e-bd77-66abf38f811c",
   "metadata": {},
   "source": [
    "Examine the frequency of columns"
   ]
  },
  {
   "cell_type": "code",
   "execution_count": null,
   "id": "b13610f1-8298-4453-bdfe-759ea5ee432a",
   "metadata": {},
   "outputs": [],
   "source": [
    "df['columnname'].unique()"
   ]
  },
  {
   "cell_type": "code",
   "execution_count": null,
   "id": "92be16e7-ebf1-4454-886e-84d1a67c7fc6",
   "metadata": {},
   "outputs": [],
   "source": [
    "df['columnname'].value_counts()"
   ]
  },
  {
   "cell_type": "markdown",
   "id": "5568b9ef-f425-4dfa-aca1-1eb9b3875252",
   "metadata": {},
   "source": [
    "A dataset can contain various names to describe a simiar category. These namings should be cleaned to the desired categorynames. \n",
    "\n",
    "Step 1: Make a list of new categories"
   ]
  },
  {
   "cell_type": "code",
   "execution_count": null,
   "id": "d25355b8-c558-4f68-b5c1-51febecd8b7d",
   "metadata": {},
   "outputs": [],
   "source": [
    "new_category = [\"cat1\", \"cat2\", \"cat3\"]"
   ]
  },
  {
   "cell_type": "markdown",
   "id": "baeb85bf-3a97-471c-a988-35821efa6497",
   "metadata": {},
   "source": [
    "step 2: Define phrases in strings\n",
    "* description1 = \"var_interest_1 | var_interest_2\"\n",
    "* description2 = \"var_interest_1 | var_interest_2 | var_interest_3\"\n",
    "* description3 = \"var_interest_1\"\n",
    "* etc."
   ]
  },
  {
   "cell_type": "code",
   "execution_count": null,
   "id": "26056953-d319-4a0a-a512-5565fde1cb70",
   "metadata": {},
   "outputs": [],
   "source": [
    "description1 = \"var_interest_1 | var_interest_2\"\n",
    "description2 = \"var_interest_1 | var_interest_2 | var_interest_3\"\n",
    "description3 = \"var_interest_1\""
   ]
  },
  {
   "cell_type": "markdown",
   "id": "a05d8031-38a3-4234-96fc-800f38778964",
   "metadata": {},
   "source": [
    "step 3: Create conditions\n",
    "* Use seach method for specific strings\n",
    "* Store those in a variable "
   ]
  },
  {
   "cell_type": "code",
   "execution_count": null,
   "id": "360c953c-4451-4b15-9878-37b255789498",
   "metadata": {},
   "outputs": [],
   "source": [
    "# Seach for specific string\n",
    "df['column'].str.constains('var_interest')"
   ]
  },
  {
   "cell_type": "code",
   "execution_count": null,
   "id": "10e33f7b-10b5-4de0-8944-a1d23712cc8d",
   "metadata": {},
   "outputs": [],
   "source": [
    "# Seach for specific multiple strings\n",
    "df['column'].str.constains('var_interest_1 | var_interest_2')"
   ]
  },
  {
   "cell_type": "code",
   "execution_count": null,
   "id": "1d612ea5-5d73-4e98-99d8-7b038425602d",
   "metadata": {},
   "outputs": [],
   "source": [
    "# Store conditions in a list\n",
    "conditions = [(df['column'].str.constains('var_interest_1 | var_interest_2'),\n",
    "               df['column'].str.constains('var_interest_1 | var_interest_2'),\n",
    "               df['column'].str.constains('var_interest_1 | var_interest_2'))]"
   ]
  },
  {
   "cell_type": "markdown",
   "id": "6879f472-9216-4a70-91d6-d3b8bae7e16c",
   "metadata": {},
   "source": [
    "step 4: Create a new category column"
   ]
  },
  {
   "cell_type": "code",
   "execution_count": null,
   "id": "23f86944-12fb-4eb3-b5d5-19d53441f34e",
   "metadata": {},
   "outputs": [],
   "source": [
    "# New column with condition applied\n",
    "df.['new_columname'] = np.select(conditions, new_category, default = \"Other\")"
   ]
  }
 ],
 "metadata": {
  "kernelspec": {
   "display_name": "Python 3 (ipykernel)",
   "language": "python",
   "name": "python3"
  },
  "language_info": {
   "codemirror_mode": {
    "name": "ipython",
    "version": 3
   },
   "file_extension": ".py",
   "mimetype": "text/x-python",
   "name": "python",
   "nbconvert_exporter": "python",
   "pygments_lexer": "ipython3",
   "version": "3.10.9"
  }
 },
 "nbformat": 4,
 "nbformat_minor": 5
}
