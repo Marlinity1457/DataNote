{
 "cells": [
  {
   "cell_type": "markdown",
   "id": "dc71bc6d",
   "metadata": {},
   "source": [
    "# DataFrame\n",
    "\n"
   ]
  },
  {
   "cell_type": "code",
   "execution_count": null,
   "id": "37386cea",
   "metadata": {},
   "outputs": [],
   "source": [
    "import pandas as pd"
   ]
  },
  {
   "cell_type": "markdown",
   "id": "c8d2decf",
   "metadata": {},
   "source": [
    "## Methods in pandas\n",
    "Methods in pandas used to define\n",
    "\n",
    "* .head()             $\\;\\;\\;\\;\\;\\;\\;$ shows only the first 5 rows \n",
    "\n",
    "* .info()             $\\;\\;\\;\\;\\;\\;\\;\\;$  column information, e.g. # null values\n",
    "* .apply()            $\\;\\;\\;\\;\\;\\;\\;$  add new column with values -- () len, str.upper\n",
    "* .describe()         $\\;\\;\\;\\;\\;$ some summary statistics                                             \n",
    "* .isna()             $\\;\\;\\;\\;\\;\\;\\;\\;$ True if is NaN (non value)\n",
    "* .isna().any()       $\\;\\;\\;\\;\\;\\;\\;\\;$ True if NaN in column\n",
    "* .isna().sum()\n",
    "* .dropna()           $\\;\\;\\;\\;\\;\\;\\;\\;$ remove NaN (whole rows)\n",
    "* .fillna(0)          $\\;\\;\\;\\;\\;\\;\\;\\;$ replace NaN (example with 0)\n",
    "* .value_counts()\n",
    "* .columns            $\\;\\;\\;\\;\\;\\;\\;\\;$ column names\n",
    "* .values             $\\;\\;\\;\\;\\;\\;\\;\\;$ all values\n",
    "* .index              $\\;\\;\\;\\;\\;\\;\\;\\;$ index for rows\n",
    "* .shape\n",
    "\n",
    "Methods in pandas used for statistics\n",
    "* .mean()            $\\;\\;\\;\\;\\;\\;\\;\\;\\;\\;\\;\\;\\;$ axis = 'index' (across rows), axis = 'columns' (across columns)\n",
    "* .median()\n",
    "* .mode()\n",
    "* .min()\n",
    "* .max()\n",
    "* .sum()\n",
    "* .quantile()\n",
    "* .std()\n",
    "* .var()\n",
    "* .agg()             \n",
    "* .cumsum()\n",
    "* .cummin()\n",
    "* .cummin()\n",
    "* .cumprod()\n",
    "\n",
    "Methods in pandas to order and clean\n",
    "* .sort_values()\n",
    "* .isin() \n",
    "* .drop_duplicates()"
   ]
  },
  {
   "cell_type": "code",
   "execution_count": null,
   "id": "f3f4eef8",
   "metadata": {},
   "outputs": [],
   "source": [
    "# Aggregation option 1\n",
    "df['column'].agg(function) \n",
    "\n",
    "# Aggregation option 2\n",
    "or .agg([f1, f2, ...]) #like .argg([np.mean, np.median])\n",
    "\n",
    "# Aggregation option 3\n",
    ".agg([f1, f2, ...]) # like .argg([np.mean, df.value_counts()\n",
    "\n",
    "# Aggregation option 4\n",
    ".agg({'columnname':'count'})\n",
    "\n",
    "# Sort values\n",
    ".sort_values('col_name', ascending = True)\n",
    "\n",
    "# Value is in a column\n",
    ".isin(['value']) \n",
    "\n",
    "# Value is in a list\n",
    ".isnin(var_listname)\n",
    "\n",
    "# Drop duplicates\n",
    ".drop_duplicates(subset = ['column',''])\n",
    "\n",
    "# Value_counts\n",
    ".value_counts('', sort = True, normalize = True)"
   ]
  },
  {
   "cell_type": "markdown",
   "id": "09d792ab",
   "metadata": {},
   "source": [
    "## Data into DataFrame\n",
    "\n",
    "### Import"
   ]
  },
  {
   "cell_type": "code",
   "execution_count": null,
   "id": "d31a1823",
   "metadata": {},
   "outputs": [],
   "source": [
    "# Load CSV file into DataFrame\n",
    "df = pd.read_csv('file.csv', index_col = 0) \n",
    "\n",
    "# Load dictionary into DataFrame\n",
    "df = pd.DataFrame(dict, index_col = 0)                                                  \n",
    "\n",
    "# Print DataFrame\n",
    "print(df)"
   ]
  },
  {
   "cell_type": "code",
   "execution_count": null,
   "id": "abdefaa1",
   "metadata": {},
   "outputs": [],
   "source": [
    "# Panda series is displayed\n",
    "df['column_name']                                   \n",
    "\n",
    "# Panda DataFrame is displayed\n",
    "df[['column_name']]                                "
   ]
  },
  {
   "cell_type": "markdown",
   "id": "7ac08753",
   "metadata": {},
   "source": [
    "### Export"
   ]
  },
  {
   "cell_type": "code",
   "execution_count": null,
   "id": "bf276c74",
   "metadata": {},
   "outputs": [],
   "source": [
    "# Export DataFrame into CSV file\n",
    "df.to_csv('title_of_new_csv_file.csv')"
   ]
  },
  {
   "cell_type": "markdown",
   "id": "2359b957",
   "metadata": {},
   "source": [
    "## Selecting\n",
    "\n",
    "### Columns"
   ]
  },
  {
   "cell_type": "code",
   "execution_count": null,
   "id": "734e2190",
   "metadata": {},
   "outputs": [],
   "source": [
    "# Option 1\n",
    "select_column = df['column_name']\n",
    "\n",
    "# Option 2\n",
    "select_column = df.column_name  \n",
    "\n",
    "# Option 3\n",
    "select_column = df[['column_name']]\n",
    "\n",
    "# Option 4: The .query('statement') is similar to WHERE in SQL statement\n",
    "table.query(' columnname = \"x\" and columname = \"y\" ')"
   ]
  },
  {
   "cell_type": "markdown",
   "id": "2ba7b208",
   "metadata": {},
   "source": [
    "### Rows"
   ]
  },
  {
   "cell_type": "code",
   "execution_count": null,
   "id": "8ec3d7ee",
   "metadata": {},
   "outputs": [],
   "source": [
    "# Option 1\n",
    "select_allcoloms_row = df[df['column_name'] == 'variable_name']     \n",
    "\n",
    "# Option 2\n",
    "select_allcoloms_row = df[df.column_name == 'variable_name']     "
   ]
  },
  {
   "cell_type": "markdown",
   "id": "56bdb45e",
   "metadata": {},
   "source": [
    "### Column names"
   ]
  },
  {
   "cell_type": "code",
   "execution_count": null,
   "id": "0c139eb4",
   "metadata": {},
   "outputs": [],
   "source": [
    "for names in df : \n",
    "    print(names)"
   ]
  },
  {
   "cell_type": "markdown",
   "id": "9e5d2500",
   "metadata": {},
   "source": [
    "### Datetime selecting"
   ]
  },
  {
   "cell_type": "code",
   "execution_count": null,
   "id": "d394cc73",
   "metadata": {},
   "outputs": [],
   "source": [
    "df['date_column'].dt.year\n",
    "df['date_column'].dt.month"
   ]
  },
  {
   "cell_type": "markdown",
   "id": "81456b6b",
   "metadata": {},
   "source": [
    "## Indexing"
   ]
  },
  {
   "cell_type": "markdown",
   "id": "1d82f806",
   "metadata": {},
   "source": [
    "### Define the index"
   ]
  },
  {
   "cell_type": "code",
   "execution_count": null,
   "id": "75f1853d",
   "metadata": {},
   "outputs": [],
   "source": [
    "# Name indexing\n",
    "df.index = ['a','c','b'] \n",
    "\n",
    "# Define column(s) to become indexes\n",
    "df.set_index('col_name')\n",
    "df.set_index(['col1', 'col2'])\n",
    "\n",
    "# Remove indexes\n",
    "df.reset_index() \n",
    "\n",
    "# Sort index\n",
    ".sort_index(level = ['',''], ascending = [True, False])"
   ]
  },
  {
   "cell_type": "markdown",
   "id": "4ae1eae6",
   "metadata": {},
   "source": [
    "### .loc\n",
    "Indexing by names"
   ]
  },
  {
   "cell_type": "code",
   "execution_count": null,
   "id": "a7286186",
   "metadata": {},
   "outputs": [],
   "source": [
    "# Selection row \n",
    "df[[1:4]]                                           \n",
    "\n",
    "# Selection rows, columns, rows&columns = labeled-based\n",
    "df.loc[['index_name'],[column_name]]                    \n",
    "\n",
    "# Select indexes and rows\n",
    ".loc[('indA1','indB1') : ('indA2','indB2')]             \n",
    "\n",
    "# Select all rows from defined columns\n",
    ".loc[:,'column1':'column2']   \n",
    "\n",
    "# Created new column with value for index 'index_name'\n",
    "df.loc['index_name', 'new_column_name'] = value "
   ]
  },
  {
   "cell_type": "markdown",
   "id": "57f5a798",
   "metadata": {},
   "source": [
    "### .iloc\n",
    "Indexing by numbers"
   ]
  },
  {
   "cell_type": "code",
   "execution_count": null,
   "id": "19f03132",
   "metadata": {},
   "outputs": [],
   "source": [
    "# Selection rows and columns\n",
    "df.iloc[[index_nr],[column_nr]]            "
   ]
  },
  {
   "cell_type": "markdown",
   "id": "ee949f10",
   "metadata": {},
   "source": [
    "## Pivot table"
   ]
  },
  {
   "cell_type": "markdown",
   "id": "085cf751",
   "metadata": {},
   "source": [
    "### Group by"
   ]
  },
  {
   "cell_type": "code",
   "execution_count": null,
   "id": "3737fed8",
   "metadata": {},
   "outputs": [],
   "source": []
  },
  {
   "cell_type": "markdown",
   "id": "f021f7f1",
   "metadata": {},
   "source": [
    "### Pivoting\n",
    "\n",
    "bla bla bla\n",
    "* default = mean, value ~ sum/agg column, index ~groupby, columns ~ show columns                                                 * other stat function: aggfunc = np.func or [np.func1, np.func2]\n",
    "* more groupby variables: colums = ''\n",
    "* fill_values = 0 (not NaN)\n",
    "* margins = True --> all col,row --> mean stats"
   ]
  },
  {
   "cell_type": "code",
   "execution_count": null,
   "id": "56b2b5fa",
   "metadata": {},
   "outputs": [],
   "source": [
    "table.pivot_table(values = '', index = '')                   "
   ]
  },
  {
   "cell_type": "markdown",
   "id": "f518ed04",
   "metadata": {},
   "source": [
    "## JOIN\n",
    "\n",
    "There are different types of joins on values:\n",
    "* inner join\n",
    "* left join\n",
    "* right join\n",
    "* self join\n",
    "\n",
    "A self join merges a table to itself can be useful when you want to compare values in a column to other values in the same column.\n",
    "\n",
    "Joins on datetimes has a specific join defined:\n",
    "* merge_ordered\n",
    "* merge_asof\n",
    "\n",
    "A merge asof matches on the nearest key not the exact matches. The columns must be sorted. A merge_asof() is similar to a left join and merged_ordered().\n",
    "\n",
    "A suffix identifies from which table the column came from if they have a same column name by self defined name"
   ]
  },
  {
   "cell_type": "markdown",
   "id": "6a7a7a1a",
   "metadata": {},
   "source": [
    "### Value joins"
   ]
  },
  {
   "cell_type": "code",
   "execution_count": null,
   "id": "20e4b2da",
   "metadata": {},
   "outputs": [],
   "source": [
    "# Merge basics\n",
    "new_df = df1.merge(df2, on = 'columnname', suffixes=('_tab1', '_tab2'))      \n",
    "  \n",
    "# Merge with different types of joins\n",
    "new_df = df1.merge(df2, how = 'left', left_on = 'columnname', right_on = 'columnname')\n",
    "  \n",
    "# Merge on multiple columns \n",
    "new_df = df1.merge(df2, on = ['columnname1', 'columnname2'])  \n",
    "\n",
    "# Merge on index\n",
    "new_df = df1.merge(df2, on = 'id')                         \n",
    "    \n",
    "# Merge on index with left_on (and right_on)\n",
    "new_df = df1.merge(df2, how = 'left', left_on = 'columnname', left_index = True, right_on = 'columnname', right_index = True)\n",
    "\n",
    "# self-join \n",
    "new_df = df1.merge(df1, on = 'columnname', suffixes=('_tab1', '_tab2'))\n"
   ]
  },
  {
   "cell_type": "markdown",
   "id": "f8ac189d",
   "metadata": {},
   "source": [
    "### Datetime joins"
   ]
  },
  {
   "cell_type": "code",
   "execution_count": null,
   "id": "df7cc196",
   "metadata": {},
   "outputs": [],
   "source": []
  },
  {
   "cell_type": "code",
   "execution_count": null,
   "id": "f18d5445",
   "metadata": {},
   "outputs": [],
   "source": [
    "# Merge_asof\n",
    "pd.merge_asof(df1, df2, on = '', how = '', direction = 'nearest') # direction = 'forward', 'backward'"
   ]
  }
 ],
 "metadata": {
  "kernelspec": {
   "display_name": "Python 3 (ipykernel)",
   "language": "python",
   "name": "python3"
  },
  "language_info": {
   "codemirror_mode": {
    "name": "ipython",
    "version": 3
   },
   "file_extension": ".py",
   "mimetype": "text/x-python",
   "name": "python",
   "nbconvert_exporter": "python",
   "pygments_lexer": "ipython3",
   "version": "3.10.9"
  }
 },
 "nbformat": 4,
 "nbformat_minor": 5
}
