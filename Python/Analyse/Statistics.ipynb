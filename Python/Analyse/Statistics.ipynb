{
 "cells": [
  {
   "cell_type": "code",
   "execution_count": 9,
   "id": "73cb2fe4",
   "metadata": {},
   "outputs": [],
   "source": [
    "# Data\n",
    "import pandas as pd\n",
    "import numpy as np\n",
    "\n",
    "# Statistics\n",
    "import random\n",
    "\n",
    "# Distribution\n",
    "from scipy.stats import norm \n",
    "from scipy.stats import poisson \n",
    "from scipy.stats import expon \n",
    "\n",
    "# Plots\n",
    "import matplotlib.pyplot as plt\n",
    "import seaborn as sns"
   ]
  },
  {
   "cell_type": "markdown",
   "id": "19485846",
   "metadata": {},
   "source": [
    "# Statistics\n",
    "\n",
    "Types of statistics:\n",
    "* Descriptive statistics only specific about the data pool \n",
    "* Inferential statistics guess about a larger pool of data \n",
    "\n",
    "Number (quantitative) \n",
    "* continuous \n",
    "* Discrete \n",
    "\n",
    "Categorical (Qualitative) \n",
    "* Nominal  (unordered) \n",
    "* Ordinal (ordered)"
   ]
  },
  {
   "cell_type": "markdown",
   "id": "3f0be868",
   "metadata": {},
   "source": [
    "## a. Preperation "
   ]
  },
  {
   "cell_type": "code",
   "execution_count": null,
   "id": "f8d4e662",
   "metadata": {},
   "outputs": [],
   "source": []
  },
  {
   "cell_type": "markdown",
   "id": "f2100430",
   "metadata": {},
   "source": [
    "FIXME\n",
    "\n",
    "- .sample(nr_picks, replace = True) \n",
    "- .append(var) \n",
    "- np.mean(var) "
   ]
  },
  {
   "cell_type": "markdown",
   "id": "a507f74e",
   "metadata": {},
   "source": [
    "## b. Basic statistics"
   ]
  },
  {
   "cell_type": "code",
   "execution_count": null,
   "id": "5416216c",
   "metadata": {},
   "outputs": [],
   "source": []
  },
  {
   "cell_type": "markdown",
   "id": "b02002b4",
   "metadata": {},
   "source": [
    "## c. Distribution \n",
    "Types of distributions\n",
    "* Normal distribution\n",
    "* Binomial distribution\n",
    "* Poisson distribution\n",
    "* Exponential distribution\n",
    "* T distribution (higher degrees of freedom (df) closer to normal distrbution)\n",
    "* log-normal distribution (skewed)"
   ]
  },
  {
   "cell_type": "markdown",
   "id": "dd65a3e2",
   "metadata": {},
   "source": [
    "### Normal distribution\n",
    "\n",
    "A normal distribution is described by bean and std \n",
    "* 1std = 68% \n",
    "* 2std = 95% \n",
    "* 3std = 99.7% "
   ]
  },
  {
   "cell_type": "code",
   "execution_count": null,
   "id": "6d029022",
   "metadata": {},
   "outputs": [],
   "source": [
    "# percentage \n",
    "norm.cdf(nr_interest, mean, std)       # (smaller than) \n",
    "1 - norm.cdf(nr_interest, mean, std)   # (larger than) \n",
    "\n",
    "# percentiles \n",
    "norm.ppf(%/100, mean, std)             # (smaller than value of percentile) \n",
    "1 - norm.ppf(%/100, mean, std)         # (larger than value of percentile) \n",
    "\n",
    "# random numbers \n",
    "norm.rvs(mean, std, size = sample_size) "
   ]
  },
  {
   "cell_type": "markdown",
   "id": "76f8fb3f",
   "metadata": {},
   "source": [
    "### Poisson distribution\n",
    "\n",
    "A poisson distribution describes the probability of an event to appear at a certain rate, but random. \n",
    "\n",
    "* Propability (P) of some # event (N) occuring over a fixed period of time \n",
    "* Lambda (Y) gives the average # of event per time interval\n",
    "\n",
    "Lambda changes shape of distribution, but peak is always at lambda value."
   ]
  },
  {
   "cell_type": "code",
   "execution_count": 4,
   "id": "b8fca69a",
   "metadata": {},
   "outputs": [],
   "source": [
    "# Poisson probability\n",
    "poisson.pmf(N, Y)       # = P (Y in time = N) \n",
    "poisson.cdf(N, Y)       # = P (Y in time < N) \n",
    "1- poisson.cdf(N, Y)    # = P (Y in time > N) \n",
    " \n",
    "# Random numbers \n",
    "poisson.rvs(Y, size = sample_size) "
   ]
  },
  {
   "cell_type": "markdown",
   "id": "8d28fd81",
   "metadata": {},
   "source": [
    "### Exponential distribution\n",
    "Probability of time between Poisson events "
   ]
  },
  {
   "cell_type": "code",
   "execution_count": null,
   "id": "a414204c",
   "metadata": {},
   "outputs": [],
   "source": [
    "# Exponential probability\n",
    "expon.cdf(wait_var, scale = Y)      # P(wait < wait_var) \n",
    "1 - expon.cdf(wait_var, scale = Y)  # P(wait > wait_var) "
   ]
  },
  {
   "cell_type": "markdown",
   "id": "44f2eb7a",
   "metadata": {},
   "source": [
    "### Correlation\n",
    "\n",
    "A correlation only measures linear relationship"
   ]
  },
  {
   "cell_type": "markdown",
   "id": "935489f0",
   "metadata": {},
   "source": [
    "Plot a correlation"
   ]
  },
  {
   "cell_type": "code",
   "execution_count": null,
   "id": "a19bc884",
   "metadata": {},
   "outputs": [],
   "source": [
    "# Scatterplot\n",
    "sns.scatterplot(x = 'columnname1', y = 'columnname2', data = df)\n",
    "plt.show()\n",
    "\n",
    "# Scatterplot + line\n",
    "sns.lmplot(x = 'columnname1', y = 'columnname2', data = df, ci = None)\n",
    "plt.show()"
   ]
  },
  {
   "cell_type": "markdown",
   "id": "1ee12faa",
   "metadata": {},
   "source": [
    "Magintude of a correlation \n",
    "e.g. by Pearson product-moment correlation"
   ]
  },
  {
   "cell_type": "code",
   "execution_count": null,
   "id": "a1552ecc",
   "metadata": {},
   "outputs": [],
   "source": [
    "df['columnname1'].corr(df['columnname2'])"
   ]
  },
  {
   "cell_type": "markdown",
   "id": "a94afc19",
   "metadata": {},
   "source": [
    "Causation"
   ]
  },
  {
   "cell_type": "code",
   "execution_count": null,
   "id": "b49e6533",
   "metadata": {},
   "outputs": [],
   "source": []
  },
  {
   "cell_type": "markdown",
   "id": "b2d95cbe",
   "metadata": {},
   "source": [
    "### Transformations\n",
    "\n",
    "Examples of transformations are:\n",
    "* Log transformation (log(x))\n",
    "* Square root transformation (sqrt(x))\n",
    "* Reciprocal transformation (1/x)"
   ]
  },
  {
   "cell_type": "code",
   "execution_count": 2,
   "id": "ab4d1da4",
   "metadata": {},
   "outputs": [],
   "source": [
    "# Log transformation\n",
    "\n",
    "np.log(df['columnname']) "
   ]
  },
  {
   "cell_type": "code",
   "execution_count": null,
   "id": "147fbea2",
   "metadata": {},
   "outputs": [],
   "source": [
    "# statistics\n",
    "# from scipy.stats import uniform\n",
    "\n",
    "uniform.cdf(number, lower_limit, upper_limit)   # uniform distrubution, prop of number\n",
    "uniform.rvs(min, max, size = number)            # generating random numbers \n",
    "\n",
    "# from scipy.stats import binom\n",
    "# each trial must be independent\n",
    "\n",
    "binom.rvs(number, prop_of_succes, size = number_trails)     # show nr of successes for 'size' occurences with each max 'number'\n",
    "binom.pmf(number, num_trials, prop_of_succes)                 # P(heads = number)  \n",
    "binom.cdf(number, num_trials, prop_of_succes)                 # P(heads <= number)\n"
   ]
  },
  {
   "cell_type": "markdown",
   "id": "485314c4",
   "metadata": {},
   "source": [
    "# Sampling\n",
    "Defintitions\n",
    "* Sampling = Working with a subset of the whole population.\n",
    "* Population = complete dataset\n",
    "* Sample = subset of data we are working with.\n",
    "\n",
    "Sampling is only valid for big datasets. For small datasets, sampling isnt useful.\n",
    "\n",
    "Methods\n",
    "* .sample(n, random_state) --> returns a random subset of n rows, and input random state. "
   ]
  },
  {
   "cell_type": "markdown",
   "id": "2828e03e",
   "metadata": {},
   "source": [
    "### A. Sample methods"
   ]
  },
  {
   "cell_type": "markdown",
   "id": "68bb8acc",
   "metadata": {},
   "source": [
    "#### Groups  (simple random sampling)\n",
    "* Not intereseted in properties of a particular subgrow, but getting a representative sample of the larger group\n",
    "* Evenly distributed subgroups"
   ]
  },
  {
   "cell_type": "code",
   "execution_count": null,
   "id": "e3577bc5",
   "metadata": {},
   "outputs": [],
   "source": [
    "# Basic sampling\n",
    "pop_sample = dataset.sample()"
   ]
  },
  {
   "cell_type": "code",
   "execution_count": null,
   "id": "0aac5145",
   "metadata": {},
   "outputs": [],
   "source": [
    "# Directed sampling\n",
    "pop_sample = dataset.sample(n = 5, random_state = 10900113)"
   ]
  },
  {
   "cell_type": "code",
   "execution_count": null,
   "id": "29662f7d",
   "metadata": {},
   "outputs": [],
   "source": [
    "# Systematic sampling (Use only when a dataset has NO pattern, so it should like noise)\n",
    "sample_size = 5\n",
    "pop_size = len(dataset)\n",
    "interval = pop_size//sample_size\n",
    "pop_sample = dataset.iloc[::interval]"
   ]
  },
  {
   "cell_type": "code",
   "execution_count": null,
   "id": "d82aa99b",
   "metadata": {},
   "outputs": [],
   "source": [
    "# Systematic sampling\n",
    "shuffled = dataset.sample(frac = 1) # random select 100% of the dataset\n",
    "\n",
    "# need to set the index from 0 to end again. drop = True clears the previous row index\n",
    "shuffled = shuffled.reset_index(drop=True) "
   ]
  },
  {
   "cell_type": "markdown",
   "id": "7542d19d",
   "metadata": {},
   "source": [
    "#### Subgroups (stratified sampling)\n",
    "* Split the whole population into subgroups\n",
    "* Use simple random sampling on every subgroups"
   ]
  },
  {
   "cell_type": "code",
   "execution_count": null,
   "id": "2bef5ade",
   "metadata": {},
   "outputs": [],
   "source": [
    "# Select rows corresponding to the column value\n",
    "select_subset = dataset['column_to_subset'].isin(list_of_subsetvalues)\n",
    "subset = dataset[select_subset]\n",
    "\n",
    "# Evaluate values, are they realistic proportions?\n",
    "subset['column_to_subset'].value_counts(normalize = True)"
   ]
  },
  {
   "cell_type": "markdown",
   "id": "41c6fa29",
   "metadata": {},
   "source": [
    "Equal proportion sampling by .sample(frac):"
   ]
  },
  {
   "cell_type": "code",
   "execution_count": null,
   "id": "df15c5b8",
   "metadata": {},
   "outputs": [],
   "source": [
    "# Grouping before taking the random sample to avoid unrealistic sampling\n",
    "subset_strat = dataset.groupby(['column_to_subset']).sample(frac = 0.1, random_state = 2021)\n",
    "\n",
    "# Evaluate values, are they realistic proportions? --> Different proprtions\n",
    "subset['column_to_subset'].value_counts(normalize = True)"
   ]
  },
  {
   "cell_type": "markdown",
   "id": "8cfb2913",
   "metadata": {},
   "source": [
    "Equal count sampling by .sample(n):"
   ]
  },
  {
   "cell_type": "code",
   "execution_count": null,
   "id": "45424c40",
   "metadata": {},
   "outputs": [],
   "source": [
    "# Grouping before taking the random sample to avoid unrealistic sampling\n",
    "subset_strat = dataset.groupby(['column_to_subset']).sample(n = 15, random_state = 2021)\n",
    "\n",
    "# Evaluate values, are they realistic proportions? --> Equal proprtions \n",
    "subset['column_to_subset'].value_counts(normalize = True)"
   ]
  },
  {
   "cell_type": "markdown",
   "id": "4963963a",
   "metadata": {},
   "source": [
    "Weighted random sampling (specify weights to adjust the relative probability of a row being sampled):"
   ]
  },
  {
   "cell_type": "code",
   "execution_count": null,
   "id": "81d6e591",
   "metadata": {},
   "outputs": [],
   "source": [
    "# Create condition \n",
    "condition = dataset['column_to_subset'] == 'value'\n",
    "\n",
    "# Add a column to display rows that met and dont met the condition:\n",
    "dataset['weight'] = np.where(condition, 2, 1) # 2 if condition, 1 if not condition\n",
    "\n",
    "# Grouping before taking the random sample to avoid unrealistic sampling with weight condition\n",
    "subset_strat = dataset.groupby(['column_to_subset']).sample(frac = 0.1, weights = 'weight')\n",
    "\n",
    "# Evaluate values, are they realistic proportions? --> Equal proprtions \n",
    "subset['column_to_subset'].value_counts(normalize = True)"
   ]
  },
  {
   "cell_type": "markdown",
   "id": "62acc5c8",
   "metadata": {},
   "source": [
    "#### Subgroups (Cluster sampling)\n",
    "* Use simple random sampling to pick some subgroups\n",
    "* Use simple random sampling on only those subgroups\n",
    "\n",
    "The main benefit of cluster sampling over stratified sampling is that you can save time and money by not including every subgroup in your sample."
   ]
  },
  {
   "cell_type": "markdown",
   "id": "f54f79fb",
   "metadata": {},
   "source": [
    "Stage 1: Sampling for subgroups"
   ]
  },
  {
   "cell_type": "code",
   "execution_count": null,
   "id": "130c2558",
   "metadata": {},
   "outputs": [],
   "source": [
    "# List all varieties\n",
    "varieties_pop = list(dataset['column_to_subset'].unique())\n",
    "\n",
    "# Sampling random subgroups from the variety list\n",
    "varieties_sample = random.sample(varieties_pop, k = 3)"
   ]
  },
  {
   "cell_type": "markdown",
   "id": "8d9fc6bd",
   "metadata": {},
   "source": [
    "Stage 2: Sampling each group"
   ]
  },
  {
   "cell_type": "code",
   "execution_count": null,
   "id": "08295089",
   "metadata": {},
   "outputs": [],
   "source": [
    "# Condition\n",
    "variety_condition = dataset['column_to_subset'].isin(varieties_sample)\n",
    "dataset_cluster = dataset[variety_condition]\n",
    "\n",
    "# Remove levels with 0 rows\n",
    "dataset_cluster_filtered['column_to_subset'] = dataset_cluster['column_to_subset'].cat.remove_unused_categories()\n",
    "\n",
    "# Grouping\n",
    "dataset_cluster_final = dataset_cluster_filtered.groupby(['column_to_subset']).sample(n = 15, random_state = 2021)"
   ]
  },
  {
   "cell_type": "markdown",
   "id": "60c081ac",
   "metadata": {},
   "source": [
    "#### Some calculations and visualisation:"
   ]
  },
  {
   "cell_type": "code",
   "execution_count": null,
   "id": "4767e241",
   "metadata": {},
   "outputs": [],
   "source": [
    "# mean\n",
    "pop_mean = np.mean(dataset['column'])\n",
    "pop_mean = dataset['column'].mean()"
   ]
  },
  {
   "cell_type": "code",
   "execution_count": null,
   "id": "3adcd89d",
   "metadata": {},
   "outputs": [],
   "source": [
    "# visualzing selection bias\n",
    "dataset['column'].hist(bins = np.arange(start_value, stop_value, bin_width))\n",
    "plt.show()"
   ]
  },
  {
   "cell_type": "markdown",
   "id": "bc69f654",
   "metadata": {},
   "source": [
    "#### Pseudo-random number\n",
    "The first 'random' number calculated from a `seed`. The same seed value yields the same random numbers.\n",
    "\n",
    "Numpy.dandom has many different generating functions\n",
    "* beta(a, b, size)\n",
    "* bionomial\n",
    "* chiquire\n",
    "* exponential\n",
    "* f\n",
    "* gamma\n",
    "* geometric\n",
    "* hypergeometric\n",
    "* lognormal\n",
    "* negative_bionomial\n",
    "* normal(loc, scale, size)\n",
    "* poisson\n",
    "* standard_t\n",
    "* uniform(low, high, size)"
   ]
  },
  {
   "cell_type": "code",
   "execution_count": 13,
   "id": "0305801e",
   "metadata": {},
   "outputs": [
    {
     "name": "stdout",
     "output_type": "stream",
     "text": [
      "[0.37226497 0.8485714  0.33851336 ... 0.30383753 0.81871219 0.69094141]\n"
     ]
    }
   ],
   "source": [
    "randoms = np.random.beta(a = 2, b = 2, size = 5000)\n",
    "print(randoms)"
   ]
  },
  {
   "cell_type": "code",
   "execution_count": 14,
   "id": "170ab7dd",
   "metadata": {},
   "outputs": [],
   "source": [
    "# set a seed\n",
    "np.random.seed(20002299)"
   ]
  },
  {
   "cell_type": "code",
   "execution_count": 15,
   "id": "89334213",
   "metadata": {},
   "outputs": [
    {
     "name": "stdout",
     "output_type": "stream",
     "text": [
      "[1.69155053 1.20395542]\n"
     ]
    }
   ],
   "source": [
    "randoms = np.random.normal(loc = 2, scale = 1.5, size = 2)\n",
    "print(randoms)"
   ]
  },
  {
   "cell_type": "markdown",
   "id": "45a0abc2",
   "metadata": {},
   "source": [
    "### B. Sample size\n",
    "Larger sample sizes give more accurate results. \n",
    "\n",
    "As sample size increases, on average each sample mean has a lower relative error compared to the population mean, thus reducing the range of the distribution."
   ]
  },
  {
   "cell_type": "markdown",
   "id": "b49f47e4",
   "metadata": {},
   "source": [
    "#### Relative error\n",
    "Allowed difference between the popultion_mean and sample_mean."
   ]
  },
  {
   "cell_type": "code",
   "execution_count": null,
   "id": "7c031128",
   "metadata": {},
   "outputs": [],
   "source": [
    "# relative error\n",
    "rel_error_pct = 100 * abs(popultion_mean - sample_mean) / popultion_mean"
   ]
  },
  {
   "cell_type": "code",
   "execution_count": null,
   "id": "659bdd96",
   "metadata": {},
   "outputs": [],
   "source": [
    "# repeating mean -> distribution\n",
    "\n",
    "# Create an empty list\n",
    "mean_attritions = []\n",
    "\n",
    "# Loop 500 times to create 500 sample means\n",
    "for i in range(500):\n",
    "    mean_attritions.append(attrition_pop.sample(n=60)['Attrition'].mean())\n",
    "\n",
    "# Create a histogram of the 500 sample means\n",
    "plt.hist(mean_attritions, bins = 16)\n",
    "plt.show()"
   ]
  },
  {
   "cell_type": "markdown",
   "id": "61be9c5f",
   "metadata": {},
   "source": [
    "Exact (dategorical, discrete) sampling distribution:\n",
    "\n",
    "The exact sampling distribution can only be calculated if you know what the population is and if the problems are small and simple enough to compute. Otherwise, the approximate sampling distribution must be used."
   ]
  },
  {
   "cell_type": "code",
   "execution_count": null,
   "id": "0a88fd46",
   "metadata": {},
   "outputs": [],
   "source": [
    "# Example\n",
    "\n",
    "# Expand a grid representing 5 8-sided dice\n",
    "dice = expand_grid(\n",
    "  {'die1': [1, 2, 3, 4, 5, 6, 7, 8],\n",
    "   'die2': [1, 2, 3, 4, 5, 6, 7, 8],\n",
    "   'die3': [1, 2, 3, 4, 5, 6, 7, 8],\n",
    "   'die4': [1, 2, 3, 4, 5, 6, 7, 8],\n",
    "   'die5': [1, 2, 3, 4, 5, 6, 7, 8]\n",
    "  })\n",
    "\n",
    "# Add a column of mean rolls and convert to a categorical\n",
    "dice['mean_roll'] = (dice['die1'] + dice['die2'] + \n",
    "                     dice['die3'] + dice['die4'] + \n",
    "                     dice['die5']) / 5"
   ]
  },
  {
   "cell_type": "code",
   "execution_count": null,
   "id": "9ac5a4a9",
   "metadata": {},
   "outputs": [],
   "source": [
    "# type to category\n",
    "dice['mean_roll'] = dice['mean_roll'].astype('category')\n",
    "\n",
    "# plot as bar\n",
    "dice['mean_roll'].value_counts(sort = False).plot(kind = 'bar') # Sort False -> in order, not ordered by frequency\n",
    "plt.show()"
   ]
  },
  {
   "cell_type": "markdown",
   "id": "30512e19",
   "metadata": {},
   "source": [
    "Approximate sampling distribution:\n",
    "\n",
    "Calculating the exact sampling distribution is only possible in very simple situations. With just five eight-sided dice, the number of possible rolls is 8**5, which is over thirty thousand. When the dataset is more complicated, for example, where a variable has hundreds or thousands of categories, the number of possible outcomes becomes too difficult to compute exactly."
   ]
  },
  {
   "cell_type": "code",
   "execution_count": 12,
   "id": "43572fa0",
   "metadata": {},
   "outputs": [
    {
     "name": "stdout",
     "output_type": "stream",
     "text": [
      "[6.0, 4.25, 2.75, 3.25, 3.25, 3.5, 4.0, 3.25, 3.5, 4.25, 4.0, 3.25, 4.25, 2.5, 2.0, 5.0, 3.25, 3.0, 2.5, 5.0, 4.25, 3.0, 3.5, 5.0, 3.75, 4.5, 2.5, 3.25, 2.25, 1.75, 4.25, 4.0, 2.75, 5.25, 2.75, 3.0, 2.25, 4.0, 4.0, 1.75, 3.25, 2.75, 2.5, 3.0, 2.75, 3.75, 3.25, 4.5, 3.5, 2.0, 2.5, 3.5, 2.5, 4.5, 2.75, 3.75, 2.5, 3.0, 3.0, 3.25, 2.5, 4.75, 4.75, 3.75, 3.0, 4.25, 3.5, 4.5, 3.5, 2.0, 3.5, 3.5, 4.5, 4.0, 2.25, 2.25, 2.0, 5.0, 3.25, 3.75, 2.75, 2.75, 4.5, 3.0, 2.75, 1.5, 2.5, 1.75, 2.75, 2.75, 3.0, 3.5, 3.0, 3.25, 3.75, 2.5, 2.5, 4.25, 1.25, 4.25, 5.0, 3.75, 5.0, 3.75, 3.0, 4.25, 5.0, 3.75, 3.25, 4.5, 2.25, 3.5, 3.75, 4.0, 2.25, 2.5, 4.0, 4.0, 2.75, 3.75, 2.5, 2.5, 5.0, 3.5, 3.25, 3.5, 3.5, 2.75, 2.75, 3.25, 3.75, 3.25, 4.0, 4.25, 4.75, 2.25, 3.75, 5.0, 2.75, 2.75, 3.0, 5.0, 2.25, 3.0, 2.5, 3.75, 4.0, 2.75, 3.0, 2.75, 4.25, 3.25, 2.25, 4.5, 2.75, 2.5, 3.75, 3.25, 3.5, 3.25, 3.25, 3.25, 2.25, 3.5, 5.0, 3.75, 4.25, 3.75, 3.5, 4.5, 3.25, 3.5, 4.5, 3.75, 2.0, 2.75, 4.75, 4.0, 4.75, 4.5, 3.25, 4.25, 1.75, 4.0, 3.25, 3.5, 4.75, 2.75, 4.25, 2.75, 3.25, 3.0, 4.0, 4.5, 2.25, 4.75, 3.75, 2.75, 3.5, 2.75]\n"
     ]
    },
    {
     "data": {
      "text/plain": [
       "(array([ 1.,  1.,  4.,  5., 11., 16., 24., 15., 24., 20., 19., 14., 14.,\n",
       "        12.,  7., 11.,  1.,  0.,  0.,  1.]),\n",
       " array([1.25  , 1.4875, 1.725 , 1.9625, 2.2   , 2.4375, 2.675 , 2.9125,\n",
       "        3.15  , 3.3875, 3.625 , 3.8625, 4.1   , 4.3375, 4.575 , 4.8125,\n",
       "        5.05  , 5.2875, 5.525 , 5.7625, 6.    ]),\n",
       " <BarContainer object of 20 artists>)"
      ]
     },
     "execution_count": 12,
     "metadata": {},
     "output_type": "execute_result"
    },
    {
     "data": {
      "image/png": "[encoded data removed]",
      "text/plain": [
       "<Figure size 640x480 with 1 Axes>"
      ]
     },
     "metadata": {},
     "output_type": "display_data"
    }
   ],
   "source": [
    "# Simulating the mean \n",
    "\n",
    "# Loop 500 times to create 500 sample means\n",
    "sample_means_200 = []\n",
    "\n",
    "for i in range(200):\n",
    "    # add mean of four dice rolls\n",
    "    # replace = True, a dice can roll a number several times\n",
    "    sample_means_200.append( np.random.choice( list(range(1,7)), size = 4, replace = True ).mean() )\n",
    "\n",
    "print(sample_means_200)\n",
    "\n",
    "plt.hist(sample_means_200, bins = 20)"
   ]
  },
  {
   "cell_type": "markdown",
   "id": "99cb6fb6",
   "metadata": {},
   "source": [
    "### Central Limit Theorem\n",
    "Averages of independent samples have approximatly normal distributions."
   ]
  },
  {
   "cell_type": "code",
   "execution_count": null,
   "id": "d917d433",
   "metadata": {},
   "outputs": [],
   "source": [
    "# standard deviation\n",
    "dataset['column'].std(ddof=0)"
   ]
  },
  {
   "cell_type": "code",
   "execution_count": null,
   "id": "5782cd4b",
   "metadata": {},
   "outputs": [],
   "source": []
  },
  {
   "cell_type": "markdown",
   "id": "47453223",
   "metadata": {},
   "source": [
    "# NumPy\n",
    "A mathematical operation"
   ]
  },
  {
   "cell_type": "markdown",
   "id": "c1e85a8e",
   "metadata": {},
   "source": [
    "Example with method array\n",
    "* variable_list = [1,2,3]\n",
    "* nplist = np.array(variable_list)\n",
    "* cutoff = nplist >2                  boolean: False, False, True\n",
    "* result = nplist[cutoff]\n",
    "\n",
    "Methods in NumPy\n",
    "* .round()\n",
    "* np.random()      \n",
    "* np.random.seed(123)                   # generate same value every same time                  \n",
    "* .random.rand() \n",
    "* .random.randint()\n",
    "* .column_stack()\n",
    "\n",
    "* .sample(nr_rows, replace = False)                    \n",
    "\n",
    "* .mean()\n",
    "* .median()\n",
    "* .mode()\n",
    "* .min()\n",
    "* .max()\n",
    "* .sum()\n",
    "* .quantile()\n",
    "* .std()\n",
    "* .var()\n",
    "* .corrcoef()\n",
    "* .logical_and()\n",
    "* .logical_or()\n",
    "* .logical_not()"
   ]
  },
  {
   "cell_type": "code",
   "execution_count": null,
   "id": "67231c2b",
   "metadata": {},
   "outputs": [],
   "source": [
    "# Numpy Methods -- statistics examples\n",
    "\n",
    "# mean and median\n",
    "\n",
    "    np.mean(table['columnname'])\n",
    "    np.median(table['columnname'])\n",
    "    \n",
    "    table.groupby('columnname1')['columnname2'].agg([np.mean, np.median])\n",
    "\n",
    "# spread\n",
    "\n",
    "    np.var(table['columnname'], ddof = 1)       # ddof = 1 --> sample variance      SQUARED\n",
    "    np.std(table['columnname'], ddof = 1)       # no ddof --> population variance   not squared\n",
    "    \n",
    "    np.abs(table['columnname'])                 # absolute value\n",
    "    np.linspace(start, stop, num)\n",
    "    \n",
    "    np.quantile(table['columnname'], [0 0.25 0.5 0.75 1])   # This example is a quartile\n",
    "    \n",
    "    # outlier definition\n",
    "    # data < Q1 - 1.5*IQR                       # IQR = hight of boxplot\n",
    "    # data > Q3 + 1.5*IQR                       # from scipy.stats import iqr \n"
   ]
  }
 ],
 "metadata": {
  "kernelspec": {
   "display_name": "Python 3 (ipykernel)",
   "language": "python",
   "name": "python3"
  },
  "language_info": {
   "codemirror_mode": {
    "name": "ipython",
    "version": 3
   },
   "file_extension": ".py",
   "mimetype": "text/x-python",
   "name": "python",
   "nbconvert_exporter": "python",
   "pygments_lexer": "ipython3",
   "version": "3.10.9"
  }
 },
 "nbformat": 4,
 "nbformat_minor": 5
}
