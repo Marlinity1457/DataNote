{
 "cells": [
  {
   "cell_type": "markdown",
   "id": "19485846",
   "metadata": {},
   "source": [
    "# Statistics\n",
    "\n",
    "Types of statistics:\n",
    "* Descriptive statistics only specific about the data pool \n",
    "* Inferential statistics guess about a larger pool of data \n",
    "\n",
    "Number (quantitative) \n",
    "* continuous \n",
    "* Discrete \n",
    "\n",
    "Categorical (Qualitative) \n",
    "* Nominal  (unordered) \n",
    "* Ordinal (ordered)"
   ]
  },
  {
   "cell_type": "markdown",
   "id": "3f0be868",
   "metadata": {},
   "source": [
    "## Preperation "
   ]
  },
  {
   "cell_type": "code",
   "execution_count": null,
   "id": "f8d4e662",
   "metadata": {},
   "outputs": [],
   "source": [
    "# Data \n",
    "import pandas as pd\n",
    "import numpy as np\n",
    "\n",
    "# Distribution\n",
    "from scipy.stats import norm \n",
    "from scipy.stats import poisson \n",
    "from scipy.stats import expon \n",
    "\n",
    "# Plots\n",
    "import matplotlib as plt\n",
    "import seaborn as sns"
   ]
  },
  {
   "cell_type": "markdown",
   "id": "f2100430",
   "metadata": {},
   "source": [
    "FIXME\n",
    "\n",
    "- .sample(nr_picks, replace = True) \n",
    "- .append(var) \n",
    "- np.mean(var) "
   ]
  },
  {
   "cell_type": "markdown",
   "id": "a507f74e",
   "metadata": {},
   "source": [
    "## Basic statistics"
   ]
  },
  {
   "cell_type": "code",
   "execution_count": null,
   "id": "5416216c",
   "metadata": {},
   "outputs": [],
   "source": []
  },
  {
   "cell_type": "markdown",
   "id": "b02002b4",
   "metadata": {},
   "source": [
    "## Distribution \n",
    "Types of distributions\n",
    "* Normal distribution\n",
    "* Binomial distribution\n",
    "* Poisson distribution\n",
    "* Exponential distribution\n",
    "* T distribution (higher degrees of freedom (df) closer to normal distrbution)\n",
    "* log-normal distribution (skewed)"
   ]
  },
  {
   "cell_type": "markdown",
   "id": "dd65a3e2",
   "metadata": {},
   "source": [
    "### Normal distribution\n",
    "\n",
    "A normal distribution is described by bean and std \n",
    "* 1std = 68% \n",
    "* 2std = 95% \n",
    "* 3std = 99.7% "
   ]
  },
  {
   "cell_type": "code",
   "execution_count": null,
   "id": "6d029022",
   "metadata": {},
   "outputs": [],
   "source": [
    "# percentage \n",
    "norm.cdf(nr_interest, mean, std)       # (smaller than) \n",
    "1 - norm.cdf(nr_interest, mean, std)   # (larger than) \n",
    "\n",
    "# percentiles \n",
    "norm.ppf(%/100, mean, std)             # (smaller than value of percentile) \n",
    "1 - norm.ppf(%/100, mean, std)         # (larger than value of percentile) \n",
    "\n",
    "# random numbers \n",
    "norm.rvs(mean, std, size = sample_size) "
   ]
  },
  {
   "cell_type": "markdown",
   "id": "76f8fb3f",
   "metadata": {},
   "source": [
    "### Poisson distribution\n",
    "\n",
    "A poisson distribution describes the probability of an event to appear at a certain rate, but random. \n",
    "\n",
    "* Propability (P) of some # event (N) occuring over a fixed period of time \n",
    "* Lambda (Y) gives the average # of event per time interval\n",
    "\n",
    "Lambda changes shape of distribution, but peak is always at lambda value."
   ]
  },
  {
   "cell_type": "code",
   "execution_count": 4,
   "id": "b8fca69a",
   "metadata": {},
   "outputs": [],
   "source": [
    "# Poisson probability\n",
    "poisson.pmf(N, Y)       # = P (Y in time = N) \n",
    "poisson.cdf(N, Y)       # = P (Y in time < N) \n",
    "1- poisson.cdf(N, Y)    # = P (Y in time > N) \n",
    " \n",
    "# Random numbers \n",
    "poisson.rvs(Y, size = sample_size) "
   ]
  },
  {
   "cell_type": "markdown",
   "id": "8d28fd81",
   "metadata": {},
   "source": [
    "### Exponential distribution\n",
    "Probability of time between Poisson events "
   ]
  },
  {
   "cell_type": "code",
   "execution_count": null,
   "id": "a414204c",
   "metadata": {},
   "outputs": [],
   "source": [
    "# Exponential probability\n",
    "expon.cdf(wait_var, scale = Y)      # P(wait < wait_var) \n",
    "1 - expon.cdf(wait_var, scale = Y)  # P(wait > wait_var) "
   ]
  },
  {
   "cell_type": "markdown",
   "id": "44f2eb7a",
   "metadata": {},
   "source": [
    "### Correlation\n",
    "\n",
    "A correlation only measures linear relationship"
   ]
  },
  {
   "cell_type": "markdown",
   "id": "935489f0",
   "metadata": {},
   "source": [
    "Plot a correlation"
   ]
  },
  {
   "cell_type": "code",
   "execution_count": null,
   "id": "a19bc884",
   "metadata": {},
   "outputs": [],
   "source": [
    "# Scatterplot\n",
    "sns.scatterplot(x = 'columnname1', y = 'columnname2', data = df)\n",
    "plt.show()\n",
    "\n",
    "# Scatterplot + line\n",
    "sns.lmplot(x = 'columnname1', y = 'columnname2', data = df, ci = None)\n",
    "plt.show()"
   ]
  },
  {
   "cell_type": "markdown",
   "id": "1ee12faa",
   "metadata": {},
   "source": [
    "Magintude of a correlation \n",
    "e.g. by Pearson product-moment correlation"
   ]
  },
  {
   "cell_type": "code",
   "execution_count": null,
   "id": "a1552ecc",
   "metadata": {},
   "outputs": [],
   "source": [
    "df['columnname1'].corr(df['columnname2'])"
   ]
  },
  {
   "cell_type": "markdown",
   "id": "a94afc19",
   "metadata": {},
   "source": [
    "Causation"
   ]
  },
  {
   "cell_type": "code",
   "execution_count": null,
   "id": "b49e6533",
   "metadata": {},
   "outputs": [],
   "source": []
  },
  {
   "cell_type": "markdown",
   "id": "b2d95cbe",
   "metadata": {},
   "source": [
    "### Transformations\n",
    "\n",
    "Examples of transformations are:\n",
    "* Log transformation (log(x))\n",
    "* Square root transformation (sqrt(x))\n",
    "* Reciprocal transformation (1/x)"
   ]
  },
  {
   "cell_type": "code",
   "execution_count": 2,
   "id": "ab4d1da4",
   "metadata": {},
   "outputs": [],
   "source": [
    "# Log transformation\n",
    "\n",
    "np.log(df['columnname']) "
   ]
  },
  {
   "cell_type": "code",
   "execution_count": null,
   "id": "147fbea2",
   "metadata": {},
   "outputs": [],
   "source": [
    "# statistics\n",
    "# from scipy.stats import uniform\n",
    "\n",
    "uniform.cdf(number, lower_limit, upper_limit)   # uniform distrubution, prop of number\n",
    "uniform.rvs(min, max, size = number)            # generating random numbers \n",
    "\n",
    "# from scipy.stats import binom\n",
    "# each trial must be independent\n",
    "\n",
    "binom.rvs(number, prop_of_succes, size = number_trails)     # show nr of successes for 'size' occurences with each max 'number'\n",
    "binom.pmf(number, num_trials, prop_of_succes)                 # P(heads = number)  \n",
    "binom.cdf(number, num_trials, prop_of_succes)                 # P(heads <= number)\n",
    "\n",
    "\n"
   ]
  },
  {
   "cell_type": "markdown",
   "id": "47453223",
   "metadata": {},
   "source": [
    "# NumPy\n",
    "A mathematical operation"
   ]
  },
  {
   "cell_type": "markdown",
   "id": "c1e85a8e",
   "metadata": {},
   "source": [
    "Example with method array\n",
    "* variable_list = [1,2,3]\n",
    "* nplist = np.array(variable_list)\n",
    "* cutoff = nplist >2                  boolean: False, False, True\n",
    "* result = nplist[cutoff]\n",
    "\n",
    "Methods in NumPy\n",
    "* .round()\n",
    "* np.random()      \n",
    "* np.random.seed(123)                   # generate same value every same time                  \n",
    "* .random.rand() \n",
    "* .random.randint()\n",
    "* .column_stack()\n",
    "\n",
    "* .sample(nr_rows, replace = False)                    \n",
    "\n",
    "* .mean()\n",
    "* .median()\n",
    "* .mode()\n",
    "* .min()\n",
    "* .max()\n",
    "* .sum()\n",
    "* .quantile()\n",
    "* .std()\n",
    "* .var()\n",
    "* .corrcoef()\n",
    "* .logical_and()\n",
    "* .logical_or()\n",
    "* .logical_not()"
   ]
  },
  {
   "cell_type": "code",
   "execution_count": null,
   "id": "67231c2b",
   "metadata": {},
   "outputs": [],
   "source": [
    "# Numpy Methods -- statistics examples\n",
    "\n",
    "# mean and median\n",
    "\n",
    "    np.mean(table['columnname'])\n",
    "    np.median(table['columnname'])\n",
    "    \n",
    "    table.groupby('columnname1')['columnname2'].agg([np.mean, np.median])\n",
    "\n",
    "# spread\n",
    "\n",
    "    np.var(table['columnname'], ddof = 1)       # ddof = 1 --> sample variance      SQUARED\n",
    "    np.std(table['columnname'], ddof = 1)       # no ddof --> population variance   not squared\n",
    "    \n",
    "    np.abs(table['columnname'])                 # absolute value\n",
    "    np.linspace(start, stop, num)\n",
    "    \n",
    "    np.quantile(table['columnname'], [0 0.25 0.5 0.75 1])   # This example is a quartile\n",
    "    \n",
    "    # outlier definition\n",
    "    # data < Q1 - 1.5*IQR                       # IQR = hight of boxplot\n",
    "    # data > Q3 + 1.5*IQR                       # from scipy.stats import iqr \n"
   ]
  }
 ],
 "metadata": {
  "kernelspec": {
   "display_name": "Python 3 (ipykernel)",
   "language": "python",
   "name": "python3"
  },
  "language_info": {
   "codemirror_mode": {
    "name": "ipython",
    "version": 3
   },
   "file_extension": ".py",
   "mimetype": "text/x-python",
   "name": "python",
   "nbconvert_exporter": "python",
   "pygments_lexer": "ipython3",
   "version": "3.10.9"
  }
 },
 "nbformat": 4,
 "nbformat_minor": 5
}
