{
 "cells": [
  {
   "cell_type": "markdown",
   "id": "7b2ba5d8",
   "metadata": {},
   "source": [
    "# Strings"
   ]
  },
  {
   "cell_type": "markdown",
   "id": "3634abda",
   "metadata": {},
   "source": [
    "## Basics"
   ]
  },
  {
   "cell_type": "code",
   "execution_count": 1,
   "id": "60b5f6b1",
   "metadata": {},
   "outputs": [
    {
     "data": {
      "text/plain": [
       "True"
      ]
     },
     "execution_count": 1,
     "metadata": {},
     "output_type": "execute_result"
    }
   ],
   "source": [
    "# Seaching for things in strings (Case sensitive!)\n",
    "\"long\" in \"Life is a long lession in humility.\""
   ]
  },
  {
   "cell_type": "code",
   "execution_count": 2,
   "id": "fe1949ad",
   "metadata": {},
   "outputs": [
    {
     "data": {
      "text/plain": [
       "True"
      ]
     },
     "execution_count": 2,
     "metadata": {},
     "output_type": "execute_result"
    }
   ],
   "source": [
    "\"life\" in \"Life is a long lession in humility.\".lower()"
   ]
  },
  {
   "cell_type": "code",
   "execution_count": 3,
   "id": "ede727e6",
   "metadata": {},
   "outputs": [],
   "source": [
    "string = \"This is a NiCe StriNg. This is a much NiCer StriNg. But this is The MoSt NicEst StriNg!\""
   ]
  },
  {
   "cell_type": "code",
   "execution_count": 4,
   "id": "a2c688f5",
   "metadata": {},
   "outputs": [
    {
     "data": {
      "text/plain": [
       "'this is a nice string. this is a much nicer string. but this is the most nicest string!'"
      ]
     },
     "execution_count": 4,
     "metadata": {},
     "output_type": "execute_result"
    }
   ],
   "source": [
    "string.lower()"
   ]
  },
  {
   "cell_type": "code",
   "execution_count": 5,
   "id": "74d0dc81",
   "metadata": {},
   "outputs": [
    {
     "data": {
      "text/plain": [
       "'THIS IS A NICE STRING. THIS IS A MUCH NICER STRING. BUT THIS IS THE MOST NICEST STRING!'"
      ]
     },
     "execution_count": 5,
     "metadata": {},
     "output_type": "execute_result"
    }
   ],
   "source": [
    "string.upper()"
   ]
  },
  {
   "cell_type": "code",
   "execution_count": 6,
   "id": "352348f4",
   "metadata": {},
   "outputs": [
    {
     "data": {
      "text/plain": [
       "'This is a nice string. this is a much nicer string. but this is the most nicest string!'"
      ]
     },
     "execution_count": 6,
     "metadata": {},
     "output_type": "execute_result"
    }
   ],
   "source": [
    "string.capitalize()"
   ]
  },
  {
   "cell_type": "markdown",
   "id": "cf1ea7e4",
   "metadata": {},
   "source": [
    "## Separate lines"
   ]
  },
  {
   "cell_type": "code",
   "execution_count": 7,
   "id": "f5398adf",
   "metadata": {},
   "outputs": [
    {
     "data": {
      "text/plain": [
       "['This',\n",
       " 'is',\n",
       " 'a',\n",
       " 'NiCe',\n",
       " 'StriNg.',\n",
       " 'This',\n",
       " 'is',\n",
       " 'a',\n",
       " 'much',\n",
       " 'NiCer',\n",
       " 'StriNg.',\n",
       " 'But',\n",
       " 'this',\n",
       " 'is',\n",
       " 'The',\n",
       " 'MoSt',\n",
       " 'NicEst',\n",
       " 'StriNg!']"
      ]
     },
     "execution_count": 7,
     "metadata": {},
     "output_type": "execute_result"
    }
   ],
   "source": [
    "# Split all words\n",
    "string.split()"
   ]
  },
  {
   "cell_type": "code",
   "execution_count": 8,
   "id": "93e88033",
   "metadata": {},
   "outputs": [
    {
     "data": {
      "text/plain": [
       "['This is a NiCe StriNg',\n",
       " 'This is a much NiCer StriNg',\n",
       " 'But this is The MoSt NicEst StriNg!']"
      ]
     },
     "execution_count": 8,
     "metadata": {},
     "output_type": "execute_result"
    }
   ],
   "source": [
    "# Define specific conditions to split\n",
    "string.split(sep = '. ', maxsplit = 2)"
   ]
  },
  {
   "cell_type": "code",
   "execution_count": 9,
   "id": "cb1be575",
   "metadata": {},
   "outputs": [
    {
     "data": {
      "text/plain": [
       "['This is a NiCe StriNg',\n",
       " 'This is a much NiCer StriNg',\n",
       " 'But this is The MoSt NicEst StriNg!']"
      ]
     },
     "execution_count": 9,
     "metadata": {},
     "output_type": "execute_result"
    }
   ],
   "source": [
    "# Define specific conditions to split\n",
    "string.rsplit(sep = '. ', maxsplit = 2)"
   ]
  },
  {
   "cell_type": "code",
   "execution_count": 37,
   "id": "ae62b72d",
   "metadata": {},
   "outputs": [
    {
     "data": {
      "text/plain": [
       "['This is a nice string. ', 'This is a much nicer string.']"
      ]
     },
     "execution_count": 37,
     "metadata": {},
     "output_type": "execute_result"
    }
   ],
   "source": [
    "# split lines by '.'\n",
    "string_2 = 'This is a nice string. \\nThis is a much nicer string.'\n",
    "string_2.splitlines()"
   ]
  },
  {
   "cell_type": "markdown",
   "id": "8177a22a",
   "metadata": {},
   "source": [
    "## Join strings"
   ]
  },
  {
   "cell_type": "code",
   "execution_count": null,
   "id": "e588f6b4",
   "metadata": {},
   "outputs": [],
   "source": [
    "my_list = ['This','would','be','a','string']\n",
    "print(\" \".join(my_list))"
   ]
  },
  {
   "cell_type": "code",
   "execution_count": null,
   "id": "3103d351",
   "metadata": {},
   "outputs": [],
   "source": [
    "# Joining strings\n",
    "child_ages = [\"3\" , \"4\", \"5\", \"6\"]\n",
    "child_ages_str = \", \".join(child_ages)\n",
    "print(child_ages_str)\n",
    "print(type(child_ages_str))\n",
    "\n",
    "print(child_ages)\n",
    "print(type(child_ages))"
   ]
  },
  {
   "cell_type": "markdown",
   "id": "c618cd49",
   "metadata": {},
   "source": [
    "## Clean by character "
   ]
  },
  {
   "cell_type": "code",
   "execution_count": 14,
   "id": "c8604180",
   "metadata": {},
   "outputs": [],
   "source": [
    "string_3 = \" This string will be stripped\\n\""
   ]
  },
  {
   "cell_type": "code",
   "execution_count": 15,
   "id": "10bec57d",
   "metadata": {},
   "outputs": [
    {
     "data": {
      "text/plain": [
       "'This string will be stripped'"
      ]
     },
     "execution_count": 15,
     "metadata": {},
     "output_type": "execute_result"
    }
   ],
   "source": [
    "string_3.strip()"
   ]
  },
  {
   "cell_type": "code",
   "execution_count": 16,
   "id": "db52538c",
   "metadata": {},
   "outputs": [
    {
     "data": {
      "text/plain": [
       "' This string will be stripped'"
      ]
     },
     "execution_count": 16,
     "metadata": {},
     "output_type": "execute_result"
    }
   ],
   "source": [
    "string_3.rstrip()"
   ]
  },
  {
   "cell_type": "code",
   "execution_count": 17,
   "id": "0ac28cb7",
   "metadata": {},
   "outputs": [
    {
     "data": {
      "text/plain": [
       "'This string will be stripped\\n'"
      ]
     },
     "execution_count": 17,
     "metadata": {},
     "output_type": "execute_result"
    }
   ],
   "source": [
    "string_3.lstrip()"
   ]
  },
  {
   "cell_type": "markdown",
   "id": "a6558184",
   "metadata": {},
   "source": [
    "## Search in a string"
   ]
  },
  {
   "cell_type": "code",
   "execution_count": 18,
   "id": "800ee803",
   "metadata": {},
   "outputs": [
    {
     "name": "stdout",
     "output_type": "stream",
     "text": [
      "['Moses']\n"
     ]
    }
   ],
   "source": [
    "# Mathcing parts of a string (.startswith(), .endswith())\n",
    "boy_names = [\"Caleb\", \"Joshua\", \"Moses\"]\n",
    "print([name for name in boy_names if name.startswith(\"M\")])"
   ]
  },
  {
   "cell_type": "code",
   "execution_count": 19,
   "id": "2e5aced7",
   "metadata": {},
   "outputs": [],
   "source": [
    "# new string\n",
    "string_4 = 'Lovely, today is a brand new today.'"
   ]
  },
  {
   "cell_type": "code",
   "execution_count": 20,
   "id": "bcfa40c3",
   "metadata": {},
   "outputs": [
    {
     "name": "stdout",
     "output_type": "stream",
     "text": [
      "8\n",
      "-1\n"
     ]
    }
   ],
   "source": [
    "# Search target in string\n",
    "find1_string = string_4.find('today')\n",
    "find2_string = string_4.find('today', 0, 10) # start, end\n",
    "\n",
    "print(find1_string) # result\n",
    "print(find2_string) # no result"
   ]
  },
  {
   "cell_type": "code",
   "execution_count": 21,
   "id": "d74449a8",
   "metadata": {},
   "outputs": [
    {
     "name": "stdout",
     "output_type": "stream",
     "text": [
      "8\n"
     ]
    }
   ],
   "source": [
    "# Search target in string\n",
    "index1_string = string_4.index('today')\n",
    "print(index1_string) # result"
   ]
  },
  {
   "cell_type": "code",
   "execution_count": 22,
   "id": "94c90e33",
   "metadata": {},
   "outputs": [
    {
     "name": "stdout",
     "output_type": "stream",
     "text": [
      "Not found\n"
     ]
    }
   ],
   "source": [
    "# Search target in string\n",
    "try:\n",
    "    index2_string = string_4.index('today', 0, 10) # start, end\n",
    "except ValueError:\n",
    "    print('Not found')"
   ]
  },
  {
   "cell_type": "code",
   "execution_count": 23,
   "id": "db96d680",
   "metadata": {},
   "outputs": [
    {
     "name": "stdout",
     "output_type": "stream",
     "text": [
      "2\n"
     ]
    }
   ],
   "source": [
    "# count\n",
    "count_string = string_4.count('day')\n",
    "print(count_string)"
   ]
  },
  {
   "cell_type": "code",
   "execution_count": 24,
   "id": "1d95fc41",
   "metadata": {},
   "outputs": [
    {
     "name": "stdout",
     "output_type": "stream",
     "text": [
      "Lovely, tomorrow is a brand new today.\n"
     ]
    }
   ],
   "source": [
    "# replace\n",
    "replace_string = string_4.replace('today', 'tomorrow', 1) # old, new, count\n",
    "print(replace_string)"
   ]
  },
  {
   "cell_type": "markdown",
   "id": "c02ef8e4",
   "metadata": {},
   "source": [
    "## String formatting"
   ]
  },
  {
   "cell_type": "markdown",
   "id": "bcea4a3c",
   "metadata": {},
   "source": [
    "f-format\n",
    "* !s = string version\n",
    "* !r = with quotes\n",
    "* !a = !r with non-ASCII\n",
    "* :e = scientific notation\n",
    "* :d = digit\n",
    "* :f = float"
   ]
  },
  {
   "cell_type": "code",
   "execution_count": 40,
   "id": "01f51444",
   "metadata": {},
   "outputs": [
    {
     "name": "stdout",
     "output_type": "stream",
     "text": [
      "Each Oreo cookie cost $1.99.\n",
      "Each Oreo cookie cost $1.99.\n",
      "Each Oreo cookie cost $1.99.\n",
      "Each Oreo cookie cost $1.99.\n"
     ]
    }
   ],
   "source": [
    "# f-string\n",
    "cookie_name = 'Oreo'\n",
    "cookie_price = '$1.99'\n",
    "\n",
    "# Method 1\n",
    "print(f\"Each {cookie_name} cookie cost {cookie_price}.\") \n",
    "\n",
    "# Method 2a\n",
    "print(\"Each {} cookie cost {}.\".format(cookie_name, cookie_price))\n",
    "\n",
    "# Method 2b\n",
    "print(\"Each {cookie_name} cookie cost {cookie_price}.\".format(cookie_name=cookie_name, cookie_price=cookie_price))\n",
    "\n",
    "# Method 2c\n",
    "print(\"Each {0} cookie cost {1}.\".format(cookie_name, cookie_price))\n",
    "#print(\"Each {0} cookie cost {1:.2f}.\".format(cookie_name, cookie_price))"
   ]
  },
  {
   "cell_type": "code",
   "execution_count": 48,
   "id": "10a5bf09",
   "metadata": {},
   "outputs": [
    {
     "name": "stdout",
     "output_type": "stream",
     "text": [
      "Good morning. Today is October 12, 2023. It's 13:12 ... time to work!\n"
     ]
    }
   ],
   "source": [
    "# Import datetime \n",
    "from datetime import datetime\n",
    "\n",
    "# Assign date to get_date\n",
    "get_date = datetime.now()\n",
    "\n",
    "# Add named placeholders with format specifiers\n",
    "message = \"Good morning. Today is {today:%B %d, %Y}. It's {today:%H:%M} ... time to work!\"\n",
    "\n",
    "# Use the format method replacing the placeholder with get_date\n",
    "print(message.format(today=get_date))"
   ]
  },
  {
   "cell_type": "code",
   "execution_count": 52,
   "id": "17c37384",
   "metadata": {},
   "outputs": [
    {
     "name": "stdout",
     "output_type": "stream",
     "text": [
      "The price for a house in the west neighborhood was $1432673 in 05-26-2006.\n"
     ]
    }
   ],
   "source": [
    "west = {}\n",
    "west['price'] = 1432673\n",
    "west['date'] = datetime(2006, 5, 26, 0, 0)\n",
    "\n",
    "print(f\"The price for a house in the west neighborhood was ${west['price']} in {west['date']:%m-%d-%Y}.\")"
   ]
  },
  {
   "cell_type": "markdown",
   "id": "9de23dca",
   "metadata": {},
   "source": [
    "#### Template strings"
   ]
  },
  {
   "cell_type": "code",
   "execution_count": 53,
   "id": "097b4605",
   "metadata": {},
   "outputs": [
    {
     "data": {
      "text/plain": [
       "'Data science has been called an amazing job of the first 21th century'"
      ]
     },
     "execution_count": 53,
     "metadata": {},
     "output_type": "execute_result"
    }
   ],
   "source": [
    "from string import Template\n",
    "\n",
    "my_string = Template('Data science has been called $identifier')\n",
    "my_string.substitute(identifier = 'an amazing job of the first 21th century')"
   ]
  },
  {
   "cell_type": "markdown",
   "id": "828c6a73",
   "metadata": {},
   "source": [
    "Prevent confusion in identifier name"
   ]
  },
  {
   "cell_type": "code",
   "execution_count": 54,
   "id": "d1b7fcdb",
   "metadata": {},
   "outputs": [
    {
     "data": {
      "text/plain": [
       "'I find Python very interesting but my sister has lost interest'"
      ]
     },
     "execution_count": 54,
     "metadata": {},
     "output_type": "execute_result"
    }
   ],
   "source": [
    "# Sometimes you need to put {} around the identier name, to prevent confusion : ing would then be part of the indetifiers name\n",
    "my_string = Template('I find Python very ${noun}ing but my sister has lost $noun')\n",
    "my_string.substitute(noun= \"interest\")"
   ]
  },
  {
   "cell_type": "markdown",
   "id": "41186bba",
   "metadata": {},
   "source": [
    "Print dolar ($) sign"
   ]
  },
  {
   "cell_type": "code",
   "execution_count": 55,
   "id": "7252e5a3",
   "metadata": {},
   "outputs": [
    {
     "data": {
      "text/plain": [
       "'I paid for the Python course only $ 12.50, amzing!'"
      ]
     },
     "execution_count": 55,
     "metadata": {},
     "output_type": "execute_result"
    }
   ],
   "source": [
    "# Include dollar sign ($) in the string by using $$ in front\n",
    "my_string = Template('I paid for the Python course only $$ $price, amzing!')\n",
    "my_string.substitute(price = '12.50')"
   ]
  },
  {
   "cell_type": "markdown",
   "id": "d7669536",
   "metadata": {},
   "source": [
    "Prevent missing placeholders"
   ]
  },
  {
   "cell_type": "code",
   "execution_count": 57,
   "id": "f44f4a30",
   "metadata": {},
   "outputs": [
    {
     "data": {
      "text/plain": [
       "'I love chocolate $cake very much'"
      ]
     },
     "execution_count": 57,
     "metadata": {},
     "output_type": "execute_result"
    }
   ],
   "source": [
    "favorite = dict(flavor = \"chocolate\")\n",
    "my_string = Template('I love $flavor $cake very much')\n",
    "my_string.safe_substitute(favorite)"
   ]
  },
  {
   "cell_type": "markdown",
   "id": "0c72a07b",
   "metadata": {},
   "source": [
    "## Regular expressions\n",
    "\n",
    "Regular Expression (Regex) = String containing a combination of normal characters and special metacharacters (eg. `\\d`, `\\s`, `\\w`, `{3,10}`) that describes patterns to find text or positions within a text.\n",
    "\n",
    "Example:\n",
    "`r'st\\d\\s\\w{3,10}`\n",
    "\n",
    "Pattern: A sequence of characters that maps to words or punctuation. In order to\n",
    "* Find and replace text\n",
    "* Validate strings\n",
    "\n",
    "The re module\n",
    "*  `re.findall(r'regex', string)`\n",
    "*  `re.split(r'regex', string)`\n",
    "*  `re.sub(r'regex', new, string)`"
   ]
  },
  {
   "cell_type": "code",
   "execution_count": 60,
   "id": "b65727f8",
   "metadata": {},
   "outputs": [
    {
     "data": {
      "text/plain": [
       "['#movies', '#movies']"
      ]
     },
     "execution_count": 60,
     "metadata": {},
     "output_type": "execute_result"
    }
   ],
   "source": [
    "import re\n",
    "\n",
    "# find all matches of a pattern\n",
    "re.findall(r'#movies', 'Love #movies! I had fun yesterday goint ot the #movies')"
   ]
  },
  {
   "cell_type": "code",
   "execution_count": 68,
   "id": "d3ac9ce9",
   "metadata": {},
   "outputs": [
    {
     "data": {
      "text/plain": [
       "['User9', 'User8']"
      ]
     },
     "execution_count": 68,
     "metadata": {},
     "output_type": "execute_result"
    }
   ],
   "source": [
    "# find all matches of a pattern\n",
    "re.findall(r'User\\d', 'The winners are: User9, UserN, User8') # d = digit"
   ]
  },
  {
   "cell_type": "code",
   "execution_count": 69,
   "id": "019f882f",
   "metadata": {},
   "outputs": [
    {
     "data": {
      "text/plain": [
       "['UserN']"
      ]
     },
     "execution_count": 69,
     "metadata": {},
     "output_type": "execute_result"
    }
   ],
   "source": [
    "# find all matches of a pattern\n",
    "re.findall(r'User\\D', 'The winners are: User9, UserN, User8') # D = non-digit"
   ]
  },
  {
   "cell_type": "code",
   "execution_count": 70,
   "id": "4b32b416",
   "metadata": {},
   "outputs": [
    {
     "data": {
      "text/plain": [
       "['User9', 'UserN', 'User8']"
      ]
     },
     "execution_count": 70,
     "metadata": {},
     "output_type": "execute_result"
    }
   ],
   "source": [
    "# find all matches of a pattern\n",
    "re.findall(r'User\\w', 'The winners are: User9, UserN, User8') # w = word"
   ]
  },
  {
   "cell_type": "code",
   "execution_count": 74,
   "id": "5c13d57e",
   "metadata": {},
   "outputs": [
    {
     "data": {
      "text/plain": [
       "['$5']"
      ]
     },
     "execution_count": 74,
     "metadata": {},
     "output_type": "execute_result"
    }
   ],
   "source": [
    "# find all matches of a pattern\n",
    "re.findall(r'\\W\\d', 'This skirt is on sale, only $5 today!') # W = non-word"
   ]
  },
  {
   "cell_type": "code",
   "execution_count": 77,
   "id": "194081f7",
   "metadata": {},
   "outputs": [
    {
     "data": {
      "text/plain": [
       "['Data Science']"
      ]
     },
     "execution_count": 77,
     "metadata": {},
     "output_type": "execute_result"
    }
   ],
   "source": [
    "# find all matches of a pattern\n",
    "re.findall(r'Data\\sScience', 'I enjoy learning Data Science') # s = whitespace"
   ]
  },
  {
   "cell_type": "code",
   "execution_count": 78,
   "id": "0df23fb7",
   "metadata": {},
   "outputs": [
    {
     "data": {
      "text/plain": [
       "'I really like ice cream'"
      ]
     },
     "execution_count": 78,
     "metadata": {},
     "output_type": "execute_result"
    }
   ],
   "source": [
    "# find all matches of a pattern\n",
    "re.sub(r'ice\\Scream', 'ice cream', 'I really like ice-cream') # S = non-whitespace"
   ]
  },
  {
   "cell_type": "code",
   "execution_count": 62,
   "id": "495eacac",
   "metadata": {},
   "outputs": [
    {
     "data": {
      "text/plain": [
       "['Nice place to eat', ' I\"ll come back', ' Excellent vega option', '']"
      ]
     },
     "execution_count": 62,
     "metadata": {},
     "output_type": "execute_result"
    }
   ],
   "source": [
    "# split string at each match\n",
    "re.split(r'!', 'Nice place to eat! I\"ll come back! Excellent vega option!')"
   ]
  },
  {
   "cell_type": "code",
   "execution_count": 64,
   "id": "d4c54818",
   "metadata": {},
   "outputs": [
    {
     "data": {
      "text/plain": [
       "'I have a nice car and a nice house in a nice neighborhood'"
      ]
     },
     "execution_count": 64,
     "metadata": {},
     "output_type": "execute_result"
    }
   ],
   "source": [
    "# Replace matches\n",
    "re.sub(r'yellow', 'nice', 'I have a yellow car and a yellow house in a yellow neighborhood')"
   ]
  },
  {
   "cell_type": "code",
   "execution_count": null,
   "id": "e59c7f7a",
   "metadata": {},
   "outputs": [],
   "source": []
  }
 ],
 "metadata": {
  "kernelspec": {
   "display_name": "Python 3 (ipykernel)",
   "language": "python",
   "name": "python3"
  },
  "language_info": {
   "codemirror_mode": {
    "name": "ipython",
    "version": 3
   },
   "file_extension": ".py",
   "mimetype": "text/x-python",
   "name": "python",
   "nbconvert_exporter": "python",
   "pygments_lexer": "ipython3",
   "version": "3.10.9"
  }
 },
 "nbformat": 4,
 "nbformat_minor": 5
}
