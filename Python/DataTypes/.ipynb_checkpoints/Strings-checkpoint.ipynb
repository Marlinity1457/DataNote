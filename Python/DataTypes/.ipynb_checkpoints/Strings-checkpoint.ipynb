{
 "cells": [
  {
   "cell_type": "markdown",
   "id": "ed80acf0",
   "metadata": {},
   "source": [
    "# Strings"
   ]
  },
  {
   "cell_type": "markdown",
   "id": "e69e9ce5",
   "metadata": {},
   "source": [
    "## Basics"
   ]
  },
  {
   "cell_type": "code",
   "execution_count": 1,
   "id": "73dc28c9",
   "metadata": {},
   "outputs": [
    {
     "data": {
      "text/plain": [
       "True"
      ]
     },
     "execution_count": 1,
     "metadata": {},
     "output_type": "execute_result"
    }
   ],
   "source": [
    "# Seaching for things in strings (Case sensitive!)\n",
    "\"long\" in \"Life is a long lession in humility.\""
   ]
  },
  {
   "cell_type": "code",
   "execution_count": 2,
   "id": "58771aee",
   "metadata": {},
   "outputs": [
    {
     "data": {
      "text/plain": [
       "True"
      ]
     },
     "execution_count": 2,
     "metadata": {},
     "output_type": "execute_result"
    }
   ],
   "source": [
    "\"life\" in \"Life is a long lession in humility.\".lower()"
   ]
  },
  {
   "cell_type": "code",
   "execution_count": 3,
   "id": "3f6f8dc5",
   "metadata": {},
   "outputs": [],
   "source": [
    "string = \"This is a NiCe StriNg. This is a much NiCer StriNg. But this is The MoSt NicEst StriNg!\""
   ]
  },
  {
   "cell_type": "code",
   "execution_count": 4,
   "id": "5f55bfb6",
   "metadata": {},
   "outputs": [
    {
     "data": {
      "text/plain": [
       "'this is a nice string. this is a much nicer string. but this is the most nicest string!'"
      ]
     },
     "execution_count": 4,
     "metadata": {},
     "output_type": "execute_result"
    }
   ],
   "source": [
    "string.lower()"
   ]
  },
  {
   "cell_type": "code",
   "execution_count": 5,
   "id": "1ab716f7",
   "metadata": {},
   "outputs": [
    {
     "data": {
      "text/plain": [
       "'THIS IS A NICE STRING. THIS IS A MUCH NICER STRING. BUT THIS IS THE MOST NICEST STRING!'"
      ]
     },
     "execution_count": 5,
     "metadata": {},
     "output_type": "execute_result"
    }
   ],
   "source": [
    "string.upper()"
   ]
  },
  {
   "cell_type": "code",
   "execution_count": 6,
   "id": "797e0ab1",
   "metadata": {},
   "outputs": [
    {
     "data": {
      "text/plain": [
       "'This is a nice string. this is a much nicer string. but this is the most nicest string!'"
      ]
     },
     "execution_count": 6,
     "metadata": {},
     "output_type": "execute_result"
    }
   ],
   "source": [
    "string.capitalize()"
   ]
  },
  {
   "cell_type": "markdown",
   "id": "9947e8df",
   "metadata": {},
   "source": [
    "## Separate lines"
   ]
  },
  {
   "cell_type": "code",
   "execution_count": 7,
   "id": "edf61871",
   "metadata": {},
   "outputs": [
    {
     "data": {
      "text/plain": [
       "['This',\n",
       " 'is',\n",
       " 'a',\n",
       " 'NiCe',\n",
       " 'StriNg.',\n",
       " 'This',\n",
       " 'is',\n",
       " 'a',\n",
       " 'much',\n",
       " 'NiCer',\n",
       " 'StriNg.',\n",
       " 'But',\n",
       " 'this',\n",
       " 'is',\n",
       " 'The',\n",
       " 'MoSt',\n",
       " 'NicEst',\n",
       " 'StriNg!']"
      ]
     },
     "execution_count": 7,
     "metadata": {},
     "output_type": "execute_result"
    }
   ],
   "source": [
    "# Split all words\n",
    "string.split()"
   ]
  },
  {
   "cell_type": "code",
   "execution_count": 8,
   "id": "577c862e",
   "metadata": {},
   "outputs": [
    {
     "data": {
      "text/plain": [
       "['This is a NiCe StriNg',\n",
       " 'This is a much NiCer StriNg',\n",
       " 'But this is The MoSt NicEst StriNg!']"
      ]
     },
     "execution_count": 8,
     "metadata": {},
     "output_type": "execute_result"
    }
   ],
   "source": [
    "# Define specific conditions to split\n",
    "string.split(sep = '. ', maxsplit = 2)"
   ]
  },
  {
   "cell_type": "code",
   "execution_count": 9,
   "id": "6094e4a7",
   "metadata": {},
   "outputs": [
    {
     "data": {
      "text/plain": [
       "['This is a NiCe StriNg',\n",
       " 'This is a much NiCer StriNg',\n",
       " 'But this is The MoSt NicEst StriNg!']"
      ]
     },
     "execution_count": 9,
     "metadata": {},
     "output_type": "execute_result"
    }
   ],
   "source": [
    "# Define specific conditions to split\n",
    "string.rsplit(sep = '. ', maxsplit = 2)"
   ]
  },
  {
   "cell_type": "code",
   "execution_count": 10,
   "id": "c65f8ae3",
   "metadata": {},
   "outputs": [
    {
     "ename": "NameError",
     "evalue": "name 'string_2' is not defined",
     "output_type": "error",
     "traceback": [
      "\u001b[1;31m---------------------------------------------------------------------------\u001b[0m",
      "\u001b[1;31mNameError\u001b[0m                                 Traceback (most recent call last)",
      "Cell \u001b[1;32mIn[10], line 2\u001b[0m\n\u001b[0;32m      1\u001b[0m \u001b[38;5;66;03m# split lines by '.'\u001b[39;00m\n\u001b[1;32m----> 2\u001b[0m \u001b[43mstring_2\u001b[49m\u001b[38;5;241m.\u001b[39msplitlines()\n",
      "\u001b[1;31mNameError\u001b[0m: name 'string_2' is not defined"
     ]
    }
   ],
   "source": [
    "# split lines by '.'\n",
    "string_2.splitlines()"
   ]
  },
  {
   "cell_type": "markdown",
   "id": "0d6027c5",
   "metadata": {},
   "source": [
    "## Join strings"
   ]
  },
  {
   "cell_type": "code",
   "execution_count": null,
   "id": "a46263b3",
   "metadata": {},
   "outputs": [],
   "source": [
    "my_list = ['This','would','be','a','string']\n",
    "print(\" \".join(my_list))"
   ]
  },
  {
   "cell_type": "code",
   "execution_count": null,
   "id": "65d63f10",
   "metadata": {},
   "outputs": [],
   "source": [
    "# Joining strings\n",
    "child_ages = [\"3\" , \"4\", \"5\", \"6\"]\n",
    "child_ages_str = \", \".join(child_ages)\n",
    "print(child_ages_str)\n",
    "print(type(child_ages_str))\n",
    "\n",
    "print(child_ages)\n",
    "print(type(child_ages))"
   ]
  },
  {
   "cell_type": "markdown",
   "id": "b25d2bc4",
   "metadata": {},
   "source": [
    "## Clean by character "
   ]
  },
  {
   "cell_type": "code",
   "execution_count": 14,
   "id": "83de8aa3",
   "metadata": {},
   "outputs": [],
   "source": [
    "string_3 = \" This string will be stripped\\n\""
   ]
  },
  {
   "cell_type": "code",
   "execution_count": 15,
   "id": "74c9ad2a",
   "metadata": {},
   "outputs": [
    {
     "data": {
      "text/plain": [
       "'This string will be stripped'"
      ]
     },
     "execution_count": 15,
     "metadata": {},
     "output_type": "execute_result"
    }
   ],
   "source": [
    "string_3.strip()"
   ]
  },
  {
   "cell_type": "code",
   "execution_count": 16,
   "id": "7611a7f1",
   "metadata": {},
   "outputs": [
    {
     "data": {
      "text/plain": [
       "' This string will be stripped'"
      ]
     },
     "execution_count": 16,
     "metadata": {},
     "output_type": "execute_result"
    }
   ],
   "source": [
    "string_3.rstrip()"
   ]
  },
  {
   "cell_type": "code",
   "execution_count": 17,
   "id": "47123293",
   "metadata": {},
   "outputs": [
    {
     "data": {
      "text/plain": [
       "'This string will be stripped\\n'"
      ]
     },
     "execution_count": 17,
     "metadata": {},
     "output_type": "execute_result"
    }
   ],
   "source": [
    "string_3.lstrip()"
   ]
  },
  {
   "cell_type": "markdown",
   "id": "4ecc167d",
   "metadata": {},
   "source": [
    "## Search in a string"
   ]
  },
  {
   "cell_type": "code",
   "execution_count": 18,
   "id": "42bbbd4d",
   "metadata": {},
   "outputs": [
    {
     "name": "stdout",
     "output_type": "stream",
     "text": [
      "['Moses']\n"
     ]
    }
   ],
   "source": [
    "# Mathcing parts of a string (.startswith(), .endswith())\n",
    "boy_names = [\"Caleb\", \"Joshua\", \"Moses\"]\n",
    "print([name for name in boy_names if name.startswith(\"M\")])"
   ]
  },
  {
   "cell_type": "code",
   "execution_count": 19,
   "id": "2fce6eda",
   "metadata": {},
   "outputs": [],
   "source": [
    "# new string\n",
    "string_4 = 'Lovely, today is a brand new today.'"
   ]
  },
  {
   "cell_type": "code",
   "execution_count": 20,
   "id": "5738d447",
   "metadata": {},
   "outputs": [
    {
     "name": "stdout",
     "output_type": "stream",
     "text": [
      "8\n",
      "-1\n"
     ]
    }
   ],
   "source": [
    "# Search target in string\n",
    "find1_string = string_4.find('today')\n",
    "find2_string = string_4.find('today', 0, 10) # start, end\n",
    "\n",
    "print(find1_string) # result\n",
    "print(find2_string) # no result"
   ]
  },
  {
   "cell_type": "code",
   "execution_count": 21,
   "id": "3d74b59e",
   "metadata": {},
   "outputs": [
    {
     "name": "stdout",
     "output_type": "stream",
     "text": [
      "8\n"
     ]
    }
   ],
   "source": [
    "# Search target in string\n",
    "index1_string = string_4.index('today')\n",
    "print(index1_string) # result"
   ]
  },
  {
   "cell_type": "code",
   "execution_count": 22,
   "id": "bd946129",
   "metadata": {},
   "outputs": [
    {
     "name": "stdout",
     "output_type": "stream",
     "text": [
      "Not found\n"
     ]
    }
   ],
   "source": [
    "# Search target in string\n",
    "try:\n",
    "    index2_string = string_4.index('today', 0, 10) # start, end\n",
    "except ValueError:\n",
    "    print('Not found')"
   ]
  },
  {
   "cell_type": "code",
   "execution_count": 23,
   "id": "d148886c",
   "metadata": {},
   "outputs": [
    {
     "name": "stdout",
     "output_type": "stream",
     "text": [
      "2\n"
     ]
    }
   ],
   "source": [
    "# count\n",
    "count_string = string_4.count('day')\n",
    "print(count_string)"
   ]
  },
  {
   "cell_type": "code",
   "execution_count": 24,
   "id": "8f224234",
   "metadata": {},
   "outputs": [
    {
     "name": "stdout",
     "output_type": "stream",
     "text": [
      "Lovely, tomorrow is a brand new today.\n"
     ]
    }
   ],
   "source": [
    "# replace\n",
    "replace_string = string_4.replace('today', 'tomorrow', 1) # old, new, count\n",
    "print(replace_string)"
   ]
  },
  {
   "cell_type": "markdown",
   "id": "58c5eb71",
   "metadata": {},
   "source": [
    "## String formatting"
   ]
  },
  {
   "cell_type": "code",
   "execution_count": 27,
   "id": "4e79b4ca",
   "metadata": {},
   "outputs": [
    {
     "name": "stdout",
     "output_type": "stream",
     "text": [
      "Each Oreo cookie cost $1.99.\n",
      "Each Oreo cookie cost $1.99.\n",
      "Each Oreo cookie cost $1.99.\n",
      "Each Oreo cookie cost $1.99.\n"
     ]
    }
   ],
   "source": [
    "# f-string\n",
    "cookie_name = 'Oreo'\n",
    "cookie_price = '$1.99'\n",
    "\n",
    "# Method 1\n",
    "print(f\"Each {cookie_name} cookie cost {cookie_price}.\")\n",
    "\n",
    "# Method 2a\n",
    "print(\"Each {} cookie cost {}.\".format(cookie_name, cookie_price))\n",
    "\n",
    "# Method 2b\n",
    "print(\"Each {cookie_name} cookie cost {cookie_price}.\".format(cookie_name=cookie_name, cookie_price=cookie_price))\n",
    "\n",
    "# Method 2c\n",
    "print(\"Each {0} cookie cost {1}.\".format(cookie_name, cookie_price))\n",
    "#print(\"Each {0} cookie cost {1:.2f}.\".format(cookie_name, cookie_price))"
   ]
  },
  {
   "cell_type": "code",
   "execution_count": 28,
   "id": "2abfa7a9",
   "metadata": {},
   "outputs": [
    {
     "name": "stdout",
     "output_type": "stream",
     "text": [
      "Good morning. Today is October 12, 2023. It's 10:29 ... time to work!\n"
     ]
    }
   ],
   "source": [
    "# Import datetime \n",
    "from datetime import datetime\n",
    "\n",
    "# Assign date to get_date\n",
    "get_date = datetime.now()\n",
    "\n",
    "# Add named placeholders with format specifiers\n",
    "message = \"Good morning. Today is {today:%B %d, %Y}. It's {today:%H:%M} ... time to work!\"\n",
    "\n",
    "# Use the format method replacing the placeholder with get_date\n",
    "print(message.format(today=get_date))"
   ]
  },
  {
   "cell_type": "code",
   "execution_count": null,
   "id": "e1e6c402",
   "metadata": {},
   "outputs": [],
   "source": []
  },
  {
   "cell_type": "code",
   "execution_count": null,
   "id": "6245e47d",
   "metadata": {},
   "outputs": [],
   "source": []
  },
  {
   "cell_type": "code",
   "execution_count": null,
   "id": "e93f4bd0",
   "metadata": {},
   "outputs": [],
   "source": []
  }
 ],
 "metadata": {
  "kernelspec": {
   "display_name": "Python 3 (ipykernel)",
   "language": "python",
   "name": "python3"
  },
  "language_info": {
   "codemirror_mode": {
    "name": "ipython",
    "version": 3
   },
   "file_extension": ".py",
   "mimetype": "text/x-python",
   "name": "python",
   "nbconvert_exporter": "python",
   "pygments_lexer": "ipython3",
   "version": "3.10.9"
  }
 },
 "nbformat": 4,
 "nbformat_minor": 5
}
