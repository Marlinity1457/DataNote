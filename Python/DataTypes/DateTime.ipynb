{
 "cells": [
  {
   "cell_type": "code",
   "execution_count": 30,
   "id": "c053c15f",
   "metadata": {},
   "outputs": [],
   "source": [
    "from datetime import date, timedelta, datetime, timezone\n",
    "from dateutil import tz"
   ]
  },
  {
   "cell_type": "markdown",
   "id": "64ea9af2",
   "metadata": {},
   "source": [
    "## Introduction (dates)"
   ]
  },
  {
   "cell_type": "code",
   "execution_count": 3,
   "id": "b99230e0",
   "metadata": {},
   "outputs": [
    {
     "name": "stdout",
     "output_type": "stream",
     "text": [
      "[datetime.date(2016, 10, 7), datetime.date(2017, 6, 21)]\n"
     ]
    }
   ],
   "source": [
    "two_hurricanes_dates = [date(2016, 10, 7), date(2017, 6, 21)]\n",
    "print(two_hurricanes_dates)"
   ]
  },
  {
   "cell_type": "code",
   "execution_count": 4,
   "id": "f081b602",
   "metadata": {},
   "outputs": [
    {
     "name": "stdout",
     "output_type": "stream",
     "text": [
      "2016\n",
      "10\n",
      "7\n",
      "4\n"
     ]
    }
   ],
   "source": [
    "# attributes\n",
    "print(two_hurricanes_dates[0].year)\n",
    "print(two_hurricanes_dates[0].month)\n",
    "print(two_hurricanes_dates[0].day)\n",
    "print(two_hurricanes_dates[0].weekday()) # monday = 0"
   ]
  },
  {
   "cell_type": "code",
   "execution_count": 5,
   "id": "4777e658",
   "metadata": {},
   "outputs": [
    {
     "name": "stdout",
     "output_type": "stream",
     "text": [
      "257\n"
     ]
    }
   ],
   "source": [
    "delta = two_hurricanes_dates[1] - two_hurricanes_dates[0]\n",
    "print(delta.days)"
   ]
  },
  {
   "cell_type": "code",
   "execution_count": 6,
   "id": "18945917",
   "metadata": {},
   "outputs": [
    {
     "name": "stdout",
     "output_type": "stream",
     "text": [
      "257 days, 0:00:00\n"
     ]
    }
   ],
   "source": [
    "td = timedelta(days = 257)\n",
    "print(td)"
   ]
  },
  {
   "cell_type": "code",
   "execution_count": 7,
   "id": "170928eb",
   "metadata": {},
   "outputs": [
    {
     "name": "stdout",
     "output_type": "stream",
     "text": [
      "2017-06-21\n"
     ]
    }
   ],
   "source": [
    "td_added = td + two_hurricanes_dates[0]\n",
    "print(td_added)"
   ]
  },
  {
   "cell_type": "markdown",
   "id": "335f51ae",
   "metadata": {},
   "source": [
    "### Dates as a string\n",
    "\n",
    "ISO-format\n",
    "* YYYY-MM-DD"
   ]
  },
  {
   "cell_type": "raw",
   "id": "6751dc18",
   "metadata": {},
   "source": [
    "Formats\n",
    "%a\tAbbreviated weekday name.                      \n",
    "    Sun, Mon, ...\n",
    "      \n",
    "%A\tFull weekday name.                             \n",
    "    Sunday, Monday, ...\n",
    "      \n",
    "%w\tWeekday as a decimal number.                   \n",
    "    0, 1, ..., 6\n",
    "        \n",
    "%d\tDay of the month as a zero-padded decimal.     \n",
    "    01, 02, ..., 31\n",
    "        \n",
    "%-d\tDay of the month as a decimal number.\t       \n",
    "    1, 2, ..., 30\n",
    "       \n",
    "%b\tAbbreviated month name.\t                       \n",
    "    Jan, Feb, ..., Dec\n",
    "        \n",
    "%B\tFull month name.\t                           \n",
    "    January, February, ...\n",
    "        \n",
    "%m\tMonth as a zero-padded decimal number.\t       \n",
    "    01, 02, ..., 12\n",
    "      \n",
    "%-m\tMonth as a decimal number.\t                   \n",
    "    1, 2, ..., 12\n",
    "        \n",
    "%y\tYear without century as a zero-padded decimal number.\t\n",
    "    00, 01, ..., 99\n",
    "       \n",
    "%-y\tYear without century as a decimal number.\t   \n",
    "    0, 1, ..., 99\n",
    "        \n",
    "%Y\tYear with century as a decimal number.\t       \n",
    "    2013, 2019 etc. "
   ]
  },
  {
   "cell_type": "code",
   "execution_count": 13,
   "id": "129cfa00",
   "metadata": {},
   "outputs": [
    {
     "name": "stdout",
     "output_type": "stream",
     "text": [
      "[datetime.date(2017, 11, 5), datetime.date(2022, 4, 5)]\n"
     ]
    }
   ],
   "source": [
    "some_dates  = [date(2017, 11, 5) , date(2022, 4, 5) ]\n",
    "print(sorted(some_dates))"
   ]
  },
  {
   "cell_type": "code",
   "execution_count": 8,
   "id": "dc2a1eec",
   "metadata": {},
   "outputs": [
    {
     "name": "stdout",
     "output_type": "stream",
     "text": [
      "['1999-12-31', '2000-01-01']\n"
     ]
    }
   ],
   "source": [
    "# ISO-format\n",
    "some_dates  = ['2000-01-01' , '1999-12-31']\n",
    "print(sorted(some_dates))"
   ]
  },
  {
   "cell_type": "code",
   "execution_count": 9,
   "id": "f153da50",
   "metadata": {},
   "outputs": [
    {
     "name": "stdout",
     "output_type": "stream",
     "text": [
      "2017-11-05\n"
     ]
    }
   ],
   "source": [
    "d = date(2017, 11, 5) \n",
    "print(d.isoformat())"
   ]
  },
  {
   "cell_type": "code",
   "execution_count": 10,
   "id": "0a004683",
   "metadata": {},
   "outputs": [
    {
     "name": "stdout",
     "output_type": "stream",
     "text": [
      "2017\n",
      "Year is 2017\n",
      "2017/11/05\n"
     ]
    }
   ],
   "source": [
    "# Other formats\n",
    "print(d.strftime(\"%Y\"))\n",
    "print(d.strftime(\"Year is %Y\"))\n",
    "print(d.strftime(\"%Y/%m/%d\"))"
   ]
  },
  {
   "cell_type": "markdown",
   "id": "da400875",
   "metadata": {},
   "source": [
    "## Introduction (times)"
   ]
  },
  {
   "cell_type": "code",
   "execution_count": 11,
   "id": "51ba917d",
   "metadata": {},
   "outputs": [
    {
     "name": "stdout",
     "output_type": "stream",
     "text": [
      "2017-10-01 03:23:25.050000\n"
     ]
    }
   ],
   "source": [
    "# year-month-day-hour-minute-second-microseconds AM/PM)\n",
    "dt = datetime(2017, 10, 1, 3, 23, 25, 50000)\n",
    "print(dt)"
   ]
  },
  {
   "cell_type": "code",
   "execution_count": 12,
   "id": "bd010398",
   "metadata": {},
   "outputs": [
    {
     "name": "stdout",
     "output_type": "stream",
     "text": [
      "2017-10-01 03:00:00\n"
     ]
    }
   ],
   "source": [
    "dt_hr = dt.replace(minute=0, second=0, microsecond=0)\n",
    "print(dt_hr)"
   ]
  },
  {
   "cell_type": "code",
   "execution_count": 13,
   "id": "cbe28d04",
   "metadata": {},
   "outputs": [
    {
     "name": "stdout",
     "output_type": "stream",
     "text": [
      "2017-12-30 21:19:13\n"
     ]
    }
   ],
   "source": [
    "ts = 1514665153.0\n",
    "print(datetime.fromtimestamp(ts))"
   ]
  },
  {
   "cell_type": "code",
   "execution_count": 14,
   "id": "dd78d141",
   "metadata": {},
   "outputs": [
    {
     "name": "stdout",
     "output_type": "stream",
     "text": [
      "2017-10-01T03:23:25.050000\n"
     ]
    }
   ],
   "source": [
    "print(dt.isoformat())"
   ]
  },
  {
   "cell_type": "code",
   "execution_count": 15,
   "id": "bfd9e183",
   "metadata": {},
   "outputs": [
    {
     "name": "stdout",
     "output_type": "stream",
     "text": [
      "2017-10-01 03:23:25\n"
     ]
    }
   ],
   "source": [
    "print(dt.strftime(\"%Y-%m-%d %H:%M:%S\"))"
   ]
  },
  {
   "cell_type": "code",
   "execution_count": 16,
   "id": "d10a91de",
   "metadata": {},
   "outputs": [
    {
     "name": "stdout",
     "output_type": "stream",
     "text": [
      "2017-12-30 15:19:13\n"
     ]
    },
    {
     "data": {
      "text/plain": [
       "datetime.datetime"
      ]
     },
     "execution_count": 16,
     "metadata": {},
     "output_type": "execute_result"
    }
   ],
   "source": [
    "dt = datetime.strptime(\"12/30/2017 15:19:13\", \"%m/%d/%Y %H:%M:%S\") # need an exact match!\n",
    "print(dt)\n",
    "type(dt)"
   ]
  },
  {
   "cell_type": "markdown",
   "id": "144f8288",
   "metadata": {},
   "source": [
    "### TimeDelta"
   ]
  },
  {
   "cell_type": "code",
   "execution_count": 17,
   "id": "b7858c2a",
   "metadata": {},
   "outputs": [
    {
     "name": "stdout",
     "output_type": "stream",
     "text": [
      "22215775.0\n"
     ]
    }
   ],
   "source": [
    "start = datetime(2016, 10, 7, 14, 15, 16)\n",
    "end = datetime(2017, 6, 21, 17, 18, 11)\n",
    "duration = end - start\n",
    "print(duration.total_seconds())"
   ]
  },
  {
   "cell_type": "code",
   "execution_count": 18,
   "id": "92736c06",
   "metadata": {},
   "outputs": [
    {
     "name": "stdout",
     "output_type": "stream",
     "text": [
      "2016-10-07 14:16:57\n"
     ]
    }
   ],
   "source": [
    "delta1 = timedelta(seconds=101)\n",
    "print(start + delta1)"
   ]
  },
  {
   "cell_type": "code",
   "execution_count": 19,
   "id": "b200f668",
   "metadata": {},
   "outputs": [
    {
     "name": "stdout",
     "output_type": "stream",
     "text": [
      "2016-09-30 14:15:16\n"
     ]
    }
   ],
   "source": [
    "delta2 = timedelta(weeks=-1)\n",
    "print(start + delta2)"
   ]
  },
  {
   "cell_type": "markdown",
   "id": "1e815cc3",
   "metadata": {},
   "source": [
    "## UTC offsets"
   ]
  },
  {
   "cell_type": "code",
   "execution_count": 20,
   "id": "e33fab6e",
   "metadata": {},
   "outputs": [
    {
     "data": {
      "text/plain": [
       "datetime.timezone.utc"
      ]
     },
     "execution_count": 20,
     "metadata": {},
     "output_type": "execute_result"
    }
   ],
   "source": [
    "timezone.utc"
   ]
  },
  {
   "cell_type": "code",
   "execution_count": 21,
   "id": "b1480dab",
   "metadata": {},
   "outputs": [
    {
     "name": "stdout",
     "output_type": "stream",
     "text": [
      "2017-06-21 17:18:11-05:00\n"
     ]
    }
   ],
   "source": [
    "ET = timezone(timedelta(hours = -5))\n",
    "dt = datetime(2017, 6, 21, 17, 18, 11, tzinfo = ET)\n",
    "print(dt)"
   ]
  },
  {
   "cell_type": "code",
   "execution_count": 22,
   "id": "591ce01e",
   "metadata": {},
   "outputs": [
    {
     "name": "stdout",
     "output_type": "stream",
     "text": [
      "2017-06-22 03:48:11+05:30\n"
     ]
    }
   ],
   "source": [
    "IST = timezone(timedelta(hours = 5, minutes = 30)) # India Standard time zone\n",
    "print(dt.astimezone(IST)) # Convert to IST"
   ]
  },
  {
   "cell_type": "code",
   "execution_count": 28,
   "id": "7578a9a3",
   "metadata": {},
   "outputs": [
    {
     "name": "stdout",
     "output_type": "stream",
     "text": [
      "2017-06-21 17:18:11+00:00\n",
      "2017-06-21 22:18:11+00:00\n"
     ]
    }
   ],
   "source": [
    "# See the difference!\n",
    "print(dt.replace(tzinfo = timezone.utc)) # UTC offset has shifted\n",
    "print(dt.astimezone(timezone.utc)) # changed both the UTC offset and the clock itself"
   ]
  },
  {
   "attachments": {},
   "cell_type": "markdown",
   "id": "6ebebcd9",
   "metadata": {},
   "source": [
    "\n",
    "#### Time zone in practise\n",
    "\n",
    "It is to get the very exact time if you really care about it. As some countries change twice a year its time, it could be of importance."
   ]
  },
  {
   "cell_type": "code",
   "execution_count": 33,
   "id": "d9f43de0",
   "metadata": {},
   "outputs": [
    {
     "name": "stdout",
     "output_type": "stream",
     "text": [
      "tzfile('US/Eastern')\n",
      "tzfile('Europe/Amsterdam')\n"
     ]
    }
   ],
   "source": [
    "# eastern time\n",
    "et_a = tz.gettz(\"America/New_York\")\n",
    "\n",
    "# western time\n",
    "et_e = tz.gettz(\"Europe/Amsterdam\")\n",
    "\n",
    "print(et_a)\n",
    "print(et_e)"
   ]
  },
  {
   "cell_type": "code",
   "execution_count": 36,
   "id": "a7dfdd99",
   "metadata": {},
   "outputs": [
    {
     "name": "stdout",
     "output_type": "stream",
     "text": [
      "2017-10-01 15:25:23+02:00\n",
      "2017-12-30 15:09:03+01:00\n"
     ]
    }
   ],
   "source": [
    "last = datetime(2017, 12, 30, 15, 9, 3, tzinfo = et_e)\n",
    "first = datetime(2017, 10, 1, 15, 25, 23, tzinfo = et_e)\n",
    "print(first)\n",
    "print(last)"
   ]
  },
  {
   "attachments": {},
   "cell_type": "markdown",
   "id": "bbe3a9b4",
   "metadata": {},
   "source": [
    "##### Summertime (spring)"
   ]
  },
  {
   "cell_type": "code",
   "execution_count": 40,
   "id": "580d8655",
   "metadata": {},
   "outputs": [
    {
     "name": "stdout",
     "output_type": "stream",
     "text": [
      "2017-03-12 01:59:59\n",
      "2017-03-12 03:00:00\n"
     ]
    },
    {
     "data": {
      "text/plain": [
       "3601.0"
      ]
     },
     "execution_count": 40,
     "metadata": {},
     "output_type": "execute_result"
    }
   ],
   "source": [
    "# datetime object\n",
    "spring_ahead_159am = datetime(2017, 3, 12, 1, 59, 59)\n",
    "spring_ahead_159am.isoformat()\n",
    "print(spring_ahead_159am)\n",
    "\n",
    "spring_ahead_3am = datetime(2017, 3, 12, 3, 0, 0)\n",
    "spring_ahead_3am.isoformat()\n",
    "print(spring_ahead_3am)\n",
    "\n",
    "# How much time has elapsed?\n",
    "(spring_ahead_3am - spring_ahead_159am).total_seconds() # 1 hour + 1 second has elapsed"
   ]
  },
  {
   "cell_type": "code",
   "execution_count": 45,
   "id": "8f3d99dc",
   "metadata": {},
   "outputs": [
    {
     "name": "stdout",
     "output_type": "stream",
     "text": [
      "2017-03-12 01:59:59-05:00\n",
      "2017-03-12 03:00:00-04:00\n"
     ]
    },
    {
     "data": {
      "text/plain": [
       "1.0"
      ]
     },
     "execution_count": 45,
     "metadata": {},
     "output_type": "execute_result"
    }
   ],
   "source": [
    "# timezone object\n",
    "EST = timezone(timedelta(hours=-5))\n",
    "EDT = timezone(timedelta(hours=-4))\n",
    "\n",
    "# datetime object\n",
    "spring_ahead_159am = spring_ahead_159am.replace(tzinfo = EST)\n",
    "spring_ahead_159am.isoformat()\n",
    "print(spring_ahead_159am)\n",
    "\n",
    "spring_ahead_3am = spring_ahead_3am.replace(tzinfo = EDT)\n",
    "spring_ahead_3am.isoformat()\n",
    "print(spring_ahead_3am)\n",
    "\n",
    "# How much time has elapsed?\n",
    "(spring_ahead_3am - spring_ahead_159am).total_seconds() # only 1 second has elapsed"
   ]
  },
  {
   "cell_type": "code",
   "execution_count": 51,
   "id": "ffc712e5",
   "metadata": {},
   "outputs": [
    {
     "data": {
      "text/plain": [
       "3601.0"
      ]
     },
     "execution_count": 51,
     "metadata": {},
     "output_type": "execute_result"
    }
   ],
   "source": [
    "# create timezone \n",
    "eastern = tz.gettz(\"Europe/New_York\")\n",
    "\n",
    "# eastern Time (EST)\n",
    "spring_ahead_159am = datetime(2017, 3, 12, 1, 59, 59, tzinfo = eastern)\n",
    "\n",
    "# eastern Time (EDT)\n",
    "spring_ahead_3am = datetime(2017, 3, 12, 3, 0, 0, tzinfo = eastern)\n",
    "\n",
    "(spring_ahead_3am - spring_ahead_159am).total_seconds() "
   ]
  },
  {
   "attachments": {},
   "cell_type": "markdown",
   "id": "5267c6b8",
   "metadata": {},
   "source": [
    "##### Wintertime (autumn)"
   ]
  },
  {
   "cell_type": "code",
   "execution_count": 62,
   "id": "20a090d6",
   "metadata": {},
   "outputs": [
    {
     "name": "stdout",
     "output_type": "stream",
     "text": [
      "0.0\n",
      "0.0\n"
     ]
    }
   ],
   "source": [
    "# create timezone \n",
    "eastern = tz.gettz(\"US/Eastern\")\n",
    "\n",
    "# datetime object\n",
    "first_1am = datetime(2017, 11, 5, 1, 0, 0)\n",
    "second_1am = datetime(2017, 11, 5, 1, 0, 0)\n",
    "second_1am = tz.enfold(second_1am) # this datetime belongs to the 2nd time\n",
    "\n",
    "# is ambigious?\n",
    "# tz.datetime_ambiguous(first_1am)\n",
    "\n",
    "# no difference yet\n",
    "print((first_1am - second_1am).total_seconds())\n",
    "\n",
    "# Convert UTC\n",
    "first_1am = first_1am.astimezone(tz.UTC)\n",
    "second_1am = second_1am.astimezone(tz.UTC)\n",
    "\n",
    "# Time stamps stands an hour apart\n",
    "print((first_1am - second_1am).total_seconds())\n",
    "\n"
   ]
  },
  {
   "attachments": {},
   "cell_type": "markdown",
   "id": "40361660",
   "metadata": {},
   "source": [
    "### Date and time in Pandas"
   ]
  },
  {
   "cell_type": "code",
   "execution_count": 63,
   "id": "2bbf7a6a",
   "metadata": {},
   "outputs": [
    {
     "ename": "ModuleNotFoundError",
     "evalue": "No module named 'pandas'",
     "output_type": "error",
     "traceback": [
      "\u001b[1;31m---------------------------------------------------------------------------\u001b[0m",
      "\u001b[1;31mModuleNotFoundError\u001b[0m                       Traceback (most recent call last)",
      "Cell \u001b[1;32mIn[63], line 1\u001b[0m\n\u001b[1;32m----> 1\u001b[0m \u001b[39mimport\u001b[39;00m \u001b[39mpandas\u001b[39;00m \u001b[39mas\u001b[39;00m \u001b[39mpd\u001b[39;00m\n",
      "\u001b[1;31mModuleNotFoundError\u001b[0m: No module named 'pandas'"
     ]
    }
   ],
   "source": [
    "import pandas as pd"
   ]
  },
  {
   "cell_type": "code",
   "execution_count": null,
   "id": "5740bd85",
   "metadata": {},
   "outputs": [],
   "source": [
    "# options to import date columns in pandas\n",
    "df = pd.read_csv('file.csv', parse_dates = ['date_column1', 'date_column2'])\n",
    "df['date_column1'] = pd.to_datetime(df['date_column1'], format = \"%Y-%m-%d %H:%M:%S\")\n",
    "\n",
    "# duration\n",
    "df['duration'] = (df['date_column1'] - df['date_column2']).dt.total_seconds()"
   ]
  },
  {
   "cell_type": "code",
   "execution_count": null,
   "id": "a6afe623",
   "metadata": {},
   "outputs": [],
   "source": [
    "# some calculations with time columns\n",
    "df['duration'].sum() / timedelta(days=91)\n",
    "\n",
    "# other calculations in pandas\n",
    "df['value_column'].value_counts() \n",
    "\n",
    "# together\n",
    "df.groupby('value_column')['duration'].mean()\n",
    "df.groupby('value_column').size()\n",
    "df.groupby('value_column').first()\n",
    "\n",
    "# Group by time\n",
    "df.resample('M', on = 'date_column1')['duration'].mean() # M = month\n",
    "\n",
    "# plot group-by-time\n",
    "df.resample('D', on = 'date_column1')['duration'].mean().plot() "
   ]
  },
  {
   "cell_type": "code",
   "execution_count": null,
   "id": "3679a3bc",
   "metadata": {},
   "outputs": [],
   "source": [
    "# How to deal with timezones\n",
    "df['date_colmn1'] = df['date_colmn1'].dt.tz_localize('America/New_York', ambiguous = 'NaT')"
   ]
  },
  {
   "cell_type": "code",
   "execution_count": null,
   "id": "5ae71cac",
   "metadata": {},
   "outputs": [],
   "source": [
    "# select year, month, day, etc\n",
    "df['date_col'].dt.year\n",
    "df['date_col'].dt.month\n",
    "df['date_col'].dt.day\n",
    "df['date_col'].dt.weekday\n",
    "df['date_col'].dt.day_name()\n"
   ]
  },
  {
   "cell_type": "code",
   "execution_count": null,
   "id": "1cb766ac",
   "metadata": {},
   "outputs": [],
   "source": [
    "# Line up times by shift \n",
    "df['date_col'].shift(1)"
   ]
  }
 ],
 "metadata": {
  "kernelspec": {
   "display_name": "Python 3 (ipykernel)",
   "language": "python",
   "name": "python3"
  },
  "language_info": {
   "codemirror_mode": {
    "name": "ipython",
    "version": 3
   },
   "file_extension": ".py",
   "mimetype": "text/x-python",
   "name": "python",
   "nbconvert_exporter": "python",
   "pygments_lexer": "ipython3",
   "version": "3.10.11"
  }
 },
 "nbformat": 4,
 "nbformat_minor": 5
}
