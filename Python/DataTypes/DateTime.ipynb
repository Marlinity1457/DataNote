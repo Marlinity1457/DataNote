{
 "cells": [
  {
   "cell_type": "code",
   "execution_count": 41,
   "id": "c053c15f",
   "metadata": {},
   "outputs": [],
   "source": [
    "from datetime import date, timedelta, datetime, timezone"
   ]
  },
  {
   "cell_type": "markdown",
   "id": "64ea9af2",
   "metadata": {},
   "source": [
    "## Introduction (dates)"
   ]
  },
  {
   "cell_type": "code",
   "execution_count": 3,
   "id": "b99230e0",
   "metadata": {},
   "outputs": [
    {
     "name": "stdout",
     "output_type": "stream",
     "text": [
      "[datetime.date(2016, 10, 7), datetime.date(2017, 6, 21)]\n"
     ]
    }
   ],
   "source": [
    "two_hurricanes_dates = [date(2016, 10, 7), date(2017, 6, 21)]\n",
    "print(two_hurricanes_dates)"
   ]
  },
  {
   "cell_type": "code",
   "execution_count": 4,
   "id": "f081b602",
   "metadata": {},
   "outputs": [
    {
     "name": "stdout",
     "output_type": "stream",
     "text": [
      "2016\n",
      "10\n",
      "7\n",
      "4\n"
     ]
    }
   ],
   "source": [
    "# attributes\n",
    "print(two_hurricanes_dates[0].year)\n",
    "print(two_hurricanes_dates[0].month)\n",
    "print(two_hurricanes_dates[0].day)\n",
    "print(two_hurricanes_dates[0].weekday()) # monday = 0"
   ]
  },
  {
   "cell_type": "code",
   "execution_count": 5,
   "id": "4777e658",
   "metadata": {},
   "outputs": [
    {
     "name": "stdout",
     "output_type": "stream",
     "text": [
      "257\n"
     ]
    }
   ],
   "source": [
    "delta = two_hurricanes_dates[1] - two_hurricanes_dates[0]\n",
    "print(delta.days)"
   ]
  },
  {
   "cell_type": "code",
   "execution_count": 9,
   "id": "18945917",
   "metadata": {},
   "outputs": [
    {
     "name": "stdout",
     "output_type": "stream",
     "text": [
      "257 days, 0:00:00\n"
     ]
    }
   ],
   "source": [
    "td = timedelta(days = 257)\n",
    "print(td)"
   ]
  },
  {
   "cell_type": "code",
   "execution_count": 11,
   "id": "170928eb",
   "metadata": {},
   "outputs": [
    {
     "name": "stdout",
     "output_type": "stream",
     "text": [
      "2017-06-21\n"
     ]
    }
   ],
   "source": [
    "td_added = td + two_hurricanes_dates[0]\n",
    "print(td_added)"
   ]
  },
  {
   "cell_type": "markdown",
   "id": "335f51ae",
   "metadata": {},
   "source": [
    "### Dates as a string\n",
    "\n",
    "ISO-format\n",
    "* YYYY-MM-DD"
   ]
  },
  {
   "cell_type": "raw",
   "id": "6751dc18",
   "metadata": {},
   "source": [
    "Formats\n",
    "%a\tAbbreviated weekday name.                      \n",
    "    Sun, Mon, ...\n",
    "      \n",
    "%A\tFull weekday name.                             \n",
    "    Sunday, Monday, ...\n",
    "      \n",
    "%w\tWeekday as a decimal number.                   \n",
    "    0, 1, ..., 6\n",
    "        \n",
    "%d\tDay of the month as a zero-padded decimal.     \n",
    "    01, 02, ..., 31\n",
    "        \n",
    "%-d\tDay of the month as a decimal number.\t       \n",
    "    1, 2, ..., 30\n",
    "       \n",
    "%b\tAbbreviated month name.\t                       \n",
    "    Jan, Feb, ..., Dec\n",
    "        \n",
    "%B\tFull month name.\t                           \n",
    "    January, February, ...\n",
    "        \n",
    "%m\tMonth as a zero-padded decimal number.\t       \n",
    "    01, 02, ..., 12\n",
    "      \n",
    "%-m\tMonth as a decimal number.\t                   \n",
    "    1, 2, ..., 12\n",
    "        \n",
    "%y\tYear without century as a zero-padded decimal number.\t\n",
    "    00, 01, ..., 99\n",
    "       \n",
    "%-y\tYear without century as a decimal number.\t   \n",
    "    0, 1, ..., 99\n",
    "        \n",
    "%Y\tYear with century as a decimal number.\t       \n",
    "    2013, 2019 etc. "
   ]
  },
  {
   "cell_type": "code",
   "execution_count": 13,
   "id": "129cfa00",
   "metadata": {},
   "outputs": [
    {
     "name": "stdout",
     "output_type": "stream",
     "text": [
      "[datetime.date(2017, 11, 5), datetime.date(2022, 4, 5)]\n"
     ]
    }
   ],
   "source": [
    "some_dates  = [date(2017, 11, 5) , date(2022, 4, 5) ]\n",
    "print(sorted(some_dates))"
   ]
  },
  {
   "cell_type": "code",
   "execution_count": 15,
   "id": "dc2a1eec",
   "metadata": {},
   "outputs": [
    {
     "name": "stdout",
     "output_type": "stream",
     "text": [
      "['1999-12-31', '2000-01-01']\n"
     ]
    }
   ],
   "source": [
    "# ISO-format\n",
    "some_dates  = ['2000-01-01' , '1999-12-31']\n",
    "print(sorted(some_dates))"
   ]
  },
  {
   "cell_type": "code",
   "execution_count": 12,
   "id": "f153da50",
   "metadata": {},
   "outputs": [
    {
     "name": "stdout",
     "output_type": "stream",
     "text": [
      "2017-11-05\n"
     ]
    }
   ],
   "source": [
    "d = date(2017, 11, 5) \n",
    "print(d.isoformat())"
   ]
  },
  {
   "cell_type": "code",
   "execution_count": 18,
   "id": "0a004683",
   "metadata": {},
   "outputs": [
    {
     "name": "stdout",
     "output_type": "stream",
     "text": [
      "2017\n",
      "Year is 2017\n",
      "2017/11/05\n"
     ]
    }
   ],
   "source": [
    "# Other formats\n",
    "print(d.strftime(\"%Y\"))\n",
    "print(d.strftime(\"Year is %Y\"))\n",
    "print(d.strftime(\"%Y/%m/%d\"))"
   ]
  },
  {
   "cell_type": "markdown",
   "id": "da400875",
   "metadata": {},
   "source": [
    "## Introduction (times)"
   ]
  },
  {
   "cell_type": "code",
   "execution_count": 21,
   "id": "51ba917d",
   "metadata": {},
   "outputs": [
    {
     "name": "stdout",
     "output_type": "stream",
     "text": [
      "2017-10-01 03:23:25.050000\n"
     ]
    }
   ],
   "source": [
    "# year-month-day-hour-minute-second-microseconds AM/PM)\n",
    "dt = datetime(2017, 10, 1, 3, 23, 25, 50000)\n",
    "print(dt)"
   ]
  },
  {
   "cell_type": "code",
   "execution_count": 23,
   "id": "bd010398",
   "metadata": {},
   "outputs": [
    {
     "name": "stdout",
     "output_type": "stream",
     "text": [
      "2017-10-01 03:00:00\n"
     ]
    }
   ],
   "source": [
    "dt_hr = dt.replace(minute=0, second=0, microsecond=0)\n",
    "print(dt_hr)"
   ]
  },
  {
   "cell_type": "code",
   "execution_count": 30,
   "id": "cbe28d04",
   "metadata": {},
   "outputs": [
    {
     "name": "stdout",
     "output_type": "stream",
     "text": [
      "2017-12-30 21:19:13\n"
     ]
    }
   ],
   "source": [
    "ts = 1514665153.0\n",
    "print(datetime.fromtimestamp(ts))"
   ]
  },
  {
   "cell_type": "code",
   "execution_count": 25,
   "id": "dd78d141",
   "metadata": {},
   "outputs": [
    {
     "name": "stdout",
     "output_type": "stream",
     "text": [
      "2017-10-01T03:23:25.050000\n"
     ]
    }
   ],
   "source": [
    "print(dt.isoformat())"
   ]
  },
  {
   "cell_type": "code",
   "execution_count": 24,
   "id": "bfd9e183",
   "metadata": {},
   "outputs": [
    {
     "name": "stdout",
     "output_type": "stream",
     "text": [
      "2017-10-01 03:23:25\n"
     ]
    }
   ],
   "source": [
    "print(dt.strftime(\"%Y-%m-%d %H:%M:%S\"))"
   ]
  },
  {
   "cell_type": "code",
   "execution_count": 29,
   "id": "d10a91de",
   "metadata": {},
   "outputs": [
    {
     "name": "stdout",
     "output_type": "stream",
     "text": [
      "2017-12-30 15:19:13\n"
     ]
    },
    {
     "data": {
      "text/plain": [
       "datetime.datetime"
      ]
     },
     "execution_count": 29,
     "metadata": {},
     "output_type": "execute_result"
    }
   ],
   "source": [
    "dt = datetime.strptime(\"12/30/2017 15:19:13\", \"%m/%d/%Y %H:%M:%S\") # need an exact match!\n",
    "print(dt)\n",
    "type(dt)"
   ]
  },
  {
   "cell_type": "markdown",
   "id": "144f8288",
   "metadata": {},
   "source": [
    "### TimeDelta"
   ]
  },
  {
   "cell_type": "code",
   "execution_count": 35,
   "id": "b7858c2a",
   "metadata": {},
   "outputs": [
    {
     "name": "stdout",
     "output_type": "stream",
     "text": [
      "22215775.0\n"
     ]
    }
   ],
   "source": [
    "start = datetime(2016, 10, 7, 14, 15, 16)\n",
    "end = datetime(2017, 6, 21, 17, 18, 11)\n",
    "duration = end - start\n",
    "print(duration.total_seconds())"
   ]
  },
  {
   "cell_type": "code",
   "execution_count": 38,
   "id": "92736c06",
   "metadata": {},
   "outputs": [
    {
     "name": "stdout",
     "output_type": "stream",
     "text": [
      "2016-10-07 14:16:57\n"
     ]
    }
   ],
   "source": [
    "delta1 = timedelta(seconds=101)\n",
    "print(start + delta1)"
   ]
  },
  {
   "cell_type": "code",
   "execution_count": 40,
   "id": "b200f668",
   "metadata": {},
   "outputs": [
    {
     "name": "stdout",
     "output_type": "stream",
     "text": [
      "2016-09-30 14:15:16\n"
     ]
    }
   ],
   "source": [
    "delta2 = timedelta(weeks=-1)\n",
    "print(start + delta2)"
   ]
  },
  {
   "cell_type": "markdown",
   "id": "1e815cc3",
   "metadata": {},
   "source": [
    "## UTC offsets"
   ]
  },
  {
   "cell_type": "code",
   "execution_count": 50,
   "id": "e33fab6e",
   "metadata": {},
   "outputs": [
    {
     "data": {
      "text/plain": [
       "datetime.timezone.utc"
      ]
     },
     "execution_count": 50,
     "metadata": {},
     "output_type": "execute_result"
    }
   ],
   "source": [
    "timezone.utc"
   ]
  },
  {
   "cell_type": "code",
   "execution_count": 46,
   "id": "b1480dab",
   "metadata": {},
   "outputs": [
    {
     "name": "stdout",
     "output_type": "stream",
     "text": [
      "2017-06-21 17:18:11-05:00\n"
     ]
    }
   ],
   "source": [
    "ET = timezone(timedelta(hours = -5))\n",
    "dt = datetime(2017, 6, 21, 17, 18, 11, tzinfo = ET)\n",
    "print(dt)"
   ]
  },
  {
   "cell_type": "code",
   "execution_count": 48,
   "id": "591ce01e",
   "metadata": {},
   "outputs": [
    {
     "name": "stdout",
     "output_type": "stream",
     "text": [
      "2017-06-22 03:48:11+05:30\n"
     ]
    }
   ],
   "source": [
    "IST = timezone(timedelta(hours = 5, minutes = 30)) # India Standard time zone\n",
    "print(dt.astimezone(IST)) # Convert to IST"
   ]
  },
  {
   "cell_type": "code",
   "execution_count": 49,
   "id": "7578a9a3",
   "metadata": {},
   "outputs": [
    {
     "name": "stdout",
     "output_type": "stream",
     "text": [
      "2017-06-21 17:18:11+00:00\n",
      "2017-06-21 22:18:11+00:00\n"
     ]
    }
   ],
   "source": [
    "print(dt.replace(tzinfo = timezone.utc)) # UTC offset has shifted\n",
    "print(dt.astimezone(timezone.utc)) # changed both the UTC offset and the clock itself"
   ]
  },
  {
   "cell_type": "code",
   "execution_count": null,
   "id": "21b68702",
   "metadata": {},
   "outputs": [],
   "source": []
  }
 ],
 "metadata": {
  "kernelspec": {
   "display_name": "Python 3 (ipykernel)",
   "language": "python",
   "name": "python3"
  },
  "language_info": {
   "codemirror_mode": {
    "name": "ipython",
    "version": 3
   },
   "file_extension": ".py",
   "mimetype": "text/x-python",
   "name": "python",
   "nbconvert_exporter": "python",
   "pygments_lexer": "ipython3",
   "version": "3.10.9"
  }
 },
 "nbformat": 4,
 "nbformat_minor": 5
}
