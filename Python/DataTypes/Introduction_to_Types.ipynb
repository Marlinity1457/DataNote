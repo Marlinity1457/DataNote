{
 "cells": [
  {
   "cell_type": "code",
   "execution_count": null,
   "id": "48505eaa-baae-465e-ab03-3fc1d9078f0e",
   "metadata": {},
   "outputs": [],
   "source": []
  },
  {
   "cell_type": "markdown",
   "id": "20fedbe6-c60f-467f-b82d-32f54f555c70",
   "metadata": {},
   "source": [
    "# Title"
   ]
  },
  {
   "cell_type": "markdown",
   "id": "55e98215-4be3-4fb9-9c6a-e1e23f9fef9e",
   "metadata": {},
   "source": [
    "## 1. Lists"
   ]
  },
  {
   "cell_type": "code",
   "execution_count": 47,
   "id": "5236d16d-7b68-4e29-9fc5-1e2f39dc799f",
   "metadata": {},
   "outputs": [],
   "source": [
    "# Hold data\n",
    "fruit = ['apple', 'orange', 'pear']\n",
    "vegatables = ['brocoli', 'beans', 'carrot']"
   ]
  },
  {
   "cell_type": "code",
   "execution_count": 48,
   "id": "178d7240-a313-43e6-b480-7f0c676d5c9f",
   "metadata": {},
   "outputs": [
    {
     "name": "stdout",
     "output_type": "stream",
     "text": [
      "['apple', 'orange', 'pear', 'brocoli', 'beans', 'carrot']\n"
     ]
    }
   ],
   "source": [
    "# Combining lists\n",
    "healty_food = fruit  + vegatables\n",
    "print(healty_food)"
   ]
  },
  {
   "cell_type": "code",
   "execution_count": 49,
   "id": "62049b18-f696-4a00-b4e9-38e0b8f4ecc7",
   "metadata": {},
   "outputs": [
    {
     "name": "stdout",
     "output_type": "stream",
     "text": [
      "['apple', 'orange', 'pear']\n"
     ]
    }
   ],
   "source": [
    "print(fruit)"
   ]
  },
  {
   "cell_type": "code",
   "execution_count": 50,
   "id": "fea0020f-0b05-4e58-b028-0048b17272bb",
   "metadata": {},
   "outputs": [
    {
     "name": "stdout",
     "output_type": "stream",
     "text": [
      "pear\n"
     ]
    }
   ],
   "source": [
    "# Index\n",
    "print(fruit[2])"
   ]
  },
  {
   "cell_type": "code",
   "execution_count": 53,
   "id": "9b9d9c71-b897-46f2-9129-b0123b8cefec",
   "metadata": {},
   "outputs": [],
   "source": [
    "# Mutable (append)\n",
    "fruit.append('lemon') # lemon is a string"
   ]
  },
  {
   "cell_type": "code",
   "execution_count": 52,
   "id": "56749e29-a356-4e8f-b77f-e3cbc1d523c6",
   "metadata": {},
   "outputs": [
    {
     "name": "stdout",
     "output_type": "stream",
     "text": [
      "['apple', 'orange', 'pear', 'lemon', 'brocoli', 'beans', 'carrot']\n"
     ]
    }
   ],
   "source": [
    "# Mutable (extend list)\n",
    "fruit.extend(vegatables) # vegatables is a list\n",
    "print(fruit)"
   ]
  },
  {
   "cell_type": "code",
   "execution_count": 41,
   "id": "c04c4c1e-eafc-415c-bb2a-ebfdcff3aa42",
   "metadata": {},
   "outputs": [
    {
     "name": "stdout",
     "output_type": "stream",
     "text": [
      "beans\n",
      "['apple', 'orange', 'pear', 'lemon', 'brocoli', 'beans', 'carrot']\n"
     ]
    }
   ],
   "source": [
    "# Remove\n",
    "less_healthy = fruit.pop(-2)\n",
    "print(less_healthy)\n",
    "print(healty_food)"
   ]
  },
  {
   "cell_type": "code",
   "execution_count": 42,
   "id": "6ff0470e-51a0-4727-821e-eb3e26f044b6",
   "metadata": {},
   "outputs": [
    {
     "name": "stdout",
     "output_type": "stream",
     "text": [
      "['Apple', 'Orange', 'Pear', 'Lemon', 'Brocoli', 'Beans', 'Carrot']\n"
     ]
    }
   ],
   "source": [
    "# Iterating\n",
    "names_of_healthy_food = [healthy.title() for healthy in healty_food]\n",
    "print(names_of_healthy_food)"
   ]
  },
  {
   "cell_type": "code",
   "execution_count": 43,
   "id": "d55680f2-7b61-4c78-b2c5-e3c000326add",
   "metadata": {},
   "outputs": [
    {
     "name": "stdout",
     "output_type": "stream",
     "text": [
      "['apple', 'brocoli', 'carrot', 'lemon', 'orange', 'pear']\n"
     ]
    }
   ],
   "source": [
    "# Sorting\n",
    "sorted_fruit = sorted(fruit)\n",
    "print(sorted_fruit)"
   ]
  },
  {
   "cell_type": "markdown",
   "id": "ada887b6",
   "metadata": {},
   "source": [
    "## 2. Tuples\n",
    "* Hold data in order\n",
    "* Use index\n",
    "* More memory efficient than lists\n",
    "* Immutable\n",
    "* Pairing\n",
    "* Unpacking/expension"
   ]
  },
  {
   "cell_type": "code",
   "execution_count": 6,
   "id": "f9bfa9fe",
   "metadata": {},
   "outputs": [
    {
     "name": "stdout",
     "output_type": "stream",
     "text": [
      "[('Chocolate Chip', 'Punjabi'), ('Brownies', 'Fruite Cake Rusk'), ('Oreos', 'Marble Cookies')]\n"
     ]
    }
   ],
   "source": [
    "# (pre-work to make example) List combinations\n",
    "us_cookies = ['Chocolate Chip', 'Brownies', 'Oreos']\n",
    "in_cookies = ['Punjabi', 'Fruite Cake Rusk', 'Marble Cookies']\n",
    "top_pairs = list(zip(us_cookies, in_cookies))\n",
    "print(top_pairs)"
   ]
  },
  {
   "cell_type": "code",
   "execution_count": 7,
   "id": "9a4e533a",
   "metadata": {},
   "outputs": [
    {
     "name": "stdout",
     "output_type": "stream",
     "text": [
      "Punjabi\n"
     ]
    }
   ],
   "source": [
    "# Unpacking\n",
    "us_num1 , in_num1 = top_pairs[0]\n",
    "print(in_num1)"
   ]
  },
  {
   "cell_type": "code",
   "execution_count": 8,
   "id": "e2c2a161",
   "metadata": {},
   "outputs": [
    {
     "name": "stdout",
     "output_type": "stream",
     "text": [
      "Punjabi\n",
      "Chocolate Chip\n",
      "Fruite Cake Rusk\n",
      "Brownies\n",
      "Marble Cookies\n",
      "Oreos\n"
     ]
    }
   ],
   "source": [
    "# Unpacking in loops\n",
    "for us_cookie, in_cookie in top_pairs:\n",
    "    # print value in order\n",
    "    print(in_cookie)\n",
    "    print(us_cookie)"
   ]
  },
  {
   "cell_type": "code",
   "execution_count": 9,
   "id": "060f0aca",
   "metadata": {},
   "outputs": [
    {
     "name": "stdout",
     "output_type": "stream",
     "text": [
      "0 Chocolate Chip Punjabi\n",
      "1 Brownies Fruite Cake Rusk\n",
      "2 Oreos Marble Cookies\n"
     ]
    }
   ],
   "source": [
    "# Enumarating positions\n",
    "for idx, item in enumerate(top_pairs):\n",
    "    us_cookie, in_cookie = item\n",
    "    print(idx, us_cookie, in_cookie)"
   ]
  },
  {
   "cell_type": "markdown",
   "id": "3864e3a9",
   "metadata": {},
   "source": [
    "#### Namedtuple\n",
    "Working with named tuples `namedtuple`. \n",
    "\n",
    "Leveraging namedtuples provide for each field as an attribute of namedtuple."
   ]
  },
  {
   "cell_type": "code",
   "execution_count": null,
   "id": "2f700a67",
   "metadata": {},
   "outputs": [],
   "source": [
    "# Example without data\n",
    "\n",
    "from collections import namedtuple\n",
    "\n",
    "Eatery = namedtuple('Eatery', ['name', 'location', 'park_id', 'type_name'])\n",
    "eateries = []\n",
    "\n",
    "for eatery in nyc_eateries:\n",
    "    details = Eatery(eatery['name'], eatery['location'], eatery['park_id'], eatery['type_name'] )\n",
    "    eateries.append(details) \n",
    "    \n",
    "print(eateries[0])\n",
    "\n",
    "for eatery in eateries[:3]:\n",
    "    print(eatery.name)\n",
    "    print(eatery.park_id)\n",
    "    print(eatery.location)"
   ]
  },
  {
   "cell_type": "code",
   "execution_count": 52,
   "id": "8e84d17d",
   "metadata": {},
   "outputs": [
    {
     "name": "stdout",
     "output_type": "stream",
     "text": [
      "[SpeciesDetails(species='Gentoo', sex='MALE', body_mass=5500.0), SpeciesDetails(species='Chinstrap', sex='MALE', body_mass=4300.0), SpeciesDetails(species='Adlie', sex='MALE', body_mass=3800.0), SpeciesDetails(species='Gentoo', sex='MALE', body_mass=5800.0), SpeciesDetails(species='Chinstrap', sex='MALE', body_mass=4100.0)]\n"
     ]
    }
   ],
   "source": [
    "weight_log = [('Gentoo', 'MALE', 5500.0),\n",
    " ('Chinstrap', 'MALE', 4300.0),\n",
    " ('Adlie', 'MALE', 3800.0),\n",
    " ('Gentoo', 'MALE', 5800.0),\n",
    " ('Chinstrap', 'MALE', 4100.0),\n",
    " ('Adlie', 'MALE', 3975.0),\n",
    " ('Gentoo', 'MALE', 5400.0),\n",
    " ('Chinstrap', 'MALE', 4800.0),\n",
    " ('Chinstrap', 'FEMALE', 3800.0),\n",
    " ('Adlie', 'FEMALE', 3450.0)]\n",
    "\n",
    "# Import namedtuple from collections\n",
    "from collections import namedtuple\n",
    "\n",
    "# Create the namedtuple: SpeciesDetails\n",
    "SpeciesDetails = namedtuple('SpeciesDetails', ['species', 'sex', 'body_mass'])\n",
    "\n",
    "# Create the empty list: labeled_entries\n",
    "labeled_entries = []\n",
    "\n",
    "# Iterate over the weight_log entries\n",
    "for species, sex, body_mass in weight_log:\n",
    "    # Create a new instance of SpeciesDetails namedtuple for each entry\n",
    "    species_details = SpeciesDetails(species, sex, body_mass)\n",
    "    # Append the new instance to labeled_entries\n",
    "    labeled_entries.append(species_details)\n",
    "    \n",
    "print(labeled_entries[:5])"
   ]
  },
  {
   "cell_type": "code",
   "execution_count": 53,
   "id": "d4e1751c",
   "metadata": {},
   "outputs": [
    {
     "name": "stdout",
     "output_type": "stream",
     "text": [
      "MALE:4300.0\n",
      "MALE:4100.0\n",
      "MALE:4800.0\n",
      "FEMALE:3800.0\n"
     ]
    }
   ],
   "source": [
    "# Iterate over the first twenty entries in labeled_entries\n",
    "for entry in labeled_entries[:20]:\n",
    "    # if the entry's species is Chinstrap\n",
    "    if entry.species == 'Chinstrap':\n",
    "      # Print each entry's sex and body_mass seperated by a colon\n",
    "      print(f'{entry.sex}:{entry.body_mass}')"
   ]
  },
  {
   "cell_type": "markdown",
   "id": "549da137",
   "metadata": {},
   "source": [
    "## 3. Strings\n"
   ]
  },
  {
   "cell_type": "markdown",
   "id": "d5cab951",
   "metadata": {},
   "source": [
    "#### Basics"
   ]
  },
  {
   "cell_type": "code",
   "execution_count": 23,
   "id": "4eeb7087",
   "metadata": {},
   "outputs": [
    {
     "data": {
      "text/plain": [
       "True"
      ]
     },
     "execution_count": 23,
     "metadata": {},
     "output_type": "execute_result"
    }
   ],
   "source": [
    "# Seaching for things in strings (Case sensitive!)\n",
    "\"long\" in \"Life is a long lession in humility.\""
   ]
  },
  {
   "cell_type": "code",
   "execution_count": 24,
   "id": "0a6c652e",
   "metadata": {},
   "outputs": [
    {
     "data": {
      "text/plain": [
       "True"
      ]
     },
     "execution_count": 24,
     "metadata": {},
     "output_type": "execute_result"
    }
   ],
   "source": [
    "\"life\" in \"Life is a long lession in humility.\".lower()"
   ]
  },
  {
   "cell_type": "code",
   "execution_count": 1,
   "id": "b3607e0a",
   "metadata": {},
   "outputs": [],
   "source": [
    "string = \"This is a NiCe StriNg. This is a much NiCer StriNg. But this is The MoSt NicEst StriNg!\""
   ]
  },
  {
   "cell_type": "code",
   "execution_count": 2,
   "id": "5af1fe87",
   "metadata": {},
   "outputs": [
    {
     "data": {
      "text/plain": [
       "'this is a nice string. this is a much nicer string. but this is the most nicest string!'"
      ]
     },
     "execution_count": 2,
     "metadata": {},
     "output_type": "execute_result"
    }
   ],
   "source": [
    "string.lower()"
   ]
  },
  {
   "cell_type": "code",
   "execution_count": 3,
   "id": "a379c074",
   "metadata": {},
   "outputs": [
    {
     "data": {
      "text/plain": [
       "'THIS IS A NICE STRING. THIS IS A MUCH NICER STRING. BUT THIS IS THE MOST NICEST STRING!'"
      ]
     },
     "execution_count": 3,
     "metadata": {},
     "output_type": "execute_result"
    }
   ],
   "source": [
    "string.upper()"
   ]
  },
  {
   "cell_type": "code",
   "execution_count": 4,
   "id": "f7bd3706",
   "metadata": {},
   "outputs": [
    {
     "data": {
      "text/plain": [
       "'This is a nice string. this is a much nicer string. but this is the most nicest string!'"
      ]
     },
     "execution_count": 4,
     "metadata": {},
     "output_type": "execute_result"
    }
   ],
   "source": [
    "string.capitalize()"
   ]
  },
  {
   "cell_type": "markdown",
   "id": "8ffc4643",
   "metadata": {},
   "source": [
    "#### Separate lines"
   ]
  },
  {
   "cell_type": "code",
   "execution_count": 21,
   "id": "447c583c",
   "metadata": {},
   "outputs": [
    {
     "data": {
      "text/plain": [
       "['This',\n",
       " 'is',\n",
       " 'a',\n",
       " 'NiCe',\n",
       " 'StriNg.',\n",
       " 'This',\n",
       " 'is',\n",
       " 'a',\n",
       " 'much',\n",
       " 'NiCer',\n",
       " 'StriNg.',\n",
       " 'But',\n",
       " 'this',\n",
       " 'is',\n",
       " 'The',\n",
       " 'MoSt',\n",
       " 'NicEst',\n",
       " 'StriNg!']"
      ]
     },
     "execution_count": 21,
     "metadata": {},
     "output_type": "execute_result"
    }
   ],
   "source": [
    "# Split all words\n",
    "string.split()"
   ]
  },
  {
   "cell_type": "code",
   "execution_count": 22,
   "id": "536c31fd",
   "metadata": {},
   "outputs": [
    {
     "data": {
      "text/plain": [
       "['This is a NiCe StriNg',\n",
       " 'This is a much NiCer StriNg',\n",
       " 'But this is The MoSt NicEst StriNg!']"
      ]
     },
     "execution_count": 22,
     "metadata": {},
     "output_type": "execute_result"
    }
   ],
   "source": [
    "# Define specific conditions to split\n",
    "string.split(sep = '. ', maxsplit = 2)"
   ]
  },
  {
   "cell_type": "code",
   "execution_count": 6,
   "id": "fe03f882",
   "metadata": {},
   "outputs": [
    {
     "data": {
      "text/plain": [
       "['This is a NiCe StriNg',\n",
       " 'This is a much NiCer StriNg',\n",
       " 'But this is The MoSt NicEst StriNg!']"
      ]
     },
     "execution_count": 6,
     "metadata": {},
     "output_type": "execute_result"
    }
   ],
   "source": [
    "# Define specific conditions to split\n",
    "string.rsplit(sep = '. ', maxsplit = 2)"
   ]
  },
  {
   "cell_type": "code",
   "execution_count": 23,
   "id": "be9cc603",
   "metadata": {},
   "outputs": [
    {
     "name": "stdout",
     "output_type": "stream",
     "text": [
      "This is a NiCe StriNg.\n",
      "This is a much NiCer StriNg\n",
      "but this is The MoSt NicEst StriNg!\n"
     ]
    }
   ],
   "source": [
    "# New example\n",
    "string_2 = \"This is a NiCe StriNg.\\nThis is a much NiCer StriNg\\nbut this is The MoSt NicEst StriNg!\"\n",
    "print(string_2)"
   ]
  },
  {
   "cell_type": "code",
   "execution_count": 9,
   "id": "6b881f85",
   "metadata": {},
   "outputs": [
    {
     "data": {
      "text/plain": [
       "['This is a NiCe StriNg.',\n",
       " 'This is a much NiCer StriNg',\n",
       " 'but this is The MoSt NicEst StriNg!']"
      ]
     },
     "execution_count": 9,
     "metadata": {},
     "output_type": "execute_result"
    }
   ],
   "source": [
    "# split lines by '.'\n",
    "string_2.splitlines()"
   ]
  },
  {
   "cell_type": "markdown",
   "id": "71444b53",
   "metadata": {},
   "source": [
    "#### Join strings"
   ]
  },
  {
   "cell_type": "code",
   "execution_count": 10,
   "id": "b8caf457",
   "metadata": {},
   "outputs": [
    {
     "name": "stdout",
     "output_type": "stream",
     "text": [
      "This would be a string\n"
     ]
    }
   ],
   "source": [
    "my_list = ['This','would','be','a','string']\n",
    "print(\" \".join(my_list))"
   ]
  },
  {
   "cell_type": "code",
   "execution_count": 24,
   "id": "b063b405",
   "metadata": {},
   "outputs": [
    {
     "name": "stdout",
     "output_type": "stream",
     "text": [
      "3, 4, 5, 6\n",
      "<class 'str'>\n",
      "['3', '4', '5', '6']\n",
      "<class 'list'>\n"
     ]
    }
   ],
   "source": [
    "# Joining strings\n",
    "child_ages = [\"3\" , \"4\", \"5\", \"6\"]\n",
    "child_ages_str = \", \".join(child_ages)\n",
    "print(child_ages_str)\n",
    "print(type(child_ages_str))\n",
    "\n",
    "print(child_ages)\n",
    "print(type(child_ages))"
   ]
  },
  {
   "cell_type": "markdown",
   "id": "242d42a2",
   "metadata": {},
   "source": [
    "#### Clean by character "
   ]
  },
  {
   "cell_type": "code",
   "execution_count": 11,
   "id": "590873dd",
   "metadata": {},
   "outputs": [],
   "source": [
    "string_3 = \" This string will be stripped\\n\""
   ]
  },
  {
   "cell_type": "code",
   "execution_count": 12,
   "id": "eb5c7f98",
   "metadata": {},
   "outputs": [
    {
     "data": {
      "text/plain": [
       "'This string will be stripped'"
      ]
     },
     "execution_count": 12,
     "metadata": {},
     "output_type": "execute_result"
    }
   ],
   "source": [
    "string_3.strip()"
   ]
  },
  {
   "cell_type": "code",
   "execution_count": 13,
   "id": "fc453526",
   "metadata": {},
   "outputs": [
    {
     "data": {
      "text/plain": [
       "' This string will be stripped'"
      ]
     },
     "execution_count": 13,
     "metadata": {},
     "output_type": "execute_result"
    }
   ],
   "source": [
    "string_3.rstrip()"
   ]
  },
  {
   "cell_type": "code",
   "execution_count": 14,
   "id": "e195cfb1",
   "metadata": {},
   "outputs": [
    {
     "data": {
      "text/plain": [
       "'This string will be stripped\\n'"
      ]
     },
     "execution_count": 14,
     "metadata": {},
     "output_type": "execute_result"
    }
   ],
   "source": [
    "string_3.lstrip()"
   ]
  },
  {
   "cell_type": "markdown",
   "id": "e573f16a",
   "metadata": {},
   "source": [
    "#### Search in a string"
   ]
  },
  {
   "cell_type": "code",
   "execution_count": 19,
   "id": "8bd5b3ec",
   "metadata": {},
   "outputs": [
    {
     "name": "stdout",
     "output_type": "stream",
     "text": [
      "['Moses']\n"
     ]
    }
   ],
   "source": [
    "# Mathcing parts of a string (.startswith(), .endswith())\n",
    "boy_names = [\"Caleb\", \"Joshua\", \"Moses\"]\n",
    "print([name for name in boy_names if name.startswith(\"M\")])"
   ]
  },
  {
   "cell_type": "code",
   "execution_count": 40,
   "id": "b927a074",
   "metadata": {},
   "outputs": [],
   "source": [
    "# new string\n",
    "string_4 = 'Lovely, today is a brand new today.'"
   ]
  },
  {
   "cell_type": "code",
   "execution_count": 41,
   "id": "dfec13f0",
   "metadata": {},
   "outputs": [
    {
     "name": "stdout",
     "output_type": "stream",
     "text": [
      "8\n",
      "-1\n"
     ]
    }
   ],
   "source": [
    "# Search target in string\n",
    "find1_string = string_4.find('today')\n",
    "find2_string = string_4.find('today', 0, 10) # start, end\n",
    "\n",
    "print(find1_string) # result\n",
    "print(find2_string) # no result"
   ]
  },
  {
   "cell_type": "code",
   "execution_count": 42,
   "id": "c00cee32",
   "metadata": {},
   "outputs": [
    {
     "name": "stdout",
     "output_type": "stream",
     "text": [
      "8\n"
     ]
    }
   ],
   "source": [
    "# Search target in string\n",
    "index1_string = string_4.index('today')\n",
    "print(index1_string) # result"
   ]
  },
  {
   "cell_type": "code",
   "execution_count": 43,
   "id": "e9f0f5e9",
   "metadata": {},
   "outputs": [
    {
     "name": "stdout",
     "output_type": "stream",
     "text": [
      "Not found\n"
     ]
    }
   ],
   "source": [
    "# Search target in string\n",
    "try:\n",
    "    index2_string = string_4.index('today', 0, 10) # start, end\n",
    "except ValueError:\n",
    "    print('Not found')"
   ]
  },
  {
   "cell_type": "code",
   "execution_count": 44,
   "id": "1be9f883",
   "metadata": {},
   "outputs": [
    {
     "name": "stdout",
     "output_type": "stream",
     "text": [
      "2\n"
     ]
    }
   ],
   "source": [
    "# count\n",
    "count_string = string_4.count('day')\n",
    "print(count_string)"
   ]
  },
  {
   "cell_type": "code",
   "execution_count": 45,
   "id": "0d6c58b0",
   "metadata": {},
   "outputs": [
    {
     "name": "stdout",
     "output_type": "stream",
     "text": [
      "Lovely, tomorrow is a brand new today.\n"
     ]
    }
   ],
   "source": [
    "# replace\n",
    "replace_string = string_4.replace('today', 'tomorrow', 1) # old, new, count\n",
    "print(replace_string)"
   ]
  },
  {
   "cell_type": "markdown",
   "id": "c69fd1c2",
   "metadata": {},
   "source": [
    "#### String formatting"
   ]
  },
  {
   "cell_type": "code",
   "execution_count": 56,
   "id": "0d898a5a",
   "metadata": {},
   "outputs": [
    {
     "name": "stdout",
     "output_type": "stream",
     "text": [
      "Each Oreo cookie cost $1.99.\n",
      "Each Oreo cookie cost $1.99.\n",
      "Each Oreo cookie cost $1.99.\n",
      "Each Oreo cookie cost $1.99.\n",
      "Each Oreo cookie cost $1..\n"
     ]
    }
   ],
   "source": [
    "# f-string\n",
    "cookie_name = 'Oreo'\n",
    "cookie_price = '$1.99'\n",
    "\n",
    "# Method 1\n",
    "print(f\"Each {cookie_name} cookie cost {cookie_price}.\")\n",
    "\n",
    "# Method 2a\n",
    "print(\"Each {} cookie cost {}.\".format(cookie_name, cookie_price))\n",
    "\n",
    "# Method 2b\n",
    "print(\"Each {cookie_name} cookie cost {cookie_price}.\".format(cookie_name=cookie_name, cookie_price=cookie_price))\n",
    "\n",
    "# Method 2c\n",
    "print(\"Each {0} cookie cost {1}.\".format(cookie_name, cookie_price))\n",
    "print(\"Each {0} cookie cost {1:.2f}.\".format(cookie_name, cookie_price))"
   ]
  },
  {
   "cell_type": "code",
   "execution_count": 57,
   "id": "cde29aad",
   "metadata": {},
   "outputs": [
    {
     "name": "stdout",
     "output_type": "stream",
     "text": [
      "Good morning. Today is October 06, 2023. It's 10:43 ... time to work!\n"
     ]
    }
   ],
   "source": [
    "# Import datetime \n",
    "from datetime import datetime\n",
    "\n",
    "# Assign date to get_date\n",
    "get_date = datetime.now()\n",
    "\n",
    "# Add named placeholders with format specifiers\n",
    "message = \"Good morning. Today is {today:%B %d, %Y}. It's {today:%H:%M} ... time to work!\"\n",
    "\n",
    "# Use the format method replacing the placeholder with get_date\n",
    "print(message.format(today=get_date))"
   ]
  },
  {
   "cell_type": "markdown",
   "id": "f01b9020",
   "metadata": {},
   "source": [
    "## 4. Dictionaries\n",
    "* Hold data in key-value pairs\n",
    "* Nestable\n",
    "* Iterable\n",
    "\n",
    "Safely finding by key (cont.)\n",
    "\n",
    "```.get()``` method allow you to safely acces a key without error or exception handeling.\n",
    "\n",
    "If a key is not in the dictionary, `.get()` returns `None` by default (or you can supply a value in return)\n",
    "\n",
    "Dictionaries more pythonically\n",
    "* `.items()`\n",
    "* `.keys()`\n",
    "* `.values()`"
   ]
  },
  {
   "cell_type": "code",
   "execution_count": null,
   "id": "6fa4e348",
   "metadata": {},
   "outputs": [],
   "source": [
    "# Create dict by looping\n",
    "art_galaries = {}\n",
    "\n",
    "for name, zip_code in galleraies:\n",
    "    art_galleries[name] = zip_code\n",
    "\n",
    "# Print keys in loop\n",
    "for name in sorted(art_galleries)[-5:]:\n",
    "    print(name)"
   ]
  },
  {
   "cell_type": "code",
   "execution_count": null,
   "id": "60db4f97",
   "metadata": {},
   "outputs": [],
   "source": [
    "# .get() - Acces your data in a safe manner\n",
    "art_galleries.get('Louvre', 'Not Found')"
   ]
  },
  {
   "cell_type": "code",
   "execution_count": null,
   "id": "4ddee442",
   "metadata": {},
   "outputs": [],
   "source": [
    "# Add to dict\n",
    "art_galleries['1007'] = galleries_1007\n",
    "art_galleries['1123'].update(galleries_1123)"
   ]
  },
  {
   "cell_type": "code",
   "execution_count": null,
   "id": "45e8ff27",
   "metadata": {},
   "outputs": [],
   "source": [
    "# Popping and deleting from dict\n",
    "del art_galleries['1234']\n",
    "galleries_1031 = art_galleries.pop('1031') # More safe, just like .get() is also more safe"
   ]
  },
  {
   "cell_type": "code",
   "execution_count": null,
   "id": "d940a248",
   "metadata": {},
   "outputs": [],
   "source": [
    "# Pythionical\n",
    "for gallery, phone_num in art_galleries.items():\n",
    "    print(gallery)\n",
    "    print(phone_num)"
   ]
  },
  {
   "cell_type": "code",
   "execution_count": null,
   "id": "556af2c9",
   "metadata": {},
   "outputs": [],
   "source": [
    "# Check data is in dict `in`\n",
    "if '10010' in art_galleries:\n",
    "    print('I found: %s' % art_galleries['10010']) # print message it was found, with the value of the key.\n",
    "else:\n",
    "    print('No galleries found.')"
   ]
  },
  {
   "cell_type": "markdown",
   "id": "49290a5f",
   "metadata": {},
   "source": [
    "Filling a dictionary with loops or `defaultdict`"
   ]
  },
  {
   "cell_type": "code",
   "execution_count": null,
   "id": "64988cd3",
   "metadata": {},
   "outputs": [],
   "source": [
    "# Loops\n",
    "\n",
    "for park_id, name in nyc_eateries:\n",
    "    \n",
    "    # Check if the key is already present. If not, create an empty list\n",
    "    if park_id not in eateries:\n",
    "        eateries[park_id] = []\n",
    "    \n",
    "    # Fill the dictionary\n",
    "    eateries[park_id].append(name)"
   ]
  },
  {
   "cell_type": "code",
   "execution_count": null,
   "id": "a4e845d0",
   "metadata": {},
   "outputs": [],
   "source": [
    "# Defaultdict\n",
    "\n",
    "from collections import defaultdict\n",
    "eateries = defaultdict(type) # type like: list, int, ...\n",
    "\n",
    "for park_id, name in nyc_eateries:\n",
    "    eateries[park_id].append(name)\n",
    "\n",
    "print(list(eateries))"
   ]
  },
  {
   "cell_type": "markdown",
   "id": "c3fff9aa",
   "metadata": {},
   "source": [
    "## 5. Numeric data types"
   ]
  },
  {
   "cell_type": "code",
   "execution_count": 26,
   "id": "83df83cd",
   "metadata": {},
   "outputs": [
    {
     "name": "stdout",
     "output_type": "stream",
     "text": [
      "0.000000\n",
      "0.0000001\n"
     ]
    }
   ],
   "source": [
    "# Print precision of a float (default decimals = 6)\n",
    "print(f\"{0.0000001:f}\") # 6 decimals\n",
    "print(f\"{0.0000001:.7f}\") # 7 decimals"
   ]
  },
  {
   "cell_type": "code",
   "execution_count": 28,
   "id": "d6e56201",
   "metadata": {},
   "outputs": [
    {
     "data": {
      "text/plain": [
       "2.0"
      ]
     },
     "execution_count": 28,
     "metadata": {},
     "output_type": "execute_result"
    }
   ],
   "source": [
    "# float dicition\n",
    "4/2"
   ]
  },
  {
   "cell_type": "code",
   "execution_count": 29,
   "id": "5f219116",
   "metadata": {},
   "outputs": [
    {
     "data": {
      "text/plain": [
       "2"
      ]
     },
     "execution_count": 29,
     "metadata": {},
     "output_type": "execute_result"
    }
   ],
   "source": [
    "# floor dicition\n",
    "4//2"
   ]
  },
  {
   "cell_type": "markdown",
   "id": "8c8b5b33",
   "metadata": {},
   "source": [
    "## 6. Booleans\n",
    "* `True` = `1`, `\"str\"`, `[\"str\",\"str\"]`, `{\"key\":\"value\"}`, `None`\n",
    "* `False` = `0`, `\"\"`, `[]`, `{}`, `None`"
   ]
  },
  {
   "cell_type": "markdown",
   "id": "e312c93f",
   "metadata": {},
   "source": [
    "## 7. sets\n",
    "* Unique\n",
    "* Unordered\n",
    "* Mutable"
   ]
  },
  {
   "cell_type": "code",
   "execution_count": 37,
   "id": "f89e495e",
   "metadata": {},
   "outputs": [
    {
     "name": "stdout",
     "output_type": "stream",
     "text": [
      "{'chocolate chip', 'brownie'}\n"
     ]
    }
   ],
   "source": [
    "# Make set from a list\n",
    "cookies_eaten = [\"brownie\",\"brownie\",\"chocolate chip\",\"brownie\"]\n",
    "types_of_cookies_eaten = set(cookies_eaten)\n",
    "print(types_of_cookies_eaten)"
   ]
  },
  {
   "cell_type": "code",
   "execution_count": 38,
   "id": "e3f11838",
   "metadata": {},
   "outputs": [
    {
     "name": "stdout",
     "output_type": "stream",
     "text": [
      "{'chocolate chip', 'brownie', 'biscotti'}\n"
     ]
    }
   ],
   "source": [
    "# Modify a set\n",
    "types_of_cookies_eaten.add('biscotti')\n",
    "types_of_cookies_eaten.add('chocolate chip')\n",
    "print(types_of_cookies_eaten)"
   ]
  },
  {
   "cell_type": "code",
   "execution_count": 39,
   "id": "a2020244",
   "metadata": {},
   "outputs": [
    {
     "name": "stdout",
     "output_type": "stream",
     "text": [
      "{'chocolate chip', 'cocos makron', 'brownie', 'biscotti'}\n"
     ]
    }
   ],
   "source": [
    "# Modify a set with multiple values at once by updating the set\n",
    "more_cookies_eaten = ['chocolate chip', 'brownie', 'cocos makron']\n",
    "types_of_cookies_eaten.update(more_cookies_eaten)\n",
    "print(types_of_cookies_eaten)"
   ]
  },
  {
   "cell_type": "code",
   "execution_count": 40,
   "id": "9fc1310e",
   "metadata": {},
   "outputs": [
    {
     "name": "stdout",
     "output_type": "stream",
     "text": [
      "{'chocolate chip', 'cocos makron', 'brownie'}\n"
     ]
    }
   ],
   "source": [
    "# Remove data from a set\n",
    "types_of_cookies_eaten.discard('biscotti')\n",
    "print(types_of_cookies_eaten)"
   ]
  },
  {
   "cell_type": "code",
   "execution_count": 41,
   "id": "99b241e0",
   "metadata": {},
   "outputs": [
    {
     "data": {
      "text/plain": [
       "'chocolate chip'"
      ]
     },
     "execution_count": 41,
     "metadata": {},
     "output_type": "execute_result"
    }
   ],
   "source": [
    "# Pop data from a set (show the top value)\n",
    "types_of_cookies_eaten.pop()"
   ]
  },
  {
   "cell_type": "code",
   "execution_count": 43,
   "id": "0b7bd9d3",
   "metadata": {},
   "outputs": [
    {
     "name": "stdout",
     "output_type": "stream",
     "text": [
      "{'chocolate chip', 'biscotti', 'cocos makron', 'brownie'}\n"
     ]
    }
   ],
   "source": [
    "# .union() -- set of all the names (`or`)\n",
    "cookies_me = set(['chocolate chip', 'brownie', 'cocos makron'])\n",
    "cookies_you = set(['chocolate chip', 'biscotti', 'cocos makron'])\n",
    "cookies_me.union(cookies_you)"
   ]
  },
  {
   "cell_type": "code",
   "execution_count": 44,
   "id": "f88cfd84",
   "metadata": {},
   "outputs": [
    {
     "data": {
      "text/plain": [
       "{'chocolate chip', 'cocos makron'}"
      ]
     },
     "execution_count": 44,
     "metadata": {},
     "output_type": "execute_result"
    }
   ],
   "source": [
    "# .intersection() -- identifies overlapping data (`and`)\n",
    "cookies_me.intersection(cookies_you)"
   ]
  },
  {
   "cell_type": "code",
   "execution_count": 46,
   "id": "6d47150b",
   "metadata": {},
   "outputs": [
    {
     "data": {
      "text/plain": [
       "{'brownie'}"
      ]
     },
     "execution_count": 46,
     "metadata": {},
     "output_type": "execute_result"
    }
   ],
   "source": [
    "# .difference() -- Data only found in 1 set (one way)\n",
    "cookies_me.difference(cookies_you)"
   ]
  },
  {
   "cell_type": "code",
   "execution_count": 47,
   "id": "bf6a62bf",
   "metadata": {},
   "outputs": [
    {
     "data": {
      "text/plain": [
       "{'biscotti'}"
      ]
     },
     "execution_count": 47,
     "metadata": {},
     "output_type": "execute_result"
    }
   ],
   "source": [
    "# .difference() -- Data only found in 1 set (other way)\n",
    "cookies_you.difference(cookies_me)"
   ]
  },
  {
   "cell_type": "markdown",
   "id": "79b25d80",
   "metadata": {},
   "source": [
    "## Others"
   ]
  },
  {
   "cell_type": "markdown",
   "id": "c99680eb",
   "metadata": {},
   "source": [
    "#### Collections\n",
    "* `Counter(list)`\n",
    "* `most_common(n)`"
   ]
  },
  {
   "cell_type": "code",
   "execution_count": 56,
   "id": "48c02bd9",
   "metadata": {},
   "outputs": [],
   "source": [
    "# Counter\n",
    "from collections import Counter # Counter and most_common are imported"
   ]
  },
  {
   "cell_type": "markdown",
   "id": "a1f93a10",
   "metadata": {},
   "source": [
    "#### Dataclases\n",
    "Few benefits:\n",
    "* Support for default values\n",
    "* Custom representations of the objects\n",
    "* Easy tuple or a dictionary conversion\n",
    "* Custom properties\n",
    "* Forzen instances"
   ]
  },
  {
   "cell_type": "code",
   "execution_count": 57,
   "id": "35f31d41",
   "metadata": {},
   "outputs": [
    {
     "name": "stdout",
     "output_type": "stream",
     "text": [
      "chocolate chip\n",
      "14\n"
     ]
    }
   ],
   "source": [
    "# Make dataclass\n",
    "from dataclasses import dataclass\n",
    "\n",
    "@dataclass # Wrapper around some code that adds extra behaviors\n",
    "class Cookie:\n",
    "    name: str\n",
    "    quantity: int = 0\n",
    "        \n",
    "chocolate_chip = Cookie('chocolate chip', 14)\n",
    "print(chocolate_chip.name)\n",
    "print(chocolate_chip.quantity)"
   ]
  },
  {
   "cell_type": "code",
   "execution_count": 59,
   "id": "cda26319",
   "metadata": {},
   "outputs": [
    {
     "data": {
      "text/plain": [
       "{'name': 'ginger molasses', 'quantity': 8}"
      ]
     },
     "execution_count": 59,
     "metadata": {},
     "output_type": "execute_result"
    }
   ],
   "source": [
    "from dataclasses import asdict, astuple\n",
    "\n",
    "ginger_molasses = Cookie('ginger molasses', 8)\n",
    "\n",
    "# Convert dataclass into useful dict and tuples\n",
    "asdict(ginger_molasses)"
   ]
  },
  {
   "cell_type": "code",
   "execution_count": 60,
   "id": "b93ce792",
   "metadata": {},
   "outputs": [
    {
     "data": {
      "text/plain": [
       "('ginger molasses', 8)"
      ]
     },
     "execution_count": 60,
     "metadata": {},
     "output_type": "execute_result"
    }
   ],
   "source": [
    "# Convert dataclass into useful dict and tuples\n",
    "astuple(ginger_molasses)"
   ]
  },
  {
   "cell_type": "code",
   "execution_count": 61,
   "id": "d2e7965e",
   "metadata": {},
   "outputs": [
    {
     "data": {
      "text/plain": [
       "Decimal('9.6')"
      ]
     },
     "execution_count": 61,
     "metadata": {},
     "output_type": "execute_result"
    }
   ],
   "source": [
    "# Custom properties\n",
    "\n",
    "from decimal import Decimal\n",
    "\n",
    "@dataclass \n",
    "class Cookie:\n",
    "    name: str\n",
    "    cost: Decimal\n",
    "    quantity: int = 0\n",
    "    \n",
    "    # Custom a new, not pre-defined property\n",
    "    @property\n",
    "    def value_of_goods(self):\n",
    "        return int(self.quantity) * self.cost\n",
    "    \n",
    "peanut = Cookie(\"peanut butter\", Decimal('1.2'), 8)\n",
    "peanut.value_of_goods"
   ]
  },
  {
   "cell_type": "code",
   "execution_count": 64,
   "id": "de80e07f",
   "metadata": {},
   "outputs": [
    {
     "name": "stdout",
     "output_type": "stream",
     "text": [
      "chocolate chip\n"
     ]
    }
   ],
   "source": [
    "# Frozen instances -> cant update after making\n",
    "\n",
    "@dataclass(frozen=True)\n",
    "class Cookie:\n",
    "    name: str\n",
    "    quantity: int = 0\n",
    "\n",
    "c = Cookie('chocolate chip', 14)\n",
    "print(c.name)"
   ]
  },
  {
   "cell_type": "code",
   "execution_count": null,
   "id": "c995c133",
   "metadata": {},
   "outputs": [],
   "source": []
  }
 ],
 "metadata": {
  "kernelspec": {
   "display_name": "Python 3 (ipykernel)",
   "language": "python",
   "name": "python3"
  },
  "language_info": {
   "codemirror_mode": {
    "name": "ipython",
    "version": 3
   },
   "file_extension": ".py",
   "mimetype": "text/x-python",
   "name": "python",
   "nbconvert_exporter": "python",
   "pygments_lexer": "ipython3",
   "version": "3.10.9"
  }
 },
 "nbformat": 4,
 "nbformat_minor": 5
}
