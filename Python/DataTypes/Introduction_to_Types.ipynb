{
 "cells": [
  {
   "cell_type": "code",
   "execution_count": null,
   "id": "48505eaa-baae-465e-ab03-3fc1d9078f0e",
   "metadata": {},
   "outputs": [],
   "source": []
  },
  {
   "cell_type": "markdown",
   "id": "20fedbe6-c60f-467f-b82d-32f54f555c70",
   "metadata": {},
   "source": [
    "# Title"
   ]
  },
  {
   "cell_type": "markdown",
   "id": "55e98215-4be3-4fb9-9c6a-e1e23f9fef9e",
   "metadata": {},
   "source": [
    "## 1. Lists"
   ]
  },
  {
   "cell_type": "code",
   "execution_count": 47,
   "id": "5236d16d-7b68-4e29-9fc5-1e2f39dc799f",
   "metadata": {},
   "outputs": [],
   "source": [
    "# Hold data\n",
    "fruit = ['apple', 'orange', 'pear']\n",
    "vegatables = ['brocoli', 'beans', 'carrot']"
   ]
  },
  {
   "cell_type": "code",
   "execution_count": 48,
   "id": "178d7240-a313-43e6-b480-7f0c676d5c9f",
   "metadata": {},
   "outputs": [
    {
     "name": "stdout",
     "output_type": "stream",
     "text": [
      "['apple', 'orange', 'pear', 'brocoli', 'beans', 'carrot']\n"
     ]
    }
   ],
   "source": [
    "# Combining lists\n",
    "healty_food = fruit  + vegatables\n",
    "print(healty_food)"
   ]
  },
  {
   "cell_type": "code",
   "execution_count": 49,
   "id": "62049b18-f696-4a00-b4e9-38e0b8f4ecc7",
   "metadata": {},
   "outputs": [
    {
     "name": "stdout",
     "output_type": "stream",
     "text": [
      "['apple', 'orange', 'pear']\n"
     ]
    }
   ],
   "source": [
    "print(fruit)"
   ]
  },
  {
   "cell_type": "code",
   "execution_count": 50,
   "id": "fea0020f-0b05-4e58-b028-0048b17272bb",
   "metadata": {},
   "outputs": [
    {
     "name": "stdout",
     "output_type": "stream",
     "text": [
      "pear\n"
     ]
    }
   ],
   "source": [
    "# Index\n",
    "print(fruit[2])"
   ]
  },
  {
   "cell_type": "code",
   "execution_count": 53,
   "id": "9b9d9c71-b897-46f2-9129-b0123b8cefec",
   "metadata": {},
   "outputs": [],
   "source": [
    "# Mutable (append)\n",
    "fruit.append('lemon') # lemon is a string"
   ]
  },
  {
   "cell_type": "code",
   "execution_count": 52,
   "id": "56749e29-a356-4e8f-b77f-e3cbc1d523c6",
   "metadata": {},
   "outputs": [
    {
     "name": "stdout",
     "output_type": "stream",
     "text": [
      "['apple', 'orange', 'pear', 'lemon', 'brocoli', 'beans', 'carrot']\n"
     ]
    }
   ],
   "source": [
    "# Mutable (extend list)\n",
    "fruit.extend(vegatables) # vegatables is a list\n",
    "print(fruit)"
   ]
  },
  {
   "cell_type": "code",
   "execution_count": 41,
   "id": "c04c4c1e-eafc-415c-bb2a-ebfdcff3aa42",
   "metadata": {},
   "outputs": [
    {
     "name": "stdout",
     "output_type": "stream",
     "text": [
      "beans\n",
      "['apple', 'orange', 'pear', 'lemon', 'brocoli', 'beans', 'carrot']\n"
     ]
    }
   ],
   "source": [
    "# Remove\n",
    "less_healthy = fruit.pop(-2)\n",
    "print(less_healthy)\n",
    "print(healty_food)"
   ]
  },
  {
   "cell_type": "code",
   "execution_count": 42,
   "id": "6ff0470e-51a0-4727-821e-eb3e26f044b6",
   "metadata": {},
   "outputs": [
    {
     "name": "stdout",
     "output_type": "stream",
     "text": [
      "['Apple', 'Orange', 'Pear', 'Lemon', 'Brocoli', 'Beans', 'Carrot']\n"
     ]
    }
   ],
   "source": [
    "# Iterating\n",
    "names_of_healthy_food = [healthy.title() for healthy in healty_food]\n",
    "print(names_of_healthy_food)"
   ]
  },
  {
   "cell_type": "code",
   "execution_count": 43,
   "id": "d55680f2-7b61-4c78-b2c5-e3c000326add",
   "metadata": {},
   "outputs": [
    {
     "name": "stdout",
     "output_type": "stream",
     "text": [
      "['apple', 'brocoli', 'carrot', 'lemon', 'orange', 'pear']\n"
     ]
    }
   ],
   "source": [
    "# Sorting\n",
    "sorted_fruit = sorted(fruit)\n",
    "print(sorted_fruit)"
   ]
  },
  {
   "cell_type": "code",
   "execution_count": null,
   "id": "48fd5240-8d81-4a6f-8787-3dea454d73d2",
   "metadata": {},
   "outputs": [],
   "source": []
  }
 ],
 "metadata": {
  "kernelspec": {
   "display_name": "Python 3 (ipykernel)",
   "language": "python",
   "name": "python3"
  },
  "language_info": {
   "codemirror_mode": {
    "name": "ipython",
    "version": 3
   },
   "file_extension": ".py",
   "mimetype": "text/x-python",
   "name": "python",
   "nbconvert_exporter": "python",
   "pygments_lexer": "ipython3",
   "version": "3.10.9"
  }
 },
 "nbformat": 4,
 "nbformat_minor": 5
}
