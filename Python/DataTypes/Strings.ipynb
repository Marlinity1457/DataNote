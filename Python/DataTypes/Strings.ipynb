{
 "cells": [
  {
   "cell_type": "markdown",
   "id": "7b2ba5d8",
   "metadata": {},
   "source": [
    "# Strings"
   ]
  },
  {
   "cell_type": "markdown",
   "id": "3634abda",
   "metadata": {},
   "source": [
    "## Basics"
   ]
  },
  {
   "cell_type": "code",
   "execution_count": 1,
   "id": "60b5f6b1",
   "metadata": {},
   "outputs": [
    {
     "data": {
      "text/plain": [
       "True"
      ]
     },
     "execution_count": 1,
     "metadata": {},
     "output_type": "execute_result"
    }
   ],
   "source": [
    "# Seaching for things in strings (Case sensitive!)\n",
    "\"long\" in \"Life is a long lession in humility.\""
   ]
  },
  {
   "cell_type": "code",
   "execution_count": 2,
   "id": "fe1949ad",
   "metadata": {},
   "outputs": [
    {
     "data": {
      "text/plain": [
       "True"
      ]
     },
     "execution_count": 2,
     "metadata": {},
     "output_type": "execute_result"
    }
   ],
   "source": [
    "\"life\" in \"Life is a long lession in humility.\".lower()"
   ]
  },
  {
   "cell_type": "code",
   "execution_count": 3,
   "id": "ede727e6",
   "metadata": {},
   "outputs": [],
   "source": [
    "string = \"This is a NiCe StriNg. This is a much NiCer StriNg. But this is The MoSt NicEst StriNg!\""
   ]
  },
  {
   "cell_type": "code",
   "execution_count": 4,
   "id": "a2c688f5",
   "metadata": {},
   "outputs": [
    {
     "data": {
      "text/plain": [
       "'this is a nice string. this is a much nicer string. but this is the most nicest string!'"
      ]
     },
     "execution_count": 4,
     "metadata": {},
     "output_type": "execute_result"
    }
   ],
   "source": [
    "string.lower()"
   ]
  },
  {
   "cell_type": "code",
   "execution_count": 5,
   "id": "74d0dc81",
   "metadata": {},
   "outputs": [
    {
     "data": {
      "text/plain": [
       "'THIS IS A NICE STRING. THIS IS A MUCH NICER STRING. BUT THIS IS THE MOST NICEST STRING!'"
      ]
     },
     "execution_count": 5,
     "metadata": {},
     "output_type": "execute_result"
    }
   ],
   "source": [
    "string.upper()"
   ]
  },
  {
   "cell_type": "code",
   "execution_count": 6,
   "id": "352348f4",
   "metadata": {},
   "outputs": [
    {
     "data": {
      "text/plain": [
       "'This is a nice string. this is a much nicer string. but this is the most nicest string!'"
      ]
     },
     "execution_count": 6,
     "metadata": {},
     "output_type": "execute_result"
    }
   ],
   "source": [
    "string.capitalize()"
   ]
  },
  {
   "cell_type": "markdown",
   "id": "cf1ea7e4",
   "metadata": {},
   "source": [
    "## Separate lines"
   ]
  },
  {
   "cell_type": "code",
   "execution_count": 7,
   "id": "f5398adf",
   "metadata": {},
   "outputs": [
    {
     "data": {
      "text/plain": [
       "['This',\n",
       " 'is',\n",
       " 'a',\n",
       " 'NiCe',\n",
       " 'StriNg.',\n",
       " 'This',\n",
       " 'is',\n",
       " 'a',\n",
       " 'much',\n",
       " 'NiCer',\n",
       " 'StriNg.',\n",
       " 'But',\n",
       " 'this',\n",
       " 'is',\n",
       " 'The',\n",
       " 'MoSt',\n",
       " 'NicEst',\n",
       " 'StriNg!']"
      ]
     },
     "execution_count": 7,
     "metadata": {},
     "output_type": "execute_result"
    }
   ],
   "source": [
    "# Split all words\n",
    "string.split()"
   ]
  },
  {
   "cell_type": "code",
   "execution_count": 8,
   "id": "93e88033",
   "metadata": {},
   "outputs": [
    {
     "data": {
      "text/plain": [
       "['This is a NiCe StriNg',\n",
       " 'This is a much NiCer StriNg',\n",
       " 'But this is The MoSt NicEst StriNg!']"
      ]
     },
     "execution_count": 8,
     "metadata": {},
     "output_type": "execute_result"
    }
   ],
   "source": [
    "# Define specific conditions to split\n",
    "string.split(sep = '. ', maxsplit = 2)"
   ]
  },
  {
   "cell_type": "code",
   "execution_count": 9,
   "id": "cb1be575",
   "metadata": {},
   "outputs": [
    {
     "data": {
      "text/plain": [
       "['This is a NiCe StriNg',\n",
       " 'This is a much NiCer StriNg',\n",
       " 'But this is The MoSt NicEst StriNg!']"
      ]
     },
     "execution_count": 9,
     "metadata": {},
     "output_type": "execute_result"
    }
   ],
   "source": [
    "# Define specific conditions to split\n",
    "string.rsplit(sep = '. ', maxsplit = 2)"
   ]
  },
  {
   "cell_type": "code",
   "execution_count": 37,
   "id": "ae62b72d",
   "metadata": {},
   "outputs": [
    {
     "data": {
      "text/plain": [
       "['This is a nice string. ', 'This is a much nicer string.']"
      ]
     },
     "execution_count": 37,
     "metadata": {},
     "output_type": "execute_result"
    }
   ],
   "source": [
    "# split lines by '.'\n",
    "string_2 = 'This is a nice string. \\nThis is a much nicer string.'\n",
    "string_2.splitlines()"
   ]
  },
  {
   "cell_type": "markdown",
   "id": "8177a22a",
   "metadata": {},
   "source": [
    "## Join strings"
   ]
  },
  {
   "cell_type": "code",
   "execution_count": null,
   "id": "e588f6b4",
   "metadata": {},
   "outputs": [],
   "source": [
    "my_list = ['This','would','be','a','string']\n",
    "print(\" \".join(my_list))"
   ]
  },
  {
   "cell_type": "code",
   "execution_count": null,
   "id": "3103d351",
   "metadata": {},
   "outputs": [],
   "source": [
    "# Joining strings\n",
    "child_ages = [\"3\" , \"4\", \"5\", \"6\"]\n",
    "child_ages_str = \", \".join(child_ages)\n",
    "print(child_ages_str)\n",
    "print(type(child_ages_str))\n",
    "\n",
    "print(child_ages)\n",
    "print(type(child_ages))"
   ]
  },
  {
   "cell_type": "markdown",
   "id": "c618cd49",
   "metadata": {},
   "source": [
    "## Clean by character "
   ]
  },
  {
   "cell_type": "code",
   "execution_count": 14,
   "id": "c8604180",
   "metadata": {},
   "outputs": [],
   "source": [
    "string_3 = \" This string will be stripped\\n\""
   ]
  },
  {
   "cell_type": "code",
   "execution_count": 15,
   "id": "10bec57d",
   "metadata": {},
   "outputs": [
    {
     "data": {
      "text/plain": [
       "'This string will be stripped'"
      ]
     },
     "execution_count": 15,
     "metadata": {},
     "output_type": "execute_result"
    }
   ],
   "source": [
    "string_3.strip()"
   ]
  },
  {
   "cell_type": "code",
   "execution_count": 16,
   "id": "db52538c",
   "metadata": {},
   "outputs": [
    {
     "data": {
      "text/plain": [
       "' This string will be stripped'"
      ]
     },
     "execution_count": 16,
     "metadata": {},
     "output_type": "execute_result"
    }
   ],
   "source": [
    "string_3.rstrip()"
   ]
  },
  {
   "cell_type": "code",
   "execution_count": 17,
   "id": "0ac28cb7",
   "metadata": {},
   "outputs": [
    {
     "data": {
      "text/plain": [
       "'This string will be stripped\\n'"
      ]
     },
     "execution_count": 17,
     "metadata": {},
     "output_type": "execute_result"
    }
   ],
   "source": [
    "string_3.lstrip()"
   ]
  },
  {
   "cell_type": "markdown",
   "id": "a6558184",
   "metadata": {},
   "source": [
    "## Search in a string"
   ]
  },
  {
   "cell_type": "code",
   "execution_count": 18,
   "id": "800ee803",
   "metadata": {},
   "outputs": [
    {
     "name": "stdout",
     "output_type": "stream",
     "text": [
      "['Moses']\n"
     ]
    }
   ],
   "source": [
    "# Mathcing parts of a string (.startswith(), .endswith())\n",
    "boy_names = [\"Caleb\", \"Joshua\", \"Moses\"]\n",
    "print([name for name in boy_names if name.startswith(\"M\")])"
   ]
  },
  {
   "cell_type": "code",
   "execution_count": 19,
   "id": "2e5aced7",
   "metadata": {},
   "outputs": [],
   "source": [
    "# new string\n",
    "string_4 = 'Lovely, today is a brand new today.'"
   ]
  },
  {
   "cell_type": "code",
   "execution_count": 20,
   "id": "bcfa40c3",
   "metadata": {},
   "outputs": [
    {
     "name": "stdout",
     "output_type": "stream",
     "text": [
      "8\n",
      "-1\n"
     ]
    }
   ],
   "source": [
    "# Search target in string\n",
    "find1_string = string_4.find('today')\n",
    "find2_string = string_4.find('today', 0, 10) # start, end\n",
    "\n",
    "print(find1_string) # result\n",
    "print(find2_string) # no result"
   ]
  },
  {
   "cell_type": "code",
   "execution_count": 21,
   "id": "d74449a8",
   "metadata": {},
   "outputs": [
    {
     "name": "stdout",
     "output_type": "stream",
     "text": [
      "8\n"
     ]
    }
   ],
   "source": [
    "# Search target in string\n",
    "index1_string = string_4.index('today')\n",
    "print(index1_string) # result"
   ]
  },
  {
   "cell_type": "code",
   "execution_count": 22,
   "id": "94c90e33",
   "metadata": {},
   "outputs": [
    {
     "name": "stdout",
     "output_type": "stream",
     "text": [
      "Not found\n"
     ]
    }
   ],
   "source": [
    "# Search target in string\n",
    "try:\n",
    "    index2_string = string_4.index('today', 0, 10) # start, end\n",
    "except ValueError:\n",
    "    print('Not found')"
   ]
  },
  {
   "cell_type": "code",
   "execution_count": 23,
   "id": "db96d680",
   "metadata": {},
   "outputs": [
    {
     "name": "stdout",
     "output_type": "stream",
     "text": [
      "2\n"
     ]
    }
   ],
   "source": [
    "# count\n",
    "count_string = string_4.count('day')\n",
    "print(count_string)"
   ]
  },
  {
   "cell_type": "code",
   "execution_count": 24,
   "id": "1d95fc41",
   "metadata": {},
   "outputs": [
    {
     "name": "stdout",
     "output_type": "stream",
     "text": [
      "Lovely, tomorrow is a brand new today.\n"
     ]
    }
   ],
   "source": [
    "# replace\n",
    "replace_string = string_4.replace('today', 'tomorrow', 1) # old, new, count\n",
    "print(replace_string)"
   ]
  },
  {
   "cell_type": "markdown",
   "id": "c02ef8e4",
   "metadata": {},
   "source": [
    "## String formatting"
   ]
  },
  {
   "cell_type": "markdown",
   "id": "bcea4a3c",
   "metadata": {},
   "source": [
    "f-format\n",
    "* !s = string version\n",
    "* !r = with quotes\n",
    "* !a = !r with non-ASCII\n",
    "* :e = scientific notation\n",
    "* :d = digit\n",
    "* :f = float"
   ]
  },
  {
   "cell_type": "code",
   "execution_count": 40,
   "id": "01f51444",
   "metadata": {},
   "outputs": [
    {
     "name": "stdout",
     "output_type": "stream",
     "text": [
      "Each Oreo cookie cost $1.99.\n",
      "Each Oreo cookie cost $1.99.\n",
      "Each Oreo cookie cost $1.99.\n",
      "Each Oreo cookie cost $1.99.\n"
     ]
    }
   ],
   "source": [
    "# f-string\n",
    "cookie_name = 'Oreo'\n",
    "cookie_price = '$1.99'\n",
    "\n",
    "# Method 1\n",
    "print(f\"Each {cookie_name} cookie cost {cookie_price}.\") \n",
    "\n",
    "# Method 2a\n",
    "print(\"Each {} cookie cost {}.\".format(cookie_name, cookie_price))\n",
    "\n",
    "# Method 2b\n",
    "print(\"Each {cookie_name} cookie cost {cookie_price}.\".format(cookie_name=cookie_name, cookie_price=cookie_price))\n",
    "\n",
    "# Method 2c\n",
    "print(\"Each {0} cookie cost {1}.\".format(cookie_name, cookie_price))\n",
    "#print(\"Each {0} cookie cost {1:.2f}.\".format(cookie_name, cookie_price))"
   ]
  },
  {
   "cell_type": "code",
   "execution_count": 48,
   "id": "10a5bf09",
   "metadata": {},
   "outputs": [
    {
     "name": "stdout",
     "output_type": "stream",
     "text": [
      "Good morning. Today is October 12, 2023. It's 13:12 ... time to work!\n"
     ]
    }
   ],
   "source": [
    "# Import datetime \n",
    "from datetime import datetime\n",
    "\n",
    "# Assign date to get_date\n",
    "get_date = datetime.now()\n",
    "\n",
    "# Add named placeholders with format specifiers\n",
    "message = \"Good morning. Today is {today:%B %d, %Y}. It's {today:%H:%M} ... time to work!\"\n",
    "\n",
    "# Use the format method replacing the placeholder with get_date\n",
    "print(message.format(today=get_date))"
   ]
  },
  {
   "cell_type": "code",
   "execution_count": 52,
   "id": "17c37384",
   "metadata": {},
   "outputs": [
    {
     "name": "stdout",
     "output_type": "stream",
     "text": [
      "The price for a house in the west neighborhood was $1432673 in 05-26-2006.\n"
     ]
    }
   ],
   "source": [
    "west = {}\n",
    "west['price'] = 1432673\n",
    "west['date'] = datetime(2006, 5, 26, 0, 0)\n",
    "\n",
    "print(f\"The price for a house in the west neighborhood was ${west['price']} in {west['date']:%m-%d-%Y}.\")"
   ]
  },
  {
   "cell_type": "markdown",
   "id": "9de23dca",
   "metadata": {},
   "source": [
    "#### Template strings"
   ]
  },
  {
   "cell_type": "code",
   "execution_count": 53,
   "id": "097b4605",
   "metadata": {},
   "outputs": [
    {
     "data": {
      "text/plain": [
       "'Data science has been called an amazing job of the first 21th century'"
      ]
     },
     "execution_count": 53,
     "metadata": {},
     "output_type": "execute_result"
    }
   ],
   "source": [
    "from string import Template\n",
    "\n",
    "my_string = Template('Data science has been called $identifier')\n",
    "my_string.substitute(identifier = 'an amazing job of the first 21th century')"
   ]
  },
  {
   "cell_type": "markdown",
   "id": "828c6a73",
   "metadata": {},
   "source": [
    "Prevent confusion in identifier name"
   ]
  },
  {
   "cell_type": "code",
   "execution_count": 54,
   "id": "d1b7fcdb",
   "metadata": {},
   "outputs": [
    {
     "data": {
      "text/plain": [
       "'I find Python very interesting but my sister has lost interest'"
      ]
     },
     "execution_count": 54,
     "metadata": {},
     "output_type": "execute_result"
    }
   ],
   "source": [
    "# Sometimes you need to put {} around the identier name, to prevent confusion : ing would then be part of the indetifiers name\n",
    "my_string = Template('I find Python very ${noun}ing but my sister has lost $noun')\n",
    "my_string.substitute(noun= \"interest\")"
   ]
  },
  {
   "cell_type": "markdown",
   "id": "41186bba",
   "metadata": {},
   "source": [
    "Print dolar ($) sign"
   ]
  },
  {
   "cell_type": "code",
   "execution_count": 55,
   "id": "7252e5a3",
   "metadata": {},
   "outputs": [
    {
     "data": {
      "text/plain": [
       "'I paid for the Python course only $ 12.50, amzing!'"
      ]
     },
     "execution_count": 55,
     "metadata": {},
     "output_type": "execute_result"
    }
   ],
   "source": [
    "# Include dollar sign ($) in the string by using $$ in front\n",
    "my_string = Template('I paid for the Python course only $$ $price, amzing!')\n",
    "my_string.substitute(price = '12.50')"
   ]
  },
  {
   "cell_type": "markdown",
   "id": "d7669536",
   "metadata": {},
   "source": [
    "Prevent missing placeholders"
   ]
  },
  {
   "cell_type": "code",
   "execution_count": 57,
   "id": "f44f4a30",
   "metadata": {},
   "outputs": [
    {
     "data": {
      "text/plain": [
       "'I love chocolate $cake very much'"
      ]
     },
     "execution_count": 57,
     "metadata": {},
     "output_type": "execute_result"
    }
   ],
   "source": [
    "favorite = dict(flavor = \"chocolate\")\n",
    "my_string = Template('I love $flavor $cake very much')\n",
    "my_string.safe_substitute(favorite)"
   ]
  },
  {
   "cell_type": "markdown",
   "id": "0c72a07b",
   "metadata": {},
   "source": [
    "## Regular expressions\n",
    "\n",
    "Regular Expression (Regex) = String containing a combination of normal characters and special metacharacters (eg. `\\d`, `\\s`, `\\w`, `{3,10}`) that describes patterns to find text or positions within a text.\n",
    "\n",
    "Example:\n",
    "`r'st\\d\\s\\w{3,10}`\n",
    "\n",
    "Pattern: A sequence of characters that maps to words or punctuation. In order to\n",
    "* Find and replace text\n",
    "* Validate strings\n",
    "\n",
    "The re module\n",
    "*  `re.findall(r'regex', string)`\n",
    "*  `re.split(r'regex', string)`\n",
    "*  `re.sub(r'regex', new, string)`\n",
    "*  `re.search(r'regex', string)`\n",
    "*  `re.match(r'regex', string)` (At the beginning of the string only, in comparision to `.search()`)\n",
    "\n",
    "Specifications\n",
    "* `\\d` = digit\n",
    "* `\\D`= non-ditig\n",
    "* `\\w` = word\n",
    "* `\\W` = non-word\n",
    "* `\\s` = whitespace\n",
    "* `\\S` = non-whitespace\n",
    "\n",
    "Repetitions\n",
    "* `+` = repead 1 or more tiems\n",
    "* `*` = 0 or more times\n",
    "* `{n}` = says how may repetitions\n",
    "* `{n, m}` = gives minimum n and maximum m\n",
    "* `?` = 0 or 1 times\n",
    "\n",
    "Special specifications\n",
    "* `.` = any character\n",
    "* `^` = start of the string\n",
    "* `$` = End of the string\n",
    "* `\\.` = include . character in search \n",
    "* `|` = or operator\n",
    "* `[]` = Set of characters (eg. all letters: `[a-zA-Z]`)\n",
    "* `+?` = 1 or more, but as few as needed"
   ]
  },
  {
   "cell_type": "code",
   "execution_count": 2,
   "id": "1dcb5575",
   "metadata": {},
   "outputs": [],
   "source": [
    "import re"
   ]
  },
  {
   "cell_type": "markdown",
   "id": "99e83254",
   "metadata": {},
   "source": [
    "#### Specifications & start `re` module"
   ]
  },
  {
   "cell_type": "code",
   "execution_count": 2,
   "id": "b65727f8",
   "metadata": {},
   "outputs": [
    {
     "data": {
      "text/plain": [
       "['#movies', '#movies']"
      ]
     },
     "execution_count": 2,
     "metadata": {},
     "output_type": "execute_result"
    }
   ],
   "source": [
    "# find all matches of a pattern\n",
    "re.findall(r'#movies', 'Love #movies! I had fun yesterday goint ot the #movies')"
   ]
  },
  {
   "cell_type": "code",
   "execution_count": 68,
   "id": "d3ac9ce9",
   "metadata": {},
   "outputs": [
    {
     "data": {
      "text/plain": [
       "['User9', 'User8']"
      ]
     },
     "execution_count": 68,
     "metadata": {},
     "output_type": "execute_result"
    }
   ],
   "source": [
    "# find all matches of a pattern\n",
    "re.findall(r'User\\d', 'The winners are: User9, UserN, User8') # d = digit"
   ]
  },
  {
   "cell_type": "code",
   "execution_count": 69,
   "id": "019f882f",
   "metadata": {},
   "outputs": [
    {
     "data": {
      "text/plain": [
       "['UserN']"
      ]
     },
     "execution_count": 69,
     "metadata": {},
     "output_type": "execute_result"
    }
   ],
   "source": [
    "# find all matches of a pattern\n",
    "re.findall(r'User\\D', 'The winners are: User9, UserN, User8') # D = non-digit"
   ]
  },
  {
   "cell_type": "code",
   "execution_count": 70,
   "id": "4b32b416",
   "metadata": {},
   "outputs": [
    {
     "data": {
      "text/plain": [
       "['User9', 'UserN', 'User8']"
      ]
     },
     "execution_count": 70,
     "metadata": {},
     "output_type": "execute_result"
    }
   ],
   "source": [
    "# find all matches of a pattern\n",
    "re.findall(r'User\\w', 'The winners are: User9, UserN, User8') # w = word"
   ]
  },
  {
   "cell_type": "code",
   "execution_count": 74,
   "id": "5c13d57e",
   "metadata": {},
   "outputs": [
    {
     "data": {
      "text/plain": [
       "['$5']"
      ]
     },
     "execution_count": 74,
     "metadata": {},
     "output_type": "execute_result"
    }
   ],
   "source": [
    "# find all matches of a pattern\n",
    "re.findall(r'\\W\\d', 'This skirt is on sale, only $5 today!') # W = non-word"
   ]
  },
  {
   "cell_type": "code",
   "execution_count": 77,
   "id": "194081f7",
   "metadata": {},
   "outputs": [
    {
     "data": {
      "text/plain": [
       "['Data Science']"
      ]
     },
     "execution_count": 77,
     "metadata": {},
     "output_type": "execute_result"
    }
   ],
   "source": [
    "# find all matches of a pattern\n",
    "re.findall(r'Data\\sScience', 'I enjoy learning Data Science') # s = whitespace"
   ]
  },
  {
   "cell_type": "code",
   "execution_count": 78,
   "id": "0df23fb7",
   "metadata": {},
   "outputs": [
    {
     "data": {
      "text/plain": [
       "'I really like ice cream'"
      ]
     },
     "execution_count": 78,
     "metadata": {},
     "output_type": "execute_result"
    }
   ],
   "source": [
    "# find all matches of a pattern\n",
    "re.sub(r'ice\\Scream', 'ice cream', 'I really like ice-cream') # S = non-whitespace"
   ]
  },
  {
   "cell_type": "code",
   "execution_count": 62,
   "id": "495eacac",
   "metadata": {},
   "outputs": [
    {
     "data": {
      "text/plain": [
       "['Nice place to eat', ' I\"ll come back', ' Excellent vega option', '']"
      ]
     },
     "execution_count": 62,
     "metadata": {},
     "output_type": "execute_result"
    }
   ],
   "source": [
    "# split string at each match\n",
    "re.split(r'!', 'Nice place to eat! I\"ll come back! Excellent vega option!')"
   ]
  },
  {
   "cell_type": "code",
   "execution_count": 64,
   "id": "d4c54818",
   "metadata": {},
   "outputs": [
    {
     "data": {
      "text/plain": [
       "'I have a nice car and a nice house in a nice neighborhood'"
      ]
     },
     "execution_count": 64,
     "metadata": {},
     "output_type": "execute_result"
    }
   ],
   "source": [
    "# Replace matches\n",
    "re.sub(r'yellow', 'nice', 'I have a yellow car and a yellow house in a yellow neighborhood')"
   ]
  },
  {
   "cell_type": "markdown",
   "id": "25a24990",
   "metadata": {},
   "source": [
    "#### Repetitions\n",
    "\n",
    "The notation only applies to the element after which you put the extra notation."
   ]
  },
  {
   "cell_type": "code",
   "execution_count": 4,
   "id": "e9b8b259",
   "metadata": {},
   "outputs": [
    {
     "data": {
      "text/plain": [
       "<re.Match object; span=(0, 12), match='password1234'>"
      ]
     },
     "execution_count": 4,
     "metadata": {},
     "output_type": "execute_result"
    }
   ],
   "source": [
    "password = \"password1234\"\n",
    "re.search(r\"\\w\\w\\w\\w\\w\\w\\w\\w\\d\\d\\d\\d\", password)"
   ]
  },
  {
   "cell_type": "code",
   "execution_count": 5,
   "id": "c64e1158",
   "metadata": {},
   "outputs": [
    {
     "data": {
      "text/plain": [
       "<re.Match object; span=(0, 12), match='password1234'>"
      ]
     },
     "execution_count": 5,
     "metadata": {},
     "output_type": "execute_result"
    }
   ],
   "source": [
    "# Using quantifiers\n",
    "password = \"password1234\"\n",
    "re.search(r\"\\w{8}\\d{4}\", password)"
   ]
  },
  {
   "cell_type": "code",
   "execution_count": null,
   "id": "27be5411",
   "metadata": {},
   "outputs": [],
   "source": [
    "# Using quantifiers\n",
    "text = 'Date of start: 4-3. Date of registration: 10-4.'\n",
    "re.findall(r\"\\d+-\\d+\", text)"
   ]
  },
  {
   "cell_type": "markdown",
   "id": "7d0dfcb8",
   "metadata": {},
   "source": [
    "#### Special specifications"
   ]
  },
  {
   "cell_type": "code",
   "execution_count": 3,
   "id": "d8d6a83c",
   "metadata": {},
   "outputs": [
    {
     "name": "stdout",
     "output_type": "stream",
     "text": [
      "The password Apple34!rose is a valid password\n",
      "The password My87hou#4$ is a valid password\n",
      "The password abc123 is invalid\n"
     ]
    }
   ],
   "source": [
    "passwords = ['Apple34!rose', 'My87hou#4$', 'abc123']\n",
    "\n",
    "regex = r\"\\S{8,20}\"\n",
    "\n",
    "for example in passwords:\n",
    "    if re.match(regex, example):\n",
    "      \tprint(\"The password {pass_example} is a valid password\".format(pass_example=example))\n",
    "    else:\n",
    "      \tprint(\"The password {pass_example} is invalid\".format(pass_example=example))   "
   ]
  },
  {
   "cell_type": "code",
   "execution_count": 4,
   "id": "02eeeb90",
   "metadata": {},
   "outputs": [
    {
     "name": "stdout",
     "output_type": "stream",
     "text": [
      "The email n.john.smith@gmail.com is a valid email\n",
      "The email 87victory@hotmail.com is a valid email\n",
      "The email !#mary-=@msca.net is invalid\n"
     ]
    }
   ],
   "source": [
    "emails = ['n.john.smith@gmail.com', '87victory@hotmail.com', '!#mary-=@msca.net']\n",
    "\n",
    "regex = r\"\\S@\\w+\\.com\"\n",
    "\n",
    "for example in emails:\n",
    "    if re.findall(regex, example):\n",
    "      \tprint(\"The email {email_example} is a valid email\".format(email_example=example))\n",
    "    else:\n",
    "      \tprint(\"The email {email_example} is invalid\".format(email_example=example))   "
   ]
  },
  {
   "cell_type": "markdown",
   "id": "3442555c",
   "metadata": {},
   "source": [
    "#### greedy vs lazy\n",
    "\n",
    "For example, if you want to extract a word starting with `a` and ending with `e` in the string `I like apple pie`, you may think that applying the greedy regex `a.+e` will return `apple`. However, your match will be `apple pie`. A way to overcome this is to make it lazy by using `?` which will return `apple`."
   ]
  },
  {
   "cell_type": "code",
   "execution_count": 13,
   "id": "40860695",
   "metadata": {},
   "outputs": [],
   "source": [
    "apple = 'I love apple pie. But I know someone who doesnt like apples.'"
   ]
  },
  {
   "cell_type": "code",
   "execution_count": 17,
   "id": "7e01d267",
   "metadata": {},
   "outputs": [
    {
     "name": "stdout",
     "output_type": "stream",
     "text": [
      "['apple pie. But I know someone who doesnt like soft apple']\n"
     ]
    }
   ],
   "source": [
    "# Greedy apple pie\n",
    "greedy_apple = re.findall(r\"a.+e\", apple)\n",
    "print(greedy_apple)"
   ]
  },
  {
   "cell_type": "code",
   "execution_count": 18,
   "id": "6dd4c012",
   "metadata": {},
   "outputs": [
    {
     "name": "stdout",
     "output_type": "stream",
     "text": [
      "['apple', 'apple']\n"
     ]
    }
   ],
   "source": [
    "# Lazy apple pie\n",
    "lazy_apple = re.findall(r\"a.+?e\", apple)\n",
    "print(lazy_apple)"
   ]
  },
  {
   "cell_type": "code",
   "execution_count": 23,
   "id": "5de94a20",
   "metadata": {},
   "outputs": [
    {
     "name": "stdout",
     "output_type": "stream",
     "text": [
      "[\"(They were so cute) a few yrs ago. PC crashed, and now I forget the name of the site (I'm crying)\"]\n",
      "['(They were so cute)', \"(I'm crying)\"]\n"
     ]
    }
   ],
   "source": [
    "# Example 2\n",
    "sentiment_analysis = \"Put vacation photos online (They were so cute) a few yrs ago. PC crashed, and now I forget the name of the site (I'm crying). \"\n",
    "\n",
    "greedy_sentence = re.findall(r\"\\(.*\\)\", sentiment_analysis)\n",
    "lazy_sentence = re.findall(r\"\\(.*?\\)\", sentiment_analysis)\n",
    "\n",
    "print(greedy_sentence)\n",
    "print(lazy_sentence)"
   ]
  },
  {
   "cell_type": "markdown",
   "id": "6d20f362",
   "metadata": {},
   "source": [
    "#### Grouping and capturing\n",
    "\n",
    "`()`\n",
    "Grouping and capturing\n",
    "\n",
    "`(?:)`\n",
    "Non-capturing\n",
    "\n",
    "`(word1|word2)`\n",
    "Alternation\n",
    "\n",
    "(`?P<word>`)\n",
    "Name a group\n",
    "\n",
    "(`?P=word`)\n",
    "Repeat a similar group\n",
    "\n",
    "(`\\g<word>)`\n",
    "Reference the group back for replacement\n",
    "\n",
    "`(?=word)` \n",
    "look-ahead (positive)\n",
    "\n",
    "`(?!word)` \n",
    "look-ahead (negative)\n",
    "\n",
    "`(?<=word)` \n",
    "look-behind, preceded (positive)\n",
    "\n",
    "`(?<!word)` \n",
    "look-behind, preceded (negative)"
   ]
  },
  {
   "cell_type": "code",
   "execution_count": 1,
   "id": "bf00f8c7",
   "metadata": {},
   "outputs": [],
   "source": [
    "import re"
   ]
  },
  {
   "cell_type": "code",
   "execution_count": 5,
   "id": "b662ca4c",
   "metadata": {},
   "outputs": [
    {
     "name": "stdout",
     "output_type": "stream",
     "text": [
      "['5', '3']\n",
      "['8755', '33']\n"
     ]
    }
   ],
   "source": [
    "# Attention\n",
    "my_string = 'My lucky numbers are 8755 and 33'\n",
    "\n",
    "# Seach for numbers found multiple times\n",
    "search1 = re.findall(r\"(\\d)+\", my_string)\n",
    "\n",
    "# Seach for numbers\n",
    "search2 = re.findall(r\"(\\d+)\", my_string)\n",
    "\n",
    "print(search1)\n",
    "print(search2)"
   ]
  },
  {
   "cell_type": "code",
   "execution_count": 7,
   "id": "6237123d",
   "metadata": {},
   "outputs": [
    {
     "name": "stdout",
     "output_type": "stream",
     "text": [
      "Lists of users found in this tweet: ['statravelAU', 'statravelpo']\n",
      "Lists of users found in this tweet: ['Hollywoodheat34']\n",
      "Lists of users found in this tweet: ['msdrama098']\n"
     ]
    }
   ],
   "source": [
    "# Strings\n",
    "sentiment_analysis = ['Just got ur newsletter, those fares really are unbelievable. Write to statravelAU@gmail.com or statravelpo@hotmail.com. They have amazing prices',\n",
    "                      'I should have paid more attention when we covered photoshop in my webpage design class in undergrad. Contact me Hollywoodheat34@msn.net.',\n",
    "                      'hey missed ya at the meeting. Read your email! msdrama098@hotmail.com']\n",
    "\n",
    "# Regex\n",
    "regex_email = r\"([A-Za-z0-9]+)@\\S+\"\n",
    "\n",
    "for tweet in sentiment_analysis:\n",
    "    email_matched = re.findall(regex_email, tweet)\n",
    "    print(\"Lists of users found in this tweet: {}\".format(email_matched))"
   ]
  },
  {
   "cell_type": "code",
   "execution_count": 14,
   "id": "2d258e43",
   "metadata": {},
   "outputs": [
    {
     "name": "stdout",
     "output_type": "stream",
     "text": [
      "Airline: IB - Flight number: 3723\n",
      "Departure: AMS - Destination: MAD\n",
      "Date: 06OCT\n"
     ]
    }
   ],
   "source": [
    "flight = 'Subject: You are now ready to fly. Here you have your boarding pass IB3723 AMS-MAD 06OCT'\n",
    "\n",
    "# Regex to capture information of the flight\n",
    "regex = r\"([A-Z]{2})(\\d{4})\\s([A-Z]{3})-([A-Z]{3})\\s(\\d{2}[A-Z]{3})\"\n",
    "\n",
    "# Find all matches of the flight information\n",
    "flight_matches = re.findall(regex, flight)\n",
    "\n",
    "# Print flight information\n",
    "print(\"Airline: {} - Flight number: {}\".format(flight_matches[0][0], flight_matches[0][1]))\n",
    "print(\"Departure: {} - Destination: {}\".format(flight_matches[0][2], flight_matches[0][3]))\n",
    "print(\"Date: {}\".format(flight_matches[0][4]))"
   ]
  },
  {
   "cell_type": "code",
   "execution_count": 15,
   "id": "def8aa70",
   "metadata": {},
   "outputs": [
    {
     "name": "stdout",
     "output_type": "stream",
     "text": [
      "Positive comments found [('love', 'concert', 'The Book of Souls World Tour')]\n",
      "Positive comments found [('enjoy', 'movie', 'Wreck-It Ralph')]\n",
      "Positive comments found [('like', 'movie', 'Wish Upon a Star')]\n"
     ]
    }
   ],
   "source": [
    "# Alternation\n",
    "\n",
    "sentiment_analysis = ['I totally love the concert The Book of Souls World Tour. It kinda amazing!',\n",
    "                      'I enjoy the movie Wreck-It Ralph. I watched with my boyfriend.',\n",
    "                      \"I still like the movie Wish Upon a Star. Too bad Disney doesn't show it anymore.\"]\n",
    "\n",
    "regex_positive = r\"(love|like|enjoy).+?(movie|concert)\\s(.+?)\\.\"\n",
    "\n",
    "for tweet in sentiment_analysis:\n",
    "    positive_matches = re.findall(regex_positive, tweet)\n",
    "    print(\"Positive comments found {}\".format(positive_matches))"
   ]
  },
  {
   "cell_type": "markdown",
   "id": "0669cf2b",
   "metadata": {},
   "source": [
    "Group"
   ]
  },
  {
   "cell_type": "code",
   "execution_count": 19,
   "id": "3d2017a6",
   "metadata": {},
   "outputs": [],
   "source": [
    "text = \"Python 3.0 was relseased on 12-03-2008.\"\n",
    "information = re.search('(\\d{1,2})-(\\d{2})-(\\d{4})', text)"
   ]
  },
  {
   "cell_type": "code",
   "execution_count": 20,
   "id": "7136e9ff",
   "metadata": {},
   "outputs": [
    {
     "data": {
      "text/plain": [
       "'12-03-2008'"
      ]
     },
     "execution_count": 20,
     "metadata": {},
     "output_type": "execute_result"
    }
   ],
   "source": [
    "# Entire expression\n",
    "information.group(0)"
   ]
  },
  {
   "cell_type": "code",
   "execution_count": 21,
   "id": "1d63aa26",
   "metadata": {},
   "outputs": [
    {
     "data": {
      "text/plain": [
       "'2008'"
      ]
     },
     "execution_count": 21,
     "metadata": {},
     "output_type": "execute_result"
    }
   ],
   "source": [
    "# Group 3\n",
    "information.group(3)"
   ]
  },
  {
   "cell_type": "markdown",
   "id": "d499d289",
   "metadata": {},
   "source": [
    "Named groups"
   ]
  },
  {
   "cell_type": "code",
   "execution_count": 25,
   "id": "60a7a535",
   "metadata": {},
   "outputs": [
    {
     "data": {
      "text/plain": [
       "'Austin'"
      ]
     },
     "execution_count": 25,
     "metadata": {},
     "output_type": "execute_result"
    }
   ],
   "source": [
    "text = 'Austin, 78701'\n",
    "cities = re.search(r\"(?P<city>[A-Za-z]+).*?(?P<zipcode>\\d{5})\", text)\n",
    "cities.group('city')"
   ]
  },
  {
   "cell_type": "code",
   "execution_count": 35,
   "id": "e202474e",
   "metadata": {},
   "outputs": [
    {
     "name": "stdout",
     "output_type": "stream",
     "text": [
      "['23424', '12345', '23456']\n"
     ]
    }
   ],
   "source": [
    "sentence = 'Your new cod number is 23424. Please, enter 23424 to open the door. Hello 12345 12345 23456 23456 23456!'\n",
    "match = re.findall(r\"(?P<code>\\d{5}).*(?P=code)\", sentence) # Find repeated word\n",
    "print(match)"
   ]
  },
  {
   "cell_type": "markdown",
   "id": "50517944",
   "metadata": {},
   "source": [
    "Backreference all matches by giving a backslash number"
   ]
  },
  {
   "cell_type": "code",
   "execution_count": 36,
   "id": "b02f9eba",
   "metadata": {},
   "outputs": [
    {
     "data": {
      "text/plain": [
       "['happy']"
      ]
     },
     "execution_count": 36,
     "metadata": {},
     "output_type": "execute_result"
    }
   ],
   "source": [
    "sentence = \"I wish you a happy happy birthday\"\n",
    "\n",
    "# Find repeated word\n",
    "re.findall(r\"(\\w+)\\s\\1\", sentence) # (\\w+) is assigned as the 1st group. Later you can call this group by \\1"
   ]
  },
  {
   "cell_type": "code",
   "execution_count": 37,
   "id": "410cc79d",
   "metadata": {},
   "outputs": [
    {
     "data": {
      "text/plain": [
       "'I wish you a happy birthday'"
      ]
     },
     "execution_count": 37,
     "metadata": {},
     "output_type": "execute_result"
    }
   ],
   "source": [
    "re.sub(r\"(\\w+)\\s\\1\", r\"\\1\", sentence) # Substitute the repeated word with 1 occurence of the same word"
   ]
  },
  {
   "cell_type": "code",
   "execution_count": 39,
   "id": "956ba4dd",
   "metadata": {},
   "outputs": [
    {
     "name": "stdout",
     "output_type": "stream",
     "text": [
      "Elongated word found: Moscooooooow\n",
      "Elongated word found: neighborrrrrrrs\n",
      "No elongated word found\n"
     ]
    }
   ],
   "source": [
    "sentiment_analysis = ['@marykatherine_q i know! I heard it this morning and wondered the same thing. Moscooooooow is so behind the times',\n",
    "                      'Staying at a friends house...neighborrrrrrrs are so loud-having a party',\n",
    "                      'Just woke up an already have read some e-mail']\n",
    "\n",
    "# Regex\n",
    "regex_elongated = r\"\\w*(\\w)\\1\\w*\"\n",
    "\n",
    "for tweet in sentiment_analysis:\n",
    "    match_elongated = re.search(regex_elongated, tweet)\n",
    "    \n",
    "    if match_elongated:\n",
    "        elongated_word = match_elongated.group(0)\n",
    "        print(\"Elongated word found: {word}\".format(word=elongated_word))\n",
    "    else:\n",
    "        print(\"No elongated word found\")    "
   ]
  },
  {
   "cell_type": "code",
   "execution_count": 38,
   "id": "b9bf8b9d",
   "metadata": {},
   "outputs": [
    {
     "name": "stdout",
     "output_type": "stream",
     "text": [
      "Your tag body is closed\n",
      "Your tag article is closed\n",
      "Close your nav tag!\n"
     ]
    }
   ],
   "source": [
    "html_tags = ['<body>Welcome to our course! It would be an awesome experience</body>',\n",
    "             '<article>To be a data scientist, you need to have knowledge in statistics and mathematics</article>',\n",
    "             '<nav>About me Links Contact me!']\n",
    "\n",
    "for string in html_tags:\n",
    "    # Complete the regex and find if it matches a closed HTML tags\n",
    "    match_tag =  re.match(r\"<(\\w+)>.*?</\\1>\", string)\n",
    "\n",
    "    if match_tag:\n",
    "        # If it matches print the first group capture\n",
    "        print(\"Your tag {} is closed\".format(match_tag.group(1))) \n",
    "    else:\n",
    "        # If it doesn't match capture only the tag \n",
    "        notmatch_tag = re.match(r\"<(\\w+)>\", string)\n",
    "        # Print the first group capture\n",
    "        print(\"Close your {} tag!\".format(notmatch_tag.group(1)))"
   ]
  },
  {
   "cell_type": "code",
   "execution_count": 40,
   "id": "88aaa8b1",
   "metadata": {},
   "outputs": [
    {
     "name": "stdout",
     "output_type": "stream",
     "text": [
      "['skills']\n"
     ]
    }
   ],
   "source": [
    "sentiment_analysis = 'You need excellent python skills to be a data scientist. Must be! Excellent python'\n",
    "look_behind = re.findall(r\"(?<=[Pp]ython\\s)\\w+\", sentiment_analysis)\n",
    "print(look_behind)"
   ]
  },
  {
   "cell_type": "code",
   "execution_count": null,
   "id": "1943a460",
   "metadata": {},
   "outputs": [],
   "source": []
  }
 ],
 "metadata": {
  "kernelspec": {
   "display_name": "Python 3 (ipykernel)",
   "language": "python",
   "name": "python3"
  },
  "language_info": {
   "codemirror_mode": {
    "name": "ipython",
    "version": 3
   },
   "file_extension": ".py",
   "mimetype": "text/x-python",
   "name": "python",
   "nbconvert_exporter": "python",
   "pygments_lexer": "ipython3",
   "version": "3.10.9"
  }
 },
 "nbformat": 4,
 "nbformat_minor": 5
}
