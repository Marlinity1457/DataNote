{
 "cells": [
  {
   "cell_type": "code",
   "execution_count": null,
   "id": "a7833e9c-4fdb-44fb-b8b0-8afa401020ce",
   "metadata": {},
   "outputs": [],
   "source": [
    "import pandas as pd\n",
    "import matplotlib.pyplot as plt\n",
    "import seaborn as sns"
   ]
  },
  {
   "cell_type": "markdown",
   "id": "fdae9308-26ff-4c2b-8126-aa4141c0724c",
   "metadata": {},
   "source": [
    "# Data exploration and cleaning\n",
    "\n",
    "The process of revieuwing and cleaning data to derive insights and generate hypotheses."
   ]
  },
  {
   "cell_type": "markdown",
   "id": "e3af12ba-c3a9-4818-88e2-04efae738d28",
   "metadata": {},
   "source": [
    "## 1. Get started \n",
    "\n",
    "Gather some basic information about the dataset."
   ]
  },
  {
   "cell_type": "code",
   "execution_count": null,
   "id": "66020fce-a623-4996-bfbf-622a31daa20f",
   "metadata": {},
   "outputs": [],
   "source": [
    "# import\n",
    "df = pd.read_csv('file.csv')\n",
    "\n",
    "# What meta data do we have? How does the dataset looks like?\n",
    "print(df.head())\n",
    "\n",
    "# Are there missing values? What type of values are included?\n",
    "df.info()\n",
    "df.dtypes"
   ]
  },
  {
   "cell_type": "markdown",
   "id": "573780a6-992e-4472-a222-6ccb4797c8a0",
   "metadata": {},
   "source": [
    "### Explore numerical data\n",
    "\n",
    "How is the data distributed? Some standaard describtions are given by .describe for the whole dataset."
   ]
  },
  {
   "cell_type": "code",
   "execution_count": null,
   "id": "f0c47112-b5cb-4bbc-bd66-809b0568f07a",
   "metadata": {},
   "outputs": [],
   "source": [
    "df.describe()"
   ]
  },
  {
   "cell_type": "code",
   "execution_count": null,
   "id": "9f6a8941-804b-44ba-8700-b2015ccee9ab",
   "metadata": {},
   "outputs": [],
   "source": [
    "sns.histplot(x = 'column', data = df, binwidth = 1)"
   ]
  },
  {
   "cell_type": "markdown",
   "id": "2a8fabaf-3004-4311-a4b3-84be16e00529",
   "metadata": {},
   "source": [
    "### Explore categorical data\n",
    "\n",
    "How many datapoints do we have in each catergory?"
   ]
  },
  {
   "cell_type": "code",
   "execution_count": null,
   "id": "fca6ac8a-204e-4bd9-9ea8-6cd8e1bfe33b",
   "metadata": {},
   "outputs": [],
   "source": [
    "df['columnname'].value_counts()"
   ]
  },
  {
   "cell_type": "markdown",
   "id": "5603290f-de44-4ad1-8be2-9b83a3b8e5a6",
   "metadata": {},
   "source": [
    "## 2. Validate and update datatypes\n",
    "\n",
    "Datatypes:\n",
    "* str\n",
    "* int\n",
    "* float\n",
    "* dict\n",
    "* list\n",
    "* bool"
   ]
  },
  {
   "cell_type": "markdown",
   "id": "01755ebc-3c72-46ca-8ece-cf6a2c15afd3",
   "metadata": {},
   "source": [
    "Identify the column types."
   ]
  },
  {
   "cell_type": "code",
   "execution_count": null,
   "id": "49e66863-6364-4bd6-ae64-571e31a90ce6",
   "metadata": {},
   "outputs": [],
   "source": [
    "# Check data types\n",
    "df.dtypes"
   ]
  },
  {
   "cell_type": "markdown",
   "id": "be6da787-3a4e-4985-991d-5abfb5048651",
   "metadata": {},
   "source": [
    "Is there something out of ordinary? The identification of the column types gives a first glimps of the data and what to clean."
   ]
  },
  {
   "cell_type": "markdown",
   "id": "1f0641a7-797d-4771-94c4-90143ec1bf12",
   "metadata": {},
   "source": [
    "### Validate numerical data"
   ]
  },
  {
   "cell_type": "markdown",
   "id": "876c99a0-8231-42f1-a6f6-92f05f189144",
   "metadata": {},
   "source": [
    "Identify the columns belonging to numerical data."
   ]
  },
  {
   "cell_type": "code",
   "execution_count": null,
   "id": "290d625a-2f2f-4382-828c-3c49ed8b1a99",
   "metadata": {},
   "outputs": [],
   "source": [
    "# Select columns that are numerical\n",
    "df.select_dtypes('number')"
   ]
  },
  {
   "cell_type": "code",
   "execution_count": null,
   "id": "86f0abee-6486-45e7-bfa8-45a0d029e428",
   "metadata": {},
   "outputs": [],
   "source": [
    "# Range\n",
    "df['column'].min()\n",
    "df['column'].max()"
   ]
  },
  {
   "cell_type": "code",
   "execution_count": null,
   "id": "5fdf307d-5651-46c6-9509-8bee4b105653",
   "metadata": {},
   "outputs": [],
   "source": [
    "# Distribution\n",
    "sns.boxplot(x = 'column', data = df)"
   ]
  },
  {
   "cell_type": "markdown",
   "id": "de454762-0bbb-4544-bd78-26b1628ea55f",
   "metadata": {},
   "source": [
    "Is there a column missing as numeric column? Then you have replace the type of the column."
   ]
  },
  {
   "cell_type": "code",
   "execution_count": null,
   "id": "3159238c-07dc-4b2c-9242-8c3960b525e6",
   "metadata": {},
   "outputs": [],
   "source": [
    "# Convert string to numbers (general)\n",
    "pd.Series.str.replace('char2remove', 'char2replacewith')"
   ]
  },
  {
   "cell_type": "code",
   "execution_count": null,
   "id": "c214343c-09ca-41c8-a7f5-1dc776805335",
   "metadata": {},
   "outputs": [],
   "source": [
    "# Remove , and replace with an empty string (example) \n",
    "df['column'] = df['column'].str.replace(',','')"
   ]
  },
  {
   "cell_type": "markdown",
   "id": "897e3c8e-95f8-4f2d-b72a-b1136845fbae",
   "metadata": {},
   "source": [
    "Update data type"
   ]
  },
  {
   "cell_type": "code",
   "execution_count": null,
   "id": "8ee3b659-69ac-4c3b-9d04-73e5b4b222db",
   "metadata": {},
   "outputs": [],
   "source": [
    "# Update dtype (general)\n",
    "df['column'] = df['column'].astype(new_datatype)"
   ]
  },
  {
   "cell_type": "code",
   "execution_count": null,
   "id": "987101fd-6caa-48b0-91bb-85a4f8512fb9",
   "metadata": {},
   "outputs": [],
   "source": [
    "# Update dtype (example)\n",
    "df['column'] = df['column'].astype(int)"
   ]
  },
  {
   "cell_type": "markdown",
   "id": "e102d85e-c8c0-44be-b1cd-f0c7cce404ef",
   "metadata": {},
   "source": [
    "### Validate categorical data"
   ]
  },
  {
   "cell_type": "markdown",
   "id": "125491a4-565d-4c7c-a0d9-b20000495a4b",
   "metadata": {},
   "source": [
    "Identify the columns belonging to categorical data."
   ]
  },
  {
   "cell_type": "code",
   "execution_count": null,
   "id": "365813ab-343d-44a2-8669-dfa4872e8576",
   "metadata": {},
   "outputs": [],
   "source": [
    "# Select columns that are categorical\n",
    "df.select_dtypes('object')"
   ]
  },
  {
   "cell_type": "markdown",
   "id": "958e21f0-94a3-4d7a-9331-b083c9503810",
   "metadata": {},
   "source": [
    "Using .isin() return a serie with True and False. This can be used for filtering."
   ]
  },
  {
   "cell_type": "code",
   "execution_count": null,
   "id": "beb482b8-7a31-4215-95db-dd4b6bed20be",
   "metadata": {},
   "outputs": [],
   "source": [
    "# Validate categorical data\n",
    "df['column'].isin([\"var1\",\"var2\"])\n",
    "~df['column'].isin([\"var1\",\"var2\"]) "
   ]
  },
  {
   "cell_type": "markdown",
   "id": "a463553f-fe27-4a74-b6a6-04178138dbba",
   "metadata": {},
   "source": [
    "## 3. Explore subsets\n",
    "\n",
    "bla bla"
   ]
  },
  {
   "cell_type": "markdown",
   "id": "c6f10419-91e1-430c-b4d6-9955b42e7ad0",
   "metadata": {},
   "source": [
    "### Numerical data\n",
    "\n",
    "..."
   ]
  },
  {
   "cell_type": "code",
   "execution_count": null,
   "id": "e7cdc026-ae9a-491e-a1c7-ae7948e0bddd",
   "metadata": {},
   "outputs": [],
   "source": [
    "# grouped data\n",
    "df.groupby('column')['column2'].mean()"
   ]
  },
  {
   "cell_type": "code",
   "execution_count": null,
   "id": "9d355973-2131-4897-8dae-a39b9b540476",
   "metadata": {},
   "outputs": [],
   "source": [
    "# Add summary statistic as a column to the dataset (example)\n",
    "df['new_column'] = df.groupby('column')['column'].transform(lambda x: x.std())"
   ]
  },
  {
   "cell_type": "markdown",
   "id": "154dc01f-9a5f-4be2-a871-7cbd0e3b2fca",
   "metadata": {},
   "source": [
    "### Categorical data\n",
    "\n",
    "Use groups of data to describe a subset of data using:\n",
    "* .group_by()\n",
    "\n",
    "with an aggragating function (only applies to numeric columns)\n",
    "* .agg()\n",
    "* .mean()\n",
    "* .median()\n",
    "* .min()\n",
    "* .max()\n",
    "* .sum()\n",
    "* .count()\n",
    "* .var()\n",
    "* .std()\n",
    "\n",
    "Aggregating functions can also apply for ungrouped data. This is often used if we want to apply more than one function. "
   ]
  },
  {
   "cell_type": "code",
   "execution_count": null,
   "id": "e77861f9-a2f1-4b1c-bc58-5d7fdc3c612f",
   "metadata": {},
   "outputs": [],
   "source": [
    "# grouped data\n",
    "df.groupby('column').mean()\n",
    "df.groupby('column').agg( name_col = ('column1', 'mean'),  (name_col2 = 'column1', 'std'), (name_col3 = ('column2', 'median') )"
   ]
  },
  {
   "cell_type": "code",
   "execution_count": null,
   "id": "b8bb4d3e-5f2f-404d-802a-9c64febe3d38",
   "metadata": {},
   "outputs": [],
   "source": [
    "# ungrouped data\n",
    "df.agg(['mean', 'std'])\n",
    "\n",
    "# ungrouped data with diff agg functions for diff columns\n",
    "df.agg({'column1': ['mean', 'var'], 'column2': ['median'])"
   ]
  },
  {
   "cell_type": "code",
   "execution_count": null,
   "id": "cccad8c4-e422-4273-b1a3-7393600c16d8",
   "metadata": {},
   "outputs": [],
   "source": [
    "# Visalization\n",
    "sns.barplot(x = 'column', y = 'column', data = df)"
   ]
  },
  {
   "cell_type": "markdown",
   "id": "abdc6b7e-1517-46e5-ab86-a7d5884e1932",
   "metadata": {},
   "source": [
    "## 4. Cleaning and imputation\n",
    "\n",
    "Missing data affects distributions, and gives a less representatative view of the data and can result in drawing incorrect conclusions."
   ]
  },
  {
   "cell_type": "markdown",
   "id": "2cbc497f-7b38-4270-ae11-824bf721635f",
   "metadata": {},
   "source": [
    "### Numerical data\n",
    "\n",
    "Stragegies for adressing missing data, by:\n",
    "* Drop missing values (<5% of total)\n",
    "* impute mean, median, mode (depends on distribution and context). mode = central tendency\n",
    "* Impute by sub-group"
   ]
  },
  {
   "cell_type": "code",
   "execution_count": null,
   "id": "1413c731-de06-4a5c-9d2c-0fc76f0aa06a",
   "metadata": {},
   "outputs": [],
   "source": [
    "# Check missing values for each column\n",
    "df.isna().sum()"
   ]
  },
  {
   "cell_type": "code",
   "execution_count": null,
   "id": "e66185a6-4d37-4f80-9388-4ce2b797985f",
   "metadata": {},
   "outputs": [],
   "source": [
    "# step 1: Filter columns with less than threshold (drop missing values)\n",
    "threshold = len(df)*0.05\n",
    "cols_to_drop = df.columns[df.isna().sum() <= threshold]\n",
    "df.dropna(subset = cols_to_drop, inplace = True)"
   ]
  },
  {
   "cell_type": "code",
   "execution_count": null,
   "id": "90028b50-41b7-445f-841b-af4fe2f86fa6",
   "metadata": {},
   "outputs": [],
   "source": [
    "# step 2: Filter remaining columns with missing values (impute sum statistics)\n",
    "cols_with_missing_values = df.columns[df.isna().sum() > 0]\n",
    "\n",
    "# This examples uses the mode statistics to fill missing values\n",
    "for col in cols_with_missing_values[:,-1]:\n",
    "    df[col].fillna(df[col].mode()[0])"
   ]
  },
  {
   "cell_type": "code",
   "execution_count": null,
   "id": "23ac3d03-94e0-4866-b20f-d220c3d81a96",
   "metadata": {},
   "outputs": [],
   "source": [
    "# step interm: Can you remove a whole column which has no influence on the missing data?\n",
    "df['columnname'].value_counts()"
   ]
  },
  {
   "cell_type": "code",
   "execution_count": null,
   "id": "dac71469-cac0-4c35-87b4-d9ef47e77c8c",
   "metadata": {},
   "outputs": [],
   "source": [
    "# Check remaining missing values for each column\n",
    "df.isna().sum()"
   ]
  },
  {
   "cell_type": "code",
   "execution_count": null,
   "id": "36315d1f-2bd5-47fa-8563-36ce29002636",
   "metadata": {},
   "outputs": [],
   "source": [
    "# Step 3: Add data using impute data of subgroups\n",
    "df_dict = df.groupby('columname1')['columnanme2'].median().to_dict()\n",
    "df['columnname2'] = df['columnname2'].fillna(df['columname1'].map(df_dict))\n",
    "\n",
    "# df['columnname2'].fillna(df['columname1'].map(df_dict)) --> fill NaN values with using a dictionary. It searches for the key [columname1] and gives the value for [columname2]"
   ]
  },
  {
   "cell_type": "code",
   "execution_count": null,
   "id": "e2a1979f-d083-40a5-a75d-0b41b66b5e68",
   "metadata": {},
   "outputs": [],
   "source": [
    "# Check  missing values for each column again\n",
    "df.isna().sum()"
   ]
  },
  {
   "cell_type": "markdown",
   "id": "f4c244d0-f849-4f82-8333-c044a3294f37",
   "metadata": {},
   "source": [
    "### Categorical data"
   ]
  },
  {
   "cell_type": "markdown",
   "id": "8f3bd00a-a1dd-41d4-bd87-d5c57c9a3128",
   "metadata": {},
   "source": [
    "Previewing only categorical data:"
   ]
  },
  {
   "cell_type": "code",
   "execution_count": null,
   "id": "c3f8cd1d-f771-4966-b838-8d9c19a77db1",
   "metadata": {},
   "outputs": [],
   "source": [
    "df.select_dtypes(\"objects\").head()"
   ]
  },
  {
   "cell_type": "markdown",
   "id": "6cf835e0-20a2-453e-bd77-66abf38f811c",
   "metadata": {},
   "source": [
    "Examine the frequency of columns"
   ]
  },
  {
   "cell_type": "code",
   "execution_count": null,
   "id": "b13610f1-8298-4453-bdfe-759ea5ee432a",
   "metadata": {},
   "outputs": [],
   "source": [
    "df['columnname'].unique()"
   ]
  },
  {
   "cell_type": "code",
   "execution_count": null,
   "id": "92be16e7-ebf1-4454-886e-84d1a67c7fc6",
   "metadata": {},
   "outputs": [],
   "source": [
    "df['columnname'].value_counts()"
   ]
  },
  {
   "cell_type": "code",
   "execution_count": null,
   "id": "35656e0e-f099-4d65-8c19-2db587099f55",
   "metadata": {},
   "outputs": [],
   "source": [
    "# print the number of unique values for each object column\n",
    "non_numeric = df.select_dtypes(\"object\")\n",
    "for col in non_numeric.columns:\n",
    "    # unique counts\n",
    "    print(f\"Number of unique values in {col} column: \", len(non_numeric[col].nunique()) )\n",
    "    # unique value count within each category\n",
    "    print(f\"Number of unique values in {col} column: \", non_numeric[col].value_counts() )"
   ]
  },
  {
   "cell_type": "markdown",
   "id": "5568b9ef-f425-4dfa-aca1-1eb9b3875252",
   "metadata": {},
   "source": [
    "A dataset can contain various names to describe a simiar category. These namings should be cleaned to the desired categorynames. \n",
    "\n",
    "Step 1: Make a list of new categories"
   ]
  },
  {
   "cell_type": "code",
   "execution_count": null,
   "id": "d25355b8-c558-4f68-b5c1-51febecd8b7d",
   "metadata": {},
   "outputs": [],
   "source": [
    "new_category = [\"cat1\", \"cat2\", \"cat3\"]"
   ]
  },
  {
   "cell_type": "markdown",
   "id": "baeb85bf-3a97-471c-a988-35821efa6497",
   "metadata": {},
   "source": [
    "step 2: Define phrases in strings"
   ]
  },
  {
   "cell_type": "code",
   "execution_count": null,
   "id": "26056953-d319-4a0a-a512-5565fde1cb70",
   "metadata": {},
   "outputs": [],
   "source": [
    "description1 = \"var_interest_1 | var_interest_2\"\n",
    "description2 = \"var_interest_1 | var_interest_2 | var_interest_3\"\n",
    "description3 = \"var_interest_1\""
   ]
  },
  {
   "cell_type": "markdown",
   "id": "a05d8031-38a3-4234-96fc-800f38778964",
   "metadata": {},
   "source": [
    "step 3: Create conditions\n",
    "* Use seach method for specific strings\n",
    "* Store those in a variable "
   ]
  },
  {
   "cell_type": "code",
   "execution_count": null,
   "id": "360c953c-4451-4b15-9878-37b255789498",
   "metadata": {},
   "outputs": [],
   "source": [
    "# Seach for specific string\n",
    "df['column'].str.constains('var_interest')"
   ]
  },
  {
   "cell_type": "code",
   "execution_count": null,
   "id": "10e33f7b-10b5-4de0-8944-a1d23712cc8d",
   "metadata": {},
   "outputs": [],
   "source": [
    "# Seach for specific multiple strings\n",
    "df['column'].str.constains('var_interest_1 | var_interest_2')"
   ]
  },
  {
   "cell_type": "code",
   "execution_count": null,
   "id": "1d612ea5-5d73-4e98-99d8-7b038425602d",
   "metadata": {},
   "outputs": [],
   "source": [
    "# Store conditions in a list\n",
    "conditions = [(df['column'].str.constains(description1),\n",
    "               df['column'].str.constains(description2),\n",
    "               df['column'].str.constains(description3))]"
   ]
  },
  {
   "cell_type": "markdown",
   "id": "6879f472-9216-4a70-91d6-d3b8bae7e16c",
   "metadata": {},
   "source": [
    "step 4: Create a new category column"
   ]
  },
  {
   "cell_type": "code",
   "execution_count": null,
   "id": "23f86944-12fb-4eb3-b5d5-19d53441f34e",
   "metadata": {},
   "outputs": [],
   "source": [
    "# New column with condition applied\n",
    "df.['new_columname'] = np.select(conditions, new_category, default = \"Other\")"
   ]
  },
  {
   "cell_type": "markdown",
   "id": "d9c4f41f-ef9f-4d2b-b4bb-ba99eb431bd9",
   "metadata": {},
   "source": [
    "step 5: Verify the variety of values in a column"
   ]
  },
  {
   "cell_type": "code",
   "execution_count": null,
   "id": "d359a7a9-3c3c-4dc2-a9b1-1cd9ac3f80fa",
   "metadata": {},
   "outputs": [],
   "source": [
    "# Distribution\n",
    "sns.countplot(x = 'column', data = df)"
   ]
  }
 ],
 "metadata": {
  "kernelspec": {
   "display_name": "Python 3 (ipykernel)",
   "language": "python",
   "name": "python3"
  },
  "language_info": {
   "codemirror_mode": {
    "name": "ipython",
    "version": 3
   },
   "file_extension": ".py",
   "mimetype": "text/x-python",
   "name": "python",
   "nbconvert_exporter": "python",
   "pygments_lexer": "ipython3",
   "version": "3.10.9"
  }
 },
 "nbformat": 4,
 "nbformat_minor": 5
}
