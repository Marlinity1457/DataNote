{
 "cells": [
  {
   "cell_type": "code",
   "execution_count": null,
   "id": "4b236efa-c39f-47d8-832c-1eaf3409bbf9",
   "metadata": {},
   "outputs": [],
   "source": [
    "import pandas as pd\n",
    "import matplotlib.pyplot as plt\n",
    "import seaborn as sns"
   ]
  },
  {
   "cell_type": "markdown",
   "id": "0d3dc038-3777-496d-9d89-dfd4f7fd1123",
   "metadata": {},
   "source": [
    "# Correlation"
   ]
  },
  {
   "cell_type": "markdown",
   "id": "ae4bd060-aeda-48d7-9014-ed7ab0846154",
   "metadata": {},
   "source": [
    "Describtion of the direction and strenght of the relationship between variables. The Pearson correlation coefficient measures a linear relationship.\n",
    "* 0 --> weak relationship\n",
    "* 1 --> strong relationship\n",
    "* -1 --> strong inverse relationship"
   ]
  },
  {
   "cell_type": "code",
   "execution_count": null,
   "id": "ada5ea4a-6835-4759-8cb4-f6987ac91c25",
   "metadata": {},
   "outputs": [],
   "source": [
    "# correlation\n",
    "df.corr()"
   ]
  },
  {
   "cell_type": "code",
   "execution_count": null,
   "id": "ed2f92e9-46da-4a01-bc65-2855947248fe",
   "metadata": {},
   "outputs": [],
   "source": [
    "# Heatmap for quick interpretation\n",
    "sns.heatmap(df.corr(), annot = True)"
   ]
  },
  {
   "cell_type": "code",
   "execution_count": null,
   "id": "892d0483-c9c4-4219-ae59-18ea40c47908",
   "metadata": {},
   "outputs": [],
   "source": [
    "# Pairplot for all possible relationships\n",
    "sns.pairplot(data = df, vars = ['column','column','column'])"
   ]
  },
  {
   "cell_type": "code",
   "execution_count": null,
   "id": "f54b8ad8-0085-4f0f-b2f3-65b7548a1fbe",
   "metadata": {},
   "outputs": [],
   "source": [
    "# Multiple distribution plot\n",
    "sns.kdeplot(data = df, x = 'column', hue = 'column', cut = 0, cumulative = False) # cut = set the cut-off lower or upper values, cumulative = propability y =< x "
   ]
  }
 ],
 "metadata": {
  "kernelspec": {
   "display_name": "Python 3 (ipykernel)",
   "language": "python",
   "name": "python3"
  },
  "language_info": {
   "codemirror_mode": {
    "name": "ipython",
    "version": 3
   },
   "file_extension": ".py",
   "mimetype": "text/x-python",
   "name": "python",
   "nbconvert_exporter": "python",
   "pygments_lexer": "ipython3",
   "version": "3.10.9"
  }
 },
 "nbformat": 4,
 "nbformat_minor": 5
}
