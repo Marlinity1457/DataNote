{
 "cells": [
  {
   "cell_type": "code",
   "execution_count": null,
   "id": "ab79406c-d133-44c4-93b7-be1e425175c0",
   "metadata": {},
   "outputs": [],
   "source": [
    "import pandas as pd\n",
    "import matplotlib.pyplot as plt\n",
    "import seaborn as sns"
   ]
  },
  {
   "cell_type": "markdown",
   "id": "6d5824a5-0c03-479b-9e37-354dce873e58",
   "metadata": {},
   "source": [
    "# Cleaning and imputation\n",
    "\n",
    "Missing data affects distributions, and gives a less representatative view of the data and can result in drawing incorrect conclusions."
   ]
  },
  {
   "cell_type": "markdown",
   "id": "8cbdf69d-7adb-473d-b029-f2d12fbee083",
   "metadata": {},
   "source": [
    "### Numerical data\n",
    "\n",
    "Stragegies for adressing missing data, by:\n",
    "* Drop missing values (<5% of total)\n",
    "* impute mean, median, mode (depends on distribution and context). mode = central tendency\n",
    "* Impute by sub-group"
   ]
  },
  {
   "cell_type": "code",
   "execution_count": null,
   "id": "43caea93-4932-4f5a-b854-3794a5730c3e",
   "metadata": {},
   "outputs": [],
   "source": [
    "# Check missing values for each column\n",
    "df.isna().sum()"
   ]
  },
  {
   "cell_type": "code",
   "execution_count": null,
   "id": "cb903443-e750-4e7e-82cc-30ad4427e11e",
   "metadata": {},
   "outputs": [],
   "source": [
    "# step 1: Filter columns with less than threshold (drop missing values)\n",
    "threshold = len(df)*0.05\n",
    "cols_to_drop = df.columns[df.isna().sum() <= threshold]\n",
    "df.dropna(subset = cols_to_drop, inplace = True)"
   ]
  },
  {
   "cell_type": "code",
   "execution_count": null,
   "id": "73ec2848-8e49-43cd-9e6d-178849d50879",
   "metadata": {},
   "outputs": [],
   "source": [
    "# step 2: Filter remaining columns with missing values (impute sum statistics)\n",
    "cols_with_missing_values = df.columns[df.isna().sum() > 0]\n",
    "\n",
    "# This examples uses the mode statistics to fill missing values\n",
    "for col in cols_with_missing_values[:,-1]:\n",
    "    df[col].fillna(df[col].mode()[0])"
   ]
  },
  {
   "cell_type": "code",
   "execution_count": null,
   "id": "6b5b3d8d-80fa-4af7-9639-ea883637dc12",
   "metadata": {},
   "outputs": [],
   "source": [
    "# step interm: Can you remove a whole column which has no influence on the missing data?\n",
    "df['columnname'].value_counts()"
   ]
  },
  {
   "cell_type": "code",
   "execution_count": null,
   "id": "2a19ba9d-493d-4c05-a7ca-738287932ed4",
   "metadata": {},
   "outputs": [],
   "source": [
    "# Check remaining missing values for each column\n",
    "df.isna().sum()"
   ]
  },
  {
   "cell_type": "code",
   "execution_count": null,
   "id": "71f70598-fd7d-4660-b55d-e3cbe896d183",
   "metadata": {},
   "outputs": [],
   "source": [
    "# Step 3: Add data using impute data of subgroups\n",
    "df_dict = df.groupby('columname1')['columnanme2'].median().to_dict()\n",
    "df['columnname2'] = df['columnname2'].fillna(df['columname1'].map(df_dict))\n",
    "\n",
    "# df['columnname2'].fillna(df['columname1'].map(df_dict)) --> fill NaN values with using a dictionary. It searches for the key [columname1] and gives the value for [columname2]"
   ]
  },
  {
   "cell_type": "code",
   "execution_count": null,
   "id": "ff8de16b-6e18-4d29-9482-c03fa3627ab8",
   "metadata": {},
   "outputs": [],
   "source": [
    "# Check  missing values for each column again\n",
    "df.isna().sum()"
   ]
  },
  {
   "cell_type": "markdown",
   "id": "25a45128-c917-40c4-b767-0fb9c27ec63e",
   "metadata": {},
   "source": [
    "## Categorical data"
   ]
  },
  {
   "cell_type": "markdown",
   "id": "bf3abb6e-7191-49f0-9347-b8a74ff50785",
   "metadata": {},
   "source": [
    "Previewing only categorical data:"
   ]
  },
  {
   "cell_type": "code",
   "execution_count": null,
   "id": "c71e18f3-edc8-4704-85b8-9c040de20905",
   "metadata": {},
   "outputs": [],
   "source": [
    "df.select_dtypes(\"objects\").head()"
   ]
  },
  {
   "cell_type": "markdown",
   "id": "f9e9b083-5e71-4930-906b-aab759cfa67f",
   "metadata": {},
   "source": [
    "Examine the frequency of columns"
   ]
  },
  {
   "cell_type": "code",
   "execution_count": null,
   "id": "713c56a0-f9b3-4cef-9315-dae1e1022845",
   "metadata": {},
   "outputs": [],
   "source": [
    "df['columnname'].unique()"
   ]
  },
  {
   "cell_type": "code",
   "execution_count": null,
   "id": "e9758419-2bc6-45f7-9c63-7cc8b316742a",
   "metadata": {},
   "outputs": [],
   "source": [
    "df['columnname'].value_counts()"
   ]
  },
  {
   "cell_type": "code",
   "execution_count": null,
   "id": "cfe1e0ae-951c-4d91-b511-4a63ce024cf8",
   "metadata": {},
   "outputs": [],
   "source": [
    "# print the number of unique values for each object column\n",
    "non_numeric = df.select_dtypes(\"object\")\n",
    "for col in non_numeric.columns:\n",
    "    # unique counts\n",
    "    print(f\"Number of unique values in {col} column: \", len(non_numeric[col].nunique()) )\n",
    "    # unique value count within each category\n",
    "    print(f\"Number of unique values in {col} column: \", non_numeric[col].value_counts() )"
   ]
  },
  {
   "cell_type": "markdown",
   "id": "ffed7e0e-4692-4c4d-a6eb-46f617d6107f",
   "metadata": {},
   "source": [
    "A dataset can contain various names to describe a simiar category. These namings should be cleaned to the desired categorynames. \n",
    "\n",
    "Step 1: Make a list of new categories"
   ]
  },
  {
   "cell_type": "code",
   "execution_count": null,
   "id": "4253d2f5-3050-46d6-b9a2-26852ae6f3cc",
   "metadata": {},
   "outputs": [],
   "source": [
    "new_category = [\"cat1\", \"cat2\", \"cat3\"]"
   ]
  },
  {
   "cell_type": "markdown",
   "id": "8cd45588-21c8-4e8c-a5d5-e62b4b3dfddc",
   "metadata": {},
   "source": [
    "step 2: Define phrases in strings"
   ]
  },
  {
   "cell_type": "code",
   "execution_count": null,
   "id": "7843a512-f558-413a-a6a9-878ff50152f6",
   "metadata": {},
   "outputs": [],
   "source": [
    "description1 = \"var_interest_1 | var_interest_2\"\n",
    "description2 = \"var_interest_1 | var_interest_2 | var_interest_3\"\n",
    "description3 = \"var_interest_1\""
   ]
  },
  {
   "cell_type": "markdown",
   "id": "634849ea-c42f-493e-93af-d1f353cdf748",
   "metadata": {},
   "source": [
    "step 3: Create conditions\n",
    "* Use seach method for specific strings\n",
    "* Store those in a variable "
   ]
  },
  {
   "cell_type": "code",
   "execution_count": null,
   "id": "8ee427c2-9588-4bf9-bdd8-4afca87f6024",
   "metadata": {},
   "outputs": [],
   "source": [
    "# Seach for specific string\n",
    "df['column'].str.constains('var_interest')"
   ]
  },
  {
   "cell_type": "code",
   "execution_count": null,
   "id": "6d34efd4-af83-49e6-875b-e456e4c0e048",
   "metadata": {},
   "outputs": [],
   "source": [
    "# Seach for specific multiple strings\n",
    "df['column'].str.constains('var_interest_1 | var_interest_2')"
   ]
  },
  {
   "cell_type": "code",
   "execution_count": null,
   "id": "5d7fb907-ca98-4bdf-970a-c9dd0a3a228a",
   "metadata": {},
   "outputs": [],
   "source": [
    "# Store conditions in a list\n",
    "conditions = [(df['column'].str.contains(description1),\n",
    "               df['column'].str.contains(description2),\n",
    "               df['column'].str.contains(description3))]"
   ]
  },
  {
   "cell_type": "markdown",
   "id": "e0e7f9d4-e702-4baa-990f-fc9773de0e2b",
   "metadata": {},
   "source": [
    "step 4: Create a new category column"
   ]
  },
  {
   "cell_type": "code",
   "execution_count": null,
   "id": "3e2e3bea-d539-40a2-af27-d815d012a68b",
   "metadata": {},
   "outputs": [],
   "source": [
    "# New column with condition applied\n",
    "df.['new_columname'] = np.select(conditions, new_category, default = \"Other\")"
   ]
  },
  {
   "cell_type": "markdown",
   "id": "25f9cf73-dba5-4e27-9afc-985838e16076",
   "metadata": {},
   "source": [
    "step 5: Verify the variety of values in a column"
   ]
  },
  {
   "cell_type": "code",
   "execution_count": null,
   "id": "d8030262-5374-47f6-af8e-61d72f5be53f",
   "metadata": {},
   "outputs": [],
   "source": [
    "# Distribution\n",
    "sns.countplot(x = 'column', data = df)"
   ]
  }
 ],
 "metadata": {
  "kernelspec": {
   "display_name": "Python 3 (ipykernel)",
   "language": "python",
   "name": "python3"
  },
  "language_info": {
   "codemirror_mode": {
    "name": "ipython",
    "version": 3
   },
   "file_extension": ".py",
   "mimetype": "text/x-python",
   "name": "python",
   "nbconvert_exporter": "python",
   "pygments_lexer": "ipython3",
   "version": "3.10.9"
  }
 },
 "nbformat": 4,
 "nbformat_minor": 5
}
