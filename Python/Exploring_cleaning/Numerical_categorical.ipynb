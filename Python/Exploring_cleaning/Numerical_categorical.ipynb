{
 "cells": [
  {
   "cell_type": "code",
   "execution_count": null,
   "id": "a7833e9c-4fdb-44fb-b8b0-8afa401020ce",
   "metadata": {},
   "outputs": [],
   "source": [
    "import pandas as pd\n",
    "import matplotlib.pyplot as plt\n",
    "import seaborn as sns"
   ]
  },
  {
   "cell_type": "markdown",
   "id": "fdae9308-26ff-4c2b-8126-aa4141c0724c",
   "metadata": {},
   "source": [
    "# Data exploration\n",
    "\n",
    "The process of revieuwing and cleaning data to derive insights and generate hypotheses."
   ]
  },
  {
   "cell_type": "markdown",
   "id": "e3af12ba-c3a9-4818-88e2-04efae738d28",
   "metadata": {},
   "source": [
    "## 1. Get started \n",
    "\n",
    "Gather some basic information about the dataset."
   ]
  },
  {
   "cell_type": "code",
   "execution_count": null,
   "id": "66020fce-a623-4996-bfbf-622a31daa20f",
   "metadata": {},
   "outputs": [],
   "source": [
    "# import\n",
    "df = pd.read_csv('file.csv')\n",
    "\n",
    "# What meta data do we have? How does the dataset looks like?\n",
    "print(df.head())\n",
    "\n",
    "# Are there missing values? What type of values are included?\n",
    "df.info()\n",
    "df.dtypes"
   ]
  },
  {
   "cell_type": "markdown",
   "id": "4814c7c7-f499-421b-9b5c-06a113005c63",
   "metadata": {},
   "source": [
    "Usually datetime columns are imported and read as objects or strings. But you want to convert those columns back to datetime as it has many advangtages to work with datetime objectes."
   ]
  },
  {
   "cell_type": "code",
   "execution_count": null,
   "id": "c133bb89-8f5b-4e54-89cb-8dec06ecda72",
   "metadata": {},
   "outputs": [],
   "source": [
    "# Import data with datacolumn as date (instead of string/object)\n",
    "df = pd.read_csv('file.csv', parse_dates = ['date_column'])\n",
    "\n",
    "# Or afterwards\n",
    "df['date_column'] = pd.to_datetime(df['date_column'])\n",
    "\n",
    "# Or afterwards combining (if month, date, year were separate columns)\n",
    "df['date_column'] = pd.to_datetime(df[['month','day','year']])\n",
    "\n",
    "# Only extract month, day, or year\n",
    "df['date_column'] = pd.to_datetime(df['date_column']).dt.month\n",
    "df['date_column'] = pd.to_datetime(df['date_column']).dt.day\n",
    "df['date_column'] = pd.to_datetime(df['date_column']).dt.year"
   ]
  },
  {
   "cell_type": "markdown",
   "id": "800dbe3f-b2df-4fa2-a19e-3477384c4732",
   "metadata": {},
   "source": [
    "## 2. Description of the data"
   ]
  },
  {
   "cell_type": "markdown",
   "id": "573780a6-992e-4472-a222-6ccb4797c8a0",
   "metadata": {},
   "source": [
    "### Explore numerical data\n",
    "\n",
    "How is the data distributed? Some standaard describtions are given by .describe for the whole dataset."
   ]
  },
  {
   "cell_type": "code",
   "execution_count": null,
   "id": "f0c47112-b5cb-4bbc-bd66-809b0568f07a",
   "metadata": {},
   "outputs": [],
   "source": [
    "df['columnname'].describe()"
   ]
  },
  {
   "cell_type": "markdown",
   "id": "03e647b8-7da7-4929-94c7-0fdac19795a7",
   "metadata": {},
   "source": [
    "### Explore numerical data -- outliers"
   ]
  },
  {
   "cell_type": "code",
   "execution_count": null,
   "id": "9f6a8941-804b-44ba-8700-b2015ccee9ab",
   "metadata": {},
   "outputs": [],
   "source": [
    "sns.histplot(x = 'column', data = df, binwidth = 1)"
   ]
  },
  {
   "cell_type": "markdown",
   "id": "3b9d85c8-f32c-4558-b4cf-99d217333a9f",
   "metadata": {},
   "source": [
    "Determine outliers:\n",
    "* Upper outliers >75th percentile + (1.5*IQR)\n",
    "* Lower outliers <75th percentile - (1.5*IQR)"
   ]
  },
  {
   "cell_type": "code",
   "execution_count": null,
   "id": "f3e22b45-f9af-4dda-a40a-879cdf6371d9",
   "metadata": {},
   "outputs": [],
   "source": [
    "# 75th percentile\n",
    "seventy_fifth = df['column'].quantile(0.75)\n",
    "\n",
    "# 25th percentile\n",
    "twenty_fifth = df['column'].quantile(0.25)"
   ]
  },
  {
   "cell_type": "code",
   "execution_count": null,
   "id": "a10aa468-5a0c-4038-b5d1-669ac2326e0c",
   "metadata": {},
   "outputs": [],
   "source": [
    "# IQR\n",
    "df_IQR = seventy_fifth - twenty_fifth"
   ]
  },
  {
   "cell_type": "code",
   "execution_count": null,
   "id": "be430e01-81ea-413e-b3e0-eec222f6ea9b",
   "metadata": {},
   "outputs": [],
   "source": [
    "# Upper threshold\n",
    "upper = seventy_fifth + (1.5* df_IQR)\n",
    "\n",
    "# Lower threshold\n",
    "lower = twenty_fifth - (1.5* df_IQR)"
   ]
  },
  {
   "cell_type": "code",
   "execution_count": null,
   "id": "ed675578-26ea-4d66-93a0-d89ec2661231",
   "metadata": {},
   "outputs": [],
   "source": [
    "# Select outliers\n",
    "df[df['column'] < lower | df['column'] > upper]['column', 'column', 'column']"
   ]
  },
  {
   "cell_type": "markdown",
   "id": "2a8fabaf-3004-4311-a4b3-84be16e00529",
   "metadata": {},
   "source": [
    "### Explore categorical data\n",
    "\n",
    "How many datapoints do we have in each catergory?"
   ]
  },
  {
   "cell_type": "code",
   "execution_count": null,
   "id": "fca6ac8a-204e-4bd9-9ea8-6cd8e1bfe33b",
   "metadata": {},
   "outputs": [],
   "source": [
    "# Absolute numbers\n",
    "df['columnname'].value_counts()"
   ]
  },
  {
   "cell_type": "code",
   "execution_count": null,
   "id": "2c4cbafe-469e-4f1b-b4a9-8214141d2ab6",
   "metadata": {},
   "outputs": [],
   "source": [
    "# Relative frequencies\n",
    "df['columnname'].value_counts(normalize = True)"
   ]
  },
  {
   "cell_type": "markdown",
   "id": "c6f8c424-04b0-441e-a61e-3c34a2adc011",
   "metadata": {},
   "source": [
    "Cross tabulation enables to examine the frequency of combinations of classes."
   ]
  },
  {
   "cell_type": "code",
   "execution_count": null,
   "id": "67973309-0c1e-4de5-b088-7c6d250c77bd",
   "metadata": {},
   "outputs": [],
   "source": [
    "# Cross tabulation\n",
    "pd.crosstab(df['columnname_index'], df['columnname1'])"
   ]
  },
  {
   "cell_type": "code",
   "execution_count": null,
   "id": "84e1693a-e02a-4aa4-aa3b-8ce5c429021c",
   "metadata": {},
   "outputs": [],
   "source": [
    "# Cross tabulation with calculation \n",
    "pd.crosstab(df['columnname_index'], df['columnname1'], values = df['columnname2'], aggfunc = 'median')"
   ]
  },
  {
   "cell_type": "markdown",
   "id": "5603290f-de44-4ad1-8be2-9b83a3b8e5a6",
   "metadata": {},
   "source": [
    "## 3. Validate and update datatypes\n",
    "\n",
    "Datatypes:\n",
    "* str\n",
    "* int\n",
    "* float\n",
    "* dict\n",
    "* list\n",
    "* bool"
   ]
  },
  {
   "cell_type": "markdown",
   "id": "01755ebc-3c72-46ca-8ece-cf6a2c15afd3",
   "metadata": {},
   "source": [
    "Identify the column types."
   ]
  },
  {
   "cell_type": "code",
   "execution_count": null,
   "id": "49e66863-6364-4bd6-ae64-571e31a90ce6",
   "metadata": {},
   "outputs": [],
   "source": [
    "# Check data types\n",
    "df.dtypes"
   ]
  },
  {
   "cell_type": "markdown",
   "id": "be6da787-3a4e-4985-991d-5abfb5048651",
   "metadata": {},
   "source": [
    "Is there something out of ordinary? The identification of the column types gives a first glimps of the data and what to clean."
   ]
  },
  {
   "cell_type": "markdown",
   "id": "1f0641a7-797d-4771-94c4-90143ec1bf12",
   "metadata": {},
   "source": [
    "### Validate numerical data"
   ]
  },
  {
   "cell_type": "markdown",
   "id": "876c99a0-8231-42f1-a6f6-92f05f189144",
   "metadata": {},
   "source": [
    "Identify the columns belonging to numerical data."
   ]
  },
  {
   "cell_type": "code",
   "execution_count": null,
   "id": "290d625a-2f2f-4382-828c-3c49ed8b1a99",
   "metadata": {},
   "outputs": [],
   "source": [
    "# Select columns that are numerical\n",
    "df.select_dtypes('number')"
   ]
  },
  {
   "cell_type": "code",
   "execution_count": null,
   "id": "86f0abee-6486-45e7-bfa8-45a0d029e428",
   "metadata": {},
   "outputs": [],
   "source": [
    "# Range\n",
    "df['column'].min()\n",
    "df['column'].max()"
   ]
  },
  {
   "cell_type": "code",
   "execution_count": null,
   "id": "5fdf307d-5651-46c6-9509-8bee4b105653",
   "metadata": {},
   "outputs": [],
   "source": [
    "# Distribution\n",
    "sns.boxplot(x = 'column', data = df)"
   ]
  },
  {
   "cell_type": "markdown",
   "id": "de454762-0bbb-4544-bd78-26b1628ea55f",
   "metadata": {},
   "source": [
    "Is there a column missing as numeric column? Then you have replace the type of the column."
   ]
  },
  {
   "cell_type": "code",
   "execution_count": null,
   "id": "3159238c-07dc-4b2c-9242-8c3960b525e6",
   "metadata": {},
   "outputs": [],
   "source": [
    "# Convert string to numbers (general)\n",
    "pd.Series.str.replace('char2remove', 'char2replacewith')"
   ]
  },
  {
   "cell_type": "code",
   "execution_count": null,
   "id": "c214343c-09ca-41c8-a7f5-1dc776805335",
   "metadata": {},
   "outputs": [],
   "source": [
    "# Remove , and replace with an empty string (example) \n",
    "df['column'] = df['column'].str.replace(',','')"
   ]
  },
  {
   "cell_type": "markdown",
   "id": "897e3c8e-95f8-4f2d-b72a-b1136845fbae",
   "metadata": {},
   "source": [
    "Update data type"
   ]
  },
  {
   "cell_type": "code",
   "execution_count": null,
   "id": "8ee3b659-69ac-4c3b-9d04-73e5b4b222db",
   "metadata": {},
   "outputs": [],
   "source": [
    "# Update dtype (general)\n",
    "df['column'] = df['column'].astype(new_datatype)"
   ]
  },
  {
   "cell_type": "code",
   "execution_count": null,
   "id": "987101fd-6caa-48b0-91bb-85a4f8512fb9",
   "metadata": {},
   "outputs": [],
   "source": [
    "# Update dtype (example)\n",
    "df['column'] = df['column'].astype(int)"
   ]
  },
  {
   "cell_type": "markdown",
   "id": "e102d85e-c8c0-44be-b1cd-f0c7cce404ef",
   "metadata": {},
   "source": [
    "### Validate categorical data"
   ]
  },
  {
   "cell_type": "markdown",
   "id": "125491a4-565d-4c7c-a0d9-b20000495a4b",
   "metadata": {},
   "source": [
    "Identify the columns belonging to categorical data."
   ]
  },
  {
   "cell_type": "code",
   "execution_count": null,
   "id": "365813ab-343d-44a2-8669-dfa4872e8576",
   "metadata": {},
   "outputs": [],
   "source": [
    "# Select columns that are categorical\n",
    "df.select_dtypes('object')"
   ]
  },
  {
   "cell_type": "markdown",
   "id": "958e21f0-94a3-4d7a-9331-b083c9503810",
   "metadata": {},
   "source": [
    "Using .isin() return a serie with True and False. This can be used for filtering."
   ]
  },
  {
   "cell_type": "code",
   "execution_count": null,
   "id": "beb482b8-7a31-4215-95db-dd4b6bed20be",
   "metadata": {},
   "outputs": [],
   "source": [
    "# Validate categorical data\n",
    "df['column'].isin([\"var1\",\"var2\"])\n",
    "~df['column'].isin([\"var1\",\"var2\"]) "
   ]
  },
  {
   "cell_type": "markdown",
   "id": "a463553f-fe27-4a74-b6a6-04178138dbba",
   "metadata": {},
   "source": [
    "## 4. Explore subsets\n",
    "\n",
    "bla bla"
   ]
  },
  {
   "cell_type": "markdown",
   "id": "c6f10419-91e1-430c-b4d6-9955b42e7ad0",
   "metadata": {},
   "source": [
    "### Numerical data\n",
    "\n",
    "..."
   ]
  },
  {
   "cell_type": "code",
   "execution_count": null,
   "id": "e7cdc026-ae9a-491e-a1c7-ae7948e0bddd",
   "metadata": {},
   "outputs": [],
   "source": [
    "# grouped data\n",
    "df.groupby('column')['column2'].mean()"
   ]
  },
  {
   "cell_type": "code",
   "execution_count": null,
   "id": "9d355973-2131-4897-8dae-a39b9b540476",
   "metadata": {},
   "outputs": [],
   "source": [
    "# Add summary statistic as a column to the dataset (example)\n",
    "df['new_column'] = df.groupby('column')['column'].transform(lambda x: x.std())\n",
    "\n",
    "# or (similar result)\n",
    "df['new_column'] = df.groupby('column')['column'].transform('std')"
   ]
  },
  {
   "cell_type": "markdown",
   "id": "154dc01f-9a5f-4be2-a871-7cbd0e3b2fca",
   "metadata": {},
   "source": [
    "### Categorical data\n",
    "\n",
    "Use groups of data to describe a subset of data using:\n",
    "* .group_by()\n",
    "\n",
    "with an aggragating function (only applies to numeric columns)\n",
    "* .agg()\n",
    "* .mean()\n",
    "* .median()\n",
    "* .min()\n",
    "* .max()\n",
    "* .sum()\n",
    "* .count()\n",
    "* .var()\n",
    "* .std()\n",
    "\n",
    "Aggregating functions can also apply for ungrouped data. This is often used if we want to apply more than one function. "
   ]
  },
  {
   "cell_type": "code",
   "execution_count": null,
   "id": "e77861f9-a2f1-4b1c-bc58-5d7fdc3c612f",
   "metadata": {},
   "outputs": [],
   "source": [
    "# grouped data\n",
    "df.groupby('column').mean()\n",
    "df.groupby('column').agg( name_col = ('column1', 'mean'),  name_col2 = ('column1', 'std'), name_col3 = ('column2', 'median') )"
   ]
  },
  {
   "cell_type": "code",
   "execution_count": null,
   "id": "b8bb4d3e-5f2f-404d-802a-9c64febe3d38",
   "metadata": {},
   "outputs": [],
   "source": [
    "# ungrouped data\n",
    "df.agg(['mean', 'std'])\n",
    "\n",
    "# ungrouped data with diff agg functions for diff columns\n",
    "df.agg({'column1': ['mean', 'var'], 'column2': ['median'])"
   ]
  },
  {
   "cell_type": "code",
   "execution_count": null,
   "id": "cccad8c4-e422-4273-b1a3-7393600c16d8",
   "metadata": {},
   "outputs": [],
   "source": [
    "# Visalization\n",
    "sns.barplot(x = 'column', y = 'column', data = df)"
   ]
  }
 ],
 "metadata": {
  "kernelspec": {
   "display_name": "Python 3 (ipykernel)",
   "language": "python",
   "name": "python3"
  },
  "language_info": {
   "codemirror_mode": {
    "name": "ipython",
    "version": 3
   },
   "file_extension": ".py",
   "mimetype": "text/x-python",
   "name": "python",
   "nbconvert_exporter": "python",
   "pygments_lexer": "ipython3",
   "version": "3.10.9"
  }
 },
 "nbformat": 4,
 "nbformat_minor": 5
}
