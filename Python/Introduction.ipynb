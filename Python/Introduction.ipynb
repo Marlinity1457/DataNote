{
 "cells": [
  {
   "cell_type": "markdown",
   "id": "d7b6aa25",
   "metadata": {},
   "source": [
    "# Introduction"
   ]
  },
  {
   "cell_type": "markdown",
   "id": "8e330b31-0ea7-4526-85ba-e94a808a8226",
   "metadata": {},
   "source": [
    "## Packages -- Module \n",
    "* Package     =   directory of python scrips\n",
    "* Module      =   script in package\n",
    "* Script      --> specify function, methods, types --> METHOD (associated with object) VS FUNCTION (independant)\n",
    "\n",
    "Examples of packages\n",
    "* NumPy\n",
    "* Matplotlib\n",
    "* scikit-learn\n",
    "* math\n",
    "\n",
    "Packages are not all available as default in Python. You have to import them by e.g. using pip."
   ]
  },
  {
   "cell_type": "code",
   "execution_count": null,
   "id": "6cf2c746",
   "metadata": {},
   "outputs": [],
   "source": [
    "#Options how to import packages of subpackages\n",
    "\n",
    "import package as p                    # p.method() / p.function() \n",
    "from package import function/method    # function() / method()"
   ]
  },
  {
   "cell_type": "markdown",
   "id": "18e265a0",
   "metadata": {},
   "source": [
    "## Attribute vs method vs function\n",
    "- Attribute       .name       shows information about object      e.g. .shape --> gives column row count\n",
    "- Method          .name()     change information of object        e.g. .append() --> add information to list\n",
    "- Function        name(x)     information go through code         e.g. sum(x) --> add all values in list x\n",
    "\n",
    "## Module -- Methods\n",
    "\n",
    "Everything is an object. Objects have methods, but it depends on the type. For example:\n",
    "\n",
    "* if the object is a string --> a method for a string is .index (gives the letter of the index)\n",
    "* if the object is a string --> a method for a string is .replace (replace letter)\n",
    "* if the object is a list   --> a method for a list is .replace (replace value)\n",
    "\n",
    "string methods\n",
    "* .index()\n",
    "* .replace()\n",
    "* .upper()\n",
    "* .lower()\n",
    "* .count()\n",
    "* .capatalize()\n",
    "\n",
    "list methods\n",
    "* .index()\n",
    "* .append()\n",
    "* .remove()\n",
    "* .reverse()\n",
    "* .enummerate()\n",
    "* .map(function, list2appy)\n",
    " \n",
    " \n",
    "## Functions\n",
    "Functions python\n",
    "* sum()\n",
    "* sort()\n",
    "* range()"
   ]
  },
  {
   "cell_type": "markdown",
   "id": "9c46e3a5",
   "metadata": {},
   "source": [
    "## Boolean operators"
   ]
  },
  {
   "cell_type": "raw",
   "id": "1ee70c33",
   "metadata": {},
   "source": [
    ">\n",
    ">=\n",
    "<\n",
    "<=\n",
    "==\n",
    "!=\n",
    "and\n",
    "or\n",
    "not"
   ]
  },
  {
   "cell_type": "markdown",
   "id": "3a4776bb",
   "metadata": {},
   "source": [
    "* np.logical_and()\n",
    "* np.logical_or()\n",
    "* np.logical_not()"
   ]
  },
  {
   "cell_type": "markdown",
   "id": "948fbb43",
   "metadata": {},
   "source": [
    "## Conditional statements\n",
    "\n",
    "if-loop"
   ]
  },
  {
   "cell_type": "code",
   "execution_count": null,
   "id": "02212f94",
   "metadata": {},
   "outputs": [],
   "source": [
    "if condition :\n",
    "    expression\n",
    "elif condition :\n",
    "    expression\n",
    "else :\n",
    "    expression"
   ]
  },
  {
   "cell_type": "markdown",
   "id": "4df4da78",
   "metadata": {},
   "source": [
    "while-loop"
   ]
  },
  {
   "cell_type": "code",
   "execution_count": null,
   "id": "3f444e6b",
   "metadata": {},
   "outputs": [],
   "source": [
    "while condition :\n",
    "    # Expression\n",
    "    expression\n",
    "    # The while loop should stop at some point. Updating condition!\n",
    "    counting_expression"
   ]
  },
  {
   "cell_type": "markdown",
   "id": "f161a14e",
   "metadata": {},
   "source": [
    "for-loop"
   ]
  },
  {
   "cell_type": "code",
   "execution_count": null,
   "id": "606a7ce1",
   "metadata": {},
   "outputs": [],
   "source": [
    "# Sequence (row, column)\n",
    "for index, var in seq :              \n",
    "    expression\n",
    "    \n",
    "# Dictionary\n",
    "for key, value in my_dict.items() :    \n",
    "    expression\n",
    "\n",
    "# 2D+ array underneath instead row,column\n",
    "for val in np.nditer(my_array) :        \n",
    "    expression\n",
    "    \n",
    "# DataFrame\n",
    "for lab, row in df.iterrows() :         \n",
    "    expression"
   ]
  },
  {
   "cell_type": "markdown",
   "id": "dd07eb3d",
   "metadata": {},
   "source": [
    "## Dictionary"
   ]
  },
  {
   "cell_type": "markdown",
   "id": "050be323",
   "metadata": {},
   "source": [
    "A dictionary connects corresponding elements. A dictionary consist of a key and a (list of) values. Keys are immutable.\n",
    "\n",
    "Methods in dictionary\n",
    "* .keys() \n",
    "* .values()\n",
    "* .items()\n",
    "\n",
    "Idea of dictionary is to combine these steps (with index):"
   ]
  },
  {
   "cell_type": "code",
   "execution_count": null,
   "id": "584496e8",
   "metadata": {},
   "outputs": [],
   "source": [
    "# Step 1\n",
    "find_index = list.index('key_name')\n",
    "\n",
    "# Step 2\n",
    "find_value = value_list[find_index]"
   ]
  },
  {
   "cell_type": "markdown",
   "id": "4a93a2c9",
   "metadata": {},
   "source": [
    "How to use a dictionary:"
   ]
  },
  {
   "cell_type": "code",
   "execution_count": null,
   "id": "1c52e730",
   "metadata": {},
   "outputs": [],
   "source": [
    "# Create\n",
    "dict_name = {'key_name:value'}   \n",
    "\n",
    "# Use\n",
    "dict_name[key_name]                    \n",
    "\n",
    "# Remove\n",
    "del(dict_name[key_name])               \n",
    "\n",
    "# Add value\n",
    "dict_name[key_name] = 'value'          "
   ]
  },
  {
   "cell_type": "markdown",
   "id": "39b8d96c",
   "metadata": {},
   "source": [
    "A key can also have a list of values."
   ]
  },
  {
   "cell_type": "code",
   "execution_count": null,
   "id": "d8adf6ed",
   "metadata": {},
   "outputs": [],
   "source": [
    "# Advanced dictionaries\n",
    "list_of_dict = [ {'key1a':'value1a' , 'key2a':'value2a'},\n",
    "                {'key1b':'value1b' , 'key2b':'value2b'}]\n",
    "\n",
    "dict_of_list = { 'key1': ['value1a', 'value1b'],\n",
    "                 'key2': ['value2a', 'value2b']}\n",
    "\n",
    "# From dictionary to dataframe\n",
    "new_dictdf = pd.DataFrame(List_of_dict)\n",
    "new_dictdf = pd.DataFrame(dict_of_list)"
   ]
  }
 ],
 "metadata": {
  "kernelspec": {
   "display_name": "Python 3 (ipykernel)",
   "language": "python",
   "name": "python3"
  },
  "language_info": {
   "codemirror_mode": {
    "name": "ipython",
    "version": 3
   },
   "file_extension": ".py",
   "mimetype": "text/x-python",
   "name": "python",
   "nbconvert_exporter": "python",
   "pygments_lexer": "ipython3",
   "version": "3.10.9"
  }
 },
 "nbformat": 4,
 "nbformat_minor": 5
}
