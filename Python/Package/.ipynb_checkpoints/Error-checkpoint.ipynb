{
 "cells": [
  {
   "cell_type": "code",
   "execution_count": null,
   "id": "789440e3-09bd-4e5d-a38e-21ebc96942c1",
   "metadata": {},
   "outputs": [],
   "source": []
  },
  {
   "cell_type": "markdown",
   "id": "d1abd65e-8b03-4dc3-be7d-dfb441d05f96",
   "metadata": {},
   "source": [
    "# Error handling\n",
    "\n",
    "When you use a function incorrectly, it should throw you an error. With error functions you can catch specific problem and write specific error messages."
   ]
  },
  {
   "cell_type": "markdown",
   "id": "d0790f46-6f92-4239-b078-047af1b71f1e",
   "metadata": {},
   "source": [
    "## 1. Defining error function\n",
    "\n",
    "Catch exceptions with try-except clause."
   ]
  },
  {
   "cell_type": "code",
   "execution_count": 2,
   "id": "9c02ea1a-ff5c-47ed-90e8-f3151dcaf94b",
   "metadata": {},
   "outputs": [],
   "source": [
    "def sqrt(x):\n",
    "    \"\"\"Returns the square root of a number\"\"\"\n",
    "    try: \n",
    "        return x ** 0.5\n",
    "    except:\n",
    "        print('x must be an int or float')"
   ]
  },
  {
   "cell_type": "markdown",
   "id": "bbde42f5-b1c4-4670-82e4-ded7293c408c",
   "metadata": {},
   "source": [
    "Instead of printing an error, we want to raise an error by using the keyword raise."
   ]
  },
  {
   "cell_type": "code",
   "execution_count": null,
   "id": "e00b2d70-5e48-4a9d-914d-3368f100941c",
   "metadata": {},
   "outputs": [],
   "source": [
    "def sqrt(x):\n",
    "    \"\"\"Returns the square root of a number\"\"\"\n",
    "    if x < 0:\n",
    "        raise ValueError('x must be non-negative')\n",
    "    try: \n",
    "        return x ** 0.5\n",
    "    except TypeError:\n",
    "        print('x must be an int or float')"
   ]
  }
 ],
 "metadata": {
  "kernelspec": {
   "display_name": "Python 3 (ipykernel)",
   "language": "python",
   "name": "python3"
  },
  "language_info": {
   "codemirror_mode": {
    "name": "ipython",
    "version": 3
   },
   "file_extension": ".py",
   "mimetype": "text/x-python",
   "name": "python",
   "nbconvert_exporter": "python",
   "pygments_lexer": "ipython3",
   "version": "3.10.9"
  }
 },
 "nbformat": 4,
 "nbformat_minor": 5
}
