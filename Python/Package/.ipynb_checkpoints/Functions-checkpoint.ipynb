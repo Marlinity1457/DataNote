{
 "cells": [
  {
   "cell_type": "code",
   "execution_count": null,
   "id": "b930f80b-2626-46d7-acd2-22cc9308af58",
   "metadata": {},
   "outputs": [],
   "source": [
    "import pandas as pd"
   ]
  },
  {
   "cell_type": "markdown",
   "id": "63abfce9-f16e-4554-b4ed-5cc80832894b",
   "metadata": {},
   "source": [
    "# Functions"
   ]
  },
  {
   "cell_type": "markdown",
   "id": "13e1572d-9a6a-4a2e-a9d4-5673c75a4a07",
   "metadata": {},
   "source": [
    "## 1. Defining functions\n",
    "\n",
    "A function is build up by:\n",
    "* header\n",
    "* docstrings\n",
    "* body\n",
    "* print or return \n",
    "\n",
    "Docstrings describe what your function does. This serves as documention for you function. "
   ]
  },
  {
   "cell_type": "markdown",
   "id": "da7aa945-f4e9-4b34-8e8f-d99e2af35759",
   "metadata": {},
   "source": [
    "Print() is used just to display the new_value."
   ]
  },
  {
   "cell_type": "code",
   "execution_count": null,
   "id": "4868fa0e-9d37-4f2f-b68d-a699f8cdc029",
   "metadata": {},
   "outputs": [],
   "source": [
    "def function_name(value):\n",
    "    \"\"\" Print the square of a value \"\"\"\n",
    "    new_value = value ** 2\n",
    "    print(new_value)"
   ]
  },
  {
   "cell_type": "markdown",
   "id": "bd4683e3-7e21-40d5-b33b-e8cfb5d8e68e",
   "metadata": {},
   "source": [
    "The retrun keyword retruns the value to be used further in your analysis."
   ]
  },
  {
   "cell_type": "code",
   "execution_count": null,
   "id": "668968ef-08b2-440d-a8c3-bbc0a06e403c",
   "metadata": {},
   "outputs": [],
   "source": [
    "def function_name(value):\n",
    "     \"\"\" Return the square of a value \"\"\"\n",
    "    new_value = value ** 2\n",
    "    return new_value"
   ]
  },
  {
   "cell_type": "code",
   "execution_count": null,
   "id": "404a4be5-7529-4fd4-a5e7-f662a203344b",
   "metadata": {},
   "outputs": [],
   "source": [
    "variable = function_name(new_value)\n",
    "print(variable)"
   ]
  },
  {
   "cell_type": "markdown",
   "id": "2c201b80-0506-4518-ab42-c7727b059048",
   "metadata": {},
   "source": [
    "If you want to return multiple values, you can use tuples (like lists, but immutable)."
   ]
  },
  {
   "cell_type": "code",
   "execution_count": null,
   "id": "dad83d84-0618-475d-a5d3-4218b2a7e7f5",
   "metadata": {},
   "outputs": [],
   "source": [
    "def function_name(value1, value2):\n",
    "     \"\"\" Raise value1 to the power of value2 and vise versa\"\"\"\n",
    "    new_value1 = value1 ** value2\n",
    "    new_value2 = value2 ** value1\n",
    "    new_tuple = (new_value1, new_value2)\n",
    "    return new_tuple"
   ]
  },
  {
   "cell_type": "code",
   "execution_count": null,
   "id": "88024d22-249b-4608-aaea-6047b9d896ec",
   "metadata": {},
   "outputs": [],
   "source": [
    "# print new_tuple\n",
    "variable = function_name(new_tuple)\n",
    "print(new_tuple)\n",
    "new_tuple[0]"
   ]
  },
  {
   "cell_type": "code",
   "execution_count": null,
   "id": "a1034a60-84e6-4ad8-beca-bd93cb75f3fa",
   "metadata": {},
   "outputs": [],
   "source": [
    "# Unpack tuples\n",
    "num1, num2, num3 = nums\n",
    "\n",
    "# Construct even_nums\n",
    "even_nums = (2, num2, num3)"
   ]
  }
 ],
 "metadata": {
  "kernelspec": {
   "display_name": "Python 3 (ipykernel)",
   "language": "python",
   "name": "python3"
  },
  "language_info": {
   "codemirror_mode": {
    "name": "ipython",
    "version": 3
   },
   "file_extension": ".py",
   "mimetype": "text/x-python",
   "name": "python",
   "nbconvert_exporter": "python",
   "pygments_lexer": "ipython3",
   "version": "3.10.9"
  }
 },
 "nbformat": 4,
 "nbformat_minor": 5
}
