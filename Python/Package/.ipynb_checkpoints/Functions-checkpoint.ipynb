{
 "cells": [
  {
   "cell_type": "code",
   "execution_count": null,
   "id": "b930f80b-2626-46d7-acd2-22cc9308af58",
   "metadata": {},
   "outputs": [],
   "source": [
    "import pandas as pd"
   ]
  },
  {
   "cell_type": "markdown",
   "id": "63abfce9-f16e-4554-b4ed-5cc80832894b",
   "metadata": {},
   "source": [
    "# Functions"
   ]
  },
  {
   "cell_type": "markdown",
   "id": "13e1572d-9a6a-4a2e-a9d4-5673c75a4a07",
   "metadata": {},
   "source": [
    "## 1. Defining functions\n",
    "\n",
    "A function is build up by:\n",
    "* header\n",
    "* docstrings\n",
    "* body\n",
    "* print or return \n",
    "\n",
    "Docstrings (Numpydoc, GoogleStyle, ) describe what your function does. This serves as documention for you function. "
   ]
  },
  {
   "cell_type": "markdown",
   "id": "cdd8c36d-0b78-46ad-a1d9-7658cdc68bc0",
   "metadata": {},
   "source": [
    "### Single parameters"
   ]
  },
  {
   "cell_type": "markdown",
   "id": "da7aa945-f4e9-4b34-8e8f-d99e2af35759",
   "metadata": {},
   "source": [
    "Print() is used just to display the new_value."
   ]
  },
  {
   "cell_type": "code",
   "execution_count": null,
   "id": "4868fa0e-9d37-4f2f-b68d-a699f8cdc029",
   "metadata": {},
   "outputs": [],
   "source": [
    "def function_name(value):\n",
    "    \"\"\" Print the square of a value \"\"\"\n",
    "    \n",
    "    # Define and store value\n",
    "    new_value = value ** 2\n",
    "    \n",
    "    # Print variable\n",
    "    print(new_value)"
   ]
  },
  {
   "cell_type": "markdown",
   "id": "bd4683e3-7e21-40d5-b33b-e8cfb5d8e68e",
   "metadata": {},
   "source": [
    "The retrun keyword retruns the value to be used further in your analysis."
   ]
  },
  {
   "cell_type": "code",
   "execution_count": null,
   "id": "668968ef-08b2-440d-a8c3-bbc0a06e403c",
   "metadata": {},
   "outputs": [],
   "source": [
    "def function_name(value):\n",
    "     \"\"\" Return the square of a value \"\"\"\n",
    "        \n",
    "    # Define and store value\n",
    "    new_value = value ** 2\n",
    "    \n",
    "    return new_value"
   ]
  },
  {
   "cell_type": "code",
   "execution_count": null,
   "id": "404a4be5-7529-4fd4-a5e7-f662a203344b",
   "metadata": {},
   "outputs": [],
   "source": [
    "# Print variable\n",
    "variable = function_name(new_value)\n",
    "print(variable)"
   ]
  },
  {
   "cell_type": "markdown",
   "id": "7373e051-4e8b-44c6-aaa1-3617474aa056",
   "metadata": {},
   "source": [
    "Call the docstring:"
   ]
  },
  {
   "cell_type": "code",
   "execution_count": null,
   "id": "b9eca1ba-e04e-41cc-b616-92d1028fac88",
   "metadata": {},
   "outputs": [],
   "source": [
    "# raw docstring\n",
    "function.__doc__"
   ]
  },
  {
   "cell_type": "code",
   "execution_count": null,
   "id": "bf58f1f5-7701-4fa8-92ce-7fd1c3a9352f",
   "metadata": {},
   "outputs": [],
   "source": [
    "# cleaner docstring\n",
    "module.getdoc(function)"
   ]
  },
  {
   "cell_type": "markdown",
   "id": "8cea2c19-0fb1-4155-9990-309f81497d54",
   "metadata": {},
   "source": [
    "### Multiple parameters"
   ]
  },
  {
   "cell_type": "markdown",
   "id": "2c201b80-0506-4518-ab42-c7727b059048",
   "metadata": {},
   "source": [
    "If you want to return multiple values, you can use tuples (like lists, but immutable)."
   ]
  },
  {
   "cell_type": "code",
   "execution_count": null,
   "id": "dad83d84-0618-475d-a5d3-4218b2a7e7f5",
   "metadata": {},
   "outputs": [],
   "source": [
    "def function_name(value1, value2):\n",
    "     \"\"\" Raise value1 to the power of value2 and vise versa\"\"\"\n",
    "        \n",
    "    # Define values\n",
    "    new_value1 = value1 ** value2\n",
    "    new_value2 = value2 ** value1\n",
    "    \n",
    "    # Store values\n",
    "    new_tuple = (new_value1, new_value2)\n",
    "    \n",
    "    return new_tuple"
   ]
  },
  {
   "cell_type": "code",
   "execution_count": null,
   "id": "88024d22-249b-4608-aaea-6047b9d896ec",
   "metadata": {},
   "outputs": [],
   "source": [
    "variable = function_name(new_tuple)\n",
    "\n",
    "# print new_tuple, all variables\n",
    "print(new_tuple)\n",
    "\n",
    "# print new_tuple, a signle variable\n",
    "new_tuple[0]"
   ]
  },
  {
   "cell_type": "code",
   "execution_count": null,
   "id": "a1034a60-84e6-4ad8-beca-bd93cb75f3fa",
   "metadata": {},
   "outputs": [],
   "source": [
    "# Unpack tuples\n",
    "num1, num2, num3 = nums\n",
    "\n",
    "# Construct even_nums\n",
    "even_nums = (2, num2, num3)"
   ]
  },
  {
   "cell_type": "markdown",
   "id": "ad18dc09-b12e-41f5-806f-8baa7f503b15",
   "metadata": {},
   "source": [
    "### Function with default argument"
   ]
  },
  {
   "cell_type": "code",
   "execution_count": null,
   "id": "8f38d0c5-b193-4332-b8e5-e2c61653887e",
   "metadata": {},
   "outputs": [],
   "source": [
    "def function_name(number, pow = 1):\n",
    "     \"\"\" Raise number to the power of pow\"\"\"\n",
    "    \n",
    "    new_value = number ** pow\n",
    "    \n",
    "    return new_tuple\n",
    "\n",
    "function_name(9, 2) # output: 81\n",
    "function_name(9, 1) # output: 9\n",
    "function_name(9)    # output: 9"
   ]
  },
  {
   "cell_type": "markdown",
   "id": "16c1cbf5-0927-49c8-b3a8-6731db9064aa",
   "metadata": {},
   "source": [
    "### Function with flexible argument (*args)\n",
    "\n",
    "If you dont know how many arguments a user will want to pass it."
   ]
  },
  {
   "cell_type": "code",
   "execution_count": 2,
   "id": "85e99182-41d4-4a01-81fb-65af9aad7d46",
   "metadata": {},
   "outputs": [],
   "source": [
    "# Example\n",
    "\n",
    "def add_all(*args):\n",
    "    \"\"\"Sum all values in *args together.\"\"\"\n",
    "    \n",
    "    # Initialize sum\n",
    "    sum_all = 0\n",
    "    \n",
    "    # Accumulate the sum\n",
    "    for num in args:\n",
    "        sum_all += num\n",
    "        \n",
    "    return sum_all"
   ]
  },
  {
   "cell_type": "markdown",
   "id": "a2f9dddf-0b54-45cc-9f2e-694561e5366d",
   "metadata": {},
   "source": [
    "### Function with flexible argument (**kwargs)\n",
    "To pass an arbitray number of keyword arguments (=kwargs), that is, arguments preceded by identifiers. **kwars is a dictionary."
   ]
  },
  {
   "cell_type": "code",
   "execution_count": null,
   "id": "52c953e7-ebc4-409f-be78-9007f17db010",
   "metadata": {},
   "outputs": [],
   "source": [
    "# Example\n",
    "\n",
    "def print_all(**kwargs):\n",
    "    \"\"\"Print out key-value pairs in **kwargs\"\"\"\n",
    "    \n",
    "    # Print out the key-value pairs\n",
    "    for key, value in kwargs.items():\n",
    "        print(key : ':' + value)"
   ]
  },
  {
   "cell_type": "markdown",
   "id": "99101a0e-a6fd-462a-a701-6270119f65cc",
   "metadata": {},
   "source": [
    "### Context manager\n",
    "\n",
    "`with <context-manager>(<args>) as <variable-name>: `"
   ]
  },
  {
   "cell_type": "code",
   "execution_count": null,
   "id": "0d046c43-f14b-4d27-92f1-1390fc246d41",
   "metadata": {},
   "outputs": [],
   "source": [
    "# Set context by opening a file\n",
    "with open('my_file.txt') as my_file:\n",
    "    \n",
    "    # Run code\n",
    "    text = my_file.read()\n",
    "    length = len(text)\n",
    "    \n",
    "# Removes the context by closing the file"
   ]
  },
  {
   "cell_type": "markdown",
   "id": "1b3cc584-d78a-49e1-8dd0-3f248ab75d5f",
   "metadata": {},
   "source": [
    "## 2. Scope in functions\n",
    "\n",
    "Scope: part of the program where an object or name may be accessible\n",
    "* global: defined in the main body of the script\n",
    "* local: defined inside a function\n",
    "* built-in-scope: names in the pre-defined built-ins module\n",
    "\n",
    "When we reference a name, first the local scope is searsed, then the global scope.\n",
    "If the name is in neither, then then built-in scope is searched.\n",
    "\n",
    "Order of searching (LEGB rule):\n",
    "* Local scope\n",
    "* Enclosing scope\n",
    "* Global scope\n",
    "* Built-in"
   ]
  },
  {
   "cell_type": "markdown",
   "id": "f6c69fec-e0c3-4836-b8ce-4ef1e3adfc2e",
   "metadata": {},
   "source": [
    "### Local scope"
   ]
  },
  {
   "cell_type": "code",
   "execution_count": null,
   "id": "d6351889-a26a-48cd-87cd-785bfc16fe77",
   "metadata": {},
   "outputs": [],
   "source": [
    "# Define function\n",
    "def function_name(value):\n",
    "     \"\"\" Return the square of a value \"\"\"\n",
    "        \n",
    "    # Define and store value\n",
    "    new_value = value ** 2\n",
    "    \n",
    "    return new_value\n",
    "\n",
    "# Name is not accessible outside the function\n",
    "print(new_value) # error"
   ]
  },
  {
   "cell_type": "markdown",
   "id": "c873a4ab-7695-48f2-80eb-e8dbc020b3de",
   "metadata": {},
   "source": [
    "### Global scope\n",
    "If python cannot find the name in the local scope, then and only then it look in the global scope."
   ]
  },
  {
   "cell_type": "code",
   "execution_count": null,
   "id": "a2a7078a-b693-4f85-be75-f1224f116241",
   "metadata": {},
   "outputs": [],
   "source": [
    "# Use global parameter as no name is defined in the local scope.\n",
    "new_value = 10\n",
    "\n",
    "def function_name(value):\n",
    "    \"\"\" Print the square of a value \"\"\"\n",
    "    \n",
    "    # Define and store value\n",
    "    new_value = value ** 2\n",
    "    \n",
    "    return new_value\n",
    "\n",
    "print(function_name(3)) # Output: 9\n",
    "print(new_value)        # Output: 10"
   ]
  },
  {
   "cell_type": "code",
   "execution_count": null,
   "id": "dda5bfef-6edb-491b-893b-afb5915fd7fb",
   "metadata": {},
   "outputs": [],
   "source": [
    "# Define global scope inside function\n",
    "new_value = 10\n",
    "\n",
    "def function_name(value):\n",
    "    \"\"\" Print the square of a value \"\"\"\n",
    "    \n",
    "    # Define global scope/ overwrite the global value\n",
    "    global new_value\n",
    "    \n",
    "    # Define and store value\n",
    "    new_value = new_value ** 2\n",
    "    \n",
    "    return new_value\n",
    "\n",
    "print(new_value)        # Output: 10\n",
    "print(function_name(3)) # Output: 9\n",
    "print(new_value)        # Output: 9"
   ]
  },
  {
   "cell_type": "markdown",
   "id": "615877c8-f4ba-4c56-b891-100b870d6d4e",
   "metadata": {},
   "source": [
    "### Built-in scope"
   ]
  },
  {
   "cell_type": "code",
   "execution_count": null,
   "id": "1ea4ffd3-f6bd-4b24-835c-5b139fe4b1e8",
   "metadata": {},
   "outputs": [],
   "source": []
  },
  {
   "cell_type": "markdown",
   "id": "2fd9aa2b-1bba-4768-b9ec-35d6bf6b919e",
   "metadata": {},
   "source": [
    "### Enclosing scope\n",
    "\n",
    "See 3. Nested functions --> Nonlocal"
   ]
  },
  {
   "cell_type": "code",
   "execution_count": null,
   "id": "c004b5db-a080-4c8b-bf66-8b88824d6194",
   "metadata": {},
   "outputs": [],
   "source": []
  },
  {
   "cell_type": "markdown",
   "id": "191e4c6d-7328-4b56-9636-589b1a9c8d1f",
   "metadata": {},
   "source": [
    "## 3. Nested functions\n",
    "\n",
    "Reasons to use nested functions:\n",
    "* Able to scale if you need to perform the computation many times (=avoid writing out the same computations within functions repeatedly). Call only the inner function when nesessary.\n",
    "\n",
    "If Python cant find a variable in the enclosing (outer) function, then it will look for the variable in the global scope, and then in the built-in scope."
   ]
  },
  {
   "cell_type": "markdown",
   "id": "0ddd96b9-80b2-4860-8378-da46295d8da8",
   "metadata": {},
   "source": [
    "### Non returning functions"
   ]
  },
  {
   "cell_type": "code",
   "execution_count": null,
   "id": "e4dee435-498e-49f0-88b8-308837d3f300",
   "metadata": {},
   "outputs": [],
   "source": [
    "# Basics\n",
    "def outer(outer_value):\n",
    "    \"\"\"....\"\"\"\n",
    "    x = outer_value\n",
    "    \n",
    "    def inner(x):\n",
    "        \"\"\"...\"\"\"\n",
    "        y = x ** 2\n",
    "        \n",
    "    return inner()\n",
    "\n",
    "print(outer(1))"
   ]
  },
  {
   "cell_type": "code",
   "execution_count": null,
   "id": "3a0524f5-d0e8-41fb-9b30-27d05a9d46bb",
   "metadata": {},
   "outputs": [],
   "source": [
    "# Example\n",
    "def outer(x1,x2,x3):\n",
    "    \"\"\"Returns the remainer plus of three values.\"\"\"\n",
    "    \n",
    "    def inner(x):\n",
    "        \"\"\"returns the remainder plus 5 of a value.\"\"\"\n",
    "        y = x ** 2\n",
    "        \n",
    "    return (inner(x1), inner(x2), inner(x3))\n",
    "\n",
    "print(outer(1,2,3)) # Output = 1,4,9"
   ]
  },
  {
   "cell_type": "markdown",
   "id": "2e35d988-92ab-4bf5-8bdb-24dfa3e12c0d",
   "metadata": {},
   "source": [
    "### Returning functions"
   ]
  },
  {
   "cell_type": "code",
   "execution_count": null,
   "id": "d1fd35ae-d8cb-4c6f-9f96-096a05e100ee",
   "metadata": {},
   "outputs": [],
   "source": [
    "# Example \n",
    "def outer(n):\n",
    "    \"\"\"Return the inner function.\"\"\"\n",
    "    \n",
    "    def inner(x):\n",
    "        \"\"\"Raise x to the power of n.\"\"\"\n",
    "        raised = x ** n\n",
    "        return raised\n",
    "        \n",
    "    return inner()\n",
    "\n",
    "# Define outer value\n",
    "square = outer(2) # n = 2\n",
    "cube = outer(3)   # n = 3\n",
    "\n",
    "# Define inner value\n",
    "print(square(2)) # Output:  4 \n",
    "print(cube(4))   # Output: 64 "
   ]
  },
  {
   "cell_type": "markdown",
   "id": "c9b1e216-9778-45d1-adcb-4f0d92c1fa80",
   "metadata": {},
   "source": [
    "### Nonlocal\n",
    "\n",
    "Nonlocal is used to create and change names in an enclosing scope."
   ]
  },
  {
   "cell_type": "code",
   "execution_count": null,
   "id": "7a5b36e0-1f10-463a-b5a6-c870b5ff498f",
   "metadata": {},
   "outputs": [],
   "source": [
    "def outer(n):\n",
    "    \"\"\"Prints the value of n.\"\"\"\n",
    "    n = 1\n",
    "    \n",
    "    def inner(x):\n",
    "        # Change name only in enclosing scope (outer and inner, not elsewhere)\n",
    "        nonlocal n\n",
    "        n = 2\n",
    "        print(n)\n",
    "    \n",
    "    inner()\n",
    "    print(n)\n",
    "    \n",
    "## FIXME print(outer(2)) # output: 2, 2"
   ]
  },
  {
   "cell_type": "markdown",
   "id": "bda304df-78a8-42f0-b9f5-c33fe4d6dca0",
   "metadata": {},
   "source": [
    "## 4. Lambda functions\n",
    "\n",
    "Lambda functions allow you to write functions in a quick and potentially dirty way. Lambda calculate/map/filter without naming the arguments (=anonymous functions)\n",
    "\n",
    "Lambda function:\n",
    "* lambda parameters : function\n",
    "\n",
    "There are situations where they are very handy, for example in the following functions which all takes 2 arguments func_name(func, seq):\n",
    "* map()\n",
    "* filter()\n",
    "* reduce()\n",
    "\n",
    "The map() function applies ALL elements in the sequence. \n"
   ]
  },
  {
   "cell_type": "code",
   "execution_count": null,
   "id": "44cf9b28-1df6-4f70-b2d8-3fe51d6c7d70",
   "metadata": {},
   "outputs": [],
   "source": [
    "# lambda function\n",
    "raise_to_power = lambda x,y: x ** y\n",
    "raise_to_power(2,3)"
   ]
  },
  {
   "cell_type": "code",
   "execution_count": null,
   "id": "c8f82965-e0ab-45f0-8225-7e02de0d8cdc",
   "metadata": {},
   "outputs": [],
   "source": [
    "# map to lambda function\n",
    "nums = [48, 6, 9, 21, 1]\n",
    "square_all = map(lambda num: num ** 2, nums)\n",
    "print(list(square_all))"
   ]
  },
  {
   "cell_type": "code",
   "execution_count": null,
   "id": "779ff420-fb2b-4520-8bfe-9c0d3e04d046",
   "metadata": {},
   "outputs": [],
   "source": [
    "# filters by lambda using a condition in the function\n",
    "fellowship = ['frodo', 'samwise', 'merry', 'pippin', 'aragorn', 'boromir', 'legolas', 'gimli', 'gandalf']\n",
    "result = filter(lambda member: len(member)>6, fellowship)\n",
    "print(list(result))"
   ]
  },
  {
   "cell_type": "code",
   "execution_count": null,
   "id": "fa08a04d-69dd-41d7-bd3e-afa0a59a730a",
   "metadata": {},
   "outputs": [],
   "source": [
    "# reduce concentrates all of the strings\n",
    "from functools import reduce\n",
    "stark = ['robb', 'sansa', 'arya', 'brandon', 'rickon']\n",
    "result = reduce(lambda item1, item2 : item1 + item2, stark)\n",
    "print(result)"
   ]
  }
 ],
 "metadata": {
  "kernelspec": {
   "display_name": "Python 3 (ipykernel)",
   "language": "python",
   "name": "python3"
  },
  "language_info": {
   "codemirror_mode": {
    "name": "ipython",
    "version": 3
   },
   "file_extension": ".py",
   "mimetype": "text/x-python",
   "name": "python",
   "nbconvert_exporter": "python",
   "pygments_lexer": "ipython3",
   "version": "3.10.9"
  }
 },
 "nbformat": 4,
 "nbformat_minor": 5
}
