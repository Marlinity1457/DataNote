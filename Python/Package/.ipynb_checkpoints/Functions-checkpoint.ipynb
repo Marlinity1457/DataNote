{
 "cells": [
  {
   "cell_type": "code",
   "execution_count": null,
   "id": "b930f80b-2626-46d7-acd2-22cc9308af58",
   "metadata": {},
   "outputs": [],
   "source": [
    "import pandas as pd"
   ]
  },
  {
   "cell_type": "markdown",
   "id": "63abfce9-f16e-4554-b4ed-5cc80832894b",
   "metadata": {},
   "source": [
    "# Functions"
   ]
  },
  {
   "cell_type": "markdown",
   "id": "13e1572d-9a6a-4a2e-a9d4-5673c75a4a07",
   "metadata": {},
   "source": [
    "## 1. Defining functions\n",
    "\n",
    "A function is build up by:\n",
    "* header\n",
    "* docstrings\n",
    "* body\n",
    "* print or return \n",
    "\n",
    "Docstrings (Numpydoc, GoogleStyle, reStructuredText, EpyText) describe what your function does. This serves as documention for you function. \n",
    "\n",
    "Python is, like everything in Python, an object. So you can treat functions as objects."
   ]
  },
  {
   "cell_type": "markdown",
<<<<<<< HEAD
   "id": "b3f0dfd6-a631-4c43-b7ab-2457877d3919",
   "metadata": {},
   "source": [
    "### Docstings"
=======
   "id": "38e58237-ce48-45f0-9dfe-014ddc9df2a1",
   "metadata": {},
   "source": [
    "### Docstrings"
>>>>>>> 736b513706bead749486af9485ddda5e4cb712ee
   ]
  },
  {
   "cell_type": "code",
   "execution_count": null,
<<<<<<< HEAD
   "id": "4a7b2bc5-304c-4b78-9ac5-abd7a768d4ea",
   "metadata": {},
   "outputs": [],
   "source": [
    "# raw docstring\n",
    "function.__doc__"
=======
   "id": "1c2f5794-47ee-4968-9f4b-863266329cd5",
   "metadata": {},
   "outputs": [],
   "source": [
    "# Raw\n",
    "print(function__doc__)"
>>>>>>> 736b513706bead749486af9485ddda5e4cb712ee
   ]
  },
  {
   "cell_type": "code",
   "execution_count": null,
<<<<<<< HEAD
   "id": "cfaf2f20-72d8-425c-982d-d7aec9f233e5",
   "metadata": {},
   "outputs": [],
   "source": [
    "# cleaner docstring\n",
    "module.getdoc(function)"
=======
   "id": "aaaf527a-32c0-4682-9e46-71bc20b06042",
   "metadata": {},
   "outputs": [],
   "source": [
    "# Cleaner version\n",
    "print(module.getdoc(function))"
>>>>>>> 736b513706bead749486af9485ddda5e4cb712ee
   ]
  },
  {
   "cell_type": "markdown",
   "id": "cdd8c36d-0b78-46ad-a1d9-7658cdc68bc0",
   "metadata": {},
   "source": [
    "### Single parameters"
   ]
  },
  {
   "cell_type": "markdown",
   "id": "da7aa945-f4e9-4b34-8e8f-d99e2af35759",
   "metadata": {},
   "source": [
    "Print() is used just to display the new_value."
   ]
  },
  {
   "cell_type": "code",
   "execution_count": null,
   "id": "4868fa0e-9d37-4f2f-b68d-a699f8cdc029",
   "metadata": {},
   "outputs": [],
   "source": [
    "def function_name(value):\n",
    "    \"\"\" Print the square of a value \"\"\"\n",
    "    \n",
    "    # Define and store value\n",
    "    new_value = value ** 2\n",
    "    \n",
    "    # Print variable\n",
    "    print(new_value)"
   ]
  },
  {
   "cell_type": "markdown",
   "id": "bd4683e3-7e21-40d5-b33b-e8cfb5d8e68e",
   "metadata": {},
   "source": [
    "The retrun keyword retruns the value to be used further in your analysis."
   ]
  },
  {
   "cell_type": "code",
   "execution_count": null,
   "id": "668968ef-08b2-440d-a8c3-bbc0a06e403c",
   "metadata": {},
   "outputs": [],
   "source": [
    "def function_name(value):\n",
    "     \"\"\" Return the square of a value \"\"\"\n",
    "        \n",
    "    # Define and store value\n",
    "    new_value = value ** 2\n",
    "    \n",
    "    return new_value"
   ]
  },
  {
   "cell_type": "code",
   "execution_count": null,
   "id": "404a4be5-7529-4fd4-a5e7-f662a203344b",
   "metadata": {},
   "outputs": [],
   "source": [
    "# Print variable\n",
    "variable = function_name(new_value)\n",
    "print(variable)"
   ]
  },
  {
   "cell_type": "markdown",
   "id": "8cea2c19-0fb1-4155-9990-309f81497d54",
   "metadata": {},
   "source": [
    "### Multiple parameters"
   ]
  },
  {
   "cell_type": "markdown",
   "id": "2c201b80-0506-4518-ab42-c7727b059048",
   "metadata": {},
   "source": [
    "If you want to return multiple values, you can use tuples (like lists, but immutable)."
   ]
  },
  {
   "cell_type": "code",
   "execution_count": null,
   "id": "dad83d84-0618-475d-a5d3-4218b2a7e7f5",
   "metadata": {},
   "outputs": [],
   "source": [
    "def function_name(value1, value2):\n",
    "     \"\"\" Raise value1 to the power of value2 and vise versa\"\"\"\n",
    "        \n",
    "    # Define values\n",
    "    new_value1 = value1 ** value2\n",
    "    new_value2 = value2 ** value1\n",
    "    \n",
    "    # Store values\n",
    "    new_tuple = (new_value1, new_value2)\n",
    "    \n",
    "    return new_tuple"
   ]
  },
  {
   "cell_type": "code",
   "execution_count": null,
   "id": "88024d22-249b-4608-aaea-6047b9d896ec",
   "metadata": {},
   "outputs": [],
   "source": [
    "variable = function_name(new_tuple)\n",
    "\n",
    "# print new_tuple, all variables\n",
    "print(new_tuple)\n",
    "\n",
    "# print new_tuple, a signle variable\n",
    "new_tuple[0]"
   ]
  },
  {
   "cell_type": "code",
   "execution_count": null,
   "id": "a1034a60-84e6-4ad8-beca-bd93cb75f3fa",
   "metadata": {},
   "outputs": [],
   "source": [
    "# Unpack tuples\n",
    "num1, num2, num3 = nums\n",
    "\n",
    "# Construct even_nums\n",
    "even_nums = (2, num2, num3)"
   ]
  },
  {
   "cell_type": "markdown",
   "id": "ad18dc09-b12e-41f5-806f-8baa7f503b15",
   "metadata": {},
   "source": [
    "### Function with default argument"
   ]
  },
  {
   "cell_type": "code",
   "execution_count": null,
   "id": "8f38d0c5-b193-4332-b8e5-e2c61653887e",
   "metadata": {},
   "outputs": [],
   "source": [
    "def function_name(number, pow = 1):\n",
    "     \"\"\" Raise number to the power of pow\"\"\"\n",
    "    \n",
    "    new_value = number ** pow\n",
    "    \n",
    "    return new_tuple\n",
    "\n",
    "function_name(9, 2) # output: 81\n",
    "function_name(9, 1) # output: 9\n",
    "function_name(9)    # output: 9"
   ]
  },
  {
   "cell_type": "markdown",
   "id": "16c1cbf5-0927-49c8-b3a8-6731db9064aa",
   "metadata": {},
   "source": [
    "### Function with flexible argument (*args)\n",
    "\n",
    "If you dont know how many arguments a user will want to pass it."
   ]
  },
  {
   "cell_type": "code",
   "execution_count": 2,
   "id": "85e99182-41d4-4a01-81fb-65af9aad7d46",
   "metadata": {},
   "outputs": [],
   "source": [
    "# Example\n",
    "\n",
    "def add_all(*args):\n",
    "    \"\"\"Sum all values in *args together.\"\"\"\n",
    "    \n",
    "    # Initialize sum\n",
    "    sum_all = 0\n",
    "    \n",
    "    # Accumulate the sum\n",
    "    for num in args:\n",
    "        sum_all += num\n",
    "        \n",
    "    return sum_all"
   ]
  },
  {
   "cell_type": "markdown",
   "id": "a2f9dddf-0b54-45cc-9f2e-694561e5366d",
   "metadata": {},
   "source": [
    "### Function with flexible argument (**kwargs)\n",
    "To pass an arbitray number of keyword arguments (=kwargs), that is, arguments preceded by identifiers. **kwars is a dictionary."
   ]
  },
  {
   "cell_type": "code",
   "execution_count": null,
   "id": "52c953e7-ebc4-409f-be78-9007f17db010",
   "metadata": {},
   "outputs": [],
   "source": [
    "# Example\n",
    "\n",
    "def print_all(**kwargs):\n",
    "    \"\"\"Print out key-value pairs in **kwargs\"\"\"\n",
    "    \n",
    "    # Print out the key-value pairs\n",
    "    for key, value in kwargs.items():\n",
    "        print(key : ':' + value)"
   ]
  },
  {
   "cell_type": "markdown",
<<<<<<< HEAD
   "id": "99101a0e-a6fd-462a-a701-6270119f65cc",
=======
   "id": "4cac19a7-fab7-4b81-b23d-ff3495100cf5",
>>>>>>> 736b513706bead749486af9485ddda5e4cb712ee
   "metadata": {},
   "source": [
    "### Context manager\n",
    "\n",
<<<<<<< HEAD
    "`with <context-manager>(<args>) as <variable-name>: `\n",
    "\n",
    "  `  # Code inside the context`\n",
    "    \n",
    "The code runs after the context is removed. The variables are saved."
=======
    "`with <context-manager(<args>)> as <variable-name>:`\n",
    "\n",
    "`     Code inside the context`\n",
    "\n",
    "The code runs after the context is removed. The variables are saved.\n"
>>>>>>> 736b513706bead749486af9485ddda5e4cb712ee
   ]
  },
  {
   "cell_type": "markdown",
<<<<<<< HEAD
   "id": "d1eebfc6-8add-4f5f-995f-4d3ea45ddebf",
=======
   "id": "923165be-3217-498e-8e85-6d469184a109",
>>>>>>> 736b513706bead749486af9485ddda5e4cb712ee
   "metadata": {},
   "source": [
    "Examples:"
   ]
  },
  {
   "cell_type": "code",
   "execution_count": null,
<<<<<<< HEAD
   "id": "0d046c43-f14b-4d27-92f1-1390fc246d41",
   "metadata": {},
   "outputs": [],
   "source": [
    "# Set context by opening a file\n",
    "with open('my_file.txt') as my_file:\n",
    "    \n",
    "    # Run code\n",
    "    text = my_file.read()\n",
    "    length = len(text)\n",
    "    \n",
    "# Removes the context by closing the file"
   ]
  },
  {
   "cell_type": "code",
   "execution_count": null,
   "id": "e22d8101-f9dc-456b-a55b-15dfbf82f946",
=======
   "id": "4cf8b06c-ad35-476a-8136-b167450bdcc7",
>>>>>>> 736b513706bead749486af9485ddda5e4cb712ee
   "metadata": {},
   "outputs": [],
   "source": [
    "# Open \"alice.txt\" and assign the file to \"file\"\n",
    "with open('alice.txt') as file:\n",
    "    text = file.read()\n",
    "\n",
    "n = 0\n",
    "for word in text.split():\n",
    "    if word.lower() in ['cat', 'cats']:\n",
<<<<<<< HEAD
    "    n += 1\n",
=======
    "        n += 1\n",
>>>>>>> 736b513706bead749486af9485ddda5e4cb712ee
    "\n",
    "print('Lewis Carroll uses the word \"cat\" {} times'.format(n))"
   ]
  },
  {
   "cell_type": "code",
   "execution_count": null,
<<<<<<< HEAD
   "id": "2d28bda6-6949-4ff4-abee-269aa508465e",
=======
   "id": "4d40e757-525a-49ed-b549-cb49de31f1fe",
>>>>>>> 736b513706bead749486af9485ddda5e4cb712ee
   "metadata": {},
   "outputs": [],
   "source": [
    "image = get_image_from_instagram()\n",
    "\n",
    "# Time how long process_with_numpy(image) takes to run\n",
    "with timer():\n",
    "    print('Numpy version')\n",
    "    process_with_numpy(image)\n",
    "\n",
    "# Time how long process_with_pytorch(image) takes to run\n",
    "with timer():\n",
    "    print('Pytorch version')\n",
    "    process_with_pytorch(image)"
   ]
  },
  {
   "cell_type": "markdown",
<<<<<<< HEAD
   "id": "650292b5-824d-4a71-aaa2-1df74239e76e",
   "metadata": {},
   "source": [
    "##### Define a context manager\n",
    "\n",
=======
   "id": "7a777a0b-0e2f-4bab-83da-72f4c1cf3e98",
   "metadata": {},
   "source": [
    "##### Define a context manager\n",
>>>>>>> 736b513706bead749486af9485ddda5e4cb712ee
    "1. Define a function\n",
    "2. Add code you need\n",
    "3. yield (reteurn back value)\n",
    "4. tear down to clean the context (optional)\n",
    "5. Add '@contextlib.contextmanager' decorator"
   ]
  },
  {
   "cell_type": "code",
   "execution_count": null,
<<<<<<< HEAD
   "id": "d8639a53-88bd-4489-887f-4b93ebc82fe9",
=======
   "id": "45c210e1-02ec-44b0-aab8-271fc5faccb5",
>>>>>>> 736b513706bead749486af9485ddda5e4cb712ee
   "metadata": {},
   "outputs": [],
   "source": [
    "@contextlib.contextmanager\n",
    "def my_function():\n",
    "    # Code\n",
    "    yield var\n",
    "    # Optional code"
   ]
  },
  {
   "cell_type": "code",
   "execution_count": null,
<<<<<<< HEAD
   "id": "0ee2ce4e-a776-44c9-a531-b4153881efa6",
=======
   "id": "e7af0624-6da7-4d22-9fdc-c683ca813b32",
>>>>>>> 736b513706bead749486af9485ddda5e4cb712ee
   "metadata": {},
   "outputs": [],
   "source": [
    "# Example\n",
    "\n",
    "@contextlib.contextmanager\n",
    "def database(url):\n",
    "    # set up database connection\n",
    "    db = postgres.connect(url)\n",
    "    yield db\n",
    "    \n",
    "    # tear down database connection\n",
    "    db.disconnect()\n",
    "\n",
    "# contect manager in use\n",
    "url = 'http://datacamp.com/data'\n",
    "with database(url) as my_db:\n",
    "    course_list = my_db.execute('SELECT * FROM cources')"
   ]
  },
  {
   "cell_type": "code",
   "execution_count": null,
<<<<<<< HEAD
   "id": "69306342-c787-4d8b-b107-140a660e0ddf",
=======
   "id": "a9ea5631-6a71-40a9-9aa9-3f233f30f67f",
>>>>>>> 736b513706bead749486af9485ddda5e4cb712ee
   "metadata": {},
   "outputs": [],
   "source": [
    "# Example\n",
    "\n",
    "def get_printer(ip):\n",
    "    p = connect_to_printer(ip)\n",
    "    \n",
    "    try:\n",
    "        yield\n",
    "    finally:\n",
    "        # Always called\n",
    "        p.disconnect()\n",
    "        print('disconnected from printer')\n",
    "\n",
    "doc = {'text': 'This is my Text.'}\n",
    "\n",
    "# Sloppy user uses 'txt' which is not in the doc dictionary. So a KeyError is raised.\n",
    "# Without the try-except-finanaly block, the disconnect will never be raised. \n",
    "# So you need the try-finally block to disconnect at all times.\n",
    "\n",
    "with get_printer('10.0.34.111') as printer:\n",
    "    printer.print_page(doc['txt'])\n",
    "    # disconnect() is called before the error raised\n",
    "    # Get KeyError"
   ]
  },
  {
   "cell_type": "code",
   "execution_count": null,
<<<<<<< HEAD
   "id": "a0e91278-045e-4efa-b6df-da4b04f7327e",
=======
   "id": "e1603372-acc0-4851-8304-6d08d13c05ab",
>>>>>>> 736b513706bead749486af9485ddda5e4cb712ee
   "metadata": {},
   "outputs": [],
   "source": [
    "# Example 2\n",
    "\n",
    "def in_dir(directory):\n",
    "    \"\"\"Change current working directory to `directory`, allow the user to run some code, and change back.\n",
    "\n",
    "    Args:\n",
    "      directory (str): The path to a directory to work in.\n",
    "    \"\"\"\n",
    "    current_dir = os.getcwd()\n",
    "    os.chdir(directory)\n",
    "\n",
    "    # Add code that lets you handle errors\n",
    "    try:\n",
    "        yield\n",
    "    # Ensure the directory is reset,\n",
    "    # whether there was an error or not\n",
    "    finally:\n",
    "        os.chdir(current_dir)"
   ]
  },
  {
   "cell_type": "markdown",
<<<<<<< HEAD
   "id": "7be2cffc-cbc1-4090-8892-28ca316a18e8",
   "metadata": {},
   "source": [
    "##### Nested context manager\n",
    "When use: if you have a context with a large memory. For example a huge file which you want to copy. Then you want to open both files together, but copy line by line."
=======
   "id": "bf01d6a8-fe7e-458c-ae6a-9ed736b92cb5",
   "metadata": {},
   "source": [
    "##### Nested context manager\n",
    "When use: if you have a context with a large memory. For example a huge file which you want to copy. Then you want to open both files together, but copy line by line. "
>>>>>>> 736b513706bead749486af9485ddda5e4cb712ee
   ]
  },
  {
   "cell_type": "code",
   "execution_count": null,
<<<<<<< HEAD
   "id": "339c048e-41ef-4a58-a20f-10f0a5607921",
=======
   "id": "6c343823-2d71-47de-bccc-0790b9f97320",
>>>>>>> 736b513706bead749486af9485ddda5e4cb712ee
   "metadata": {},
   "outputs": [],
   "source": [
    "def copy(scr, dst):\n",
    "    \n",
    "    # open both tiles\n",
    "    with open(src) as f_scr:\n",
    "        with open(dst, 'w') as f_dst:\n",
    "            # Read and write each line, one at a time\n",
    "            for line in f_src:\n",
    "                f_dst.write(line)"
   ]
  },
  {
   "cell_type": "markdown",
<<<<<<< HEAD
   "id": "2c9db6a8-92db-4c1f-b94e-1692142bcd60",
=======
   "id": "729f3e92-e719-4c3c-8a09-eb93e3b1f5f0",
>>>>>>> 736b513706bead749486af9485ddda5e4cb712ee
   "metadata": {},
   "source": [
    "##### Consider context manager\n",
    "For the following list, consider a context manager:\n",
    "\n",
    "Context manager patterns\n",
<<<<<<< HEAD
    "\n",
=======
>>>>>>> 736b513706bead749486af9485ddda5e4cb712ee
    "* open & close\n",
    "* lock & release\n",
    "* change & reset\n",
    "* enter & exit\n",
    "* start & stop\n",
    "* setup & teardown\n",
<<<<<<< HEAD
    "* connect & disconnect"
=======
    "* connet & disconnect"
>>>>>>> 736b513706bead749486af9485ddda5e4cb712ee
   ]
  },
  {
   "cell_type": "markdown",
   "id": "1b3cc584-d78a-49e1-8dd0-3f248ab75d5f",
   "metadata": {},
   "source": [
    "## 2. Scope in functions\n",
    "\n",
    "Scope: part of the program where an object or name may be accessible\n",
    "* global: defined in the main body of the script\n",
    "* local: defined inside a function\n",
    "* built-in-scope: names in the pre-defined built-ins module\n",
    "\n",
    "When we reference a name, first the local scope is searsed, then the global scope.\n",
    "If the name is in neither, then then built-in scope is searched.\n",
    "\n",
    "Order of searching (LEGB rule):\n",
    "* Local scope\n",
    "* Enclosing scope / nonlocal\n",
    "* Global scope\n",
    "* Built-in"
   ]
  },
  {
   "cell_type": "markdown",
   "id": "f6c69fec-e0c3-4836-b8ce-4ef1e3adfc2e",
   "metadata": {},
   "source": [
    "### Local scope"
   ]
  },
  {
   "cell_type": "code",
   "execution_count": null,
   "id": "d6351889-a26a-48cd-87cd-785bfc16fe77",
   "metadata": {},
   "outputs": [],
   "source": [
    "# Define function\n",
    "def function_name(value):\n",
    "     \"\"\" Return the square of a value \"\"\"\n",
    "        \n",
    "    # Define and store value\n",
    "    new_value = value ** 2\n",
    "    \n",
    "    return new_value\n",
    "\n",
    "# Name is not accessible outside the function\n",
    "print(new_value) # error"
   ]
  },
  {
   "cell_type": "markdown",
   "id": "c873a4ab-7695-48f2-80eb-e8dbc020b3de",
   "metadata": {},
   "source": [
    "### Global scope\n",
    "If python cannot find the name in the local scope, then and only then it look in the global scope."
   ]
  },
  {
   "cell_type": "code",
   "execution_count": null,
   "id": "a2a7078a-b693-4f85-be75-f1224f116241",
   "metadata": {},
   "outputs": [],
   "source": [
    "# Use global parameter as no name is defined in the local scope.\n",
    "new_value = 10\n",
    "\n",
    "def function_name(value):\n",
    "    \"\"\" Print the square of a value \"\"\"\n",
    "    \n",
    "    # Define and store value\n",
    "    new_value = value ** 2\n",
    "    \n",
    "    return new_value\n",
    "\n",
    "print(function_name(3)) # Output: 9\n",
    "print(new_value)        # Output: 10"
   ]
  },
  {
   "cell_type": "code",
   "execution_count": null,
   "id": "dda5bfef-6edb-491b-893b-afb5915fd7fb",
   "metadata": {},
   "outputs": [],
   "source": [
    "# Define global scope inside function\n",
    "new_value = 10\n",
    "\n",
    "def function_name(value):\n",
    "    \"\"\" Print the square of a value \"\"\"\n",
    "    \n",
    "    # Define global scope/ overwrite the global value\n",
    "    global new_value\n",
    "    \n",
    "    # Define and store value\n",
    "    new_value = new_value ** 2\n",
    "    \n",
    "    return new_value\n",
    "\n",
    "print(new_value)        # Output: 10\n",
    "print(function_name(3)) # Output: 9\n",
    "print(new_value)        # Output: 9"
   ]
  },
  {
   "cell_type": "markdown",
   "id": "615877c8-f4ba-4c56-b891-100b870d6d4e",
   "metadata": {},
   "source": [
    "### Built-in scope"
   ]
  },
  {
   "cell_type": "code",
   "execution_count": null,
   "id": "1ea4ffd3-f6bd-4b24-835c-5b139fe4b1e8",
   "metadata": {},
   "outputs": [],
   "source": []
  },
  {
   "cell_type": "markdown",
   "id": "2fd9aa2b-1bba-4768-b9ec-35d6bf6b919e",
   "metadata": {},
   "source": [
    "### Enclosing scope\n",
    "\n",
    "See 3. Nested functions --> Nonlocal"
   ]
  },
  {
   "cell_type": "code",
   "execution_count": null,
   "id": "c004b5db-a080-4c8b-bf66-8b88824d6194",
   "metadata": {},
   "outputs": [],
   "source": []
  },
  {
   "cell_type": "markdown",
   "id": "191e4c6d-7328-4b56-9636-589b1a9c8d1f",
   "metadata": {},
   "source": [
    "## 3. Nested functions\n",
    "\n",
    "Reasons to use nested functions:\n",
    "* Able to scale if you need to perform the computation many times (=avoid writing out the same computations within functions repeatedly). Call only the inner function when nesessary.\n",
    "\n",
    "If Python cant find a variable in the enclosing (outer) function, then it will look for the variable in the global scope, and then in the built-in scope."
   ]
  },
  {
   "cell_type": "markdown",
   "id": "0ddd96b9-80b2-4860-8378-da46295d8da8",
   "metadata": {},
   "source": [
    "### Non returning functions"
   ]
  },
  {
   "cell_type": "code",
   "execution_count": null,
   "id": "e4dee435-498e-49f0-88b8-308837d3f300",
   "metadata": {},
   "outputs": [],
   "source": [
    "# Basics\n",
    "def outer(outer_value):\n",
    "    \"\"\"....\"\"\"\n",
    "    x = outer_value\n",
    "    \n",
    "    def inner(x):\n",
    "        \"\"\"...\"\"\"\n",
    "        y = x ** 2\n",
    "        \n",
    "    return inner()\n",
    "\n",
    "print(outer(1))"
   ]
  },
  {
   "cell_type": "code",
   "execution_count": null,
   "id": "3a0524f5-d0e8-41fb-9b30-27d05a9d46bb",
   "metadata": {},
   "outputs": [],
   "source": [
    "# Example\n",
    "def outer(x1,x2,x3):\n",
    "    \"\"\"Returns the remainer plus of three values.\"\"\"\n",
    "    \n",
    "    def inner(x):\n",
    "        \"\"\"returns the remainder plus 5 of a value.\"\"\"\n",
    "        y = x ** 2\n",
    "        \n",
    "    return (inner(x1), inner(x2), inner(x3))\n",
    "\n",
    "print(outer(1,2,3)) # Output = 1,4,9"
   ]
  },
  {
   "cell_type": "markdown",
   "id": "2e35d988-92ab-4bf5-8bdb-24dfa3e12c0d",
   "metadata": {},
   "source": [
    "### Returning functions"
   ]
  },
  {
   "cell_type": "code",
   "execution_count": null,
   "id": "d1fd35ae-d8cb-4c6f-9f96-096a05e100ee",
   "metadata": {},
   "outputs": [],
   "source": [
    "# Example \n",
    "def outer(n):\n",
    "    \"\"\"Return the inner function.\"\"\"\n",
    "    \n",
    "    def inner(x):\n",
    "        \"\"\"Raise x to the power of n.\"\"\"\n",
    "        raised = x ** n\n",
    "        return raised\n",
    "        \n",
    "    return inner()\n",
    "\n",
    "# Define outer value\n",
    "square = outer(2) # n = 2\n",
    "cube = outer(3)   # n = 3\n",
    "\n",
    "# Define inner value\n",
    "print(square(2)) # Output:  4 \n",
    "print(cube(4))   # Output: 64 "
   ]
  },
  {
   "cell_type": "markdown",
   "id": "c9b1e216-9778-45d1-adcb-4f0d92c1fa80",
   "metadata": {},
   "source": [
    "### Nonlocal\n",
    "\n",
    "Nonlocal is used to create and change names in an enclosing scope."
   ]
  },
  {
   "cell_type": "code",
   "execution_count": null,
   "id": "7a5b36e0-1f10-463a-b5a6-c870b5ff498f",
   "metadata": {},
   "outputs": [],
   "source": [
    "def outer(n):\n",
    "    \"\"\"Prints the value of n.\"\"\"\n",
    "    n = 1\n",
    "    \n",
    "    def inner(x):\n",
    "        # Change name only in enclosing scope (outer and inner, not elsewhere)\n",
    "        nonlocal n\n",
    "        n = 2\n",
    "        print(n)\n",
    "    \n",
    "    inner()\n",
    "    print(n)\n",
    "    \n",
    "## FIXME print(outer(2)) # output: 2, 2"
   ]
  },
  {
   "cell_type": "markdown",
   "id": "bda304df-78a8-42f0-b9f5-c33fe4d6dca0",
   "metadata": {},
   "source": [
    "## 4. Lambda functions\n",
    "\n",
    "Lambda functions allow you to write functions in a quick and potentially dirty way. Lambda calculate/map/filter without naming the arguments (=anonymous functions)\n",
    "\n",
    "Lambda function:\n",
    "* lambda parameters : function\n",
    "\n",
    "There are situations where they are very handy, for example in the following functions which all takes 2 arguments func_name(func, seq):\n",
    "* map()\n",
    "* filter()\n",
    "* reduce()\n",
    "\n",
    "The map() function applies ALL elements in the sequence. \n"
   ]
  },
  {
   "cell_type": "code",
   "execution_count": null,
   "id": "44cf9b28-1df6-4f70-b2d8-3fe51d6c7d70",
   "metadata": {},
   "outputs": [],
   "source": [
    "# lambda function\n",
    "raise_to_power = lambda x,y: x ** y\n",
    "raise_to_power(2,3)"
   ]
  },
  {
   "cell_type": "code",
   "execution_count": null,
   "id": "c8f82965-e0ab-45f0-8225-7e02de0d8cdc",
   "metadata": {},
   "outputs": [],
   "source": [
    "# map to lambda function\n",
    "nums = [48, 6, 9, 21, 1]\n",
    "square_all = map(lambda num: num ** 2, nums)\n",
    "print(list(square_all))"
   ]
  },
  {
   "cell_type": "code",
   "execution_count": null,
   "id": "779ff420-fb2b-4520-8bfe-9c0d3e04d046",
   "metadata": {},
   "outputs": [],
   "source": [
    "# filters by lambda using a condition in the function\n",
    "fellowship = ['frodo', 'samwise', 'merry', 'pippin', 'aragorn', 'boromir', 'legolas', 'gimli', 'gandalf']\n",
    "result = filter(lambda member: len(member)>6, fellowship)\n",
    "print(list(result))"
   ]
  },
  {
   "cell_type": "code",
   "execution_count": null,
   "id": "fa08a04d-69dd-41d7-bd3e-afa0a59a730a",
   "metadata": {},
   "outputs": [],
   "source": [
    "# reduce concentrates all of the strings\n",
    "from functools import reduce\n",
    "stark = ['robb', 'sansa', 'arya', 'brandon', 'rickon']\n",
    "result = reduce(lambda item1, item2 : item1 + item2, stark)\n",
    "print(result)"
   ]
  }
 ],
 "metadata": {
  "kernelspec": {
   "display_name": "Python 3 (ipykernel)",
   "language": "python",
   "name": "python3"
  },
  "language_info": {
   "codemirror_mode": {
    "name": "ipython",
    "version": 3
   },
   "file_extension": ".py",
   "mimetype": "text/x-python",
   "name": "python",
   "nbconvert_exporter": "python",
   "pygments_lexer": "ipython3",
   "version": "3.10.9"
  }
 },
 "nbformat": 4,
 "nbformat_minor": 5
}
