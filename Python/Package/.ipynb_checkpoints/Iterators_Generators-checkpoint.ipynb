{
 "cells": [
  {
   "cell_type": "code",
   "execution_count": 1,
   "id": "31ff043f-daf4-4b75-9e4e-15bfa974a76b",
   "metadata": {},
   "outputs": [],
   "source": [
    "import pandas as pd"
   ]
  },
  {
   "cell_type": "markdown",
   "id": "27b2631e-efab-4027-9766-85ebf92de138",
   "metadata": {},
   "source": [
    "# Iterators\n",
    "\n",
    "Iterables: Object that has an associated iter() method and can return an iterator. \n",
    "* lists\n",
    "* strings\n",
    "* dictionaries\n",
    "* file connections\n",
    "\n",
    "Iterator: An object that keeps state and produces the next value when you call next().\n",
    "An iter() has an object that has an associated next method that produces the consecutive values with next().\n",
    "* iter()\n",
    "* next()"
   ]
  },
  {
   "cell_type": "markdown",
   "id": "9314ebc3-6dd1-4f85-b62a-9a7a31f79573",
   "metadata": {},
   "source": [
    "## 1. Examples of 'known' iterators"
   ]
  },
  {
   "cell_type": "code",
   "execution_count": null,
   "id": "0ac3803a-e6f1-498a-967e-6e1ce9b21d57",
   "metadata": {},
   "outputs": [],
   "source": [
    "# Iterating over a list\n",
    "alist = ['name1','name2','name3']\n",
    "for name in alist:\n",
    "    print(name)"
   ]
  },
  {
   "cell_type": "code",
   "execution_count": null,
   "id": "3c592ca6-7a85-4dfa-a6e8-ad4d98cd9aea",
   "metadata": {},
   "outputs": [],
   "source": [
    "# Iterate over characters in a string\n",
    "for letter in 'word':\n",
    "    print(letter)"
   ]
  },
  {
   "cell_type": "code",
   "execution_count": null,
   "id": "0d0ed0c8-ecce-4a32-adbf-6b103b67a35f",
   "metadata": {},
   "outputs": [],
   "source": [
    "# Iterate over a number produced by a a range object\n",
    "for i in range(4):\n",
    "    print(i)"
   ]
  },
  {
   "cell_type": "code",
   "execution_count": null,
   "id": "f8bb49cf-510a-4c8d-ab52-2b3ce1417320",
   "metadata": {},
   "outputs": [],
   "source": [
    "# Iterating over file connection\n",
    "file = open('file'.txt)\n",
    "it = iter(file)\n",
    "print(next(it)) # --> first line"
   ]
  },
  {
   "cell_type": "markdown",
   "id": "b503e3b6-f03e-4e7f-89e9-794ae39f9e67",
   "metadata": {},
   "source": [
    "## 2. iter() and next() method"
   ]
  },
  {
   "cell_type": "code",
   "execution_count": null,
   "id": "cb0e92f6-907e-4312-85d3-707043380408",
   "metadata": {},
   "outputs": [],
   "source": [
    "# Iterating over iterables\n",
    "word = 'Name'\n",
    "it = iter(word)\n",
    "next(it) # --> N \n",
    "next(it) # --> a\n",
    "next(it) # --> m\n",
    "next(it) # --> e\n",
    "# --> StopIterrationError"
   ]
  },
  {
   "cell_type": "code",
   "execution_count": null,
   "id": "f0218cea-b10d-4b4c-8049-9bfbb18353ed",
   "metadata": {},
   "outputs": [],
   "source": [
    "# Iterating over iterables\n",
    "word = 'Name'\n",
    "it = iter(word)\n",
    "next(*it) # --> N a m e "
   ]
  },
  {
   "cell_type": "markdown",
   "id": "1b797264-723b-4951-857c-f52fbea4d4b7",
   "metadata": {},
   "source": [
    "## 3. Iterators in action"
   ]
  },
  {
   "cell_type": "markdown",
   "id": "05942a07-e0fb-4429-8c9c-f24be292433d",
   "metadata": {},
   "source": [
    "### enumerate()\n",
    "A pair of the element of the original iterable with their indext within the iterable.\n",
    "Index starts at 0, but you can alter this with the argument start."
   ]
  },
  {
   "cell_type": "code",
   "execution_count": null,
   "id": "cc9e269c-8c1b-466c-abd0-29ee6fcf6a7f",
   "metadata": {},
   "outputs": [],
   "source": [
    "# Define an enumerate\n",
    "alist = ['name1','name2','name3']\n",
    "e = enumerate(alist)\n",
    "\n",
    "# Make a tuple [(index, list element)]\n",
    "e_list = list(e)"
   ]
  },
  {
   "cell_type": "code",
   "execution_count": null,
   "id": "52c29724-167f-4774-a1f4-b0bafb31169f",
   "metadata": {},
   "outputs": [],
   "source": [
    "# Define an enumerate\n",
    "alist = ['name1','name2','name3']\n",
    "e = enumerate(alist)\n",
    "\n",
    "# Display all elements, not by list, but by a for loop\n",
    "for index, value in enumerate(alist, start = 1):\n",
    "    print(index, value)"
   ]
  },
  {
   "cell_type": "markdown",
   "id": "1d891b9d-6b4d-4305-a279-9b07ac865b8b",
   "metadata": {},
   "source": [
    "### zip()\n",
    "Zipping lists together."
   ]
  },
  {
   "cell_type": "code",
   "execution_count": null,
   "id": "53dac51e-a597-420a-a349-15aac4d68210",
   "metadata": {},
   "outputs": [],
   "source": [
    "# Create zip object\n",
    "alist = ['ele1','ele2','ele3']\n",
    "names = ['name1','name2','name3']\n",
    "z = zip(alist, names)\n",
    "\n",
    "# Make a tuple [(index, list element)]\n",
    "z_list = list(z)\n",
    "\n",
    "# Display all elements, not by list, but by a for loop\n",
    "for z1, z2 in zip(alist, names):\n",
    "    print(z1, z2)"
   ]
  },
  {
   "cell_type": "markdown",
   "id": "566c0dd7-8f6f-40f2-a34f-6b4b377b67a3",
   "metadata": {},
   "source": [
    "With a * all elements are displayed."
   ]
  },
  {
   "cell_type": "code",
   "execution_count": null,
   "id": "b0a616be-07df-406f-b15b-84adee17c373",
   "metadata": {},
   "outputs": [],
   "source": [
    "# Create zip object\n",
    "alist = ['ele1','ele2','ele3']\n",
    "names = ['name1','name2','name3']\n",
    "z = zip(alist, names)\n",
    "    \n",
    "# Display all elements\n",
    "print(*z)"
   ]
  },
  {
   "cell_type": "code",
   "execution_count": null,
   "id": "a9afd699-5f1f-4150-87ab-1ffe32cb52a5",
   "metadata": {},
   "outputs": [],
   "source": [
    "# Create zip object\n",
    "alist = ['ele1','ele2','ele3']\n",
    "names = ['name1','name2','name3']\n",
    "z = zip(alist, names)\n",
    "\n",
    "# Display all elements\n",
    "result1, result2 = zip(*z)\n",
    "result1 == alist\n",
    "result2 == names"
   ]
  },
  {
   "cell_type": "markdown",
   "id": "3b634f60-6537-4915-8799-afb3f41a2be3",
   "metadata": {},
   "source": [
    "### chunk\n",
    "Using iterators to load large files into memory. This is usefull because you dont have to store data into memory but in chunks. It is like: \n",
    "1. Load the data in chunks.\n",
    "2. Perform the desired operation(s) on each chunk.\n",
    "3. Store the the results in a chunk.\n",
    "4. Dischard the cunk and then load the next chunk. "
   ]
  },
  {
   "cell_type": "code",
   "execution_count": null,
   "id": "0a2dc2ea-c6f6-4f04-9f07-f4547c50552d",
   "metadata": {},
   "outputs": [],
   "source": [
    "# Iterating over data\n",
    "result = []\n",
    "for chunk in pd.read_csv('data.csv', chucksize = 1000): # Each chunk will be a dataframe\n",
    "    # Compute the sum of the column of interest and append it to the list result\n",
    "    result.append(sum(chunk['x']))\n",
    "total = sum(result)\n",
    "\n",
    "# or\n",
    "\n",
    "result = []\n",
    "for chunk in pd.read_csv('data.csv', chucksize = 1000): # Each chunk will be a dataframe\n",
    "    # Compute the sum of the column of interest and append it to the list result\n",
    "    total += sum(chunk['x'])\n",
    "total = sum(result)"
   ]
  },
  {
   "cell_type": "markdown",
   "id": "0e6c8620-6955-459b-ac24-1a5d7964e70d",
   "metadata": {},
   "source": [
    "# Comprehators\n",
    "List comprehension collapse for loops for buidling lists into a single line. Nesessary components:\n",
    "* iterable\n",
    "* iterator variable\n",
    "* output expression\n",
    "\n",
    "list_comprehension = [output expression ```for``` iterator variable ```in``` iterable]."
   ]
  },
  {
   "cell_type": "markdown",
   "id": "41740e5d-869c-4878-a69f-ac4b50051731",
   "metadata": {},
   "source": [
    "### Basics"
   ]
  },
  {
   "cell_type": "code",
   "execution_count": null,
   "id": "a11c4138-7409-4374-aff1-01cd15ceb7c9",
   "metadata": {},
   "outputs": [],
   "source": [
    "# List comprehension\n",
    "new_nums = [num+1 for num in nums]\n",
    "\n",
    "# Forloop sytnax\n",
    "for num in nums:\n",
    "    new_nums.append(num+1)"
   ]
  },
  {
   "cell_type": "code",
   "execution_count": null,
   "id": "581ba78c-b88e-41e9-b968-7fa73a4d41b8",
   "metadata": {},
   "outputs": [],
   "source": [
    "# Nested comprehension\n",
    "pairs = [(num1, num2) for num1 in rnage(0,2) for um2 in range(6,8)]\n",
    "\n",
    "# Example\n",
    "matrix = [[col for col in range(5)] for row in range(5)]\n",
    "\n",
    "for row in matrix:\n",
    "    print(row)"
   ]
  },
  {
   "cell_type": "markdown",
   "id": "cfb0b75f-021d-4514-8836-be267bc6ff20",
   "metadata": {},
   "source": [
    "### Advanced comprehension"
   ]
  },
  {
   "cell_type": "code",
   "execution_count": null,
   "id": "34ae2208-79f6-4fd8-9783-4bbeb8b9dea2",
   "metadata": {},
   "outputs": [],
   "source": [
    "# condition on iterable\n",
    "[num ** 2 for num in range(10) if num % 2 == 0]"
   ]
  },
  {
   "cell_type": "code",
   "execution_count": null,
   "id": "13bf001a-bb65-4e08-aee3-20e60bae8cb3",
   "metadata": {},
   "outputs": [],
   "source": [
    "# condition on output expression\n",
    "[num ** 2 if num % 2 == 0 else 0 for num in range(10)]"
   ]
  },
  {
   "cell_type": "code",
   "execution_count": null,
   "id": "219f8437-cf43-496b-ba12-08ab65fdf82f",
   "metadata": {},
   "outputs": [],
   "source": [
    "# dictionary comprehension\n",
    "{num: -num for num in range(9)}"
   ]
  },
  {
   "cell_type": "markdown",
   "id": "b0da0d54-8362-4074-9c73-f86ebb823acf",
   "metadata": {},
   "source": [
    "# Generators\n",
    "A comprehension, but use ```()``` instead of ```[]```.\n",
    "\n",
    "A generator is like a comprehension, except that it does not store the list in memory. It is an object to iterate over. So when the generator is stored, you can loop over it to print the values it yields. \n",
    "\n",
    "You can make functions using genertors. Instead of using ```return```, generators generates a value with ```yield``` keyword. "
   ]
  },
  {
   "cell_type": "code",
   "execution_count": null,
   "id": "7623e99c-c382-4daf-97d3-2f7df51c966c",
   "metadata": {},
   "outputs": [],
   "source": [
    "# Create generator object: result\n",
    "result = (num for num in range(0,31))\n",
    "\n",
    "# Print the first 5 values\n",
    "print(next(result))\n",
    "print(next(result))\n",
    "print(next(result))\n",
    "print(next(result))\n",
    "print(next(result))\n",
    "\n",
    "# Print the rest of the values\n",
    "for value in result:\n",
    "    print(value)"
   ]
  },
  {
   "cell_type": "code",
   "execution_count": null,
   "id": "089b4d9a-b63b-43eb-959e-6dde49567ed3",
   "metadata": {},
   "outputs": [],
   "source": [
    "# Create a list of strings\n",
    "lannister = ['cersei', 'jaime', 'tywin', 'tyrion', 'joffrey']\n",
    "\n",
    "# Define generator function get_lengths\n",
    "def get_lengths(input_list):\n",
    "    \"\"\"Generator function that yields the length of the strings in input_list.\"\"\"\n",
    "\n",
    "    # Yield the length of a string\n",
    "    for person in input_list:\n",
    "        yield len(person)\n",
    "\n",
    "# Print the values generated by get_lengths()\n",
    "for value in get_lengths(lannister):\n",
    "    print(value)"
   ]
  }
 ],
 "metadata": {
  "kernelspec": {
   "display_name": "Python 3 (ipykernel)",
   "language": "python",
   "name": "python3"
  },
  "language_info": {
   "codemirror_mode": {
    "name": "ipython",
    "version": 3
   },
   "file_extension": ".py",
   "mimetype": "text/x-python",
   "name": "python",
   "nbconvert_exporter": "python",
   "pygments_lexer": "ipython3",
   "version": "3.10.9"
  }
 },
 "nbformat": 4,
 "nbformat_minor": 5
}
