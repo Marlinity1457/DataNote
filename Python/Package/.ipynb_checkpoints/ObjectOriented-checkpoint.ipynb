{
 "cells": [
  {
   "cell_type": "code",
   "execution_count": null,
   "id": "39df39e5-31cd-4cb3-a05e-74548e6a839a",
   "metadata": {},
   "outputs": [],
   "source": []
  },
  {
   "cell_type": "markdown",
   "id": "dfedc219-1114-4f6d-9704-8459ff8096f3",
   "metadata": {},
   "source": [
    "# Object Oriented Programming (OOP)"
   ]
  },
  {
   "cell_type": "markdown",
   "id": "a3c171b3-cb93-4126-8b93-997cdeeb8388",
   "metadata": {},
   "source": [
    "### Procedural programming vs Object-oriented programming\n",
    "Procedural programming (most natural)\n",
    "* Code as a sequence of steps\n",
    "* Great for data analysis and scripts\n",
    "= Thinking in steps\n",
    "\n",
    "Procedural programming is not sustainable for users with their own routines.\n",
    "\n",
    "Object-oriented programming\n",
    "* Code as interactions of objects\n",
    "* Great for building frameworks and tools\n",
    "* Maintainable and reuable code\n",
    "= Thinking in behaviour\n",
    "\n",
    "Object-oriented helps to structure your code better.\n",
    "\n",
    "Besides, you can import already writen packages and writing a new function, but it will nog be integrated in the package interface. OOP will allow you to keep interface consistent while customizing functionality."
   ]
  },
  {
   "cell_type": "markdown",
   "id": "19452a64-0b07-4a91-a518-e719001a78c0",
   "metadata": {},
   "source": [
    "### Concepts of OOP\n",
    "\n",
    "Fundamental concepts of OOP are: \n",
    "1. ${\\color{red}Classes}$ = blueprint for objects outlining possible states and behviors\n",
    "2. ${\\color{red}Objects}$ = state + behaviour\n",
    "* ${\\color{red}attribute}$ = state, like a variable\n",
    "* ${\\color{red}method}$ = behaviour, like a function\n",
    "\n",
    "Encapsulation : Buidling data with code operating on it."
   ]
  },
  {
   "cell_type": "markdown",
   "id": "af1e32b0-6993-4b49-957b-0383d01d3860",
   "metadata": {},
   "source": [
    "#### Rules\n",
    "Initiating\n",
    "* Inititialize attributes in `__init__()`\n",
    "\n",
    "Naming\n",
    "* Objects with CapitalLetters and writter as one word\n",
    "* Class with lower_case_letters and written words seperated by _. \n",
    "\n",
    "Self\n",
    "* Keep `self` as `self`\n",
    "\n",
    "Documentation\n",
    "* Use docstrings which are displayed when help() is called on the object."
   ]
  },
  {
   "cell_type": "markdown",
   "id": "0cd080c9-76f0-497e-aa09-183019816829",
   "metadata": {},
   "source": [
    "#### Example objects\n",
    "* state: email, phonenumber\n",
    "* behaviour: place order, cancel order\n",
    "* object: button on a website having a label and triggers when pressed "
   ]
  },
  {
   "cell_type": "markdown",
   "id": "4f37a4ba-8564-4064-b250-7190258abf72",
   "metadata": {},
   "source": [
    "#### Example class\n",
    "* Every customer will have a phone number and an email, and will be able to place and cancel orders."
   ]
  },
  {
   "cell_type": "markdown",
   "id": "5c417041-8b32-43a6-9bb3-771d23de433f",
   "metadata": {},
   "source": [
    "#### State / attributes\n",
    "State information is contained in attributes\n",
    "* A state is represented by variables\n",
    "* Attributes are created by assignment (=) in method. So only when a value is assigned to it, then it is brought into existance. "
   ]
  },
  {
   "cell_type": "code",
   "execution_count": 2,
   "id": "a27f365b-c392-4969-97e2-dd36527bab0c",
   "metadata": {},
   "outputs": [
    {
     "data": {
      "text/plain": [
       "(4,)"
      ]
     },
     "execution_count": 2,
     "metadata": {},
     "output_type": "execute_result"
    }
   ],
   "source": [
    "# Example\n",
    "import numpy as np\n",
    "a = np.array([1,2,3,4])\n",
    "\n",
    "# Shape attribute\n",
    "a.shape"
   ]
  },
  {
   "cell_type": "markdown",
   "id": "0da4e40f-b5c7-439e-8db3-bc20dd792563",
   "metadata": {},
   "source": [
    "#### Behaviour\n",
    "Behaviour information is contained in methods\n",
    "* represented by functions"
   ]
  },
  {
   "cell_type": "code",
   "execution_count": 3,
   "id": "96bfac34-d23d-498b-8012-efdeee9cfa3e",
   "metadata": {},
   "outputs": [
    {
     "data": {
      "text/plain": [
       "array([[1, 2],\n",
       "       [3, 4]])"
      ]
     },
     "execution_count": 3,
     "metadata": {},
     "output_type": "execute_result"
    }
   ],
   "source": [
    "# Example\n",
    "import numpy as np\n",
    "a = np.array([1,2,3,4])\n",
    "\n",
    "# reshape method\n",
    "a.reshape(2,2)"
   ]
  },
  {
   "cell_type": "code",
   "execution_count": null,
   "id": "035dd705-e630-4e63-9d9e-2149ee11de6c",
   "metadata": {},
   "outputs": [],
   "source": [
    "# Call all attributes and methods\n",
    "dir(a)"
   ]
  },
  {
   "cell_type": "markdown",
   "id": "7cbd61a5-01b9-4c94-9621-8a47eef4fe40",
   "metadata": {},
   "source": [
    "## Classes\n",
    "\n",
    "* Class names never should have an underscore _.\n",
    "* use `self` as the 1st arguemnt in method definition. This self is not needed to call."
   ]
  },
  {
   "cell_type": "markdown",
   "id": "11efad3b-e8c3-471b-81ac-152d66b5a31e",
   "metadata": {},
   "source": [
    "#### Basics"
   ]
  },
  {
   "cell_type": "markdown",
   "id": "298c204b-d558-4a9e-8c74-c692fcf6970d",
   "metadata": {},
   "source": [
    "step 1: Define an empty class"
   ]
  },
  {
   "cell_type": "code",
   "execution_count": null,
   "id": "1b74ad45-059d-4fae-9976-f39a5e60f3b1",
   "metadata": {},
   "outputs": [],
   "source": [
    "# Define empty class\n",
    "class MyClass:\n",
    "    \n",
    "    # code for class goes here\n",
    "    pass\n",
    "\n",
    "# Create objects\n",
    "obj1 = MyClass()\n",
    "obj2 = MyClass()"
   ]
  },
  {
   "cell_type": "markdown",
   "id": "07046e6d-353b-4d0e-af7c-8764a6207da3",
   "metadata": {},
   "source": [
    "step 2: Define a method"
   ]
  },
  {
   "cell_type": "code",
   "execution_count": null,
   "id": "36cf21e8-bf51-4ced-aca9-92659790c197",
   "metadata": {},
   "outputs": [],
   "source": [
    "# Define class with method\n",
    "class MyClass:\n",
    "    \n",
    "    # Define method\n",
    "    def method(self, name):\n",
    "        print('I am MyClass' + name)\n",
    "\n",
    "# Create object\n",
    "obj1 = MyClass()\n",
    "\n",
    "# Call the method\n",
    "obj1.method('input')"
   ]
  },
  {
   "cell_type": "markdown",
   "id": "89f45b5a-113a-41df-b585-d304a4108467",
   "metadata": {},
   "source": [
    "Step 3: Define an attribute"
   ]
  },
  {
   "cell_type": "code",
   "execution_count": null,
   "id": "c74bb47a-6ba3-4b55-a4f7-ae3f0c3d16c5",
   "metadata": {},
   "outputs": [],
   "source": [
    "# Define class with method and add an attribute\n",
    "class MyClass:\n",
    "    \n",
    "    # Define method\n",
    "    def method(self, new_name):\n",
    "        \n",
    "        # Create an attribute by assigning a value\n",
    "        self.name = new_name\n",
    "\n",
    "# Create object (.name doesnt exist here yet)\n",
    "obj1 = MyClass()\n",
    "\n",
    "# Call the method (.name is created and set to 'input')\n",
    "obj1.method('input')"
   ]
  },
  {
   "cell_type": "markdown",
   "id": "c1e21c98-3c8f-4e8a-a81b-d212d0c7e0c6",
   "metadata": {},
   "source": [
    "step 4: Combine the method and attribute"
   ]
  },
  {
   "cell_type": "code",
   "execution_count": 9,
   "id": "cbec4687-a845-4949-a62c-49789da0be20",
   "metadata": {},
   "outputs": [
    {
     "name": "stdout",
     "output_type": "stream",
     "text": [
      "My name is Marleen\n",
      "Marleen\n"
     ]
    }
   ],
   "source": [
    "# Define class with method and add an attribute\n",
    "class MyClass:\n",
    "    \n",
    "    # Define method\n",
    "    def method_set_name(self, new_name):\n",
    "        \n",
    "        # Create an attribute by assigning a value\n",
    "        self.name = new_name\n",
    "        \n",
    "    # Define method\n",
    "    def method_identify(self):\n",
    "        \n",
    "        # Using .name from the object it*self*\n",
    "        print('My name is ' + self.name)\n",
    "        \n",
    "# Create object \n",
    "obj1 = MyClass()\n",
    "\n",
    "# Call the set_name method \n",
    "obj1.method_set_name('Marleen')\n",
    "\n",
    "# Call the identify method\n",
    "obj1.method_identify()\n",
    "\n",
    "# Call the attribute\n",
    "my_name = obj1.name\n",
    "print(my_name)"
   ]
  },
  {
   "cell_type": "markdown",
   "id": "f022b32e-3136-48a5-8c76-6ce47b0de267",
   "metadata": {},
   "source": [
    "Example exercise writting during DataCamp course:"
   ]
  },
  {
   "cell_type": "code",
   "execution_count": null,
   "id": "3cd708fb-42f8-4d24-a66a-94813e2ae4f1",
   "metadata": {},
   "outputs": [],
   "source": [
    "# Write the class Point as outlined in the instructions\n",
    "import math\n",
    "\n",
    "class Point:\n",
    "\n",
    "    def __init__(self, x = 0.0, y = 0.0):\n",
    "        self.x = x\n",
    "        self.y = y\n",
    "    \n",
    "    def distance_to_origin(self):\n",
    "        return math.sqrt((self.x ** 2) + (self.y ** 2))\n",
    "    \n",
    "    def reflect(self, axis):\n",
    "        self.axis = axis\n",
    "        if self.axis == \"x\":\n",
    "            self.y = -self.y\n",
    "        elif self.axis == \"y\":\n",
    "            self.x = -self.x\n",
    "        else:\n",
    "            print('error')\n",
    "\n",
    "\n",
    "pt = Point(x= 3.0)\n",
    "pt.reflect(\"y\")\n",
    "print((pt.x, pt.y))\n",
    "pt.y = 4.0\n",
    "print(pt.distance_to_origin())"
   ]
  },
  {
   "cell_type": "markdown",
   "id": "49fc0f1f-cae7-45c6-948b-c0fffa670c7b",
   "metadata": {},
   "source": [
    "#### Other examples"
   ]
  },
  {
   "cell_type": "code",
   "execution_count": 1,
   "id": "a1d0687e-282b-4168-bbbc-412c8365287d",
   "metadata": {},
   "outputs": [],
   "source": [
    "# in the file my_class.py\n",
    "\n",
    "# Define a minimal class with an attribute\n",
    "class MyClass:\n",
    "    \n",
    "    \"\"\" A minimal example class.\n",
    "    \n",
    "    :param value: value to set as the ''attribute'' attribute\n",
    "    :ivar attribute: contains the contents of ''value'' passed in init\n",
    "    \n",
    "    \"\"\"\n",
    "    \n",
    "    # Method to create a new instance of MyClass\n",
    "    def __init__(self,value):\n",
    "        \n",
    "        # Define attribute with the contents of the value param\n",
    "        self.attribute = value"
   ]
  },
  {
   "cell_type": "code",
   "execution_count": null,
   "id": "78b41306-1366-4a0c-888f-3b3bf5006372",
   "metadata": {},
   "outputs": [],
   "source": [
    "# Import class\n",
    "from .my_class import MyClass"
   ]
  },
  {
   "cell_type": "markdown",
   "id": "09c0cc30-7665-4b73-b60b-8623fe60558b",
   "metadata": {},
   "source": [
    "Example if MyClass is in a package"
   ]
  },
  {
   "cell_type": "code",
   "execution_count": null,
   "id": "d39d6cfc-7816-44c7-929e-11a3140b64e0",
   "metadata": {},
   "outputs": [],
   "source": [
    "# Import pacakge\n",
    "import my_package\n",
    "\n",
    "# Create instance of MyClass\n",
    "my_instance = my_pacakge.MyClass(value = 'class attribute value')\n",
    "\n",
    "# Print class attribute value\n",
    "print(my_instance.attribute)"
   ]
  },
  {
   "cell_type": "markdown",
   "id": "24a4243e-7ee2-45a6-924f-a2afb18194f2",
   "metadata": {},
   "source": [
    "Example just to show what the output of MyClass is"
   ]
  },
  {
   "cell_type": "code",
   "execution_count": 2,
   "id": "fdd1fd1d-aa0a-4208-b907-65415f9d9dba",
   "metadata": {},
   "outputs": [
    {
     "name": "stdout",
     "output_type": "stream",
     "text": [
      "class attribute value\n"
     ]
    }
   ],
   "source": [
    "# Create instance of MyClass\n",
    "my_instance = MyClass(value = 'class attribute value')\n",
    "\n",
    "# Print class attribute value\n",
    "print(my_instance.attribute)"
   ]
  },
  {
   "cell_type": "markdown",
   "id": "3152384b-bf93-46b5-8b68-400401e57dbc",
   "metadata": {},
   "source": [
    "## Self\n",
    "\n",
    "Classes are templates, it is a standard for the future object. With `self` you can refer to the data of a particular object within class defintion.\n",
    "\n",
    "* `self` is a class instance even though we dont know what the user is actually going to name their instance. \n",
    "* `self` is typically the first argument in defining a typical class instance method in `__init__`. \n",
    "\n",
    "The user doesnt need to pass a value to the self argument, this is done automatically behind the scenes."
   ]
  },
  {
   "cell_type": "markdown",
   "id": "ac3a83db-8808-4081-8efb-3959d02f1ea1",
   "metadata": {},
   "source": [
    "## `__init__`\n",
    "\n",
    "Add data to the object when it is created. This can be done with the *constructor* `__init__()` which is called every time an object is created.\n",
    "\n",
    "If possible, try to avoid defining attributes outside the constructor. \n",
    "* --> It is easier to know all the attributes. \n",
    "* --> Attributes are created when the object is created\n",
    "--> more usable and maintable code"
   ]
  },
  {
   "cell_type": "code",
   "execution_count": null,
   "id": "af93c21c-83c2-42e0-8424-a0814b95c99c",
   "metadata": {},
   "outputs": [],
   "source": [
    "# Define class with method and add an attribute\n",
    "class MyClass:\n",
    "    \n",
    "    # Define constructor\n",
    "    def __init__(self, name):\n",
    "        \n",
    "        # Add attribute == def method_set_name(self, new_name)\n",
    "        self.name = name\n",
    "               \n",
    "# Create object \n",
    "obj1 = MyClass()\n",
    "\n",
    "# Call the attribute\n",
    "print(obj1.name)"
   ]
  },
  {
   "cell_type": "markdown",
   "id": "52b919f5-3335-4a6c-8480-f5392d96a247",
   "metadata": {},
   "source": [
    "## Functionalitly to class\n",
    "\n",
    "Attributes and methods can be added within a class."
   ]
  },
  {
   "cell_type": "code",
   "execution_count": null,
   "id": "b2447407-9419-4b81-9bb8-002db60ee814",
   "metadata": {},
   "outputs": [],
   "source": [
    "# Import related methods / method writen by someone in the community :) just import them for your own user cases.\n",
    "from .token_utils import tokenize"
   ]
  },
  {
   "cell_type": "code",
   "execution_count": null,
   "id": "2bcb12b1-9bfc-49b3-bbb3-ecc20502c751",
   "metadata": {},
   "outputs": [],
   "source": [
    "# Define a class with attributes\n",
    "class Document:\n",
    "    def __init__(self, text, token_regex = r'[a-zA-z]+'):\n",
    "        \n",
    "        # Define attribute with the contents of the value param\n",
    "        self.text = text\n",
    "        \n",
    "        # Tokenize the document with non-public tokenize method\n",
    "        # Purpose: Breaking up a document into individual words (tokens).\n",
    "        # Document is tokenized as soon as it is created. Users dont have to think about this step.\n",
    "        # _ : private property, method not public to the user. Intended for iternal use only.\n",
    "        self.tokens = self._tokenize()\n",
    "        \n",
    "        # Perform word count with non-public count_words method\n",
    "        self.word_counts = self._count_words()\n",
    "    \n",
    "    def _tokenize(self):\n",
    "        return tokenize(self.text)\n",
    "    \n",
    "      # non-public method to tally document's word counts with Counter\n",
    "    def _count_words(self):\n",
    "        return Counter(self.tokens)"
   ]
  },
  {
   "cell_type": "code",
   "execution_count": null,
   "id": "6732dbfb-9dba-43c0-9bb4-491c4cac9cfd",
   "metadata": {},
   "outputs": [],
   "source": [
    "# Instance\n",
    "doc = Document('test doc')\n",
    "print(doc.tokens)\n",
    "\n",
    "# Output\n",
    "#['text', 'doc']"
   ]
  },
  {
   "cell_type": "code",
   "execution_count": null,
   "id": "5e76f696-6cbe-45ac-8c6e-eb12424ea9ff",
   "metadata": {},
   "outputs": [],
   "source": [
    "# create a new document instance from datacamp_tweets (text variable)\n",
    "datacamp_doc = Document(datacamp_tweets)\n",
    "\n",
    "# print the first 5 tokens from datacamp_doc\n",
    "print(datacamp_doc.tokens[:5])\n",
    "\n",
    "# print the top 5 most used words in datacamp_doc\n",
    "print(datacamp_doc.word_counts.most_common(5))"
   ]
  },
  {
   "cell_type": "markdown",
   "id": "e4c74ade-ed15-4eec-9430-e1c1894818e6",
   "metadata": {},
   "source": [
    "## Instances and class-level data\n",
    "\n",
    "Global attributes are defined before defining the methods and is available as attribute within the class. You can acces it from an object.\n",
    "\n",
    "Why global constants?\n",
    "* min/max values for attributes\n",
    "* commonly used values and constants, e.g. `pi` for a `Circle` class"
   ]
  },
  {
   "cell_type": "code",
   "execution_count": 13,
   "id": "5628292f-e58b-4dd1-bf35-d8f8698568b4",
   "metadata": {},
   "outputs": [
    {
     "name": "stdout",
     "output_type": "stream",
     "text": [
      "30000\n",
      "30000\n"
     ]
    }
   ],
   "source": [
    "class MyClass:\n",
    "    \n",
    "    # Global attribute, no self needed\n",
    "    global_attribute = 30000\n",
    "    \n",
    "    # Define constructor\n",
    "    def __init__(self, name, number):\n",
    "        \n",
    "        # set attribute\n",
    "        self.name = name\n",
    "        \n",
    "        # set attribute \n",
    "        if number >= MyClass.global_attribute:\n",
    "            self.number = number\n",
    "        else:\n",
    "            self.number = MyClass.global_attribute\n",
    "            \n",
    "obj1 = MyClass('Marleen', 57000)\n",
    "print(obj1.global_attribute)\n",
    "\n",
    "obj2 = MyClass('Marleen', 500)\n",
    "print(obj2.global_attribute)"
   ]
  },
  {
   "cell_type": "markdown",
   "id": "94bef338-9f28-4169-aa0e-247f6bdfa391",
   "metadata": {},
   "source": [
    "## Instances and method-level data\n",
    "\n",
    "Methods are already shared. The same code gets executed for every instance. The only difference is the data that got into it. \n",
    "It is possible to define methods bound to a class rather than an isntance, but they have a narrow application scope, because these methods will not be able to use any-instance level data (so cannot fed data into it from outside the object).\n",
    "\n",
    "Class methods are defined with a class method @decorator.\n",
    "* Use @decorator\n",
    "* First argument is NOT `self`, BUT `cls`, refering to the class\n",
    "* Use return to return an object using cls, as cls refers to the class. So this line will call the init constructor. \n",
    "\n",
    "Why global constants?\n",
    "* Main user case is to use alternative constructors. A class can only have one init method, but there might be multiple ways to initialize an object. / The main use of class methods is defining methods that return an instance of the class, but aren't using the same code as ``__init__()``.\n",
    "* ..."
   ]
  },
  {
   "cell_type": "code",
   "execution_count": null,
   "id": "b8872c1b-c63a-4d30-8fb4-a9c3c2cfff99",
   "metadata": {},
   "outputs": [],
   "source": [
    "class MyClass:\n",
    "    \n",
    "    @classmethod\n",
    "    def method(cls, args...)\n",
    "    # Do stuff here ...\n",
    "    # Cant use any isntance attributes :(\n",
    "\n",
    "MyClass.method(args...)"
   ]
  },
  {
   "cell_type": "code",
   "execution_count": null,
   "id": "7db3d903-0943-41bf-b812-8e3f0a6bbdc6",
   "metadata": {},
   "outputs": [],
   "source": [
    "#  Example read name\n",
    "\n",
    "class MyClass:\n",
    "    \n",
    "    @classmethod\n",
    "    def from_file(cls, filename):\n",
    "        with open(filename, 'r') as f:\n",
    "            # Read first line from the file\n",
    "            name = f.readline()\n",
    "        # Use return to return an object using cls, as cls refers to the class. So this line will call the init constructor. \n",
    "        return cls(name)\n",
    "    "
   ]
  },
  {
   "cell_type": "code",
   "execution_count": 14,
   "id": "0283b655-3032-43b0-9ebb-90539fc69009",
   "metadata": {},
   "outputs": [
    {
     "name": "stdout",
     "output_type": "stream",
     "text": [
      "2023\n",
      "5\n",
      "17\n"
     ]
    }
   ],
   "source": [
    "# import datetime from datetime\n",
    "from datetime import datetime\n",
    "\n",
    "class BetterDate:\n",
    "    def __init__(self, year, month, day):\n",
    "      self.year, self.month, self.day = year, month, day\n",
    "      \n",
    "    @classmethod\n",
    "    def from_str(cls, datestr):\n",
    "        year, month, day = map(int, datestr.split(\"-\"))\n",
    "        return cls(year, month, day)\n",
    "      \n",
    "    # Define a class method from_datetime accepting a datetime object\n",
    "    @classmethod\n",
    "    def from_datetime(cls, datetime):\n",
    "        # year, month, day = map(int, str(datetime).replace(' ','-').split('-')[:3])\n",
    "        year, month, day = datetime.year, datetime.month, datetime.day\n",
    "        return cls(year, month, day)\n",
    "\n",
    "# You should be able to run the code below with no errors: \n",
    "today = datetime.today()     \n",
    "bd = BetterDate.from_datetime(today)   \n",
    "print(bd.year)\n",
    "print(bd.month)\n",
    "print(bd.day)"
   ]
  },
  {
   "cell_type": "markdown",
   "id": "286071aa-2b57-43ab-b8ca-844714624a2d",
   "metadata": {},
   "source": [
    "## Inheritance\n",
    "New class functionality = Old class functionality + extra\n",
    "\n",
    "An inherticae is 'is-a' relationship (possibliy with special features)."
   ]
  },
  {
   "cell_type": "code",
   "execution_count": null,
   "id": "fe33249b-615e-444b-b4ee-485b285ee1b4",
   "metadata": {},
   "outputs": [],
   "source": [
    "# Parent object\n",
    "obj_p = MyClass_parent()\n",
    "\n",
    "# Inheritance\n",
    "class MyClass_child(MyClass_parent):\n",
    "    pass\n",
    "\n",
    "# Child object\n",
    "obj_c = MyClass_child()\n",
    "\n",
    "# Check relationship\n",
    "isinstance(obj_c, MyClass_child) # True\n",
    "\n",
    "isinstance(obj_c, MyClass_parent) # True\n",
    "\n",
    "isinstance(obj_p, MyClass_child) # False\n",
    "\n",
    "isinstance(obj_p, MyClass_parent) # True"
   ]
  },
  {
   "cell_type": "markdown",
   "id": "a26b4316-683a-4106-8248-36130d833a61",
   "metadata": {},
   "source": [
    "##### DRY principle\n",
    "\n",
    "* D - dont\n",
    "* R - repeat\n",
    "* Y - yourself\n",
    "\n",
    "You can stay DRY by using the Object Oriented Programming concept of inheritance. With inheritance, we start with a parent class and we pass on it's functionality to a child class. A child class inherits all the methods and attributes of its parent, and we are able to add additional functionality without affecting the parent class. "
   ]
  },
  {
   "cell_type": "markdown",
   "id": "1ba79169-e5d3-47f2-a388-64a7f43b650f",
   "metadata": {},
   "source": [
    "##### Single level inheritance"
   ]
  },
  {
   "cell_type": "code",
   "execution_count": null,
   "id": "79ed4dab-7e5c-489c-af32-04a8c097aa85",
   "metadata": {},
   "outputs": [],
   "source": [
    "# Create a child class with inheritance\n",
    "\n",
    "class ChildClass(ParentClass):\n",
    "    def __init__(self):\n",
    "            \n",
    "        # Call parent's __init__ method\n",
    "        ParentClass.__init__(self)\n",
    "        \n",
    "        # Add attribute unique to child class\n",
    "        self.child_attribute = 'I am a child class attribute'"
   ]
  },
  {
   "cell_type": "code",
   "execution_count": null,
   "id": "082d077d-e721-4e94-b8dc-cd110406c890",
   "metadata": {},
   "outputs": [],
   "source": [
    "# Create a ChildClass instance\n",
    "child_class =  ChildClass()\n",
    "print(child_class.child_attribute)\n",
    "print(child_class.parent_attribute)"
   ]
  },
  {
   "cell_type": "code",
   "execution_count": null,
   "id": "d2e7da14-8e52-4cea-bf22-743b4c86cc5b",
   "metadata": {},
   "outputs": [],
   "source": [
    "# Other example with customizing constructors\n",
    "\n",
    "class ChildClass(ParentClass):\n",
    "    \n",
    "    # Constructor specifically for this child\n",
    "    def __init__(self, parent_attribute, child_attribute):\n",
    "        \n",
    "        # Call parent's __init__ method\n",
    "        ParentClass.__init__(self, parent_attribute)\n",
    "        \n",
    "        # Add attribute unique to child class\n",
    "        self.child_attribute = child_attribute"
   ]
  },
  {
   "cell_type": "markdown",
   "id": "3f31a8b2-5d87-4e25-a74c-f8cb608ac4df",
   "metadata": {},
   "source": [
    "##### Customize functionality (polymorphism)\n",
    "* Can change the signature by adding a paramter\n",
    "* Use `Parent.method(self, args...)` to call a method from the parent class"
   ]
  },
  {
   "cell_type": "code",
   "execution_count": null,
   "id": "ae527ae1-47f6-486b-b1a3-0287b6fb2a34",
   "metadata": {},
   "outputs": [],
   "source": [
    "class Employee:\n",
    "    \n",
    "    def __init__(self, name, salary=30000):\n",
    "        self.name = name\n",
    "        self.salary = salary\n",
    "\n",
    "    def give_raise(self, amount):\n",
    "        self.salary += amount\n",
    "\n",
    "        \n",
    "class Manager(Employee):\n",
    "    \n",
    "    def display(self):\n",
    "        print(\"Manager \", self.name)\n",
    "\n",
    "    # Add constructur of parent + Add child attributes\n",
    "    def __init__(self, name, salary=50000, project=None):\n",
    "        \n",
    "        # Initialize parent class\n",
    "        Employee.__init__(self, name, salary)\n",
    "        \n",
    "        # Add child attribute\n",
    "        self.project = project\n",
    "\n",
    "    # Parent method but customized\n",
    "    def give_raise(self, amount, bonus = 1.05):\n",
    "        \n",
    "        # Call the parent.method, and change the signature by adding a paramter\n",
    "        Employee.give_raise(self, amount * bonus)\n",
    "    \n",
    "    \n",
    "mngr = Manager(\"Ashta Dunbar\", 78500)\n",
    "mngr.give_raise(1000)\n",
    "print(mngr.salary)\n",
    "\n",
    "mngr.give_raise(2000, bonus=1.03)\n",
    "print(mngr.salary)"
   ]
  },
  {
   "cell_type": "markdown",
   "id": "d1c01148-908f-4831-91fc-30fb7474b427",
   "metadata": {},
   "source": [
    "##### Multi level inheritance\n",
    "\n",
    "Super function can be used instead of directly calling the `__init__` method of `Parent`. This makes no functional difference in the code, but it has some advantages in maintainablility and when implementing multiple inheritance. "
   ]
  },
  {
   "cell_type": "code",
   "execution_count": 10,
   "id": "dde171be-3124-4ab5-b9f3-75ffdd1f8667",
   "metadata": {},
   "outputs": [],
   "source": [
    "class Parent:\n",
    "    def __init__(self):\n",
    "        print('I am a parent')\n",
    "\n",
    "# Option 1: calling the parent --> child\n",
    "class Child(Parent):\n",
    "    def __init__(self):\n",
    "        Parent.__init__()\n",
    "        print('I am a child')\n",
    "        \n",
    "# Option 2: calling the parent using the super function --> child\n",
    "class SuperChild(Parent):\n",
    "    def __init__(self):\n",
    "        super().__init__()\n",
    "        print('I am a super child!')\n",
    "        \n",
    "# Another layer of inheritance --> grand child\n",
    "class GrandChild(SuperChild):\n",
    "    def __init__(self):\n",
    "        super().__init__()\n",
    "        print('I am a grandchild!')"
   ]
  },
  {
   "cell_type": "code",
   "execution_count": 11,
   "id": "9f32ef1a-afef-41f4-b0dc-4b6bab291461",
   "metadata": {},
   "outputs": [
    {
     "name": "stdout",
     "output_type": "stream",
     "text": [
      "I am a parent\n",
      "I am a super child!\n",
      "I am a grandchild!\n"
     ]
    }
   ],
   "source": [
    "# All generations are called\n",
    "grandchild = GrandChild()"
   ]
  },
  {
   "cell_type": "markdown",
   "id": "3eb21cc4-1bc3-44a6-a221-6f8329609c0b",
   "metadata": {},
   "source": [
    "Seach which methods are available"
   ]
  },
  {
   "cell_type": "code",
   "execution_count": 12,
   "id": "46d28aad-302a-42bf-858f-610d0e4be08c",
   "metadata": {},
   "outputs": [
    {
     "data": {
      "text/plain": [
       "['__class__',\n",
       " '__delattr__',\n",
       " '__dict__',\n",
       " '__dir__',\n",
       " '__doc__',\n",
       " '__eq__',\n",
       " '__format__',\n",
       " '__ge__',\n",
       " '__getattribute__',\n",
       " '__gt__',\n",
       " '__hash__',\n",
       " '__init__',\n",
       " '__init_subclass__',\n",
       " '__le__',\n",
       " '__lt__',\n",
       " '__module__',\n",
       " '__ne__',\n",
       " '__new__',\n",
       " '__reduce__',\n",
       " '__reduce_ex__',\n",
       " '__repr__',\n",
       " '__setattr__',\n",
       " '__sizeof__',\n",
       " '__str__',\n",
       " '__subclasshook__',\n",
       " '__weakref__']"
      ]
     },
     "execution_count": 12,
     "metadata": {},
     "output_type": "execute_result"
    }
   ],
   "source": [
    "# What methods does an instance have?\n",
    "dir(grandchild)"
   ]
  },
  {
   "cell_type": "code",
   "execution_count": null,
   "id": "1cd72136-c284-4ddf-87d5-a32d897952dc",
   "metadata": {},
   "outputs": [],
   "source": []
  }
 ],
 "metadata": {
  "kernelspec": {
   "display_name": "Python 3 (ipykernel)",
   "language": "python",
   "name": "python3"
  },
  "language_info": {
   "codemirror_mode": {
    "name": "ipython",
    "version": 3
   },
   "file_extension": ".py",
   "mimetype": "text/x-python",
   "name": "python",
   "nbconvert_exporter": "python",
   "pygments_lexer": "ipython3",
   "version": "3.10.9"
  }
 },
 "nbformat": 4,
 "nbformat_minor": 5
}
