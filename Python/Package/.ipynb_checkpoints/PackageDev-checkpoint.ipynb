{
 "cells": [
  {
   "cell_type": "code",
   "execution_count": null,
   "id": "5f72d38d-c98d-4529-af78-1067cae3aa96",
   "metadata": {},
   "outputs": [],
   "source": [
    "# Packages"
   ]
  },
  {
   "cell_type": "markdown",
   "id": "a05933c6-c7ed-4101-bbc8-2fa4e11f89f1",
   "metadata": {},
   "source": [
    "# Packages"
   ]
  },
  {
   "cell_type": "markdown",
   "id": "f711cedc-6a17-4e6e-a153-6fdd27fb8148",
   "metadata": {},
   "source": [
    "Each (sub)packages should contain a '__ init __'.py file. "
   ]
  },
  {
   "cell_type": "markdown",
   "id": "1250be0d-c664-4bae-a99f-86af5c460690",
   "metadata": {},
   "source": [
    "Good documentation is crusial so other people can use your code. Document each function, class, class method. Users can use the help function to access the documentation. \n",
    "\n",
    "There are several styles you can use, but you must be consistent within your packages\n",
    "\n",
    "pyment can be used to generate docstrings (template with headings and the parametr names\n",
    "* -w = overwrite file\n",
    "* -o numpydoc = output in NumPy style\n",
    "\n",
    "Package and subpackage documentation is done within the related '__ init __'.py file.\n",
    "Module documentation is done within the function/module definition."
   ]
  },
  {
   "cell_type": "code",
   "execution_count": null,
   "id": "6078c9a9-0b70-4c2a-8c7e-d761f176e6c9",
   "metadata": {},
   "outputs": [],
   "source": [
    "# First implementation NumPy style\n",
    "pyment -w -o numpydoc textanalysis.py\n",
    "\n",
    "# Change documentation style\n",
    "pyment -w -o google textanalysis.py"
   ]
  },
  {
   "cell_type": "markdown",
   "id": "df6ba899-45fb-4061-9bf0-a353d42e52b1",
   "metadata": {},
   "source": [
    "\"\"\"\n",
    "Summary\n",
    "\n",
    "Additional explaination\n",
    "\n",
    "Explain the filepath and input parameter\n",
    "\n",
    "What is returned\n",
    "\"\"\""
   ]
  },
  {
   "cell_type": "code",
   "execution_count": null,
   "id": "106dda5a-538b-4019-95ba-e2a5aea07d5b",
   "metadata": {},
   "outputs": [],
   "source": [
    "# NumPy documentation style\n",
    "\n",
    "\"\"\" Summary line.\n",
    "\n",
    "Extended description of function.\n",
    "\n",
    "Parameters\n",
    "----------\n",
    "arg1 : int\n",
    "    Description of arg1 ...\n",
    "\n",
    "\"\"\""
   ]
  },
  {
   "cell_type": "markdown",
   "id": "d2b766da-2671-462a-a18c-9f4060b5de66",
   "metadata": {},
   "source": [
    "## 1. Import package\n",
    "\n",
    "Each subpackage within the package should be imported separately. Each module has to be imported too.\n",
    "In '__ init __'.py file we import the subpackages using absolute or relative imports.\n",
    "* absolute import: from package import module\n",
    "* relative import: from . import module\n",
    "\n",
    "The . means the current file's parent directory. Absolute import is preferred. Relative import is mostly used if the name becomes really long. \n",
    "Two .. means the parent of the parent directory. "
   ]
  },
  {
   "cell_type": "code",
   "execution_count": null,
   "id": "1b8a8ef3-a2ef-4fde-9bd4-1fac6f67dbbe",
   "metadata": {},
   "outputs": [],
   "source": [
    "# First import pacakge\n",
    "import package\n",
    "\n",
    "# Second import subpackage\n",
    "from package import module"
   ]
  },
  {
   "cell_type": "markdown",
   "id": "6f6cfe63-d22c-4e6c-8b4f-f7404e7dc3cb",
   "metadata": {},
   "source": [
    "## 2. Installing your own package\n",
    "\n",
    "1. Create setup.py file\n",
    "2. Instal package: pip install -e .\n",
    "\n",
    "The . tells you to install the package in the current directory.\n",
    "The -e means to install this package in an editable mode. \n",
    "\n",
    "You have also to create a parent folder of the folders which stores the packages. Mostly its name is similar to the packagename.\n",
    "Tip: Create also another parent folder for all packages to store all packages.\n",
    "\n",
    "Sturcture:\n",
    "* MyPackages\n",
    "* -- Package_folder (upper parent)\n",
    "* ---- Package_folder\n",
    "* ------ Package with modules\n",
    "* ------ Package with modules\n",
    "* ---- Package_folder\n",
    "* ------ Package with modules\n",
    "* ------ Package with modules\n",
    "* ------ etc.\n",
    "\n",
    "install_requires in setup --> Define the necessary pre-installed packages, if nessecary specified by version:\n",
    "*  package >= 1.0 --> a version after 1.0 (good)\n",
    "*  package == 1.1 --> only version 1.1 (bad, too restricted)\n",
    "*  package >= 2.2.1,<3 --> between 2.2.1 but not version 3 or after (good)\n",
    "\n",
    "Using pip freeze you see which versions of packages you have used. "
   ]
  },
  {
   "cell_type": "markdown",
   "id": "2d78098a-474a-4ced-a6f5-5705c2f6a8f8",
   "metadata": {},
   "source": [
    "### Setup"
   ]
  },
  {
   "cell_type": "code",
   "execution_count": null,
   "id": "a5b154b5-b58a-4b48-b18b-88f39c48ca5a",
   "metadata": {},
   "outputs": [],
   "source": [
    "# within the setup.py file\n",
    "\n",
    "# Import required functions\n",
    "from setuptools import setup, find_packages\n",
    "\n",
    "# Call setup function\n",
    "setup(\n",
    "    author = \"\"\n",
    "    description = \"\"\n",
    "    name = \"\"\n",
    "    version = \"\"\n",
    "    packages = find_packages(include = ['package','package.*'])\n",
    "    install_requires = ['pandas>=1.0', 'scipy==1.1', 'matplotlib>=2.2.1,<3', 'seaborn'] # Define pre-installed packages\n",
    "    python_requires = '>=2.7, !=3.0.*, !=3.1.*' # Define version python should have\n",
    ")"
   ]
  },
  {
   "cell_type": "markdown",
   "id": "03fc9415-572a-4147-85b2-5b8543b83d84",
   "metadata": {},
   "source": [
    "### Install"
   ]
  },
  {
   "cell_type": "code",
   "execution_count": null,
   "id": "7fc3727f-1761-4d7b-81a8-c39b2ded3f19",
   "metadata": {},
   "outputs": [],
   "source": [
    "# Step 1: Go to the upper parent folder which includes the setup.py file\n",
    "\n",
    "# Step 2: Instal pacakge\n",
    "pip install -e ."
   ]
  },
  {
   "cell_type": "markdown",
   "id": "8740119c-c53b-469c-be8e-7917db69d37b",
   "metadata": {},
   "source": [
    "### Requirements\n",
    "\n",
    "Added to the upper parent directory"
   ]
  },
  {
   "cell_type": "code",
   "execution_count": null,
   "id": "1de7eeb2-009e-4ce1-b087-dcd258054ad7",
   "metadata": {},
   "outputs": [],
   "source": [
    "# Save package requirements to a file\n",
    "pip freeze > requirements.txt\n",
    "\n",
    "# install requirements from the file\n",
    "pip install -r requirements.txt"
   ]
  },
  {
   "cell_type": "markdown",
   "id": "07710219-2daf-4471-9142-023588714a65",
   "metadata": {},
   "source": [
    "### LICENSE\n",
    "\n",
    "Added to the upper parent directory\n",
    "\n",
    "Go to https:choosealicense.com. Choose a lisence and adapt it to your own need. A license allow other users to use your pacakge, modify you pacakge and distribute versions of your pacakge"
   ]
  },
  {
   "cell_type": "markdown",
   "id": "77f9ab67-2578-489b-8c25-ec79b3cbe763",
   "metadata": {},
   "source": [
    "### README.md\n",
    "\n",
    "Sections:\n",
    "* Title\n",
    "* Description and features\n",
    "* instructions installation\n",
    "* Usage examples\n",
    "* Contribution\n",
    "* License (brief note on the type of license used)\n",
    "\n",
    "Commonmark.md\n",
    "* title: using a single #\n",
    "* bold: **name** inbetween two * \n",
    "* link: [linkname](https://datacamp.com) by linkname between [] followed by (https://link.com)\n",
    "* Subtitles: using multiple #\n",
    "* code samples: ``` code sample ``` by using triple ` before and after"
   ]
  },
  {
   "cell_type": "markdown",
   "id": "5dba9761-19a2-4578-92a4-72838e677cad",
   "metadata": {},
   "source": [
    "### MANIFEST.in\n",
    "\n",
    "Lists all the extra files to include in your package distribution.\n",
    "\n",
    "Inside the MANIFEST.in file:\n",
    "``` \n",
    "include LICENSE \n",
    "include README.md \n",
    "```"
   ]
  },
  {
   "cell_type": "markdown",
   "id": "6e163c9a-98b4-41f0-8628-ec55a0a732db",
   "metadata": {},
   "source": [
    "### Built distributions\n",
    "\n",
    "Building a distribution file by using sdist and bdist_wheel.\n",
    "* sdist = source distribution\n",
    "* bdist_wheel = wheel distribution\n",
    "\n",
    "The creation of a dist directory, also results in the creation of a 'build' and 'packagename.egg-info' directory. But you can ignore these."
   ]
  },
  {
   "cell_type": "code",
   "execution_count": null,
   "id": "c52ae267-9d61-4f17-a08a-7b6c16b92d62",
   "metadata": {},
   "outputs": [],
   "source": [
    "# Create a dist directory\n",
    "python setup.py sdist bdist_wheel"
   ]
  },
  {
   "cell_type": "markdown",
   "id": "d4e727ee-2346-4127-9c11-5329a2fef979",
   "metadata": {},
   "source": [
    "### Upload distributions\n",
    "\n",
    "Upload files to one of the following:\n",
    "* PyPI\n",
    "* TestPyPI\n",
    "\n",
    "But first register for an account."
   ]
  },
  {
   "cell_type": "code",
   "execution_count": null,
   "id": "1cbbe0be-e9fc-4f3f-a4e7-cd0d839c326a",
   "metadata": {},
   "outputs": [],
   "source": [
    "# Upload your distributions to PyPI\n",
    "twine upload dist/*"
   ]
  },
  {
   "cell_type": "code",
   "execution_count": null,
   "id": "3936250f-0c5c-4692-a4eb-8a6c735c2439",
   "metadata": {},
   "outputs": [],
   "source": [
    "# Upload your distributions to TestPyPI\n",
    "twine upload -r testpypi dist/*"
   ]
  },
  {
   "cell_type": "code",
   "execution_count": null,
   "id": "f4265558-ed58-4a30-bcdc-1ac7370683cb",
   "metadata": {},
   "outputs": [],
   "source": [
    "# Others can install your pacakge using pip\n",
    "pip install MyPackages"
   ]
  },
  {
   "cell_type": "markdown",
   "id": "c6bfee52-9f94-4d3c-ab9a-ad250723ca3c",
   "metadata": {},
   "source": [
    "## 3. Testing package"
   ]
  },
  {
   "cell_type": "code",
   "execution_count": null,
   "id": "d221a793-fdb1-43b0-88bf-182ed3c86f6d",
   "metadata": {},
   "outputs": [],
   "source": []
  }
 ],
 "metadata": {
  "kernelspec": {
   "display_name": "Python 3 (ipykernel)",
   "language": "python",
   "name": "python3"
  },
  "language_info": {
   "codemirror_mode": {
    "name": "ipython",
    "version": 3
   },
   "file_extension": ".py",
   "mimetype": "text/x-python",
   "name": "python",
   "nbconvert_exporter": "python",
   "pygments_lexer": "ipython3",
   "version": "3.10.9"
  }
 },
 "nbformat": 4,
 "nbformat_minor": 5
}
