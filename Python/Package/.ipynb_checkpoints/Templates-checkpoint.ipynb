{
 "cells": [
  {
   "cell_type": "code",
   "execution_count": null,
   "id": "9098f2a1-2f6d-4e10-9b4e-48c1246cbe18",
   "metadata": {},
   "outputs": [],
   "source": []
  },
  {
   "cell_type": "markdown",
   "id": "a9d5b3f1-0d57-4068-96ab-e7c9ac40a133",
   "metadata": {},
   "source": [
    "# Cookiecutter\n",
    "Instal cookiecutter template `cookiecutter <template-url>`\n",
    "\n",
    "* Default: `cookiecutter https:github.com/audreyr/cookiecutter-pypackage`"
   ]
  },
  {
   "cell_type": "code",
   "execution_count": null,
   "id": "307ab60a-838d-486e-8024-41fff4109a01",
   "metadata": {},
   "outputs": [],
   "source": []
  }
 ],
 "metadata": {
  "kernelspec": {
   "display_name": "Python 3 (ipykernel)",
   "language": "python",
   "name": "python3"
  },
  "language_info": {
   "codemirror_mode": {
    "name": "ipython",
    "version": 3
   },
   "file_extension": ".py",
   "mimetype": "text/x-python",
   "name": "python",
   "nbconvert_exporter": "python",
   "pygments_lexer": "ipython3",
   "version": "3.10.9"
  }
 },
 "nbformat": 4,
 "nbformat_minor": 5
}
