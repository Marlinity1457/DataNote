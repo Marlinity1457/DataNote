{
 "cells": [
  {
   "cell_type": "code",
   "execution_count": null,
   "id": "39df39e5-31cd-4cb3-a05e-74548e6a839a",
   "metadata": {},
   "outputs": [],
   "source": []
  },
  {
   "cell_type": "markdown",
   "id": "dfedc219-1114-4f6d-9704-8459ff8096f3",
   "metadata": {},
   "source": [
    "# Classes"
   ]
  },
  {
   "cell_type": "markdown",
   "id": "7cbd61a5-01b9-4c94-9621-8a47eef4fe40",
   "metadata": {},
   "source": [
    "## Anatomy of a class\n",
    "\n",
    "Class names never should have an underscore _."
   ]
  },
  {
   "cell_type": "code",
   "execution_count": 1,
   "id": "a1d0687e-282b-4168-bbbc-412c8365287d",
   "metadata": {},
   "outputs": [],
   "source": [
    "# in the file my_class.py\n",
    "\n",
    "# Define a minimal class with an attribute\n",
    "class MyClass:\n",
    "    \n",
    "    \"\"\" A minimal example class.\n",
    "    \n",
    "    :param value: value to set as the ''attribute'' attribute\n",
    "    :ivar attribute: contains the contents of ''value'' passed in init\n",
    "    \n",
    "    \"\"\"\n",
    "    \n",
    "    # Method to create a new instance of MyClass\n",
    "    def __init__(self,value):\n",
    "        # Define attribute with the contents of the value param\n",
    "        self.attribute = value"
   ]
  },
  {
   "cell_type": "code",
   "execution_count": null,
   "id": "78b41306-1366-4a0c-888f-3b3bf5006372",
   "metadata": {},
   "outputs": [],
   "source": [
    "# Import class\n",
    "from .my_class import MyClass"
   ]
  },
  {
   "cell_type": "markdown",
   "id": "09c0cc30-7665-4b73-b60b-8623fe60558b",
   "metadata": {},
   "source": [
    "Example if MyClass is in a package"
   ]
  },
  {
   "cell_type": "code",
   "execution_count": null,
   "id": "d39d6cfc-7816-44c7-929e-11a3140b64e0",
   "metadata": {},
   "outputs": [],
   "source": [
    "# Import pacakge\n",
    "import my_package\n",
    "\n",
    "# Create instance of MyClass\n",
    "my_instance = my_pacakge.MyClass(value = 'class attribute value')\n",
    "\n",
    "# Print class attribute value\n",
    "print(my_instance.attribute)"
   ]
  },
  {
   "cell_type": "markdown",
   "id": "24a4243e-7ee2-45a6-924f-a2afb18194f2",
   "metadata": {},
   "source": [
    "Example just to show what the output of MyClass is"
   ]
  },
  {
   "cell_type": "code",
   "execution_count": 2,
   "id": "fdd1fd1d-aa0a-4208-b907-65415f9d9dba",
   "metadata": {},
   "outputs": [
    {
     "name": "stdout",
     "output_type": "stream",
     "text": [
      "class attribute value\n"
     ]
    }
   ],
   "source": [
    "# Create instance of MyClass\n",
    "my_instance = MyClass(value = 'class attribute value')\n",
    "\n",
    "# Print class attribute value\n",
    "print(my_instance.attribute)"
   ]
  },
  {
   "cell_type": "markdown",
   "id": "3152384b-bf93-46b5-8b68-400401e57dbc",
   "metadata": {},
   "source": [
    "## Self\n",
    "\n",
    "Self is a class instance even though we dont know what the user is actually going to name their instance. 'self' is typically the first argument in defining a typical class instance method in `__init__`. The user doesnt need to pass a value to the self argument, this is done automatically behind the scenes."
   ]
  },
  {
   "cell_type": "markdown",
   "id": "52b919f5-3335-4a6c-8480-f5392d96a247",
   "metadata": {},
   "source": [
    "## Functionalitly to class\n",
    "\n",
    "Attributes and methods can be added within a class."
   ]
  },
  {
   "cell_type": "code",
   "execution_count": null,
   "id": "b2447407-9419-4b81-9bb8-002db60ee814",
   "metadata": {},
   "outputs": [],
   "source": [
    "# Import related methods / method writen by someone in the community :) just import them for your own user cases.\n",
    "from .token_utils import tokenize"
   ]
  },
  {
   "cell_type": "code",
   "execution_count": null,
   "id": "2bcb12b1-9bfc-49b3-bbb3-ecc20502c751",
   "metadata": {},
   "outputs": [],
   "source": [
    "# Define a class with attributes\n",
    "class Document:\n",
    "    def __init__(self, text, token_regex = r'[a-zA-z]+'):\n",
    "        \n",
    "        # Define attribute with the contents of the value param\n",
    "        self.text = text\n",
    "        \n",
    "        # Tokenize the document with non-public tokenize method\n",
    "        # Purpose: Breaking up a document into individual words (tokens).\n",
    "        # Document is tokenized as soon as it is created. Users dont have to think about this step.\n",
    "        # _ : private property, method not public to the user. Intended for iternal use only.\n",
    "        self.tokens = self._tokenize()\n",
    "        \n",
    "        # Perform word count with non-public count_words method\n",
    "        self.word_counts = self._count_words()\n",
    "    \n",
    "    def _tokenize(self):\n",
    "        return tokenize(self.text)\n",
    "    \n",
    "      # non-public method to tally document's word counts with Counter\n",
    "    def _count_words(self):\n",
    "        return Counter(self.tokens)"
   ]
  },
  {
   "cell_type": "code",
   "execution_count": null,
   "id": "6732dbfb-9dba-43c0-9bb4-491c4cac9cfd",
   "metadata": {},
   "outputs": [],
   "source": [
    "# Instance\n",
    "doc = Document('test doc')\n",
    "print(doc.tokens)\n",
    "\n",
    "# Output\n",
    "#['text', 'doc']"
   ]
  },
  {
   "cell_type": "code",
   "execution_count": null,
   "id": "5e76f696-6cbe-45ac-8c6e-eb12424ea9ff",
   "metadata": {},
   "outputs": [],
   "source": [
    "# create a new document instance from datacamp_tweets (text variable)\n",
    "datacamp_doc = Document(datacamp_tweets)\n",
    "\n",
    "# print the first 5 tokens from datacamp_doc\n",
    "print(datacamp_doc.tokens[:5])\n",
    "\n",
    "# print the top 5 most used words in datacamp_doc\n",
    "print(datacamp_doc.word_counts.most_common(5))"
   ]
  },
  {
   "cell_type": "markdown",
   "id": "286071aa-2b57-43ab-b8ca-844714624a2d",
   "metadata": {},
   "source": [
    "### Inheritance"
   ]
  },
  {
   "cell_type": "markdown",
   "id": "a26b4316-683a-4106-8248-36130d833a61",
   "metadata": {},
   "source": [
    "##### DRY principle\n",
    "\n",
    "* D - dont\n",
    "* R - repeat\n",
    "* Y - yourself\n",
    "\n",
    "You can stay DRY by using the Object Oriented Programming concept of inheritance. With inheritance, we start with a parent class and we pass on it's functionality to a child class. A child class inherits all the methods and attributes of its parent, and we are able to add additional functionality without affecting the parent class. "
   ]
  },
  {
   "cell_type": "markdown",
   "id": "1ba79169-e5d3-47f2-a388-64a7f43b650f",
   "metadata": {},
   "source": [
    "##### Single level inheritance"
   ]
  },
  {
   "cell_type": "code",
   "execution_count": null,
   "id": "79ed4dab-7e5c-489c-af32-04a8c097aa85",
   "metadata": {},
   "outputs": [],
   "source": [
    "# Create a child class with inheritance\n",
    "\n",
    "class ChildClass(ParentClass):\n",
    "    def __init__(self):\n",
    "        \n",
    "        # Call parent's __init__ method\n",
    "        ParentClass.__init__(self)\n",
    "        \n",
    "        # Add attribute unique to child class\n",
    "        self.child_attribute = 'I am a child class attribute'"
   ]
  },
  {
   "cell_type": "code",
   "execution_count": null,
   "id": "082d077d-e721-4e94-b8dc-cd110406c890",
   "metadata": {},
   "outputs": [],
   "source": [
    "# Create a ChildClass instance\n",
    "child_class =  ChildClass()\n",
    "print(child_class.child_attribute)\n",
    "print(child_class.parent_attribute)"
   ]
  },
  {
   "cell_type": "markdown",
   "id": "d1c01148-908f-4831-91fc-30fb7474b427",
   "metadata": {},
   "source": [
    "##### Multi level inheritance\n",
    "\n",
    "Super function can be used instead of directly calling the `__init__` method of `Parent`. This makes no functional difference in the code, but it has some advantages in maintainablility and when implementing multiple inheritance. "
   ]
  },
  {
   "cell_type": "code",
   "execution_count": 10,
   "id": "dde171be-3124-4ab5-b9f3-75ffdd1f8667",
   "metadata": {},
   "outputs": [],
   "source": [
    "class Parent:\n",
    "    def __init__(self):\n",
    "        print('I am a parent')\n",
    "\n",
    "# Option 1: calling the parent --> child\n",
    "class Child(Parent):\n",
    "    def __init__(self):\n",
    "        Parent__init__()\n",
    "        print('I am a child')\n",
    "        \n",
    "# Option 2: calling the parent using the super function --> child\n",
    "class SuperChild(Parent):\n",
    "    def __init__(self):\n",
    "        super().__init__()\n",
    "        print('I am a super child!')\n",
    "        \n",
    "# Another layer of inheritance --> grand child\n",
    "class GrandChild(SuperChild):\n",
    "    def __init__(self):\n",
    "        super().__init__()\n",
    "        print('I am a grandchild!')"
   ]
  },
  {
   "cell_type": "code",
   "execution_count": 11,
   "id": "9f32ef1a-afef-41f4-b0dc-4b6bab291461",
   "metadata": {},
   "outputs": [
    {
     "name": "stdout",
     "output_type": "stream",
     "text": [
      "I am a parent\n",
      "I am a super child!\n",
      "I am a grandchild!\n"
     ]
    }
   ],
   "source": [
    "# All generations are called\n",
    "grandchild = GrandChild()"
   ]
  },
  {
   "cell_type": "code",
   "execution_count": null,
   "id": "46d28aad-302a-42bf-858f-610d0e4be08c",
   "metadata": {},
   "outputs": [],
   "source": [
    "# What methods does an instance have?\n",
    "dir(instance)"
   ]
  }
 ],
 "metadata": {
  "kernelspec": {
   "display_name": "Python 3 (ipykernel)",
   "language": "python",
   "name": "python3"
  },
  "language_info": {
   "codemirror_mode": {
    "name": "ipython",
    "version": 3
   },
   "file_extension": ".py",
   "mimetype": "text/x-python",
   "name": "python",
   "nbconvert_exporter": "python",
   "pygments_lexer": "ipython3",
   "version": "3.10.9"
  }
 },
 "nbformat": 4,
 "nbformat_minor": 5
}
