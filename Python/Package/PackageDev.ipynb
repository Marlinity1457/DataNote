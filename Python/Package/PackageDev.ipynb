{
 "cells": [
  {
   "cell_type": "code",
   "execution_count": null,
   "id": "5f72d38d-c98d-4529-af78-1067cae3aa96",
   "metadata": {},
   "outputs": [],
   "source": [
    "# Packages"
   ]
  },
  {
   "cell_type": "markdown",
   "id": "a05933c6-c7ed-4101-bbc8-2fa4e11f89f1",
   "metadata": {},
   "source": [
    "# Packages"
   ]
  },
  {
   "cell_type": "markdown",
   "id": "d2b766da-2671-462a-a18c-9f4060b5de66",
   "metadata": {},
   "source": []
  },
  {
   "cell_type": "markdown",
   "id": "9c00a1e3-840c-4e17-9353-b65286e37760",
   "metadata": {},
   "source": [
    "## 1. Import package\n",
    "\n",
    "Each subpackage within the package should be imported separately. Each module has to be imported too.\n",
    "In '__ init __'.py file we import the subpackages using absolute or relative imports.\n",
    "* absolute import: from package import module\n",
    "* relative import: from . import module\n",
    "\n",
    "The . means the current file's parent directory. Absolute import is preferred. Relative import is mostly used if the name becomes really long. \n",
    "Two .. means the parent of the parent directory. "
   ]
  },
  {
   "cell_type": "markdown",
   "id": "f711cedc-6a17-4e6e-a153-6fdd27fb8148",
   "metadata": {},
   "source": [
    "Each (sub)packages should contain a '__ init __'.py file. "
   ]
  },
  {
   "cell_type": "code",
   "execution_count": null,
   "id": "1b8a8ef3-a2ef-4fde-9bd4-1fac6f67dbbe",
   "metadata": {},
   "outputs": [],
   "source": [
    "# First import pacakge\n",
    "import package\n",
    "\n",
    "# Second import subpackage\n",
    "from package import module"
   ]
  },
  {
   "cell_type": "markdown",
   "id": "6f6cfe63-d22c-4e6c-8b4f-f7404e7dc3cb",
   "metadata": {},
   "source": [
    "## 2. Installing your own package\n",
    "\n",
    "1. Create setup.py file\n",
    "2. Instal package: pip install -e .\n",
    "\n",
    "The . tells you to install the package in the current directory.\n",
    "The -e means to install this package in an editable mode. \n",
    "\n",
    "You have also to create a parent folder of the folders which stores the packages. Mostly its name is similar to the packagename.\n",
    "Tip: Create also another parent folder for all packages to store all packages.\n",
    "\n",
    "Sturcture:\n",
    "* work_dir\n",
    "* -- ```setup.py```\n",
    "* -- ```requirements.txt```\n",
    "* -- my_package (upper parent)\n",
    "* -- ```__init__.py```\n",
    "* ---- Package_folder\n",
    "* ------ ```__init__.py```\n",
    "* ------ Package with modules\n",
    "* ------ Package with modules\n",
    "\n",
    "install_requires in setup --> Define the necessary pre-installed packages, if nessecary specified by version:\n",
    "*  package >= 1.0 --> a version after 1.0 (good)\n",
    "*  package == 1.1 --> only version 1.1 (bad, too restricted)\n",
    "*  package >= 2.2.1,<3 --> between 2.2.1 but not version 3 or after (good)\n",
    "\n",
    "Using pip freeze you see which versions of packages you have used. "
   ]
  },
  {
   "cell_type": "markdown",
   "id": "2d78098a-474a-4ced-a6f5-5705c2f6a8f8",
   "metadata": {},
   "source": [
    "### Setup.py\n",
    "\n",
    "How to install your actual pacakge"
   ]
  },
  {
   "cell_type": "code",
   "execution_count": null,
   "id": "a5b154b5-b58a-4b48-b18b-88f39c48ca5a",
   "metadata": {},
   "outputs": [],
   "source": [
    "# Import required functions\n",
    "from setuptools import setup, find_packages\n",
    "\n",
    "# Call setup function\n",
    "setup(\n",
    "    \n",
    "    # Pacakge information\n",
    "    name = \"my_pacakge\"\n",
    "    version = \"\"\n",
    "    description = \"\"\n",
    "    \n",
    "    # Contact information\n",
    "    author = \"\"\n",
    "    aythor_email = \"\"\n",
    "    \n",
    "    # Installation of package\n",
    "    packages = find_packages(include = ['package','package.*']) # or: ['my_pacakge']\n",
    "    \n",
    "    # Define pre-installed packages\n",
    "    install_requires = ['pandas>=1.0', \n",
    "                        'scipy==1.1', \n",
    "                        'matplotlib>=2.2.1,<3', \n",
    "                        'seaborn'] \n",
    "    \n",
    "    # Define version python should have\n",
    "    python_requires = '>=2.7, !=3.0.*, !=3.1.*' # Define version python should have\n",
    ")"
   ]
  },
  {
   "cell_type": "markdown",
   "id": "8740119c-c53b-469c-be8e-7917db69d37b",
   "metadata": {
    "tags": []
   },
   "source": [
    "### Requirements.txt\n",
    "\n",
    "Added to the upper parent directory"
   ]
  },
  {
   "cell_type": "code",
   "execution_count": null,
   "id": "1de7eeb2-009e-4ce1-b087-dcd258054ad7",
   "metadata": {},
   "outputs": [],
   "source": [
    "# Save package requirements to a file\n",
    "pip freeze > requirements.txt\n",
    "\n",
    "# install requirements from the file\n",
    "pip install -r requirements.txt"
   ]
  },
  {
   "cell_type": "markdown",
   "id": "e9bc10c4-1e59-44f2-b4b5-56b83bdeecd0",
   "metadata": {},
   "source": [
    "##### example"
   ]
  },
  {
   "cell_type": "markdown",
   "id": "6a289b48-1857-48b7-9451-11e1a48d215d",
   "metadata": {},
   "source": [
    "Need package/verions\n",
    "```matplotlib\n",
    "numpyy == 1.15.4\n",
    "pycodestyle >= 2.4.0```\n",
    "\n",
    "Specify where to install requirements from\n",
    "\n",
    "```--index-url https://pypi.ptyhon.org/simple/```"
   ]
  },
  {
   "cell_type": "markdown",
   "id": "03fc9415-572a-4147-85b2-5b8543b83d84",
   "metadata": {},
   "source": [
    "### Install\n",
    "Working in the terminal."
   ]
  },
  {
   "cell_type": "code",
   "execution_count": null,
   "id": "7fc3727f-1761-4d7b-81a8-c39b2ded3f19",
   "metadata": {},
   "outputs": [],
   "source": [
    "# Step 1: Go to the upper parent folder which includes the setup.py file\n",
    "\n",
    "# Step 2: Instal pacakge\n",
    "pip install -e ."
   ]
  },
  {
   "cell_type": "code",
   "execution_count": null,
   "id": "ae2af2ec-f00d-470b-9349-039950daad2d",
   "metadata": {},
   "outputs": [],
   "source": [
    "# General install package\n",
    "pip install package_name"
   ]
  },
  {
   "cell_type": "code",
   "execution_count": null,
   "id": "9cf28bf9-ff4d-4320-b0c4-ac130d7b0533",
   "metadata": {},
   "outputs": [],
   "source": [
    "# Install requirements\n",
    "pip install -r requirements.txt"
   ]
  },
  {
   "cell_type": "markdown",
   "id": "07710219-2daf-4471-9142-023588714a65",
   "metadata": {},
   "source": [
    "### LICENSE\n",
    "\n",
    "Added to the upper parent directory\n",
    "\n",
    "Go to https:choosealicense.com. Choose a lisence and adapt it to your own need. A license allow other users to use your pacakge, modify you pacakge and distribute versions of your pacakge"
   ]
  },
  {
   "cell_type": "markdown",
   "id": "77f9ab67-2578-489b-8c25-ec79b3cbe763",
   "metadata": {},
   "source": [
    "### README.md\n",
    "\n",
    "Sections:\n",
    "* Title\n",
    "* Description and features\n",
    "* instructions installation\n",
    "* Usage examples\n",
    "* Contribution\n",
    "* License (brief note on the type of license used)\n",
    "\n",
    "Commonmark.md\n",
    "* title: using a single #\n",
    "* bold: **name** inbetween two * \n",
    "* link: [linkname](https://datacamp.com) by linkname between [] followed by (https://link.com)\n",
    "* Subtitles: using multiple #\n",
    "* code samples: ``` code sample ``` by using triple ` before and after"
   ]
  },
  {
   "cell_type": "markdown",
   "id": "5dba9761-19a2-4578-92a4-72838e677cad",
   "metadata": {},
   "source": [
    "### MANIFEST.in\n",
    "\n",
    "Lists all the extra files to include in your package distribution.\n",
    "\n",
    "Inside the MANIFEST.in file:\n",
    "``` \n",
    "include LICENSE \n",
    "include README.md \n",
    "```"
   ]
  },
  {
   "cell_type": "markdown",
   "id": "6e163c9a-98b4-41f0-8628-ec55a0a732db",
   "metadata": {},
   "source": [
    "### Built distributions\n",
    "\n",
    "Building a distribution file by using sdist and bdist_wheel.\n",
    "* sdist = source distribution\n",
    "* bdist_wheel = wheel distribution\n",
    "\n",
    "The creation of a dist directory, also results in the creation of a 'build' and 'packagename.egg-info' directory. But you can ignore these."
   ]
  },
  {
   "cell_type": "code",
   "execution_count": null,
   "id": "c52ae267-9d61-4f17-a08a-7b6c16b92d62",
   "metadata": {},
   "outputs": [],
   "source": [
    "# Create a dist directory\n",
    "python setup.py sdist bdist_wheel"
   ]
  },
  {
   "cell_type": "markdown",
   "id": "d4e727ee-2346-4127-9c11-5329a2fef979",
   "metadata": {},
   "source": [
    "### Upload distributions\n",
    "\n",
    "Upload files to one of the following:\n",
    "* PyPI\n",
    "* TestPyPI\n",
    "\n",
    "But first register for an account."
   ]
  },
  {
   "cell_type": "code",
   "execution_count": null,
   "id": "1cbbe0be-e9fc-4f3f-a4e7-cd0d839c326a",
   "metadata": {},
   "outputs": [],
   "source": [
    "# Upload your distributions to PyPI\n",
    "twine upload dist/*"
   ]
  },
  {
   "cell_type": "code",
   "execution_count": null,
   "id": "3936250f-0c5c-4692-a4eb-8a6c735c2439",
   "metadata": {},
   "outputs": [],
   "source": [
    "# Upload your distributions to TestPyPI\n",
    "twine upload -r testpypi dist/*"
   ]
  },
  {
   "cell_type": "code",
   "execution_count": null,
   "id": "f4265558-ed58-4a30-bcdc-1ac7370683cb",
   "metadata": {},
   "outputs": [],
   "source": [
    "# Others can install your pacakge using pip\n",
    "pip install MyPackages"
   ]
  },
  {
   "cell_type": "markdown",
   "id": "9059e036-89e3-4c25-a3c8-17fb67063ba8",
   "metadata": {},
   "source": [
    "## 3. Modularity\n",
    "\n",
    "Modular code does not contain the form of long, complicated, hard-to-read scripts and functions. Programming becomes less complex when your code is devided into shorter functional units. This is the idea behind modularity. \n",
    "\n",
    "Advantages of modularity:\n",
    "* Code become more readable.\n",
    "* Code becomes easier to fix when something breaks.\n",
    "* Code is easier to take along to your next project."
   ]
  },
  {
   "cell_type": "markdown",
   "id": "1480fea7-e1fb-416d-8d9a-0fd26869ecf9",
   "metadata": {},
   "source": [
    "## 4. Documentation"
   ]
  },
  {
   "cell_type": "markdown",
   "id": "b81aaaf7-98e2-4571-a0d7-2cb34f4f5403",
   "metadata": {},
   "source": [
    "### Code style\n",
    "\n",
    "The package pycodestyle can check code in multiple files at once and it outputs descriptions of the violations along with information to let you know exactly where you nee to go to fix the issue.\n",
    "\n",
    "Output PEP8 vialation:\n",
    "* File name\n",
    "* Line number\n",
    "* Column number\n",
    "* Error code\n",
    "* Error description"
   ]
  },
  {
   "cell_type": "code",
   "execution_count": null,
   "id": "8c90e9d7-801a-498c-b190-524923d13bd3",
   "metadata": {},
   "outputs": [],
   "source": [
    "# Install pacakge\n",
    "pip install pycodestyle \n",
    "\n",
    "# Import package\n",
    "import pycodestyle\n",
    "\n",
    "# Use the pacakge\n",
    "pycodestyle file_name.py"
   ]
  },
  {
   "cell_type": "code",
   "execution_count": null,
   "id": "6e158a42-1296-4e8b-b56e-c7eb00ddf7cb",
   "metadata": {},
   "outputs": [],
   "source": [
    "# Create a StyleGuide instance\n",
    "style_checker = pycodestyle.StyleGuide()\n",
    "\n",
    "# Run PEP 8 check on multiple files\n",
    "result = style_checker.check_files(['file1.py', 'file2.py'])\n",
    "\n",
    "# Print result of PEP 8 style check\n",
    "print(result.messages)"
   ]
  },
  {
   "cell_type": "markdown",
   "id": "eaf6bb45-81d6-4993-b76a-97d018040167",
   "metadata": {},
   "source": [
    "### General rules\n",
    "\n",
    "1. package_name is all lowercase, and has a short name.\n",
    "2. package_name contains at least ```__init__.py``` file."
   ]
  },
  {
   "cell_type": "code",
   "execution_count": null,
   "id": "6ea46f52-3cad-462e-af65-ee8cbf991906",
   "metadata": {},
   "outputs": [],
   "source": [
    "# import package\n",
    "import my_package\n",
    "\n",
    "# Print documentation of pacakge\n",
    "help(my_package)"
   ]
  },
  {
   "cell_type": "code",
   "execution_count": null,
   "id": "35825846-d092-4c1b-97bf-43e711fc826f",
   "metadata": {},
   "outputs": [],
   "source": [
    "# importing functionality with __init__.py\n",
    "from .folder import function"
   ]
  },
  {
   "cell_type": "markdown",
   "id": "f6d251e0-2715-4ee9-84e5-16fc4bf06eb0",
   "metadata": {},
   "source": [
    "### Function description"
   ]
  },
  {
   "cell_type": "markdown",
   "id": "9c1b6943-99ce-4b78-8f52-d4517655c590",
   "metadata": {},
   "source": [
    "Good documentation is crusial so other people can use your code. Document each function, class, class method. Users can use the help function to access the documentation. \n",
    "\n",
    "There are several styles you can use, but you must be consistent within your packages\n",
    "\n",
    "pyment can be used to generate docstrings (template with headings and the parametr names\n",
    "* -w = overwrite file\n",
    "* -o numpydoc = output in NumPy style\n",
    "\n",
    "Package and subpackage documentation is done within the related '__ init __'.py file.\n",
    "Module documentation is done within the function/module definition."
   ]
  },
  {
   "cell_type": "code",
   "execution_count": null,
   "id": "3b9a56b7-7be5-43e4-9bc9-7d78550dcc92",
   "metadata": {},
   "outputs": [],
   "source": [
    "# First implementation NumPy style\n",
    "pyment -w -o numpydoc textanalysis.py\n",
    "\n",
    "# Change documentation style\n",
    "pyment -w -o google textanalysis.py"
   ]
  },
  {
   "cell_type": "raw",
   "id": "5d6c4b1d-211b-4109-8ebd-27d9c2012c08",
   "metadata": {},
   "source": [
    "\"\"\" Summary\n",
    "\n",
    "Additional explaination\n",
    "\n",
    "Explain the filepath and input parameter\n",
    "\n",
    "What is returned \"\"\""
   ]
  },
  {
   "cell_type": "code",
   "execution_count": null,
   "id": "4ee76ef7-4b8e-4012-a4be-97b92fa47ac7",
   "metadata": {},
   "outputs": [],
   "source": [
    "# NumPy documentation style\n",
    "\n",
    "\"\"\" Summary line.\n",
    "\n",
    "Extended description of function.\n",
    "\n",
    "Parameters\n",
    "----------\n",
    "arg1 : int\n",
    "    Description of arg1 ...\n",
    "\n",
    "\"\"\""
   ]
  },
  {
   "cell_type": "code",
   "execution_count": null,
   "id": "33651067-25dc-4ec0-a9da-5f84e529d235",
   "metadata": {},
   "outputs": [],
   "source": [
    "# Reading documentation with help\n",
    "help(package)\n",
    "help(package.module)\n",
    "help(module)"
   ]
  },
  {
   "cell_type": "markdown",
   "id": "ef0d7b68-b2a1-4db2-81a9-9105e084c64d",
   "metadata": {},
   "source": []
  },
  {
   "cell_type": "markdown",
   "id": "c6bfee52-9f94-4d3c-ab9a-ad250723ca3c",
   "metadata": {},
   "source": [
    "## 5. Automated testing"
   ]
  },
  {
   "cell_type": "markdown",
   "id": "6736b05a-3ea8-4c67-85b8-b40e6050b675",
   "metadata": {},
   "source": [
    "### Testing package"
   ]
  },
  {
   "cell_type": "markdown",
   "id": "de7ccc0e-8c77-4f58-a946-b09d7e27c707",
   "metadata": {},
   "source": [
    "### Testing module"
   ]
  },
  {
   "cell_type": "code",
   "execution_count": null,
   "id": "574e31ca-d525-4b45-9c90-f9e588ba3541",
   "metadata": {},
   "outputs": [],
   "source": []
  }
 ],
 "metadata": {
  "kernelspec": {
   "display_name": "Python 3 (ipykernel)",
   "language": "python",
   "name": "python3"
  },
  "language_info": {
   "codemirror_mode": {
    "name": "ipython",
    "version": 3
   },
   "file_extension": ".py",
   "mimetype": "text/x-python",
   "name": "python",
   "nbconvert_exporter": "python",
   "pygments_lexer": "ipython3",
   "version": "3.10.9"
  }
 },
 "nbformat": 4,
 "nbformat_minor": 5
}
