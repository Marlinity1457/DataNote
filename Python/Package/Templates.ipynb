{
 "cells": [
  {
   "cell_type": "code",
   "execution_count": null,
   "id": "9098f2a1-2f6d-4e10-9b4e-48c1246cbe18",
   "metadata": {},
   "outputs": [],
   "source": []
  },
  {
   "cell_type": "markdown",
   "id": "a9d5b3f1-0d57-4068-96ab-e7c9ac40a133",
   "metadata": {},
   "source": [
    "# Cookiecutter\n",
    "Instal cookiecutter template `cookiecutter <template-url>`\n",
    "\n",
    "* Default: `cookiecutter https:github.com/audreyr/cookiecutter-pypackage`\n",
    "\n",
    "Slug = packagename"
   ]
  },
  {
   "cell_type": "markdown",
   "id": "3a95136f-c184-415b-b7d0-8d8953d1e3de",
   "metadata": {},
   "source": [
    "## HISTORY.md\n",
    "\n",
    "Include only changes that effects the users.\n",
    "\n",
    "There are 2 places where you have to update your version number: \n",
    "* `slug/slug/-- slug.py` --> version\n",
    "* `setup.py` --> version\n",
    "\n",
    "Points in file:\n",
    "* Added\n",
    "* Fixed\n",
    "* Changed\n",
    "* Deprecated"
   ]
  },
  {
   "cell_type": "raw",
   "id": "4dcd0447-5260-4bf6-a3d3-6ea9cc579bef",
   "metadata": {},
   "source": [
    "# History\n",
    "\n",
    "## 0.3.0\n",
    "### Changed\n",
    "- Regression fitting sped up using NumPy operations.\n",
    "### Deprecated\n",
    "- Suppor for Python 3.5 has ended\n",
    "- 'regression.regression' module has been removed\n",
    "\n",
    "## 0.2.1\n",
    "### Fixed\n",
    "- Fixed bug causing intercepts of zeros.\n",
    "\n",
    "## 0.2.0\n",
    "### Added\n",
    "- ...\n",
    "### Deprecated\n",
    "- ..."
   ]
  },
  {
   "cell_type": "code",
   "execution_count": null,
   "id": "1acf8b7b-a64a-450f-a25b-d3d8d3d3a096",
   "metadata": {},
   "outputs": [],
   "source": []
  }
 ],
 "metadata": {
  "kernelspec": {
   "display_name": "Python 3 (ipykernel)",
   "language": "python",
   "name": "python3"
  },
  "language_info": {
   "codemirror_mode": {
    "name": "ipython",
    "version": 3
   },
   "file_extension": ".py",
   "mimetype": "text/x-python",
   "name": "python",
   "nbconvert_exporter": "python",
   "pygments_lexer": "ipython3",
   "version": "3.10.9"
  }
 },
 "nbformat": 4,
 "nbformat_minor": 5
}
