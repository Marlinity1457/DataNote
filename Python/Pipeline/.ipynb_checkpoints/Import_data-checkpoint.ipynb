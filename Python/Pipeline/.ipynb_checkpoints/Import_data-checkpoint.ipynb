{
 "cells": [
  {
   "cell_type": "code",
   "execution_count": 1,
   "id": "9a3165f7",
   "metadata": {},
   "outputs": [],
   "source": [
    "import pandas as pd"
   ]
  },
  {
   "cell_type": "markdown",
   "id": "112f7db0",
   "metadata": {},
   "source": [
    "## Import"
   ]
  },
  {
   "cell_type": "markdown",
   "id": "063a4cca",
   "metadata": {},
   "source": [
    "### CSV"
   ]
  },
  {
   "cell_type": "code",
   "execution_count": null,
   "id": "1182797c",
   "metadata": {},
   "outputs": [],
   "source": [
    "# standard\n",
    "data_load = pd.read_csv(\"file.csv\", sep = '\\t')"
   ]
  },
  {
   "cell_type": "code",
   "execution_count": null,
   "id": "7d8c05f1",
   "metadata": {},
   "outputs": [],
   "source": [
    "# columns\n",
    "data_load = pd.read_csv(\"file.csv\", sep = '\\t', usecols = ['col1', 'col2'])\n",
    "data_load = pd.read_csv(\"file.csv\", sep = '\\t', usecols = [0,1])"
   ]
  },
  {
   "cell_type": "code",
   "execution_count": null,
   "id": "13a8cd07",
   "metadata": {},
   "outputs": [],
   "source": [
    "# numbers of rows\n",
    "data_load = pd.read_csv(\"file.csv\", sep = '\\t', nrows = 1000, header = None)\n",
    "data_load = pd.read_csv(\"file.csv\", sep = '\\t', skiprows = 1000, header = None)"
   ]
  },
  {
   "cell_type": "code",
   "execution_count": null,
   "id": "16e5b84e",
   "metadata": {},
   "outputs": [],
   "source": [
    "# add column names\n",
    "col_names = list(data)\n",
    "data_load = pd.read_csv(\"file.csv\", sep = '\\t', header = None, names = col_names)"
   ]
  },
  {
   "cell_type": "code",
   "execution_count": null,
   "id": "2bba0ac0",
   "metadata": {},
   "outputs": [],
   "source": [
    "# check data type\n",
    "data.dtypes\n",
    "data_load = pd.read_csv(\"file.csv\", dtype = {\"col1\" : str})"
   ]
  },
  {
   "cell_type": "code",
   "execution_count": null,
   "id": "c0aa13f8",
   "metadata": {},
   "outputs": [],
   "source": [
    "# missing data\n",
    "data_load = pd.read_csv(\"file.csv\", na_values = {'col1' : 0})\n",
    "print(data_load[data_load.col1.isna()])"
   ]
  },
  {
   "cell_type": "code",
   "execution_count": null,
   "id": "31632af7",
   "metadata": {},
   "outputs": [],
   "source": [
    "# error lines\n",
    "data_load = pd.read_csv(\"file.csv\", error_bad_lines = False, warn_bad_lines = True)"
   ]
  },
  {
   "cell_type": "markdown",
   "id": "101d7ed7",
   "metadata": {},
   "source": [
    "### Excel"
   ]
  },
  {
   "cell_type": "code",
   "execution_count": null,
   "id": "e1340e17",
   "metadata": {},
   "outputs": [],
   "source": [
    "# standard\n",
    "data_load = pd.read_excel(\"file.xlsx\")\n",
    "data_load = pd.read_excel(\"file.xlsx\", sheet_name = 'name')\n",
    "data_load = pd.read_excel(\"file.xlsx\", sheet_name = 1)"
   ]
  },
  {
   "cell_type": "code",
   "execution_count": null,
   "id": "ecf09857",
   "metadata": {},
   "outputs": [],
   "source": [
    "# columns\n",
    "data_load = pd.read_csv(\"file.xlsx\", usecols = ['col1', 'col2'])\n",
    "data_load = pd.read_csv(\"file.xlsx\", usecols = [0,1])\n",
    "data_load = pd.read_csv(\"file.xlsx\", usecols = [\"A:P, R\"])"
   ]
  },
  {
   "cell_type": "code",
   "execution_count": null,
   "id": "160ce885",
   "metadata": {},
   "outputs": [],
   "source": [
    "# rows\n",
    "data_load = pd.read_excel(\"file.xlsx\", nrows = 1000)\n",
    "data_load = pd.read_excel(\"file.xlsx\", skiprows = 1000)"
   ]
  },
  {
   "cell_type": "code",
   "execution_count": null,
   "id": "ab3cf588",
   "metadata": {},
   "outputs": [],
   "source": [
    "# boolean values\n",
    "data_load = pd.read_excel(\"file.xlsx\", true_values = ['yes'], false_values = ['no'])\n",
    "print(bool_data.sum())"
   ]
  },
  {
   "cell_type": "code",
   "execution_count": null,
   "id": "cf2c0523",
   "metadata": {},
   "outputs": [],
   "source": [
    "# parsing dates (option 1)\n",
    "data_load = pd.read_excel(\"file.xlsx\", parse_dates = ['col1', 'col2'])"
   ]
  },
  {
   "cell_type": "code",
   "execution_count": null,
   "id": "19dc4abb",
   "metadata": {},
   "outputs": [],
   "source": [
    "# parsing dates (option 2)\n",
    "data_load = pd.to_datetime(data_load['col_date'], format = '%m%d%Y %H:%M:%S')"
   ]
  },
  {
   "cell_type": "markdown",
   "id": "b29fe714",
   "metadata": {},
   "source": [
    "### Databases\n",
    "\n",
    "SQLAlchemy is a database engine, which is a library which has tools to work with many major ralation databases."
   ]
  },
  {
   "cell_type": "raw",
   "id": "cbcddb73",
   "metadata": {},
   "source": [
    "SQL code\n",
    "\n",
    "SELECT [column_name1, column_name2] \n",
    "FROM [table1] \n",
    "    JOIN [table2]\n",
    "    ON table1.column1 = table2.column2\n",
    "WHERE [condition1] \n",
    "AND [condition2]\n",
    "GROUP BY [value]\n",
    "\n",
    "SELECT DISTINCT [column_names] \n",
    "FROM [table_name] \n",
    "\n",
    "SELECT AVG(name) \n",
    "FROM [table_name] \n",
    "\n",
    "SELECT COUNT(*) \n",
    "FROM [table_name] "
   ]
  },
  {
   "cell_type": "code",
   "execution_count": null,
   "id": "535838b7",
   "metadata": {},
   "outputs": [],
   "source": [
    "# step 1: connect to database\n",
    "from sqlalchemy import create_engine\n",
    "\n",
    "# create database engine to manage connections\n",
    "engine = create_engine('sqlite:///filename.db')\n",
    "\n",
    "# load entire table by table name\n",
    "table = pd.read_sql(query = 'weather', engine = engine)\n",
    "table = pd.read_sql(query = 'SELECT * FROM weather', engine = engine) "
   ]
  },
  {
   "cell_type": "code",
   "execution_count": null,
   "id": "95f5af0d",
   "metadata": {},
   "outputs": [],
   "source": [
    "# step 2: query database"
   ]
  },
  {
   "cell_type": "markdown",
   "id": "633ce38c",
   "metadata": {},
   "source": [
    "### JSON"
   ]
  },
  {
   "cell_type": "code",
   "execution_count": null,
   "id": "65fc838e",
   "metadata": {},
   "outputs": [],
   "source": [
    "# standard\n",
    "data_load = read_json(\"file.json\", orient = 'split')"
   ]
  },
  {
   "cell_type": "code",
   "execution_count": null,
   "id": "6f952295",
   "metadata": {},
   "outputs": [],
   "source": []
  },
  {
   "cell_type": "markdown",
   "id": "8d3c06f8",
   "metadata": {},
   "source": [
    "### API"
   ]
  },
  {
   "cell_type": "code",
   "execution_count": null,
   "id": "34812d24",
   "metadata": {},
   "outputs": [],
   "source": [
    "import requests\n",
    "from pandas.io.json import json_normalize"
   ]
  },
  {
   "cell_type": "code",
   "execution_count": null,
   "id": "41caf484",
   "metadata": {},
   "outputs": [],
   "source": [
    "# get data from URL\n",
    "api_url = requests.get(url_string, params, headers)"
   ]
  },
  {
   "cell_type": "code",
   "execution_count": null,
   "id": "781a4bf7",
   "metadata": {},
   "outputs": [],
   "source": [
    "# from dict to string in order to load\n",
    "params = {'term': 'bookstore', 'location' : 'Rotterdam'}\n",
    "headers = {'authorization': 'EMC {}'.format(api_key)}"
   ]
  },
  {
   "cell_type": "code",
   "execution_count": null,
   "id": "a2bd9a6a",
   "metadata": {},
   "outputs": [],
   "source": [
    "# Get data about NYC cafes from the Yelp API\n",
    "response = requests.get(api_url, params = params, headers = headers)\n",
    "\n",
    "# Extract JSON data from the response - returns dictionary\n",
    "data = response.json()"
   ]
  },
  {
   "cell_type": "code",
   "execution_count": null,
   "id": "e98ab483",
   "metadata": {},
   "outputs": [],
   "source": [
    "# Extract JSON data from the response\n",
    "bookstores = pd.DataFrame(data['businesses'])"
   ]
  },
  {
   "cell_type": "code",
   "execution_count": null,
   "id": "e6ad4e43",
   "metadata": {},
   "outputs": [],
   "source": [
    "# Flatten data and load into dataframe\n",
    "bookstores = json_normalize(data['businesses'], sep = '_')\n",
    "bookstores = json_normalize(data['businesses']\n",
    "                           , sep = '_'\n",
    "                           , record_path = 'categories'\n",
    "                           , meta = [\n",
    "                                'name'\n",
    "                                , 'alias'\n",
    "                                , 'rating'\n",
    "                                , ['coordinates', 'latitude']\n",
    "                                , ['coordinates', 'longitude']\n",
    "                           ]\n",
    "                           , meta_prefix = 'biz_'\n",
    "                           , params['offset'] = 20)\n",
    "\n",
    "print(list(bookstores))\n",
    "print(bookstores.categories) # still nested (=deeply nested)"
   ]
  },
  {
   "cell_type": "code",
   "execution_count": null,
   "id": "6f5b7361",
   "metadata": {},
   "outputs": [],
   "source": []
  }
 ],
 "metadata": {
  "kernelspec": {
   "display_name": "Python 3 (ipykernel)",
   "language": "python",
   "name": "python3"
  },
  "language_info": {
   "codemirror_mode": {
    "name": "ipython",
    "version": 3
   },
   "file_extension": ".py",
   "mimetype": "text/x-python",
   "name": "python",
   "nbconvert_exporter": "python",
   "pygments_lexer": "ipython3",
   "version": "3.10.9"
  }
 },
 "nbformat": 4,
 "nbformat_minor": 5
}
