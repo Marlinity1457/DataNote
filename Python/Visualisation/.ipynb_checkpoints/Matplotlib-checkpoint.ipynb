{
 "cells": [
  {
   "cell_type": "code",
   "execution_count": 4,
   "id": "bbda3a04",
   "metadata": {},
   "outputs": [],
   "source": [
    "import pandas as pd\n",
    "import matplotlib.pyplot as plt"
   ]
  },
  {
   "cell_type": "markdown",
   "id": "683d2d6a",
   "metadata": {},
   "source": [
    "# Matplotlib"
   ]
  },
  {
   "cell_type": "markdown",
   "id": "26b2a675-abfb-42dc-b1b3-6385bfe47c4e",
   "metadata": {},
   "source": [
    "## Basics"
   ]
  },
  {
   "cell_type": "markdown",
   "id": "ac6280a0-6541-4b2e-91ea-1f92fb98f2b0",
   "metadata": {},
   "source": [
    "fig, ax = plt.subplots() create 2 objects:\n",
    "* figure object --> container that holds everything that is on the page\n",
    "* axes object --> container that holds the data"
   ]
  },
  {
   "cell_type": "markdown",
   "id": "40a918ae-64b1-4528-91cd-2efb00538d79",
   "metadata": {},
   "source": [
    "### Lay-out"
   ]
  },
  {
   "cell_type": "code",
   "execution_count": null,
   "id": "fc5c28ee-3edf-4c9e-97b4-995b5d7b9308",
   "metadata": {},
   "outputs": [],
   "source": [
    "# Objects\n",
    "fig, ax = plt.subplots()\n",
    "\n",
    "# Introduce plot\n",
    "ax.plot(x,y)\n",
    "\n",
    "# Storytelling\n",
    "ax.set_xlabel('x axis label')\n",
    "ax.set_ylabel('y axis label')\n",
    "ax.set_title('title')\n",
    "\n",
    "# Add a text and arrow in the plot\n",
    "ax.annotate(\"text\", xy = (pd.Timestamp('2023-05-01'), 1), xytext=(pd.Timestamp(''), -0.2), arrowprops= {'arrowstyle':'->', 'color':'gray'} )\n",
    "\n",
    "\n",
    "# Show plot\n",
    "plt.show()"
   ]
  },
  {
   "cell_type": "markdown",
   "id": "aa3dd5b9-f62e-4706-b72b-68df5a02e688",
   "metadata": {},
   "source": [
    "### Subplots"
   ]
  },
  {
   "cell_type": "code",
   "execution_count": null,
   "id": "f69ec90a-1ed2-4123-83ed-307d72dab329",
   "metadata": {},
   "outputs": [],
   "source": [
    "# Multiple data in a SINGLE plot\n",
    "fig, ax = plt.subplots()\n",
    "\n",
    "ax.plot(x1, y1)       \n",
    "ax.plot(x2, y2)  \n",
    "\n",
    "plt.show()"
   ]
  },
  {
   "cell_type": "code",
   "execution_count": null,
   "id": "d2d5ecf0-1524-4a5c-bb67-b609509998b5",
   "metadata": {},
   "outputs": [],
   "source": [
    "# Multiple data by MULITPLE plots\n",
    "fig, ax = plt.subplots(2,1)\n",
    "\n",
    "# two separate plots\n",
    "ax[0].plot(x1, y1)       \n",
    "ax[1].plot(x2, y2) \n",
    "\n",
    "# y-labels for both plots\n",
    "ax[0].set_ylabel('y axis label')\n",
    "ax[1].set_ylabel('y axis label')\n",
    "\n",
    "# only a x-label for the bottom plot\n",
    "ax[1].set_xlabel('x axis label')\n",
    "\n",
    "plt.show()"
   ]
  },
  {
   "cell_type": "code",
   "execution_count": null,
   "id": "2b639774-4de5-44ad-a40b-60d08c534468",
   "metadata": {},
   "outputs": [],
   "source": [
    "# sharey = True makes sure that all the subplots have the same range of y-axis values.\n",
    "fig, ax = plt.subplots(3,2, sharey = True)\n",
    "plt.show()"
   ]
  },
  {
   "cell_type": "markdown",
   "id": "7f809bf1",
   "metadata": {},
   "source": [
    "## Line plot"
   ]
  },
  {
   "cell_type": "code",
   "execution_count": null,
   "id": "d80e6907-351d-4f65-ac41-958d26f1d32c",
   "metadata": {},
   "outputs": [],
   "source": [
    "fig, ax = plt.subplots()\n",
    "\n",
    "# lineplot\n",
    "ax.plot(x, y, marker = 'o', linestyle = '--', color = 'r') \n",
    "\n",
    "# Error\n",
    "ax.errorbar(x,y, yerr)\n",
    "\n",
    "# Show plot\n",
    "plt.show()"
   ]
  },
  {
   "cell_type": "markdown",
   "id": "242946f3-99e8-4b1f-9a3c-cf322842a250",
   "metadata": {},
   "source": [
    "##### Time-series and different y-axis labels"
   ]
  },
  {
   "cell_type": "markdown",
   "id": "0234ecf4-df0b-4560-9816-a73cbf6ecbad",
   "metadata": {},
   "source": [
    "To designate the index as a DateTimeIndex, you will use the parse_dates and index_col key-word arguments both to parse this column as a variable that contains dates and also to designate it as the index for this DataFrame."
   ]
  },
  {
   "cell_type": "code",
   "execution_count": null,
   "id": "bd8ec70c-4e69-454e-9911-e2577fdcb1b6",
   "metadata": {},
   "outputs": [],
   "source": [
    "# Time series\n",
    "df = pd.read_csv('climate_change.csv', parse_dates = [\"date\"], index_col = \"indexcolumn\")\n",
    "\n",
    "# Create variable seventies with data from \"1970-01-01\" to \"1979-12-31\"\n",
    "seventies = df[\"1970-01-01\":\"1979-12-31\"]"
   ]
  },
  {
   "cell_type": "code",
   "execution_count": null,
   "id": "c2400cd6-b7ea-4bdd-bc51-67c221aa0d0b",
   "metadata": {},
   "outputs": [],
   "source": [
    "# Use plt.subplots to create fig and ax\n",
    "fig, ax = plt.subplots()\n",
    "\n",
    "# Add the time-series for \"column1\" data\n",
    "ax.plot(df.index, df[\"column1\"], color = 'b')\n",
    "ax.set_ylabel('column1', color = 'b')\n",
    "\n",
    "# Add a different time-series for \"column2\" data\n",
    "ax2 = ax.twinx()\n",
    "ax2.plot(df.index, df[\"column2\"], color = 'r')\n",
    "ax2.set_ylabel('column2', color = 'r')\n",
    "ax2.set_tick_params('y', colors = 'r')\n",
    "\n",
    "# Show the figure\n",
    "plt.show()"
   ]
  },
  {
   "cell_type": "markdown",
   "id": "4469dbb8",
   "metadata": {},
   "source": [
    "## Scatterplot"
   ]
  },
  {
   "cell_type": "code",
   "execution_count": null,
   "id": "c6be3a6d",
   "metadata": {},
   "outputs": [],
   "source": [
    "fig, ax = plt.subplots()\n",
    "\n",
    "# Scatterplot\n",
    "plt.scatter(x1, y2, marker = 'o', color = 'r', label = 'x1') \n",
    "plt.scatter(x1, y2, marker = 'o', color = 'b', label = 'x2') \n",
    "\n",
    "# Storytelling\n",
    "ax.set_xlabel('x axis label')\n",
    "ax.set_ylabel('y axis label')\n",
    "ax.set_title('title')\n",
    "\n",
    "# Show plot\n",
    "plt.show()"
   ]
  },
  {
   "cell_type": "markdown",
   "id": "55ac441e-7dfb-495e-a1b4-b92c46986c77",
   "metadata": {},
   "source": [
    "##### Coloroptions"
   ]
  },
  {
   "cell_type": "code",
   "execution_count": null,
   "id": "2a0f4cb5-b4d3-4b73-9be8-fd569a61f855",
   "metadata": {},
   "outputs": [],
   "source": [
    "# Option 1: single color\n",
    "plt.scatter(x, y, marker = 'o', color = 'r') \n",
    "\n",
    "# Option 2: gradient color\n",
    "plt.scatter(x, y, marker = 'o', c = continuous_variable) "
   ]
  },
  {
   "cell_type": "markdown",
   "id": "1a0c6a6a",
   "metadata": {},
   "source": [
    "## Histogram\n",
    "\n",
    "Numerical.\n",
    "\n",
    "Shows number of observation distribution."
   ]
  },
  {
   "cell_type": "code",
   "execution_count": null,
   "id": "c01fdac3",
   "metadata": {},
   "outputs": [],
   "source": [
    "fig, ax = plt.subplots()\n",
    "\n",
    "# Barplot\n",
    "ax.hist(x1, label = 'x1', bins = 10)     \n",
    "ax.hist(x2, label = 'x2', bins = 10)      \n",
    "\n",
    "# Storytelling\n",
    "ax.set_xlabel('x-label')\n",
    "ax.set_ylabel('y-label')\n",
    "ax.legend()\n",
    "\n",
    "# Show plot\n",
    "plt.show()            "
   ]
  },
  {
   "cell_type": "markdown",
   "id": "c95230ad-26dd-4cfc-95c6-3d02c2f262e0",
   "metadata": {},
   "source": [
    "##### bin options definition"
   ]
  },
  {
   "cell_type": "code",
   "execution_count": null,
   "id": "1d5f39f7-f4fe-4235-a7b3-deeb6c300587",
   "metadata": {},
   "outputs": [],
   "source": [
    "# Bin option 1\n",
    "ax.hist(x1, label = 'x1', bins = 10)     \n",
    "ax.hist(x2, label = 'x2', bins = 10)    \n",
    "\n",
    "# Bin option 2\n",
    "ax.hist(x1, label = 'x1', bins = [0, 10, 20, 30, 40])     \n",
    "ax.hist(x2, label = 'x2', bins = [0, 10, 20, 30, 40])  \n",
    "          "
   ]
  },
  {
   "cell_type": "markdown",
   "id": "6235b00e-995f-44fd-9784-c541bf09713e",
   "metadata": {},
   "source": [
    "##### step histogram"
   ]
  },
  {
   "cell_type": "code",
   "execution_count": null,
   "id": "78e53a0a-04a1-4a52-8dc9-68a9e87b82d8",
   "metadata": {},
   "outputs": [],
   "source": [
    "# histogram step\n",
    "fig, ax = plt.subplots()\n",
    "\n",
    "# Barplot\n",
    "ax.hist(x1, label = 'x1', bins = 10, histtype = 'step')     \n",
    "ax.hist(x2, label = 'x2', bins = 10, histtype = 'step')      \n",
    "\n",
    "# Storytelling\n",
    "ax.set_xlabel('x-label')\n",
    "ax.set_ylabel('y-label')\n",
    "ax.legend()\n",
    "\n",
    "# Show plot\n",
    "plt.show()            "
   ]
  },
  {
   "cell_type": "markdown",
   "id": "5af8e520",
   "metadata": {},
   "source": [
    "## Barplot\n",
    "Categorical vs numerical"
   ]
  },
  {
   "cell_type": "code",
   "execution_count": null,
   "id": "47626a49",
   "metadata": {},
   "outputs": [],
   "source": [
    "fig, ax = plt.subplots()\n",
    "\n",
    "# Barplot\n",
    "ax.bar(x, y)\n",
    "\n",
    "# Storytelling\n",
    "ax.set_xticklabels(x, rotation = 90)\n",
    "ax.set_ylabel('y-label')\n",
    "\n",
    "# Show plot\n",
    "plt.show()            "
   ]
  },
  {
   "cell_type": "code",
   "execution_count": null,
   "id": "2d2f9324-f25a-456b-b680-47a998d87a44",
   "metadata": {},
   "outputs": [],
   "source": [
    "# Barplot\n",
    "ax.bar(x, y1, label = 'y1')                                                   \n",
    "\n",
    "# Stacked bar\n",
    "ax.bar(x, y2, bottom = y1, label = 'y2')\n",
    "ax.bar(x, y3, bottom = y1+y2, label = 'y3')\n",
    "\n",
    "# storytelling\n",
    "ax.set_xticklabels(x, rotation = 90)\n",
    "ax.set_ylabel('y-label')  \n",
    "ax.legend()\n",
    "\n",
    "# Show plot\n",
    "plt.show() "
   ]
  },
  {
   "cell_type": "markdown",
   "id": "8fbb365d",
   "metadata": {},
   "source": [
    "## Storytelling\n",
    "\n",
    "Layout of the figure"
   ]
  },
  {
   "cell_type": "code",
   "execution_count": null,
   "id": "94ff1750",
   "metadata": {},
   "outputs": [],
   "source": [
    "# Label the x-axis and y-axis\n",
    "plt.xlabel()\n",
    "plt.ylabel()\n",
    "\n",
    "# Give the plot a title\n",
    "plt.title()                              # (frontsize, ...)\n",
    "\n",
    "# Determine the y values on the y-axis\n",
    "plt.yticks\n",
    "\n",
    "# Add text...\n",
    "plt.text()                               # (x,y, 'text')\n",
    "\n",
    "# Show the legend\n",
    "plt.legend()                             # (color, ...)\n",
    "\n",
    "# Use a predefined style\n",
    "plt.style.use()                    \n",
    "print(plt.style.available)               # Show available styles\n",
    "\n",
    "# Scale x-axis to log scale\n",
    "plt.xscale('log')\n",
    "\n",
    "# show plot\n",
    "plt.show()                         \n",
    "\n",
    "# Clean the plot, have a fresh start\n",
    "plt.clf()                           "
   ]
  }
 ],
 "metadata": {
  "kernelspec": {
   "display_name": "Python 3 (ipykernel)",
   "language": "python",
   "name": "python3"
  },
  "language_info": {
   "codemirror_mode": {
    "name": "ipython",
    "version": 3
   },
   "file_extension": ".py",
   "mimetype": "text/x-python",
   "name": "python",
   "nbconvert_exporter": "python",
   "pygments_lexer": "ipython3",
   "version": "3.10.9"
  }
 },
 "nbformat": 4,
 "nbformat_minor": 5
}
