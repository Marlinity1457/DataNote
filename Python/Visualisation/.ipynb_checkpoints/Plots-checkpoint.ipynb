{
 "cells": [
  {
   "cell_type": "code",
   "execution_count": 4,
   "id": "bbda3a04",
   "metadata": {},
   "outputs": [],
   "source": [
    "import pandas as pd\n",
    "import matplotlib.pyplot as plt"
   ]
  },
  {
   "cell_type": "markdown",
   "id": "683d2d6a",
   "metadata": {},
   "source": [
    "# Python plots"
   ]
  },
  {
   "cell_type": "markdown",
   "id": "76290ed0-ca8b-434a-ae58-5adb8808ebee",
   "metadata": {},
   "source": [
    "## Single plots"
   ]
  },
  {
   "cell_type": "markdown",
   "id": "7f809bf1",
   "metadata": {},
   "source": [
    "### Line plot"
   ]
  },
  {
   "cell_type": "code",
   "execution_count": null,
   "id": "0de24839",
   "metadata": {},
   "outputs": [],
   "source": [
    "# Define and design a plot\n",
    "table.plot(x = '', y = '' , kind = '', title = '', rot = xx)    # kind = 'bar', 'line', 'hist'"
   ]
  },
  {
   "cell_type": "markdown",
   "id": "8fbb365d",
   "metadata": {},
   "source": [
    "### Layout plot"
   ]
  },
  {
   "cell_type": "code",
   "execution_count": null,
   "id": "94ff1750",
   "metadata": {},
   "outputs": [],
   "source": [
    "### FIXME\n",
    "\n",
    "# Label the x-axis and y-axis\n",
    "plt.xlabel()\n",
    "plt.ylabel()\n",
    "\n",
    "# Give the plot a title\n",
    "plt.title()                              # (frontsize, ...)\n",
    "\n",
    "# Determine the y values on the y-axis\n",
    "plt.yticks\n",
    "\n",
    "# Add text...\n",
    "plt.text()                               # (x,y, 'text')\n",
    "\n",
    "# Show the legend\n",
    "plt.legend()                             # (color, ...)\n",
    "\n",
    "# Use a predefined style\n",
    "plt.style.use()                    \n",
    "print(plt.style.available)               # Show available styles\n",
    "\n",
    "# Scale x-axis to log scale\n",
    "plt.xscale('log')\n",
    "\n",
    "# show plot\n",
    "plt.show()                         \n",
    "\n",
    "# Clean the plot, have a fresh start\n",
    "plt.clf()                           "
   ]
  }
 ],
 "metadata": {
  "kernelspec": {
   "display_name": "Python 3 (ipykernel)",
   "language": "python",
   "name": "python3"
  },
  "language_info": {
   "codemirror_mode": {
    "name": "ipython",
    "version": 3
   },
   "file_extension": ".py",
   "mimetype": "text/x-python",
   "name": "python",
   "nbconvert_exporter": "python",
   "pygments_lexer": "ipython3",
   "version": "3.10.9"
  }
 },
 "nbformat": 4,
 "nbformat_minor": 5
}
