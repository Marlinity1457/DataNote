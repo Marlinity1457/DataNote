{
 "cells": [
  {
   "cell_type": "code",
   "execution_count": 4,
   "id": "bbda3a04",
   "metadata": {},
   "outputs": [],
   "source": [
    "import pandas as pd\n",
    "import matplotlib.pyplot as plt"
   ]
  },
  {
   "cell_type": "markdown",
   "id": "683d2d6a",
   "metadata": {},
   "source": [
    "# Matplotlib"
   ]
  },
  {
   "cell_type": "markdown",
   "id": "7f809bf1",
   "metadata": {},
   "source": [
    "### Line plot"
   ]
  },
  {
   "cell_type": "code",
   "execution_count": null,
   "id": "0de24839",
   "metadata": {},
   "outputs": [],
   "source": [
    "# (label, color, linewidth, linestyle, marker)  \n",
    "\n",
    "plt.plot(x,y)                 \n",
    "plt.show()"
   ]
  },
  {
   "cell_type": "markdown",
   "id": "4469dbb8",
   "metadata": {},
   "source": [
    "### Scatterplot"
   ]
  },
  {
   "cell_type": "code",
   "execution_count": null,
   "id": "c6be3a6d",
   "metadata": {},
   "outputs": [],
   "source": [
    "# (label, color, marker, alpha)\n",
    "\n",
    "plt.scatter(x,y) \n",
    "plt.show()"
   ]
  },
  {
   "cell_type": "markdown",
   "id": "1a0c6a6a",
   "metadata": {},
   "source": [
    "### Histogram"
   ]
  },
  {
   "cell_type": "code",
   "execution_count": null,
   "id": "c01fdac3",
   "metadata": {},
   "outputs": [],
   "source": [
    "# (bins, range, density)\n",
    "\n",
    "plt.hist(x)      \n",
    "plt.show()"
   ]
  },
  {
   "cell_type": "markdown",
   "id": "5af8e520",
   "metadata": {},
   "source": [
    "### Barplot\n",
    "Categorical vs numerical"
   ]
  },
  {
   "cell_type": "code",
   "execution_count": null,
   "id": "47626a49",
   "metadata": {},
   "outputs": [],
   "source": [
    "# (label, color, yerr)  \n",
    "\n",
    "# Barplot\n",
    "plt.bar(xlabel, y1)                            \n",
    "\n",
    "# Place a bar on top of y1\n",
    "plt.bar(xlabel, y2, bottom = y1)\n",
    "\n",
    "# show plot\n",
    "plt.show()            "
   ]
  },
  {
   "cell_type": "markdown",
   "id": "8fbb365d",
   "metadata": {},
   "source": [
    "## Storytelling\n",
    "\n",
    "Layout of the figure"
   ]
  },
  {
   "cell_type": "code",
   "execution_count": null,
   "id": "94ff1750",
   "metadata": {},
   "outputs": [],
   "source": [
    "# Label the x-axis and y-axis\n",
    "plt.xlabel()\n",
    "plt.ylabel()\n",
    "\n",
    "# Give the plot a title\n",
    "plt.title()                              # (frontsize, ...)\n",
    "\n",
    "# Determine the y values on the y-axis\n",
    "plt.yticks\n",
    "\n",
    "# Add text...\n",
    "plt.text()                               # (x,y, 'text')\n",
    "\n",
    "# Show the legend\n",
    "plt.legend()                             # (color, ...)\n",
    "\n",
    "# Use a predefined style\n",
    "plt.style.use()                    \n",
    "print(plt.style.available)               # Show available styles\n",
    "\n",
    "# Scale x-axis to log scale\n",
    "plt.xscale('log')\n",
    "\n",
    "# show plot\n",
    "plt.show()                         \n",
    "\n",
    "# Clean the plot, have a fresh start\n",
    "plt.clf()                           "
   ]
  }
 ],
 "metadata": {
  "kernelspec": {
   "display_name": "Python 3 (ipykernel)",
   "language": "python",
   "name": "python3"
  },
  "language_info": {
   "codemirror_mode": {
    "name": "ipython",
    "version": 3
   },
   "file_extension": ".py",
   "mimetype": "text/x-python",
   "name": "python",
   "nbconvert_exporter": "python",
   "pygments_lexer": "ipython3",
   "version": "3.10.9"
  }
 },
 "nbformat": 4,
 "nbformat_minor": 5
}
