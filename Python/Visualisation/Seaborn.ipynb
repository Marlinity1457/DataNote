{
 "cells": [
  {
   "cell_type": "code",
   "execution_count": null,
   "id": "80624b3f",
   "metadata": {},
   "outputs": [],
   "source": [
    "import matplotlib.pyplot as plt\n",
    "import seaborn as sns"
   ]
  },
  {
   "cell_type": "markdown",
   "id": "f0cafe39",
   "metadata": {},
   "source": [
    "# Seabornplots\n",
    "\n",
    "plots... \n",
    "seaborn ..."
   ]
  },
  {
   "cell_type": "markdown",
   "id": "e6ca69d9-2a22-44c7-ade0-2b6deaa9e16d",
   "metadata": {},
   "source": [
    "## Single plots\n"
   ]
  },
  {
   "cell_type": "markdown",
   "id": "54a35abf-9ae3-4bd1-b532-e43193ced3bb",
   "metadata": {},
   "source": [
    "### Lineplot"
   ]
  },
  {
   "cell_type": "code",
   "execution_count": null,
   "id": "4cbb3379-adb1-4e16-a944-05af954f031a",
   "metadata": {},
   "outputs": [],
   "source": []
  },
  {
   "cell_type": "markdown",
   "id": "bddbdace-62f0-467e-b584-826cd08f7c5c",
   "metadata": {},
   "source": [
    "### Scatterplot"
   ]
  },
  {
   "cell_type": "code",
   "execution_count": null,
   "id": "c60d545d-f3eb-402b-a84d-1af95af2a031",
   "metadata": {},
   "outputs": [],
   "source": []
  },
  {
   "cell_type": "markdown",
   "id": "4d0fb357-781b-4a66-8274-27e949d60722",
   "metadata": {},
   "source": [
    "### Histogram"
   ]
  },
  {
   "cell_type": "code",
   "execution_count": null,
   "id": "9242f00c-287e-4f4e-9368-58e095c0d6f3",
   "metadata": {},
   "outputs": [],
   "source": [
    "sns.histplot(x = 'column', data = df, binwidth = 1)"
   ]
  },
  {
   "cell_type": "markdown",
   "id": "a7b61d54-3ef7-4837-afaf-556ea70af93d",
   "metadata": {},
   "source": [
    "### Boxplot"
   ]
  },
  {
   "cell_type": "code",
   "execution_count": null,
   "id": "fe3f1412-c925-45a1-9869-b4db744d8582",
   "metadata": {},
   "outputs": [],
   "source": [
    "sns.boxplot(x = 'column', data = df)"
   ]
  },
  {
   "cell_type": "markdown",
   "id": "388281b0-6215-4af8-93b8-177a484577d9",
   "metadata": {},
   "source": [
    "## Replational and categorical plots\n",
    "\n",
    "Create plot (basics)\n",
    "* x and y --> columns to display at the axis\n",
    "* data --> DataFrame of table of x and y\n",
    "* kind --> scatter or line\n",
    "* order --> column by which the plot is ordered\n",
    "\n",
    "Create subplots in a single figure\n",
    "* col --> colum to subplot horizontally\n",
    "* row --> colum to subplot vertically\n",
    "* col_order --> Specify the order of subplots\n",
    "* row_order --> Specify the order of subplots\n",
    "* col_wrap --> Specify how many subplots per row\n",
    "\n",
    "Plotstyle and color\n",
    "* sns.set_style(\"option\") --> option: white, dark, whitegrid, darkgrid, ticks\n",
    "* sns.set_palette(\"option\") --> option: (diverging) RdBu, RPGn, RdBu_r, PRGn_r; (sequential) Greys, Blues, PuRd, GnBu; (custum) custom_palette = [\"\",\"\"]\n",
    "* sns.set_context(\"option\") --> option: paper (default), notebook, talk, poster"
   ]
  },
  {
   "cell_type": "markdown",
   "id": "79bebad8",
   "metadata": {},
   "source": [
    "### Relationalplot: scatterplot and lineplot\n",
    "\n",
    "Customizing relational plots\n",
    "* hue --> Values define the color\n",
    "* style --> Different values get a different style\n",
    "\n",
    "Customizing scatterplot\n",
    "* size --> Values define the size of the symbols\n",
    "* alpha --> Transparency\n",
    "\n",
    "Customizing lineplot\n",
    "* markers --> False is default, True display a marker for each datapoint\n",
    "* dashes --> True shows different dahsed lines. False set the dashed line to solid lines\n",
    "* ci --> confidence interval. Default displays the mean. Other options: \"sd\" (standarddeviation), None shows no ci.\n",
    "\n",
    "If a lineplot gives multiple observations per value, it will aggregate them into a single summary measure. Default: mean"
   ]
  },
  {
   "cell_type": "code",
   "execution_count": null,
   "id": "bc9991d7",
   "metadata": {},
   "outputs": [],
   "source": [
    "# Scatterplot\n",
    "sns.relplot(x = 'columnname', y = 'columnname', data = df, kind = \"scatter\", col = 'columnname', col_order = [\"va1\",\"var2\"], \n",
    "            row = '', row_order = [\"var1\",\"var2\"], col_wrap = 2, \n",
    "            size = \"columnname\", hue = \"columnname\", style = \"columnname\", alpha = 1)\n",
    "\n",
    "plt.show()"
   ]
  },
  {
   "cell_type": "code",
   "execution_count": null,
   "id": "a9b4250b",
   "metadata": {},
   "outputs": [],
   "source": [
    "# lineplot\n",
    "sns.relplot(x = 'columnname', y = 'columnname', data = df, kind = \"line\", col = 'columnname', col_order = [\"va1\",\"var2\"], \n",
    "            row = '', row_order = [\"var1\",\"var2\"], col_wrap = 2, \n",
    "            hue = \"columnname\", markers = True)\n",
    "\n",
    "plt.show()"
   ]
  },
  {
   "cell_type": "markdown",
   "id": "a4e68717",
   "metadata": {},
   "source": [
    "### Categorical plots: Countplot, barplot, boxplot, pointplot\n",
    "Want to make comparisons between different groups.\n",
    "\n",
    "Customizing categorical plots\n",
    "* order --> Specify the order of categories\n",
    "* ..\n",
    "\n",
    "Customizing countplots\n",
    "* ..\n",
    "\n",
    "Customizing barplots\n",
    "* ci --> Confidence interval, level of uncertainty. Default is display ci levels. Turn of by using None. \n",
    "* switch x and y parameters --> 90 degree rotated plot\n",
    "\n",
    "Customizing boxplot\n",
    "* sym = \"\" --> remove the outliers, or change the appearance of the outliers\n",
    "* whis --> default = 1.5*IQR, change range by e.g. whis = 2.0, or whis = [5, 95]\n",
    "\n",
    "IQR = 25 to 75 percicentile of the distribution\n",
    "\n",
    "Customizing pointplot\n",
    "* join --> the comparible line between points. Default = True\n",
    "* estimator --> distribution line, default = mean\n",
    "* capsize --> size of the inteval display. Default = 0. A capsize = 0.2 looks nice.\n",
    "* ci --> Confidence interval, level of uncertaintly. Default display ci levels. Turn of by using None"
   ]
  },
  {
   "cell_type": "code",
   "execution_count": null,
   "id": "a741c943",
   "metadata": {},
   "outputs": [],
   "source": [
    "# Countplot\n",
    "sns.catplot(x = 'columnname', data = df, kind = \"count\", order = 'catergory_order_list')\n",
    "\n",
    "plt.show()"
   ]
  },
  {
   "cell_type": "code",
   "execution_count": null,
   "id": "6aec7db5",
   "metadata": {},
   "outputs": [],
   "source": [
    "# Barplot\n",
    "sns.catplot(x = 'columnname', y = 'columnname', data = df, kind = \"bar\", order = 'catergory_order_list')\n",
    "\n",
    "plt.show()"
   ]
  },
  {
   "cell_type": "code",
   "execution_count": null,
   "id": "a2eaadfe",
   "metadata": {},
   "outputs": [],
   "source": [
    "# Boxplot\n",
    "sns.catplot(x = 'columnname', y = 'columnname', data = df, kind = \"box\", order = 'catergory_order_list', sym = \"x\", whis = [0,100])\n",
    "\n",
    "plt.show()"
   ]
  },
  {
   "cell_type": "code",
   "execution_count": null,
   "id": "539b3b47-347f-4ecc-846f-4c4682d79a88",
   "metadata": {},
   "outputs": [],
   "source": [
    "# Pointplot\n",
    "sns.catplot(x = 'columnname', y = 'columnname', data = df, kind = \"point\", order = 'catergory_order_list', join = True, estimator = mean, capsize = 0)\n",
    "\n",
    "plt.show()"
   ]
  },
  {
   "cell_type": "markdown",
   "id": "e2a2793d-9fb0-4182-a5aa-82f0a170b7e7",
   "metadata": {},
   "source": [
    "## Storytelling\n",
    "\n",
    "Layout of the figure\n",
    "\n",
    "Start with defining the figure by g\n",
    "* g = sns.plot()\n",
    "\n",
    "First deterime the type of objects; FacetGrid od AxesSubplot\n",
    "* type(g)\n",
    "\n",
    "Types of plots\n",
    "* FacetGrid --> relplot(), catplot() --> can create subplots\n",
    "* AxesSubplot --> scatterplot(), countplot(), etc. --> only creates a single plot\n",
    "\n",
    "Customize plots\n",
    "* g.fig.suptitle(\"New title\", y = 1) --> set a title to the figure as a whole, y = height of the title above the plot\n",
    "* g.fig.set_title(\"New title{columnname}\", y = 1) --> Subtitle (only for AxesSubplot). Set a title to each figure, columnname referes to the group, y = height of the title above the plot\n",
    "* g.set(xlabel = \"x-axis name\", ylabel = \"y-axis name\") --> set axis labels\n",
    "* plt.xticks(rotation = 90) --> Rotate x-axis labels"
   ]
  },
  {
   "cell_type": "code",
   "execution_count": null,
   "id": "5cf580d7-a4a1-4934-adea-371118aae249",
   "metadata": {},
   "outputs": [],
   "source": [
    "# Start\n",
    "g = sns.plot()\n",
    "type(g)"
   ]
  },
  {
   "cell_type": "code",
   "execution_count": null,
   "id": "3e3c99f3-838b-4a12-82b2-b1f2c52ca77b",
   "metadata": {},
   "outputs": [],
   "source": [
    "# FacetGrid \n",
    "g.fig.suptitle(\"New title\", y = 1)\n",
    "g.set(xlabel = \"x-axis name\", ylabel = \"y-axis name\")\n",
    "plt.xticks(rotation = 90)"
   ]
  },
  {
   "cell_type": "code",
   "execution_count": null,
   "id": "ecf389c1-8cad-493f-82b8-66b3a1a636b7",
   "metadata": {},
   "outputs": [],
   "source": [
    "# AxesSubplot\n",
    "\n",
    "# Title; if there is 1 plot\n",
    "g.fig.set_title(\"New title{columnname}\", y = 1)\n",
    "\n",
    "# Title; uf there are subplots\n",
    "g.fig.suptitle(\"New title\", y = 1)\n",
    "g.fig.set_title(\"New title{columnname}\", y = 1)\n",
    "\n",
    "# Otheres\n",
    "g.set(xlabel = \"x-axis name\", ylabel = \"y-axis name\")\n",
    "plt.xticks(rotation = 90)"
   ]
  }
 ],
 "metadata": {
  "kernelspec": {
   "display_name": "Python 3 (ipykernel)",
   "language": "python",
   "name": "python3"
  },
  "language_info": {
   "codemirror_mode": {
    "name": "ipython",
    "version": 3
   },
   "file_extension": ".py",
   "mimetype": "text/x-python",
   "name": "python",
   "nbconvert_exporter": "python",
   "pygments_lexer": "ipython3",
   "version": "3.10.9"
  }
 },
 "nbformat": 4,
 "nbformat_minor": 5
}
