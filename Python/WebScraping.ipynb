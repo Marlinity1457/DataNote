{
 "cells": [
  {
   "cell_type": "markdown",
   "id": "bec642de",
   "metadata": {},
   "source": [
    "HyperText Markup Language (HTML)"
   ]
  },
  {
   "cell_type": "raw",
   "id": "f45ec532",
   "metadata": {},
   "source": [
    "nesting ---> can be visualized in hierarcy tree\n",
    "\n",
    "<html>\n",
    "    <body>\n",
    "        <div>\n",
    "            <p> Tekst wrapped in div </p>\n",
    "        </div>\n",
    "        \n",
    "        <p> Tekst wrapped in body </p>\n",
    "        \n",
    "    </body>\n",
    "</html>"
   ]
  },
  {
   "cell_type": "markdown",
   "id": "f0de4c55",
   "metadata": {},
   "source": [
    "Tags can have attributes, given by \n",
    "\n",
    "```<tag-name>```\n",
    "\n",
    "```attributename = \"attrib info\"```\n",
    "\n",
    "```</tag-name>```"
   ]
  },
  {
   "cell_type": "markdown",
   "id": "d1a41b17",
   "metadata": {},
   "source": [
    "Example\n",
    "\n",
    "```<div>```\n",
    "\n",
    "```id = \"unique id\" class = \"some class\"```\n",
    "\n",
    "```</div>```"
   ]
  },
  {
   "cell_type": "markdown",
   "id": "fcf41fb5",
   "metadata": {},
   "source": [
    "Example\n",
    "\n",
    "```<a>```\n",
    "\n",
    "```href = \"https://www.datacamp.com\"```\n",
    "\n",
    "```\"This text links to Datacamp!\"```\n",
    "\n",
    "```</a>```"
   ]
  },
  {
   "cell_type": "code",
   "execution_count": null,
   "id": "52393463",
   "metadata": {},
   "outputs": [],
   "source": []
  }
 ],
 "metadata": {
  "kernelspec": {
   "display_name": "Python 3 (ipykernel)",
   "language": "python",
   "name": "python3"
  },
  "language_info": {
   "codemirror_mode": {
    "name": "ipython",
    "version": 3
   },
   "file_extension": ".py",
   "mimetype": "text/x-python",
   "name": "python",
   "nbconvert_exporter": "python",
   "pygments_lexer": "ipython3",
   "version": "3.10.9"
  }
 },
 "nbformat": 4,
 "nbformat_minor": 5
}
