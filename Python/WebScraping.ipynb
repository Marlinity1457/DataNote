{
 "cells": [
  {
   "cell_type": "markdown",
   "id": "bec642de",
   "metadata": {},
   "source": [
    "# HyperText Markup Language (HTML)"
   ]
  },
  {
   "cell_type": "markdown",
   "id": "e405649e",
   "metadata": {},
   "source": [
    "Webscraping pipeline\n",
    "\n",
    "1. Setup\n",
    "    * Understand what we want to do\n",
    "    * Find sources to help us to do it\n",
    "2. Acquisition\n",
    "    * Read in the raw data from online\n",
    "    * Format the data to be usable\n",
    "    * Options to use: Scrapy via python\n",
    "3. Processing\n",
    "    * Many options\n"
   ]
  },
  {
   "cell_type": "markdown",
   "id": "74fec5b7",
   "metadata": {},
   "source": [
    "## Overview"
   ]
  },
  {
   "cell_type": "markdown",
   "id": "aaeab6d0",
   "metadata": {},
   "source": [
    "How does the code looks behind the scene?\n",
    "\n",
    "* `<open-tag>` ... `<closed-tag>`\n",
    "    \n",
    "nesting gives rise to a hierarcy, which can be be visualized in hierarcy tree"
   ]
  },
  {
   "cell_type": "markdown",
   "id": "f6e2098b",
   "metadata": {},
   "source": [
    "<html>\n",
    "\n",
    "    <body>\n",
    "    \n",
    "        <div>\n",
    "            <p> Tekst wrapped in div </p>\n",
    "        </div>\n",
    "        \n",
    "        <p> Tekst wrapped in body </p>\n",
    "        \n",
    "    </body>\n",
    "    \n",
    "</html>"
   ]
  },
  {
   "cell_type": "markdown",
   "id": "126d3241",
   "metadata": {},
   "source": [
    "### 1. Attributes\n",
    "\n",
    "See internet for all the existing attributes. "
   ]
  },
  {
   "cell_type": "markdown",
   "id": "f0de4c55",
   "metadata": {},
   "source": [
    "Tags can have attributes, given by \n",
    "\n",
    "```<tag-name attribute-name=\"attrib info\">```\n",
    "\n",
    "    ... element contents\n",
    "    \n",
    "```</tag-name>```"
   ]
  },
  {
   "cell_type": "markdown",
   "id": "08f14996",
   "metadata": {},
   "source": [
    "Example 1: In this example, the div-tag would belong to both classes \"some\" and \"class\". They dont have to be unique."
   ]
  },
  {
   "cell_type": "markdown",
   "id": "d1a41b17",
   "metadata": {},
   "source": [
    "```<div id=\"unique-id\" class=\"some class\"```\n",
    "\n",
    "    ... div element contents\n",
    "\n",
    "```</div>```"
   ]
  },
  {
   "cell_type": "markdown",
   "id": "3541eee6",
   "metadata": {},
   "source": [
    "Example 2: a-tag is specific for hyperlinks to redirect. The href is most important attribute using to identify the IRL where they hyperlink redirect to. "
   ]
  },
  {
   "cell_type": "markdown",
   "id": "fcf41fb5",
   "metadata": {},
   "source": [
    "```<a> href = \"https://www.datacamp.com\"```\n",
    "\n",
    "    \"This text links to Datacamp!\"\n",
    "\n",
    "```</a>```"
   ]
  },
  {
   "cell_type": "markdown",
   "id": "c376e8a3",
   "metadata": {},
   "source": [
    "### 2. Ex-path-notation - Elements to direct to"
   ]
  },
  {
   "cell_type": "markdown",
   "id": "31c01c02",
   "metadata": {},
   "source": [
    "In following example, the simple xpath moves forward generations in the tag-tree. The brackets tell us which of the selected siblings to choose, starting counting from 1 counting each 'div'.\n",
    "\n",
    "* Single forward slash ```/``` : Looks forward 1 generation\n",
    "* Double forward slash ```//``` : Looks forward all generations\n",
    "* Square brackets ```[]``` : Narrow in on specific elements\n",
    "* The wildcard ```*``` : What we want to ignore = without concerning the tag-type\n",
    "\n",
    "The number of elements selected with the XPath string ```xpath = \"/html/body/*``` is equal to the number of children of the body element; whereas the number of elements selected with the XPath string ```xpath = \"/html/body//*\"``` is equal to the total number of descendants of the body element."
   ]
  },
  {
   "cell_type": "markdown",
   "id": "d1ebe2ec",
   "metadata": {},
   "source": [
    "#### Path selection"
   ]
  },
  {
   "cell_type": "code",
   "execution_count": null,
   "id": "0f388f55",
   "metadata": {},
   "outputs": [],
   "source": [
    "xpath = '/html/body/div[2]'"
   ]
  },
  {
   "cell_type": "markdown",
   "id": "ffb71f14",
   "metadata": {},
   "source": [
    "The double-forward slash tells us to look forward to all future generations."
   ]
  },
  {
   "cell_type": "code",
   "execution_count": null,
   "id": "4b11cd4b",
   "metadata": {},
   "outputs": [],
   "source": [
    "xpath = '//table'"
   ]
  },
  {
   "cell_type": "markdown",
   "id": "bd8d87d3",
   "metadata": {},
   "source": [
    "When to restrict to a specific div-tag element, and navitage to all 'table' elements which are descendants of that div-element."
   ]
  },
  {
   "cell_type": "code",
   "execution_count": null,
   "id": "98059a6f",
   "metadata": {},
   "outputs": [],
   "source": [
    "xpath = '/html/body/div[2]//table'"
   ]
  },
  {
   "cell_type": "markdown",
   "id": "32e82b04",
   "metadata": {},
   "source": [
    "#### Attribute selection"
   ]
  },
  {
   "cell_type": "markdown",
   "id": "58a5a750",
   "metadata": {},
   "source": [
    "When searching for a specific attributes, then use brackets and specify the tag of interest. E.g. if you search for a ```id``` attribute like ```uid``` in all div-elements"
   ]
  },
  {
   "cell_type": "code",
   "execution_count": null,
   "id": "3e376575",
   "metadata": {},
   "outputs": [],
   "source": [
    "xpath = '//div[@id=\"uid\"]'"
   ]
  },
  {
   "cell_type": "code",
   "execution_count": null,
   "id": "2f5580aa",
   "metadata": {},
   "outputs": [],
   "source": [
    "xpath = '//p[text()=\"Choose DataCamp!\"]'"
   ]
  },
  {
   "cell_type": "markdown",
   "id": "670a431b",
   "metadata": {},
   "source": [
    "When wanting to select a substring within the full class attribute, then use the function ```contain(@attri-name, \"string-expr\")```"
   ]
  },
  {
   "cell_type": "code",
   "execution_count": null,
   "id": "216508b5",
   "metadata": {},
   "outputs": [],
   "source": [
    "# matches all class attribute containing \"class-1\"\n",
    "xpath = '//*[contains(@class, \"class-1\")]'"
   ]
  },
  {
   "cell_type": "code",
   "execution_count": null,
   "id": "05ac3c5d",
   "metadata": {},
   "outputs": [],
   "source": [
    "# matches only whose entire class attribute is equal to \"class-1\"\n",
    "xpath = '//*[@class, \"class-1\"]'"
   ]
  },
  {
   "cell_type": "markdown",
   "id": "252a51a4",
   "metadata": {},
   "source": [
    "To direct to the attribute self, we take the x path following it by a forward slash and conncect to the class by ```@class-name```."
   ]
  },
  {
   "cell_type": "code",
   "execution_count": null,
   "id": "8a5d2c51",
   "metadata": {},
   "outputs": [],
   "source": [
    "xpath = '/html/body/div[2]//table/@class'"
   ]
  },
  {
   "cell_type": "markdown",
   "id": "2256d977",
   "metadata": {},
   "source": [
    "#### Show the text"
   ]
  },
  {
   "cell_type": "code",
   "execution_count": null,
   "id": "c4c50e05",
   "metadata": {},
   "outputs": [],
   "source": [
    "# Text of first genereation (example)\n",
    "xpath = '//p[@id=\"p3\"]/text()'\n",
    "\n",
    "# Text of all genereations (example)\n",
    "xpath = '//p[@id=\"p3\"]//text()'"
   ]
  },
  {
   "cell_type": "markdown",
   "id": "b38aca70",
   "metadata": {},
   "source": [
    "### 3. CSS (Cascading Style Sheets) Locators\n",
    "\n",
    "CSS describes how the elements are displayed on the screen.\n",
    "\n",
    "Many people prefer using CSS Locator notation to Xpath natation, as it often makes attribute selection very easy. Learning both, or in combination, is powerful.\n",
    "\n",
    "* ```*``` selects all elements in HTML document\n",
    "* ```*.class-1``` selects all elements which belong to ```class-1```, which is similar to ```.class-1```\n",
    "* ```*#uid``` selects the element with ```id``` attribute equal to ```uid```, which is similar to ```#uid```"
   ]
  },
  {
   "cell_type": "markdown",
   "id": "ee6bc050",
   "metadata": {},
   "source": [
    "#### Path selection"
   ]
  },
  {
   "cell_type": "code",
   "execution_count": 10,
   "id": "3c31c065",
   "metadata": {},
   "outputs": [],
   "source": [
    "# xpath style\n",
    "xpath = '/html/body//div/p[2]'\n",
    "\n",
    "# CSS style\n",
    "css = 'html > body div > p:nth-of-type(2)'"
   ]
  },
  {
   "cell_type": "code",
   "execution_count": 11,
   "id": "c516bf8c",
   "metadata": {},
   "outputs": [],
   "source": [
    "# equivalent\n",
    "xpath = '//div[@id=\"uid\"]/span//h4'\n",
    "css_locator = 'div#uid > span h4'"
   ]
  },
  {
   "cell_type": "code",
   "execution_count": 12,
   "id": "12733889",
   "metadata": {},
   "outputs": [],
   "source": [
    "# equivalent\n",
    "xpath = '/html/body/span[1]//a'\n",
    "css_locator = 'html > body > span:nth-of-type(1) a'"
   ]
  },
  {
   "cell_type": "code",
   "execution_count": 13,
   "id": "16132897",
   "metadata": {},
   "outputs": [],
   "source": [
    "# Select paragraph elements within class1\n",
    "css_locator = 'div#uid > p.class1'\n",
    "\n",
    "# # is an id-selector\n",
    "# . is an class selector"
   ]
  },
  {
   "cell_type": "code",
   "execution_count": 14,
   "id": "053786be",
   "metadata": {},
   "outputs": [],
   "source": [
    "# Select all elements whose class attribute belongs to class1\n",
    "css_locator = '.class1'"
   ]
  },
  {
   "cell_type": "markdown",
   "id": "4a43b40e",
   "metadata": {},
   "source": [
    "#### Attribute selection"
   ]
  },
  {
   "cell_type": "code",
   "execution_count": null,
   "id": "3f3b5bf4",
   "metadata": {},
   "outputs": [],
   "source": [
    "# xpath\n",
    "xpath_attr = '<xpath-to-element>/@attr-name'\n",
    "\n",
    "# CSS\n",
    "css_attr = '<xss-to-element>::attr(attr-name)'"
   ]
  },
  {
   "cell_type": "code",
   "execution_count": null,
   "id": "c2272faa",
   "metadata": {},
   "outputs": [],
   "source": [
    "# equivalent\n",
    "xpath_attr = '//div[@id=\"uid\"/a/@href]'\n",
    "css_attr = 'div#uid > a::attr(href)'"
   ]
  },
  {
   "cell_type": "markdown",
   "id": "9d246d1e",
   "metadata": {},
   "source": [
    "#### Show the text"
   ]
  },
  {
   "cell_type": "code",
   "execution_count": null,
   "id": "a0ef98f2",
   "metadata": {},
   "outputs": [],
   "source": [
    "# Text of first genereation (example)\n",
    "css_locator = 'p#p3::text'\n",
    "\n",
    "# Text of all genereations (example)\n",
    "css_locator = 'p#p3 ::text'"
   ]
  },
  {
   "cell_type": "markdown",
   "id": "aca94145",
   "metadata": {},
   "source": [
    "##  Scrapy package"
   ]
  },
  {
   "cell_type": "markdown",
   "id": "7306210e",
   "metadata": {},
   "source": [
    "## 1. Selector object"
   ]
  },
  {
   "cell_type": "code",
   "execution_count": 1,
   "id": "33042ca1",
   "metadata": {},
   "outputs": [],
   "source": [
    "from scrapy import Selector\n",
    "\n",
    "# html\n",
    "html = ''' \n",
    "<html> \n",
    "    <body> \n",
    "        <div>\n",
    "            <p>Hello world!</p>\n",
    "        </div>\n",
    "        <p>Enjoy DataCamp</p>\n",
    "    </body> \n",
    "</html> \n",
    "'''\n",
    "\n",
    "# Selector selets the entire HTML document\n",
    "sel = Selector(text = html)"
   ]
  },
  {
   "cell_type": "code",
   "execution_count": 2,
   "id": "0a841225",
   "metadata": {},
   "outputs": [
    {
     "name": "stdout",
     "output_type": "stream",
     "text": [
      "<Selector xpath=None data='<html> \\n    <body> \\n        <div>\\n   ...'>\n"
     ]
    }
   ],
   "source": [
    "print(sel)"
   ]
  },
  {
   "cell_type": "markdown",
   "id": "3c654938",
   "metadata": {},
   "source": [
    "To obtain the html from an url, the request package is usefull. "
   ]
  },
  {
   "cell_type": "code",
   "execution_count": null,
   "id": "7897d6a1",
   "metadata": {},
   "outputs": [],
   "source": [
    "import requests\n",
    "\n",
    "# Extract html from url\n",
    "url = 'https://'\n",
    "html = requests.get(url).content\n",
    "\n",
    "# Selector selets the entire HTML document\n",
    "sel = Selector(text = html)"
   ]
  },
  {
   "cell_type": "markdown",
   "id": "c6266a21",
   "metadata": {},
   "source": [
    "### 1A. Set up a scrapy selector (xpath)"
   ]
  },
  {
   "cell_type": "code",
   "execution_count": 3,
   "id": "3d4c8ebe",
   "metadata": {},
   "outputs": [
    {
     "data": {
      "text/plain": [
       "[<Selector xpath='//p' data='<p>Hello world!</p>'>,\n",
       " <Selector xpath='//p' data='<p>Enjoy DataCamp</p>'>]"
      ]
     },
     "execution_count": 3,
     "metadata": {},
     "output_type": "execute_result"
    }
   ],
   "source": [
    "# select xpath\n",
    "sel.xpath(\"//p\")"
   ]
  },
  {
   "cell_type": "code",
   "execution_count": 6,
   "id": "54e45527",
   "metadata": {},
   "outputs": [
    {
     "data": {
      "text/plain": [
       "['<p>Hello world!</p>', '<p>Enjoy DataCamp</p>']"
      ]
     },
     "execution_count": 6,
     "metadata": {},
     "output_type": "execute_result"
    }
   ],
   "source": [
    "# Access the data in the selectorlist\n",
    "sel.xpath(\"//p\").extract()"
   ]
  },
  {
   "cell_type": "code",
   "execution_count": 7,
   "id": "97b34c9d",
   "metadata": {},
   "outputs": [
    {
     "data": {
      "text/plain": [
       "'<p>Hello world!</p>'"
      ]
     },
     "execution_count": 7,
     "metadata": {},
     "output_type": "execute_result"
    }
   ],
   "source": [
    "# Only extract the first data in the list\n",
    "sel.xpath(\"//p\").extract_first()"
   ]
  },
  {
   "cell_type": "code",
   "execution_count": 17,
   "id": "18d6113c",
   "metadata": {},
   "outputs": [
    {
     "data": {
      "text/plain": [
       "['Hello world!', 'Enjoy DataCamp']"
      ]
     },
     "execution_count": 17,
     "metadata": {},
     "output_type": "execute_result"
    }
   ],
   "source": [
    "# Access the text of the data in the selectorlist\n",
    "sel.xpath(\"//p/text()\").extract()"
   ]
  },
  {
   "cell_type": "code",
   "execution_count": null,
   "id": "7c4b8219",
   "metadata": {},
   "outputs": [],
   "source": [
    "# Selecting using fragmented xpath resulting in similar outcomes\n",
    "sel.xpath('/html/body/div[2]')\n",
    "sel.xpath('/html').xpath('./body/div[2]')\n",
    "sel.xpath('/html').xpath('./body').xpath('./div[2]')"
   ]
  },
  {
   "cell_type": "markdown",
   "id": "21c7e579",
   "metadata": {},
   "source": [
    "### 1B. Set up a scrapy selector (CSS)\n",
    "Similar for CSS compared to xpath"
   ]
  },
  {
   "cell_type": "code",
   "execution_count": 19,
   "id": "4ea6da3b",
   "metadata": {},
   "outputs": [
    {
     "data": {
      "text/plain": [
       "[<Selector xpath='descendant-or-self::p' data='<p>Hello world!</p>'>,\n",
       " <Selector xpath='descendant-or-self::p' data='<p>Enjoy DataCamp</p>'>]"
      ]
     },
     "execution_count": 19,
     "metadata": {},
     "output_type": "execute_result"
    }
   ],
   "source": [
    "# Select css locator\n",
    "sel.css(\"p\")"
   ]
  },
  {
   "cell_type": "code",
   "execution_count": 20,
   "id": "b4daa9d5",
   "metadata": {},
   "outputs": [
    {
     "data": {
      "text/plain": [
       "['<p>Hello world!</p>', '<p>Enjoy DataCamp</p>']"
      ]
     },
     "execution_count": 20,
     "metadata": {},
     "output_type": "execute_result"
    }
   ],
   "source": [
    "# Access the data in the selectorlist\n",
    "sel.css(\"p\").extract()"
   ]
  },
  {
   "cell_type": "code",
   "execution_count": 24,
   "id": "8bf597d8",
   "metadata": {},
   "outputs": [
    {
     "data": {
      "text/plain": [
       "['<p>Hello world!</p>', '<p>Enjoy DataCamp</p>']"
      ]
     },
     "execution_count": 24,
     "metadata": {},
     "output_type": "execute_result"
    }
   ],
   "source": [
    "# Access the data in the selectorlist\n",
    "sel.css(\"p\").extract()"
   ]
  },
  {
   "cell_type": "code",
   "execution_count": 25,
   "id": "e6e6707b",
   "metadata": {},
   "outputs": [
    {
     "data": {
      "text/plain": [
       "['Hello world!', 'Enjoy DataCamp']"
      ]
     },
     "execution_count": 25,
     "metadata": {},
     "output_type": "execute_result"
    }
   ],
   "source": [
    "# Access the text of the data in the selectorlist\n",
    "sel.css(\"p::text\").extract()"
   ]
  },
  {
   "cell_type": "markdown",
   "id": "bfc64efd",
   "metadata": {},
   "source": [
    "## 2. Response object\n",
    "\n",
    "Everything learned with selectors can be applied to response objects.\n",
    "\n",
    "Advantages of response object over selector objects as introduction:\n",
    "* Keeps track of the url where the html code was loaded from\n",
    "* Helps us move from one site to another, so to crawl between links on sites and scrape multiple sites automatically."
   ]
  },
  {
   "cell_type": "code",
   "execution_count": null,
   "id": "c1538f2b",
   "metadata": {},
   "outputs": [],
   "source": [
    "respone.xpath('//div/span[@class=\"bio\"]')"
   ]
  },
  {
   "cell_type": "code",
   "execution_count": null,
   "id": "4fcadda0",
   "metadata": {},
   "outputs": [],
   "source": [
    "respone.css('div > span.bio')"
   ]
  },
  {
   "cell_type": "code",
   "execution_count": null,
   "id": "d6715f4f",
   "metadata": {},
   "outputs": [],
   "source": [
    "respone.xpath('//div').css('span.bio').extract()"
   ]
  },
  {
   "cell_type": "code",
   "execution_count": null,
   "id": "b4620d4c",
   "metadata": {},
   "outputs": [],
   "source": [
    "# Follow links\n",
    "response.url\n",
    "respone.follow(next_url)"
   ]
  },
  {
   "cell_type": "markdown",
   "id": "9d7f7153",
   "metadata": {},
   "source": [
    "## 3. Example: put it all together"
   ]
  },
  {
   "cell_type": "markdown",
   "id": "0fba6ecb",
   "metadata": {},
   "source": [
    "General layout to scrape a website"
   ]
  },
  {
   "cell_type": "code",
   "execution_count": null,
   "id": "bf9c3c56",
   "metadata": {},
   "outputs": [],
   "source": [
    "import scrapy\n",
    "from scrapy.crawler import CrawlerProcess\n",
    "\n",
    "# what websites to scrape and how\n",
    "class YourSpiderClassName(scrapy.Spider):\n",
    "    \n",
    "    name = 'your_spider'\n",
    "    \n",
    "    # code for your spider\n",
    "    def start_request(self):\n",
    "        pass\n",
    "    \n",
    "    def parse(self, response):\n",
    "        pass\n",
    "    \n",
    "# Initiate a CrawlerProcess\n",
    "process = CrawlerProcess()\n",
    "\n",
    "# Tell the process which spider to use\n",
    "process.crawl(YourSpider)\n",
    "\n",
    "# Start the crawling process\n",
    "process.start()"
   ]
  },
  {
   "cell_type": "markdown",
   "id": "ebd21e66",
   "metadata": {},
   "source": [
    "Genearal template is filled in with some methodes:"
   ]
  },
  {
   "cell_type": "code",
   "execution_count": null,
   "id": "73d90fdf",
   "metadata": {},
   "outputs": [],
   "source": [
    "# Creating the actual spider\n",
    "# What sites to scrape\n",
    "# How to scarpe them\n",
    "\n",
    "class DCspider(scrapy.Spider):\n",
    "    \n",
    "    name = 'dc_spider'\n",
    "    \n",
    "    # Which site to be scraped\n",
    "    def start_request(self):\n",
    "        \n",
    "        # url to be scraped\n",
    "        urls = ['https://datacamp.com/courses/all'] \n",
    "        \n",
    "        for url in urls:\n",
    "            \n",
    "            # Reponse variable: where to send the information from the sites to be parsed\n",
    "            # Refer to the method parse within the start_requests method\n",
    "            yield scrapy.Request(url = url, callback = self.parse)\n",
    "            \n",
    "    # Parse to the website to be scrape\n",
    "    def parse(self, response):\n",
    "        \n",
    "        # response is the varibale passed from the scrapy.Request call\n",
    "        \n",
    "        # links\n",
    "        links = response.css('div.couse-block > a::attr(href)').extract()\n",
    "        \n",
    "        # html file path\n",
    "        filepath = 'DC_courses.html'\n",
    "        \n",
    "        # Write the html to a file\n",
    "        with open(filepath, 'wb') as fout:\n",
    "            fout.write(response.body)\n",
    "            \n",
    "            \n"
   ]
  },
  {
   "cell_type": "markdown",
   "id": "88e50362",
   "metadata": {},
   "source": [
    "Scarpe following sites (which takes the previous example as starting point):"
   ]
  },
  {
   "cell_type": "code",
   "execution_count": null,
   "id": "660301f7",
   "metadata": {},
   "outputs": [],
   "source": [
    "# Creating the actual spider\n",
    "# What sites to scrape\n",
    "# How to scarpe them\n",
    "\n",
    "class DCspider(scrapy.Spider):\n",
    "    \n",
    "    name = 'dc_spider'\n",
    "    \n",
    "    # Which site to be scraped\n",
    "    def start_request(self):\n",
    "        \n",
    "        # url to be scraped\n",
    "        urls = ['https://datacamp.com/courses/all'] \n",
    "        \n",
    "        for url in urls:\n",
    "            \n",
    "            # Reponse variable: where to send the information from the sites to be parsed\n",
    "            # Refer to the method parse within the start_requests method\n",
    "            yield scrapy.Request(url = url, callback = self.parse)\n",
    "            \n",
    "            \n",
    "    # Spide crawls between different sites and scrape the websites\n",
    "    def parse(self, response):\n",
    "        \n",
    "        # response is the varibale passed from the scrapy.Request call\n",
    "        \n",
    "        # links\n",
    "        links = response.css('div.couse-block > a::attr(href)').extract()\n",
    "        \n",
    "        # Spide crawl between different sites. The spider follow those links and parse those sites in a 2nd method\n",
    "        # .follow method woeks fimilarly to the .Request call, but it point the spider to which parsing method we are going to use next.\n",
    "        for link in links:\n",
    "            \n",
    "            # Follow each of those links and scrape those sites\n",
    "            yield response.follow(url = link, callback = self.parse2)\n",
    "        \n",
    "        \n",
    "    def parse2(self, response):\n",
    "        \n",
    "        # parse the course sites here!\n",
    "            \n",
    "            \n"
   ]
  },
  {
   "cell_type": "markdown",
   "id": "ab0ab8fb",
   "metadata": {},
   "source": [
    "Below an actual example:"
   ]
  },
  {
   "cell_type": "code",
   "execution_count": null,
   "id": "d1649540",
   "metadata": {},
   "outputs": [],
   "source": [
    "import scrapy\n",
    "from scrapy.crawler import CrawlerProcess\n",
    "\n",
    "class DC_Chapter_Spider(scrapy.Spider):\n",
    "    \n",
    "    name = 'dc_chapter_spider'\n",
    "    \n",
    "    def start_request(self):\n",
    "        url = 'https://datacamp.com/courses/all'\n",
    "\n",
    "        yield scrapy.Request(url = url, callback = self.parse_front)\n",
    "            \n",
    "            \n",
    "    def parse_front(self, response):\n",
    "        # Parse to the front courses page\n",
    "        \n",
    "        # Narrow in on the course blocks\n",
    "        course_blocks = response.css('div.couse-block')\n",
    "        \n",
    "        # Direct to the course links\n",
    "        course_links = course_blocks.xpath('./a/@href')\n",
    "        \n",
    "        # Extract the links (as a list of strings)\n",
    "        links_to_follow = course_links.extract()\n",
    "        \n",
    "        # Follow the ilnks to the next parser\n",
    "        for link in links:\n",
    "            yield response.follow(url = link, callback = self.parse_pages)\n",
    "        \n",
    "        \n",
    "    def parse_pages(self, response):\n",
    "        # Parse to the courses pages\n",
    "        \n",
    "        # --------------- Course -----------------\n",
    "        \n",
    "        # Direct to the course title text\n",
    "        crs_title = response.xpath('//h1[contains(@class, \"title\")]/text()')\n",
    "        \n",
    "        # Extract and clean the course title text\n",
    "        crs_title_ext = crs_title.extract_first().strip()\n",
    "        \n",
    "        # -------------- Chapter -----------------\n",
    "        \n",
    "        # Direct to the chapter title text\n",
    "        ch_titles = response.css('h4.chapter__title::text')\n",
    "        \n",
    "        # Extract and clean the chapter titles text\n",
    "        ch_titles_ext = [t.strop() for t in ch_titles.extract()]\n",
    "        \n",
    "        # -------------- Store -------------------\n",
    "        \n",
    "        # Store this in our dictionary\n",
    "        dc_dict[crs_titles_ext] = ch_titles_ext\n",
    "            \n",
    "dc_dict = dict()\n",
    "\n",
    "process = CrawlerProcess()\n",
    "process.crawl(DC_Chapter_Spider)\n",
    "process.start()"
   ]
  }
 ],
 "metadata": {
  "kernelspec": {
   "display_name": "Python 3 (ipykernel)",
   "language": "python",
   "name": "python3"
  },
  "language_info": {
   "codemirror_mode": {
    "name": "ipython",
    "version": 3
   },
   "file_extension": ".py",
   "mimetype": "text/x-python",
   "name": "python",
   "nbconvert_exporter": "python",
   "pygments_lexer": "ipython3",
   "version": "3.10.9"
  }
 },
 "nbformat": 4,
 "nbformat_minor": 5
}
