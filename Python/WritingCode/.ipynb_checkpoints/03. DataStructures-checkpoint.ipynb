{
 "cells": [
  {
   "cell_type": "markdown",
   "id": "3249ae7d",
   "metadata": {},
   "source": [
    "# Data Structures"
   ]
  },
  {
   "cell_type": "markdown",
   "id": "f6ad220c",
   "metadata": {},
   "source": [
    "# LinkedList"
   ]
  },
  {
   "cell_type": "markdown",
   "id": "341f0e85",
   "metadata": {},
   "source": [
    "Methods of Linked lists\n",
    "* insert_at_beginning()\n",
    "* remove_at_beginning()\n",
    "* insert_at_end()\n",
    "* remove_at_end()\n",
    "* insert_at()\n",
    "* remove_at()\n",
    "* search()\n",
    "* ..."
   ]
  },
  {
   "cell_type": "code",
   "execution_count": 1,
   "id": "09aba30a",
   "metadata": {},
   "outputs": [],
   "source": [
    "class Node:\n",
    "    \n",
    "    def __init__(self, data):\n",
    "        self.data = data\n",
    "        self.next = None   # Point to the next node"
   ]
  },
  {
   "cell_type": "code",
   "execution_count": 7,
   "id": "8c86259c",
   "metadata": {},
   "outputs": [],
   "source": [
    "class LinkedList:\n",
    "    \n",
    "    def __init__(self):\n",
    "        self.head = None   # First node\n",
    "        self.tail = None   # Last node\n",
    "        \n",
    "    def insert_at_beginning(self, data):\n",
    "    \n",
    "        new_node = Node(data)\n",
    "\n",
    "        if self.head:\n",
    "            new_node.next = self.head\n",
    "            self.head = new_node\n",
    "        else:\n",
    "            self.tail = new_node\n",
    "            self.head = new_node\n",
    "    \n",
    "    def insert_at_end(self, data):\n",
    "    \n",
    "        new_node = Node(data)\n",
    "\n",
    "        if self.head:\n",
    "            # Insert a new node at the end\n",
    "            self.tail.next = new_node\n",
    "            self.tail = new_node\n",
    "        else:\n",
    "            # Insert a new node at the end and beginning\n",
    "            self.tail = new_node\n",
    "            self.head = new_node\n",
    "        \n",
    "    def remove_at_beginning(self):\n",
    "        \n",
    "        # The \"next\" node of the head becomes the new head node\n",
    "        self.head = self.head.next\n",
    "        \n",
    "    def search(self, data):\n",
    "    \n",
    "        current_node = self.head\n",
    "\n",
    "        while current_node:\n",
    "\n",
    "            if current_node.data == data:\n",
    "                # Found the data to search\n",
    "                return True\n",
    "            else:\n",
    "                # update current node\n",
    "                current_node = current_node.next \n",
    "\n",
    "        return False"
   ]
  },
  {
   "cell_type": "code",
   "execution_count": 9,
   "id": "20f0b6ab",
   "metadata": {},
   "outputs": [
    {
     "name": "stdout",
     "output_type": "stream",
     "text": [
      "True\n",
      "False\n"
     ]
    }
   ],
   "source": [
    "# Linked list (example)\n",
    "\n",
    "# Create chain\n",
    "food_prep = LinkedList()\n",
    "food_prep.insert_at_end('prepare')\n",
    "food_prep.insert_at_end('roll')\n",
    "food_prep.insert_at_beginning('assemble')\n",
    "\n",
    "# Search for a value\n",
    "print(food_prep.search('roll'))\n",
    "print(food_prep.search('mixing'))"
   ]
  },
  {
   "cell_type": "markdown",
   "id": "4ea5ff5d",
   "metadata": {},
   "source": [
    "# Big O Notation\n",
    "\n",
    "Measures the wordt-case complexity of an algorithm in:\n",
    "* Time\n",
    "* Space\n",
    "\n",
    "Input size\n",
    "* O(1) = Constant with nr. of operations linear\n",
    "* O(n) = Linear\n",
    "* O(n^2) = Quadratic\n",
    "* O(n^3) = Cubic\n",
    "* O(log n) = \n",
    "\n",
    "Calculate Big O Notation\n",
    "* Step 1: Sum all the steps in the function\n",
    "    * Use different variables for different inputs, e.g. n and m, etc.\n",
    "    * O(n) + O(1) + O(n) + O(m) + O(m) + O(1) + O(n^2) = O(4 + 2n + 2m + n^2)\n",
    "* Step 2: Remove the constants\n",
    "    * O(n + m + n^2)\n",
    "* Step 3:Remove smaller terms\n",
    "    * O(m + n^2)"
   ]
  },
  {
   "cell_type": "code",
   "execution_count": 10,
   "id": "cf2db972",
   "metadata": {},
   "outputs": [],
   "source": [
    "# list\n",
    "colors = ['green', 'yellow', 'orange'] # 'blue', 'white', 'pink'"
   ]
  },
  {
   "cell_type": "code",
   "execution_count": 11,
   "id": "a2715f8a",
   "metadata": {},
   "outputs": [
    {
     "name": "stdout",
     "output_type": "stream",
     "text": [
      "orange\n"
     ]
    }
   ],
   "source": [
    "# O(1)\n",
    "\n",
    "# just 1 operation : printing, even if we increase the input by adding more colors\n",
    "\n",
    "def constant(colors):\n",
    "    print(colors[2])\n",
    "    \n",
    "constant(colors)"
   ]
  },
  {
   "cell_type": "code",
   "execution_count": 12,
   "id": "f13b0b2c",
   "metadata": {},
   "outputs": [
    {
     "name": "stdout",
     "output_type": "stream",
     "text": [
      "green\n",
      "yellow\n",
      "orange\n"
     ]
    }
   ],
   "source": [
    "# O(n)\n",
    "\n",
    "# print 1 color on each iteration. More elements, for each operation 1 more operations.\n",
    "\n",
    "def linear(colors):\n",
    "    for color in colors:\n",
    "        print(color)\n",
    "        \n",
    "linear(colors)"
   ]
  },
  {
   "cell_type": "code",
   "execution_count": 15,
   "id": "13dc9d3d",
   "metadata": {},
   "outputs": [
    {
     "name": "stdout",
     "output_type": "stream",
     "text": [
      "green green\n",
      "green yellow\n",
      "green orange\n",
      "yellow green\n",
      "yellow yellow\n",
      "yellow orange\n",
      "orange green\n",
      "orange yellow\n",
      "orange orange\n"
     ]
    }
   ],
   "source": [
    "# O(n^2)\n",
    "\n",
    "# increasing operations with increasing number\n",
    "\n",
    "def quadratic(colors):\n",
    "    for first in colors:\n",
    "        for second in colors:\n",
    "            print(first, second)\n",
    "\n",
    "quadratic(colors)"
   ]
  },
  {
   "cell_type": "code",
   "execution_count": 14,
   "id": "6f67d6a6",
   "metadata": {},
   "outputs": [
    {
     "name": "stdout",
     "output_type": "stream",
     "text": [
      "green green green\n",
      "green green yellow\n",
      "green green orange\n",
      "green yellow green\n",
      "green yellow yellow\n",
      "green yellow orange\n",
      "green orange green\n",
      "green orange yellow\n",
      "green orange orange\n",
      "yellow green green\n",
      "yellow green yellow\n",
      "yellow green orange\n",
      "yellow yellow green\n",
      "yellow yellow yellow\n",
      "yellow yellow orange\n",
      "yellow orange green\n",
      "yellow orange yellow\n",
      "yellow orange orange\n",
      "orange green green\n",
      "orange green yellow\n",
      "orange green orange\n",
      "orange yellow green\n",
      "orange yellow yellow\n",
      "orange yellow orange\n",
      "orange orange green\n",
      "orange orange yellow\n",
      "orange orange orange\n"
     ]
    }
   ],
   "source": [
    "# O(n^3)\n",
    "\n",
    "# cubic increasing operations with increasing number\n",
    "\n",
    "def cubic(colors):\n",
    "    for color1 in colors:\n",
    "        for color2 in colors:\n",
    "            for color3 in colors:\n",
    "                print(color1, color2, color3)\n",
    "                \n",
    "cubic(colors)"
   ]
  },
  {
   "cell_type": "markdown",
   "id": "6f291a91",
   "metadata": {},
   "source": [
    "# Stacks - FIFO and LIFO\n",
    "\n",
    "Terms\n",
    "* LIFO: Last-in First-out\n",
    "* FIFO: First-in First-out\n",
    "\n",
    "Actions\n",
    "* push = add at the top\n",
    "* pop = take from the top\n",
    "* peek = read only the top element of the stack\n",
    "* check \n",
    "\n",
    "Existing method that behaves like a stack:\n",
    "`import queue`\n",
    "* FIFO: queue.SimpleQueue()  \n",
    "* LIFO: queue.LifoQueue()   "
   ]
  },
  {
   "cell_type": "markdown",
   "id": "03a08d81",
   "metadata": {},
   "source": [
    "#### Queues (LIFO)"
   ]
  },
  {
   "cell_type": "code",
   "execution_count": 16,
   "id": "108440a8",
   "metadata": {},
   "outputs": [],
   "source": [
    "class Node:\n",
    "    \n",
    "    def __init__(self, data):\n",
    "        self.data = data\n",
    "        self.next = None   # Point to the next node"
   ]
  },
  {
   "cell_type": "code",
   "execution_count": 17,
   "id": "d6625faf",
   "metadata": {},
   "outputs": [],
   "source": [
    "class Stack:\n",
    "    \n",
    "    def __init__(self):\n",
    "        self.top = None\n",
    "        \n",
    "    def push(self, data):\n",
    "        \n",
    "        new_node = Node(data)\n",
    "        \n",
    "        if self.top:\n",
    "            new_node.next = self.top\n",
    "            \n",
    "        self.top = new_node\n",
    "    \n",
    "    def pop(self):\n",
    "        \n",
    "        if self.top is None:\n",
    "            return None\n",
    "        \n",
    "        else: \n",
    "            popped_node = self.top\n",
    "            self.top = self.top.next\n",
    "            popped_node.next = None\n",
    "            return popped_node.data\n",
    "        \n",
    "    def push(self, data):\n",
    "        \n",
    "        # Create a new node with data\n",
    "        new_node = Node(data)\n",
    "        \n",
    "        if self.top:\n",
    "            new_node.next = self.top\n",
    "            \n",
    "            # The created node is set to the top node\n",
    "            self.top = new_node\n",
    "            \n",
    "            # Increment of the stack size\n",
    "            self.size += 1\n",
    "    \n",
    "    def peek(self):\n",
    "        if self.top:\n",
    "            return self.top.data\n",
    "        else:\n",
    "            return None"
   ]
  },
  {
   "cell_type": "markdown",
   "id": "a0404451",
   "metadata": {},
   "source": [
    "#### Queues (LIFO) by LifoQueue"
   ]
  },
  {
   "cell_type": "code",
   "execution_count": 23,
   "id": "8d306b9b",
   "metadata": {},
   "outputs": [
    {
     "name": "stdout",
     "output_type": "stream",
     "text": [
      "The size is: 3\n",
      "Another book\n",
      "Wake up!\n",
      "Anno Domini Chronicles\n"
     ]
    }
   ],
   "source": [
    "import queue\n",
    "\n",
    "my_book_stack = queue.LifoQueue(maxsize = 0)\n",
    "my_book_stack.put('Anno Domini Chronicles')\n",
    "my_book_stack.put('Wake up!')\n",
    "my_book_stack.put('Another book')\n",
    "\n",
    "print('The size is:', my_book_stack.qsize())\n",
    "\n",
    "print(my_book_stack.get())\n",
    "print(my_book_stack.get())\n",
    "print(my_book_stack.get())"
   ]
  },
  {
   "cell_type": "markdown",
   "id": "bf4de434",
   "metadata": {},
   "source": [
    "#### Queues (FIFO)"
   ]
  },
  {
   "cell_type": "code",
   "execution_count": null,
   "id": "6e1acd74",
   "metadata": {},
   "outputs": [],
   "source": [
    "class Node:\n",
    "    def __init_(self, data):\n",
    "        self.data = data\n",
    "        self.next = None"
   ]
  },
  {
   "cell_type": "code",
   "execution_count": null,
   "id": "f24a8854",
   "metadata": {},
   "outputs": [],
   "source": [
    "class Queue:\n",
    "    def __init_(self):\n",
    "        self.head = None\n",
    "        self.tail = None\n",
    "        \n",
    "    # Adds an element to the queue\n",
    "    def enqueue(self, data):\n",
    "        new_node = Node(data)\n",
    "        \n",
    "        if self.head == None:\n",
    "            self.head = new_node\n",
    "            self.tail = new_node\n",
    "        else:\n",
    "            self.tail.next = new_node\n",
    "            self.tail = new_node\n",
    "    \n",
    "    # Removes an element from the queue\n",
    "    def dequeue(self):\n",
    "        if self.head:\n",
    "            current_node = self.head\n",
    "            self.head = current_node.next\n",
    "            current_node.next = None\n",
    "            \n",
    "            if self.head == None:\n",
    "                self.tail = None\n",
    "    \n",
    "    # Checks if the queue has elements\n",
    "    def has_elements(self):\n",
    "        return self.head != None\n",
    "        "
   ]
  },
  {
   "cell_type": "markdown",
   "id": "e0992bdf",
   "metadata": {},
   "source": [
    "# Hash tables\n",
    "\n",
    "* = Data structure that stores a collection of items in key-value pairs, like dictionaries.\n",
    "* -> every time a hash function is applied, it needs to return the same value for the same input.\n",
    "* `hash(\"value\") -> insert_index`\n",
    "* Sometimes, hash functions can return the same output for different inputs. \n",
    "* If a slot number is already filled, and we to insert the value for that number, we will find a collision. Collisions must be resolved by using: `dict`\n",
    "* Examples of hash python solutions: `dictionaries`"
   ]
  },
  {
   "cell_type": "code",
   "execution_count": 6,
   "id": "e1186fa3",
   "metadata": {},
   "outputs": [
    {
     "name": "stdout",
     "output_type": "stream",
     "text": [
      "14.75\n",
      "None\n"
     ]
    }
   ],
   "source": [
    "my_menu = {'lasagna' : 14.75, 'moussaka' : 21.15, 'sushi' : 16.05}\n",
    "\n",
    "# get value\n",
    "print(my_menu['lasagna'])\n",
    "\n",
    "# get value if value not exist -> error\n",
    "# print(my_menu['paella'])\n",
    "\n",
    "# get value if value not exisit\n",
    "print(my_menu.get('paella'))"
   ]
  },
  {
   "cell_type": "code",
   "execution_count": 7,
   "id": "c09dbc40",
   "metadata": {},
   "outputs": [
    {
     "name": "stdout",
     "output_type": "stream",
     "text": [
      "dict_keys(['lasagna', 'moussaka', 'sushi'])\n",
      "dict_items([('lasagna', 14.75), ('moussaka', 21.15), ('sushi', 16.05)])\n"
     ]
    }
   ],
   "source": [
    "# get all keys\n",
    "print(my_menu.keys())\n",
    "\n",
    "# get all items\n",
    "print(my_menu.items())"
   ]
  },
  {
   "cell_type": "code",
   "execution_count": 8,
   "id": "bb48b549",
   "metadata": {},
   "outputs": [],
   "source": [
    "# Add new value\n",
    "my_menu['samosas'] = 13\n",
    "\n",
    "# modify value\n",
    "my_menu['samosas'] = 20"
   ]
  },
  {
   "cell_type": "code",
   "execution_count": 9,
   "id": "ada4055d",
   "metadata": {},
   "outputs": [
    {
     "name": "stdout",
     "output_type": "stream",
     "text": [
      "\n",
      "key: lasagna\n",
      "value: 14.75\n",
      "\n",
      "key: moussaka\n",
      "value: 21.15\n",
      "\n",
      "key: sushi\n",
      "value: 16.05\n",
      "\n",
      "key: samosas\n",
      "value: 20\n"
     ]
    }
   ],
   "source": [
    "# iterate over a dict\n",
    "for key, value in my_menu.items():\n",
    "    print(f\"\\nkey: {key}\")\n",
    "    print(f\"value: {value}\")"
   ]
  },
  {
   "cell_type": "code",
   "execution_count": 11,
   "id": "915b5394",
   "metadata": {},
   "outputs": [
    {
     "name": "stdout",
     "output_type": "stream",
     "text": [
      "14.75\n",
      "21.15\n",
      "16.05\n",
      "20\n"
     ]
    }
   ],
   "source": [
    "# iterate over the value\n",
    "for dish in my_menu.values():\n",
    "    print(f\"{dish}\")"
   ]
  },
  {
   "cell_type": "code",
   "execution_count": 5,
   "id": "dcc9707d",
   "metadata": {},
   "outputs": [],
   "source": [
    "# delete a value\n",
    "del my_menu['sushi']"
   ]
  },
  {
   "cell_type": "code",
   "execution_count": null,
   "id": "cfc73936",
   "metadata": {},
   "outputs": [],
   "source": [
    "# empties a dict\n",
    "my_menu.clear()\n",
    "\n",
    "# del dict\n",
    "del my_menu"
   ]
  },
  {
   "cell_type": "markdown",
   "id": "c6308eac",
   "metadata": {},
   "source": [
    "# Trees and graphs\n",
    "\n",
    "Trees\n",
    "1. Root\n",
    "2. Parent\n",
    "3. Child\n",
    "\n",
    "Applications:\n",
    "* hierarchical relationships\n",
    "    * file system of a computer\n",
    "    * structure of HTML document\n",
    "* chess\n",
    "    * possible moves of the rival\n",
    "* searching and sorting algorithms\n",
    "\n",
    "Graphs = data structure formed bya set of nodes/vertices\n",
    "* nodes == vertices\n",
    "    * eg. persoms\n",
    "* links == edges\n",
    "    * eg. relationships between the persons"
   ]
  },
  {
   "cell_type": "markdown",
   "id": "027f7312",
   "metadata": {},
   "source": [
    "### trees vs graphs\n",
    "\n",
    "Trees\n",
    "* No cycles\n",
    "* All nodes myst be connected \n",
    "\n",
    "Graphs\n",
    "* Can have cycles\n",
    "* Can have unconnected nodes\n",
    "* Example: \n",
    "        * social networks\n",
    "        * locations and distance\n",
    "        * Searching and sorting algorighms "
   ]
  },
  {
   "cell_type": "code",
   "execution_count": 12,
   "id": "50183f48",
   "metadata": {},
   "outputs": [],
   "source": [
    "class TreeNode:\n",
    "    \n",
    "    def __init__(self, data, left = None, right = None):\n",
    "        self.data = data\n",
    "        self.left_child = left\n",
    "        self.right_child = right"
   ]
  },
  {
   "cell_type": "code",
   "execution_count": 13,
   "id": "d39872fe",
   "metadata": {},
   "outputs": [],
   "source": [
    "nodeB = TreeNode('B')\n",
    "nodeC = TreeNode('C')\n",
    "nodeA = TreeNode('A', nodeB, nodeC)"
   ]
  },
  {
   "cell_type": "code",
   "execution_count": null,
   "id": "741fe727",
   "metadata": {},
   "outputs": [],
   "source": [
    "class Graph:\n",
    "    def __init__(self):\n",
    "        self.vertices = {}\n",
    "    \n",
    "    def add_vertex(self, vertex):\n",
    "        self.vertices[vertex] = []\n",
    "        \n",
    "    def add_edge(self, source, target):\n",
    "        self.vertices[source].append(target)"
   ]
  },
  {
   "cell_type": "code",
   "execution_count": null,
   "id": "656af69e",
   "metadata": {},
   "outputs": [],
   "source": [
    "my_graph = WeightedGraph()\n",
    "\n",
    "# Create the vertices\n",
    "my_graph.add_vertex('Paris')\n",
    "my_graph.add_vertex('Toulouse')\n",
    "my_graph.add_vertex('Biarritz')\n",
    "\n",
    "# Create the edges\n",
    "my_graph.add_edge('Paris', 'Toulouse', 678)\n",
    "my_graph.add_edge('Toulouse', 'Biarritz', 312)\n",
    "my_graph.add_edge('Biarritz', 'Paris', 783)"
   ]
  },
  {
   "cell_type": "markdown",
   "id": "d7b82b5f",
   "metadata": {},
   "source": [
    "# Recursion\n",
    "\n",
    "= A function calling itself\n",
    "\n"
   ]
  },
  {
   "cell_type": "code",
   "execution_count": 2,
   "id": "7d5b5081",
   "metadata": {},
   "outputs": [
    {
     "name": "stdout",
     "output_type": "stream",
     "text": [
      "120\n"
     ]
    }
   ],
   "source": [
    "# example\n",
    "def factorial_recursion(n):\n",
    "    if n == 1:\n",
    "        return 1\n",
    "    else:\n",
    "        return n * factorial_recursion(n-1) # Behaves like a stack\n",
    "    \n",
    "print(factorial_recursion(5))"
   ]
  },
  {
   "cell_type": "markdown",
   "id": "2688ce00",
   "metadata": {},
   "source": [
    "### Fibronacci recurssion"
   ]
  },
  {
   "cell_type": "markdown",
   "id": "b6d69b02",
   "metadata": {},
   "source": [
    "#### Fibonacci using recursion"
   ]
  },
  {
   "cell_type": "code",
   "execution_count": 10,
   "id": "2238ad6c",
   "metadata": {},
   "outputs": [
    {
     "name": "stdout",
     "output_type": "stream",
     "text": [
      "13\n"
     ]
    }
   ],
   "source": [
    "def fibonacci(n):\n",
    "    \n",
    "    if n <= 0:\n",
    "        return 0\n",
    "    elif n == 1:\n",
    "         return 1\n",
    "    else:\n",
    "        return fibonacci(n-1) + fibonacci(n-2)\n",
    "    \n",
    "print(fibonacci(7))"
   ]
  },
  {
   "cell_type": "markdown",
   "id": "de79563b",
   "metadata": {},
   "source": [
    "#### Using dynamic programming, saving the solutions of the subproblems in the cache variable."
   ]
  },
  {
   "cell_type": "code",
   "execution_count": 20,
   "id": "0dba5f33",
   "metadata": {},
   "outputs": [
    {
     "name": "stdout",
     "output_type": "stream",
     "text": [
      "[None, None, None, None, None, None, None, None, None, None]\n",
      "13\n"
     ]
    }
   ],
   "source": [
    "cache = [None]*(10)\n",
    "\n",
    "def fibonacci(n): \n",
    "    if n <= 1:\n",
    "        return n\n",
    "    \n",
    "    # Check if the value exists\n",
    "    if not cache[n]:\n",
    "        \n",
    "        # Save the result in cache\n",
    "        cache[n] = fibonacci(n-1) + fibonacci(n-2)\n",
    "    \n",
    "    print(cache)\n",
    "    return cache[n]\n",
    "    \n",
    "print(fibonacci(7))"
   ]
  },
  {
   "cell_type": "code",
   "execution_count": null,
   "id": "1aeb34d3",
   "metadata": {},
   "outputs": [],
   "source": []
  }
 ],
 "metadata": {
  "kernelspec": {
   "display_name": "Python 3 (ipykernel)",
   "language": "python",
   "name": "python3"
  },
  "language_info": {
   "codemirror_mode": {
    "name": "ipython",
    "version": 3
   },
   "file_extension": ".py",
   "mimetype": "text/x-python",
   "name": "python",
   "nbconvert_exporter": "python",
   "pygments_lexer": "ipython3",
   "version": "3.10.9"
  }
 },
 "nbformat": 4,
 "nbformat_minor": 5
}
