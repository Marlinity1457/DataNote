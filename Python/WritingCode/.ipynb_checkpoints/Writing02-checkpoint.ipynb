{
 "cells": [
  {
   "cell_type": "markdown",
   "id": "ff45c043-f46e-410a-8958-bb20ee8df627",
   "metadata": {},
   "source": [
    "## zip()\n",
    "\n",
    "Combines objects, making two separate things become one. The zip object must be unpacked into a list and printed to see its content."
   ]
  },
  {
   "cell_type": "code",
   "execution_count": null,
   "id": "f43c2d0d-18ed-459c-b9c9-e3cc2bc5189d",
   "metadata": {},
   "outputs": [],
   "source": [
    "name_list = ['name1','name2','name3']\n",
    "hps = [45, 39, 44]\n",
    "combined_zip = zip(name_list, hps)\n",
    "combined_zip_list = [*combined_zip]"
   ]
  },
  {
   "cell_type": "markdown",
   "id": "5f05a191-bf88-4008-900c-010b70092621",
   "metadata": {},
   "source": [
    "## collection module\n",
    "This module provides alternatives to the general purpose dict, list, set and tuple. Some examples are:\n",
    "* Counter() \n",
    "* namedtuple()\n",
    "* deque()\n",
    "* OrderedDict()\n",
    "* defaultdict()\n"
   ]
  },
  {
   "cell_type": "markdown",
   "id": "a62f3779-573f-431c-bf53-9328057f21c6",
   "metadata": {},
   "source": [
    "## counter()\n",
    "\n",
    "Provides a counter dictionary of key-value pairs."
   ]
  },
  {
   "cell_type": "code",
   "execution_count": null,
   "id": "33557efc-f9a9-4d09-980c-5ce476d50540",
   "metadata": {},
   "outputs": [],
   "source": [
    "from collections import Counter\n",
    "names_counts = Counter(name_list)"
   ]
  },
  {
   "cell_type": "markdown",
   "id": "450d2334-3a7d-47bc-acf0-3170e61236f9",
   "metadata": {},
   "source": [
    "## itertools module\n",
    "This module provides functional tools for creating and using iterators. Some examples are:\n",
    "\n",
    "Infinit iterators\n",
    "* count()\n",
    "* cycle()\n",
    "* repeat()\n",
    "\n",
    "Finite iterators\n",
    "* accumulate()\n",
    "* chain()\n",
    "* zip_longest\n",
    "\n",
    "Combination generators\n",
    "* product()\n",
    "* permutations()\n",
    "* combinations()"
   ]
  },
  {
   "cell_type": "markdown",
   "id": "7084441c-1fe9-42f1-82bc-0f234d5f0e60",
   "metadata": {},
   "source": [
    "## combinations()\n",
    "To explore possible pairs, not itself with itself."
   ]
  },
  {
   "cell_type": "code",
   "execution_count": null,
   "id": "6eaecbcd-7869-4318-9623-a425c0ce8b07",
   "metadata": {},
   "outputs": [],
   "source": [
    "from itertools import combinations\n",
    "combos_names = combinations(name_list, 2) # second argument: length of combinations\n",
    "combos = [*combos_obj]"
   ]
  },
  {
   "cell_type": "markdown",
   "id": "1e50c033-a4b3-4a24-bfa4-3e6583fbae2c",
   "metadata": {},
   "source": [
    "## set module\n",
    "This module provides a branch of mathematics applied to collections of objects. Some examples are:\n",
    "* intersection()\n",
    "* difference()\n",
    "* symmetric_difference()\n",
    "* union()\n",
    "\n",
    "set = collection of DISTINCT elements."
   ]
  },
  {
   "cell_type": "code",
   "execution_count": null,
   "id": "c9528e21-79c9-4969-bee6-ed8898c6ad27",
   "metadata": {},
   "outputs": [],
   "source": [
    "# make sets\n",
    "set_a = set(list_a)\n",
    "set_b = set(list_b)"
   ]
  },
  {
   "cell_type": "code",
   "execution_count": null,
   "id": "a731ec3c-ea49-4d7a-bfdd-a50cea083f92",
   "metadata": {},
   "outputs": [],
   "source": [
    "# Find names shared in both lists\n",
    "set_a.intersection(set_b)"
   ]
  },
  {
   "cell_type": "code",
   "execution_count": null,
   "id": "167fd3f2-848e-450e-9c5e-5c9f1fbf2d31",
   "metadata": {},
   "outputs": [],
   "source": [
    "# Find names only found in one of the lists\n",
    "set_a.difference(set_b) # in set a, not in set b\n",
    "set_b.difference(set_a) # in set b, not in set a"
   ]
  },
  {
   "cell_type": "code",
   "execution_count": null,
   "id": "3289b2ae-e6f9-4042-8020-c456082ce8e4",
   "metadata": {},
   "outputs": [],
   "source": [
    "# Find names only found in one of the lists, not in both.\n",
    "set_a.symmetric_difference(set_b) # in set a OR in set b"
   ]
  },
  {
   "cell_type": "code",
   "execution_count": null,
   "id": "f3e49ebc-2f2c-496e-bfa0-c5d5ef354891",
   "metadata": {},
   "outputs": [],
   "source": [
    "# Collect all unique names that appear in either or both sets\n",
    "set_a.union(set_b)"
   ]
  },
  {
   "cell_type": "markdown",
   "id": "c421cbb5-51f9-47c7-b37e-4314973f128a",
   "metadata": {},
   "source": [
    "`in` operator is very efficient when using sets"
   ]
  },
  {
   "cell_type": "code",
   "execution_count": null,
   "id": "ae6cc867-fcd0-41a6-ac76-22ee4227339b",
   "metadata": {},
   "outputs": [],
   "source": [
    "# Membership testing with in\n",
    "'name_x' in name_list"
   ]
  },
  {
   "cell_type": "markdown",
   "id": "20cbddc4-dbd9-4762-aa7f-1f61bfa68a4c",
   "metadata": {},
   "source": [
    "Make a unique set of elements can be done just by making a set from a list"
   ]
  },
  {
   "cell_type": "code",
   "execution_count": null,
   "id": "69efa2db-132f-463a-9826-83d415dfdc85",
   "metadata": {},
   "outputs": [],
   "source": [
    "# Make a unique set of elements\n",
    "unqique_names = set(names_list)"
   ]
  },
  {
   "cell_type": "markdown",
   "id": "85364312-cd54-4915-b139-cbdc06de7062",
   "metadata": {},
   "source": [
    "# Eliminating loops\n",
    "\n",
    "When able to avoid loops, use:\n",
    "* List comprehension\n",
    "* np.array\n",
    "* built-in modules\n",
    "\n",
    "When it is not possible to avoid loops, then:\n",
    "* Understand what is being done with each loop iteration\n",
    "* Move one-time calculations outside (above) the loop\n",
    "* Convertions of data types can be done outside or below the loop (e.g. using a map function)\n",
    "* Anthing that is done ONCE should be outside the loop"
   ]
  },
  {
   "cell_type": "code",
   "execution_count": null,
   "id": "522f157b-3e8f-441e-995f-529696012e67",
   "metadata": {},
   "outputs": [],
   "source": [
    "# Example: one-time calculation\n",
    "\n",
    "# For-loop\n",
    "for gen,count in gen_counts.items():\n",
    "    total_count = len(generations)\n",
    "    gen_percent = round(count / total_count * 100, 2)\n",
    "    print(\n",
    "      'generation {}: count = {:3} percentage = {}'\n",
    "      .format(gen, count, gen_percent)\n",
    "    )\n",
    "    \n",
    "# Improve for loop by moving one calculation above the loop\n",
    "\n",
    "from collections import Counter\n",
    "gen_counts = Counter(generations)\n",
    "total_count = len(generations)\n",
    "\n",
    "for gen,count in gen_counts.items():\n",
    "    gen_percent = round(count / total_count * 100, 2)\n",
    "    print('generation {}: count = {:3} percentage = {}'\n",
    "          .format(gen, count, gen_percent))"
   ]
  },
  {
   "cell_type": "code",
   "execution_count": null,
   "id": "4988a60f-7bf9-4b16-8d0d-b5cc755f7210",
   "metadata": {},
   "outputs": [],
   "source": [
    "# Example: Holistic conversion loop\n",
    "enumerated_pairs = []\n",
    "possible_pairs = [*combinations(pokemon_types, 2)]\n",
    "\n",
    "# For-loop\n",
    "for i,pair in enumerate(possible_pairs, 1):\n",
    "    enumerated_pair_tuple = (i,) + pair\n",
    "    enumerated_pair_list = list(enumerated_pair_tuple)\n",
    "    enumerated_pairs.append(enumerated_pair_list)\n",
    "    \n",
    "# Improve for loop by collect types to a list below for-loop\n",
    "for i,pair in enumerate(possible_pairs, 1):\n",
    "    enumerated_pair_tuple = (i,) + pair\n",
    "    enumerated_tuples.append(enumerated_pair_tuple)\n",
    "\n",
    "enumerated_pairs = [*map(list, enumerated_tuples)]"
   ]
  },
  {
   "cell_type": "code",
   "execution_count": null,
   "id": "f5f4e964-3c5b-4838-bbbf-d6a515a37bdb",
   "metadata": {},
   "outputs": [],
   "source": [
    "# Example: All together\n",
    "\n",
    "# For loop\n",
    "poke_zscores = []\n",
    "\n",
    "for name,hp in zip(names, hps):\n",
    "    hp_avg = hps.mean()\n",
    "    hp_std = hps.std()\n",
    "    z_score = (hp - hp_avg)/hp_std\n",
    "    poke_zscores.append((name, hp, z_score))\n",
    "    \n",
    "highest_hp_pokemon = []\n",
    "\n",
    "for name, hp, zscore in poke_zscores:\n",
    "    if zscore > 2:\n",
    "        highest_hp_pokemon.append((name, hp, zscore))\n",
    "\n",
    "# Use NumPy to eliminate the previous for loop\n",
    "hp_avg = np.mean(hps)\n",
    "hp_std = np.std(hps)\n",
    "z_scores = (hps - hp_avg)/hp_std\n",
    "poke_zscores2 = [*zip(names, hps, z_scores)]\n"
   ]
  },
  {
   "cell_type": "markdown",
   "id": "8c350f20-c790-47a9-bc71-59fe9a168a1e",
   "metadata": {},
   "source": [
    "# Pandas"
   ]
  },
  {
   "cell_type": "code",
   "execution_count": null,
   "id": "cd284a5b-5812-4fe8-a876-188308a443b7",
   "metadata": {},
   "outputs": [],
   "source": [
    "import pandas as pd"
   ]
  },
  {
   "cell_type": "markdown",
   "id": "79664a2d-8937-49af-a6b3-57f8981814a6",
   "metadata": {},
   "source": [
    "## iterrows()\n",
    "Now, you dont have to create an index variable to look up each row ithin the DataFrame. \n",
    ".iterrows() handels the indexing for us and it takes ~ half of the time compared to a for-loop with indexing. "
   ]
  },
  {
   "cell_type": "code",
   "execution_count": null,
   "id": "44be0a37-100a-46d3-b0ab-6ca4cdd2c29a",
   "metadata": {},
   "outputs": [],
   "source": [
    "for i, row in df.iterrows():\n",
    "    print(i)\n",
    "    print(row)"
   ]
  },
  {
   "cell_type": "markdown",
   "id": "ae65927b-22b0-4c89-b18d-750f42bd9324",
   "metadata": {},
   "source": [
    "## itertuples()\n",
    ".itertupes() is most of the time more efficient that .iterrows(). Itertuples returns each DataFrame row as a tuple of (index, pd.series).\n",
    "With itertuples() you can use [] to reference a column within the DataFrame. "
   ]
  },
  {
   "cell_type": "code",
   "execution_count": null,
   "id": "a36cdf70-3903-4651-a878-b5df632eff2c",
   "metadata": {},
   "outputs": [],
   "source": [
    "for row_namedtuple in df.itertuples():\n",
    "    index = row_namedtuple[0]\n",
    "    column1a = row_namedtuple[1]['column']\n",
    "    column1b = row_namedtuple.column"
   ]
  },
  {
   "cell_type": "markdown",
   "id": "e94277b6-de56-41ea-8d3c-6e82869a3c5c",
   "metadata": {},
   "source": [
    "## apply()\n",
    "apply() takes a function and applies it to a DataFrame. It acts like a map function. The axis must be specified you would like to work on as we work with tabular data. \n",
    "* axis = 0 --> apply function on columns\n",
    "* axis = 1 --> apply function on rows\n",
    "\n",
    "apply() function be be sued with anonymous functions, like lambda. "
   ]
  },
  {
   "cell_type": "code",
   "execution_count": null,
   "id": "b8124415-fc94-4e6e-8677-640bc82caf38",
   "metadata": {},
   "outputs": [],
   "source": [
    "# iterate over the columns of a dataframe\n",
    "df.apply(sum, axis = 0)"
   ]
  },
  {
   "cell_type": "code",
   "execution_count": null,
   "id": "0d02354f-418c-4eb0-8838-aa5a9f1f735c",
   "metadata": {},
   "outputs": [],
   "source": [
    "# iterate over the rows of a dataframe\n",
    "df.apply(lambda row: function(row['column1'], row['column2']), axis = 1)"
   ]
  },
  {
   "cell_type": "markdown",
   "id": "c2510c48-9aa2-417c-a87f-d47c11cc040c",
   "metadata": {},
   "source": [
    "## Perform calculation on the underlying Numpy arrays of the DataFrame\n",
    "Pandas is built upon NumPy. So the advantages of NumPy can be used while performing calculations on an DataFrame. "
   ]
  },
  {
   "cell_type": "code",
   "execution_count": null,
   "id": "c9a10232-7b7a-45cd-a866-d398d6c3c4af",
   "metadata": {},
   "outputs": [],
   "source": [
    "# Collecting column values into a NumPy array\n",
    "column_np = df['column'].values"
   ]
  },
  {
   "cell_type": "code",
   "execution_count": null,
   "id": "8f2fded7-829e-4c5f-8b01-a4a62ac87092",
   "metadata": {},
   "outputs": [],
   "source": [
    "# Vectorizing dataframes and doing calculations all at once\n",
    "df['column1'].values - df['column2'].values"
   ]
  }
 ],
 "metadata": {
  "kernelspec": {
   "display_name": "Python 3 (ipykernel)",
   "language": "python",
   "name": "python3"
  },
  "language_info": {
   "codemirror_mode": {
    "name": "ipython",
    "version": 3
   },
   "file_extension": ".py",
   "mimetype": "text/x-python",
   "name": "python",
   "nbconvert_exporter": "python",
   "pygments_lexer": "ipython3",
   "version": "3.10.9"
  }
 },
 "nbformat": 4,
 "nbformat_minor": 5
}
