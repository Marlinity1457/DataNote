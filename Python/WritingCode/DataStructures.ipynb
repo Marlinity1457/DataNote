{
 "cells": [
  {
   "cell_type": "markdown",
   "id": "3249ae7d",
   "metadata": {},
   "source": [
    "# Data Structures"
   ]
  },
  {
   "cell_type": "markdown",
   "id": "f6ad220c",
   "metadata": {},
   "source": [
    "## LinkedList"
   ]
  },
  {
   "cell_type": "markdown",
   "id": "341f0e85",
   "metadata": {},
   "source": [
    "Methods of Linked lists\n",
    "* insert_at_beginning()\n",
    "* remove_at_beginning()\n",
    "* insert_at_end()\n",
    "* remove_at_end()\n",
    "* insert_at()\n",
    "* remove_at()\n",
    "* search()\n",
    "* ..."
   ]
  },
  {
   "cell_type": "code",
   "execution_count": 1,
   "id": "09aba30a",
   "metadata": {},
   "outputs": [],
   "source": [
    "class Node:\n",
    "    \n",
    "    def __init__(self, data):\n",
    "        self.data = data\n",
    "        self.next = None   # Point to the next node"
   ]
  },
  {
   "cell_type": "code",
   "execution_count": 7,
   "id": "8c86259c",
   "metadata": {},
   "outputs": [],
   "source": [
    "class LinkedList:\n",
    "    \n",
    "    def __init__(self):\n",
    "        self.head = None   # First node\n",
    "        self.tail = None   # Last node\n",
    "        \n",
    "    def insert_at_beginning(self, data):\n",
    "    \n",
    "        new_node = Node(data)\n",
    "\n",
    "        if self.head:\n",
    "            new_node.next = self.head\n",
    "            self.head = new_node\n",
    "        else:\n",
    "            self.tail = new_node\n",
    "            self.head = new_node\n",
    "    \n",
    "    def insert_at_end(self, data):\n",
    "    \n",
    "        new_node = Node(data)\n",
    "\n",
    "        if self.head:\n",
    "            # Insert a new node at the end\n",
    "            self.tail.next = new_node\n",
    "            self.tail = new_node\n",
    "        else:\n",
    "            # Insert a new node at the end and beginning\n",
    "            self.tail = new_node\n",
    "            self.head = new_node\n",
    "        \n",
    "    def remove_at_beginning(self):\n",
    "        \n",
    "        # The \"next\" node of the head becomes the new head node\n",
    "        self.head = self.head.next\n",
    "        \n",
    "    def search(self, data):\n",
    "    \n",
    "        current_node = self.head\n",
    "\n",
    "        while current_node:\n",
    "\n",
    "            if current_node.data == data:\n",
    "                # Found the data to search\n",
    "                return True\n",
    "            else:\n",
    "                # update current node\n",
    "                current_node = current_node.next \n",
    "\n",
    "        return False"
   ]
  },
  {
   "cell_type": "code",
   "execution_count": 9,
   "id": "20f0b6ab",
   "metadata": {},
   "outputs": [
    {
     "name": "stdout",
     "output_type": "stream",
     "text": [
      "True\n",
      "False\n"
     ]
    }
   ],
   "source": [
    "# Linked list (example)\n",
    "\n",
    "# Create chain\n",
    "food_prep = LinkedList()\n",
    "food_prep.insert_at_end('prepare')\n",
    "food_prep.insert_at_end('roll')\n",
    "food_prep.insert_at_beginning('assemble')\n",
    "\n",
    "# Search for a value\n",
    "print(food_prep.search('roll'))\n",
    "print(food_prep.search('mixing'))"
   ]
  },
  {
   "cell_type": "markdown",
   "id": "4ea5ff5d",
   "metadata": {},
   "source": [
    "## Big O Notation\n",
    "\n",
    "Measures the wordt-case complexity of an algorithm in:\n",
    "* Time\n",
    "* Space\n",
    "\n",
    "Input size\n",
    "* O(1) = Constant with nr. of operations linear\n",
    "* O(n) = Linear\n",
    "* O(n^2) = Quadratic\n",
    "* O(n^3) = Cubic\n",
    "* O(log n) = \n",
    "\n",
    "Calculate Big O Notation\n",
    "* Step 1: Sum all the steps in the function\n",
    "    * Use different variables for different inputs, e.g. n and m, etc.\n",
    "    * O(n) + O(1) + O(n) + O(m) + O(m) + O(1) + O(n^2) = O(4 + 2n + 2m + n^2)\n",
    "* Step 2: Remove the constants\n",
    "    * O(n + m + n^2)\n",
    "* Step 3:Remove smaller terms\n",
    "    * O(m + n^2)"
   ]
  },
  {
   "cell_type": "code",
   "execution_count": 10,
   "id": "cf2db972",
   "metadata": {},
   "outputs": [],
   "source": [
    "# list\n",
    "colors = ['green', 'yellow', 'orange'] # 'blue', 'white', 'pink'"
   ]
  },
  {
   "cell_type": "code",
   "execution_count": 11,
   "id": "a2715f8a",
   "metadata": {},
   "outputs": [
    {
     "name": "stdout",
     "output_type": "stream",
     "text": [
      "orange\n"
     ]
    }
   ],
   "source": [
    "# O(1)\n",
    "\n",
    "# just 1 operation : printing, even if we increase the input by adding more colors\n",
    "\n",
    "def constant(colors):\n",
    "    print(colors[2])\n",
    "    \n",
    "constant(colors)"
   ]
  },
  {
   "cell_type": "code",
   "execution_count": 12,
   "id": "f13b0b2c",
   "metadata": {},
   "outputs": [
    {
     "name": "stdout",
     "output_type": "stream",
     "text": [
      "green\n",
      "yellow\n",
      "orange\n"
     ]
    }
   ],
   "source": [
    "# O(n)\n",
    "\n",
    "# print 1 color on each iteration. More elements, for each operation 1 more operations.\n",
    "\n",
    "def linear(colors):\n",
    "    for color in colors:\n",
    "        print(color)\n",
    "        \n",
    "linear(colors)"
   ]
  },
  {
   "cell_type": "code",
   "execution_count": 15,
   "id": "13dc9d3d",
   "metadata": {},
   "outputs": [
    {
     "name": "stdout",
     "output_type": "stream",
     "text": [
      "green green\n",
      "green yellow\n",
      "green orange\n",
      "yellow green\n",
      "yellow yellow\n",
      "yellow orange\n",
      "orange green\n",
      "orange yellow\n",
      "orange orange\n"
     ]
    }
   ],
   "source": [
    "# O(n^2)\n",
    "\n",
    "# increasing operations with increasing number\n",
    "\n",
    "def quadratic(colors):\n",
    "    for first in colors:\n",
    "        for second in colors:\n",
    "            print(first, second)\n",
    "\n",
    "quadratic(colors)"
   ]
  },
  {
   "cell_type": "code",
   "execution_count": 14,
   "id": "6f67d6a6",
   "metadata": {},
   "outputs": [
    {
     "name": "stdout",
     "output_type": "stream",
     "text": [
      "green green green\n",
      "green green yellow\n",
      "green green orange\n",
      "green yellow green\n",
      "green yellow yellow\n",
      "green yellow orange\n",
      "green orange green\n",
      "green orange yellow\n",
      "green orange orange\n",
      "yellow green green\n",
      "yellow green yellow\n",
      "yellow green orange\n",
      "yellow yellow green\n",
      "yellow yellow yellow\n",
      "yellow yellow orange\n",
      "yellow orange green\n",
      "yellow orange yellow\n",
      "yellow orange orange\n",
      "orange green green\n",
      "orange green yellow\n",
      "orange green orange\n",
      "orange yellow green\n",
      "orange yellow yellow\n",
      "orange yellow orange\n",
      "orange orange green\n",
      "orange orange yellow\n",
      "orange orange orange\n"
     ]
    }
   ],
   "source": [
    "# O(n^3)\n",
    "\n",
    "# cubic increasing operations with increasing number\n",
    "\n",
    "def cubic(colors):\n",
    "    for color1 in colors:\n",
    "        for color2 in colors:\n",
    "            for color3 in colors:\n",
    "                print(color1, color2, color3)\n",
    "                \n",
    "cubic(colors)"
   ]
  },
  {
   "cell_type": "markdown",
   "id": "6f291a91",
   "metadata": {},
   "source": [
    "## Stacks\n",
    "\n",
    "Terms\n",
    "* LIFO: Last-in First-out\n",
    "* FIFO: First-in First-out\n",
    "\n",
    "Actions\n",
    "* push = add at the top\n",
    "* pop = take from the top\n",
    "* peek = read only the top element of the stack\n",
    "* check \n",
    "\n",
    "Existing method that behaves like a stack:\n",
    "* LifeQueue"
   ]
  },
  {
   "cell_type": "code",
   "execution_count": 16,
   "id": "108440a8",
   "metadata": {},
   "outputs": [],
   "source": [
    "class Node:\n",
    "    \n",
    "    def __init__(self, data):\n",
    "        self.data = data\n",
    "        self.next = None   # Point to the next node"
   ]
  },
  {
   "cell_type": "code",
   "execution_count": 17,
   "id": "d6625faf",
   "metadata": {},
   "outputs": [],
   "source": [
    "class Stack:\n",
    "    \n",
    "    def __init__(self):\n",
    "        self.top = None\n",
    "        \n",
    "    def push(self, data):\n",
    "        \n",
    "        new_node = Node(data)\n",
    "        \n",
    "        if self.top:\n",
    "            new_node.next = self.top\n",
    "            \n",
    "        self.top = new_node\n",
    "    \n",
    "    def pop(self):\n",
    "        \n",
    "        if self.top is None:\n",
    "            return None\n",
    "        \n",
    "        else: \n",
    "            popped_node = self.top\n",
    "            self.top = self.top.next\n",
    "            popped_node.next = None\n",
    "            return popped_node.data\n",
    "        \n",
    "    def push(self, data):\n",
    "        \n",
    "        # Create a new node with data\n",
    "        new_node = Node(data)\n",
    "        \n",
    "        if self.top:\n",
    "            new_node.next = self.top\n",
    "            \n",
    "            # The created node is set to the top node\n",
    "            self.top = new_node\n",
    "            \n",
    "            # Increment of the stack size\n",
    "            self.size += 1\n",
    "    \n",
    "    def peek(self):\n",
    "        if self.top:\n",
    "            return self.top.data\n",
    "        else:\n",
    "            return None"
   ]
  },
  {
   "cell_type": "code",
   "execution_count": 23,
   "id": "8d306b9b",
   "metadata": {},
   "outputs": [
    {
     "name": "stdout",
     "output_type": "stream",
     "text": [
      "The size is: 3\n",
      "Another book\n",
      "Wake up!\n",
      "Anno Domini Chronicles\n"
     ]
    }
   ],
   "source": [
    "import queue\n",
    "\n",
    "my_book_stack = queue.LifoQueue(maxsize = 0)\n",
    "my_book_stack.put('Anno Domini Chronicles')\n",
    "my_book_stack.put('Wake up!')\n",
    "my_book_stack.put('Another book')\n",
    "\n",
    "print('The size is:', my_book_stack.qsize())\n",
    "\n",
    "print(my_book_stack.get())\n",
    "print(my_book_stack.get())\n",
    "print(my_book_stack.get())"
   ]
  },
  {
   "cell_type": "code",
   "execution_count": null,
   "id": "f24a8854",
   "metadata": {},
   "outputs": [],
   "source": []
  }
 ],
 "metadata": {
  "kernelspec": {
   "display_name": "Python 3 (ipykernel)",
   "language": "python",
   "name": "python3"
  },
  "language_info": {
   "codemirror_mode": {
    "name": "ipython",
    "version": 3
   },
   "file_extension": ".py",
   "mimetype": "text/x-python",
   "name": "python",
   "nbconvert_exporter": "python",
   "pygments_lexer": "ipython3",
   "version": "3.10.9"
  }
 },
 "nbformat": 4,
 "nbformat_minor": 5
}
