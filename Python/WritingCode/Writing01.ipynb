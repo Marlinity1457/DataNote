{
 "cells": [
  {
   "cell_type": "code",
   "execution_count": null,
   "id": "805b68e3-b659-4521-94c4-3533c01f650d",
   "metadata": {},
   "outputs": [],
   "source": []
  },
  {
   "cell_type": "markdown",
   "id": "7d2fcc95-927b-4355-b53d-dd22fd2583b5",
   "metadata": {},
   "source": []
  },
  {
   "cell_type": "markdown",
   "id": "4aa66126-1ac3-4a18-84e0-6e2b19bac805",
   "metadata": {},
   "source": [
    "## Built-in functions"
   ]
  },
  {
   "cell_type": "markdown",
   "id": "8068314a-fe56-4bf8-ba39-9aa672ad8085",
   "metadata": {},
   "source": [
    "### range()"
   ]
  },
  {
   "cell_type": "markdown",
   "id": "81078ed2-b61b-47d6-a2dc-be347b683ee3",
   "metadata": {},
   "source": [
    " (*) : unpacking a range object using the star character."
   ]
  },
  {
   "cell_type": "code",
   "execution_count": null,
   "id": "1b37b43b-8be8-480d-a730-45b249fc9661",
   "metadata": {},
   "outputs": [],
   "source": [
    "# range()\n",
    "nums = range(6)\n",
    "nums_list = list(nums)\n",
    "\n",
    "# range()\n",
    "nums_list2 = [*range(1,11,2)]"
   ]
  },
  {
   "cell_type": "markdown",
   "id": "ac120383-9e0f-4ee4-b266-e4033202624d",
   "metadata": {},
   "source": [
    "### enumerate()"
   ]
  },
  {
   "cell_type": "markdown",
   "id": "b1d3e864-a438-4040-8eb2-f36e4a4f2041",
   "metadata": {},
   "source": [
    "Instead of using ```for i in range(len(names))```, the for loop can be more clear when using the i as the index variable and name as the iterator variable and use enumerate()."
   ]
  },
  {
   "cell_type": "code",
   "execution_count": null,
   "id": "ac7d30ee-3df5-40c1-9c1d-b33c4238fc3f",
   "metadata": {},
   "outputs": [],
   "source": [
    "names = ['Jerry', 'Kramer', 'Elaine', 'George', 'Newman']\n",
    "\n",
    "# enumerate() -- for loop\n",
    "indexed_names = []\n",
    "for i,name in enumerate(names):\n",
    "    index_name = (i,name)\n",
    "    indexed_names.append(index_name) \n",
    "\n",
    "# enumerate() -- list comprehension\n",
    "indexed_names_comp = [(i,name) for i,name in enumerate(names)]\n",
    "\n",
    "# enumerate() -- unpack\n",
    "indexed_names_unpack = [*enumerate(names, 1)] # start index of 1 instead 0"
   ]
  },
  {
   "cell_type": "markdown",
   "id": "8158c853-d8ac-4a4e-b3fb-8fba77114cab",
   "metadata": {},
   "source": [
    "### map()"
   ]
  },
  {
   "cell_type": "code",
   "execution_count": null,
   "id": "706cfc67-a24c-4f18-9f33-08767a89187c",
   "metadata": {},
   "outputs": [],
   "source": [
    "# map(function, input) --> type = map\n",
    "names_map  = map(str.upper, names)\n",
    "\n",
    "# Unpack type map into a list\n",
    "names_uppercase = [*names_map]"
   ]
  },
  {
   "cell_type": "markdown",
   "id": "538ddad8-6620-41cc-bdbd-b261a4bf7065",
   "metadata": {},
   "source": [
    "### NumPy arrays\n",
    "Advantages of numpy arrays over lists:\n",
    "* Fast and efficient alternative to Pyton lists. Numpy arrays are homogeneous, so they must contain elements of the same type --> no need for datatype checking and thus faster than lists.\n",
    "* Lists dont support broadcasting, arrays does. List comprehensions and for loops can do the same, but arrays are more efficient. \n",
    "* Index capabilities are identical fo 1D lists/arrays, but more efficient for 2D when using arrays.\n",
    "* Boolean indexing only applicable for arrays, not for lists. Lists need for-loop or list comprehension"
   ]
  },
  {
   "cell_type": "code",
   "execution_count": null,
   "id": "f69657d2-1112-42f3-b612-1a59fab83045",
   "metadata": {},
   "outputs": [],
   "source": [
    "# lists\n",
    "nums_list = list(range(5))\n",
    "\n",
    "# NumPy arrays\n",
    "import numpy as np\n",
    "nums_np = np.array(range(5))"
   ]
  },
  {
   "cell_type": "code",
   "execution_count": null,
   "id": "40d3de38-fc1c-4d11-898d-127b91c2671f",
   "metadata": {},
   "outputs": [],
   "source": [
    "# broadcasting\n",
    "nums_np = np.array([-2, -1, 0, 1, 2])\n",
    "nums_np ** 2"
   ]
  },
  {
   "cell_type": "code",
   "execution_count": null,
   "id": "85d0d4ba-5792-443b-8dba-94955b3ca73c",
   "metadata": {},
   "outputs": [],
   "source": [
    "# indexing\n",
    "nums2_list[0][1]\n",
    "nums2_np[0,1]\n",
    "\n",
    "[row[0] for row in nums2_list]\n",
    "nums2_np[:,0]"
   ]
  },
  {
   "cell_type": "code",
   "execution_count": null,
   "id": "d75dff5e-6a6e-4a25-a892-24cdc9a98c75",
   "metadata": {},
   "outputs": [],
   "source": [
    "# boolean indexing\n",
    "nums_np > 0\n",
    "nums_np[nums_np > 0]"
   ]
  },
  {
   "cell_type": "code",
   "execution_count": null,
   "id": "62321132-2a13-41e7-8a35-7dd5a7a235a0",
   "metadata": {},
   "outputs": [],
   "source": [
    "# Example\n",
    "\n",
    "# Create a list of arrival times\n",
    "arrival_times = [*range(10,60,10)]\n",
    "\n",
    "# Convert arrival_times to an array and update the times\n",
    "arrival_times_np = np.array(arrival_times)\n",
    "new_times = arrival_times_np - 3\n",
    "\n",
    "# Use list comprehension and enumerate to pair guests to new times\n",
    "guest_arrivals = [(names[i],time) for i,time in enumerate(new_times)]\n",
    "\n",
    "# Map the welcome_guest function to each (guest,time) pair\n",
    "welcome_map = map(function_welcome_guest, guest_arrivals)\n",
    "\n",
    "guest_welcomes = [*welcome_map]\n",
    "print(*function_welcome_guest, sep='\\n')"
   ]
  }
 ],
 "metadata": {
  "kernelspec": {
   "display_name": "Python 3 (ipykernel)",
   "language": "python",
   "name": "python3"
  },
  "language_info": {
   "codemirror_mode": {
    "name": "ipython",
    "version": 3
   },
   "file_extension": ".py",
   "mimetype": "text/x-python",
   "name": "python",
   "nbconvert_exporter": "python",
   "pygments_lexer": "ipython3",
   "version": "3.10.9"
  }
 },
 "nbformat": 4,
 "nbformat_minor": 5
}
