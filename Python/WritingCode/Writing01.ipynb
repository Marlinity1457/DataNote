{
 "cells": [
  {
   "cell_type": "code",
   "execution_count": null,
   "id": "805b68e3-b659-4521-94c4-3533c01f650d",
   "metadata": {},
   "outputs": [],
   "source": []
  },
  {
   "cell_type": "markdown",
   "id": "7d2fcc95-927b-4355-b53d-dd22fd2583b5",
   "metadata": {},
   "source": []
  },
  {
   "cell_type": "markdown",
   "id": "4aa66126-1ac3-4a18-84e0-6e2b19bac805",
   "metadata": {},
   "source": [
    "## Built-in functions"
   ]
  },
  {
   "cell_type": "markdown",
   "id": "8068314a-fe56-4bf8-ba39-9aa672ad8085",
   "metadata": {},
   "source": [
    "### range()"
   ]
  },
  {
   "cell_type": "markdown",
   "id": "81078ed2-b61b-47d6-a2dc-be347b683ee3",
   "metadata": {},
   "source": [
    " (*) : unpacking a range object using the star character."
   ]
  },
  {
   "cell_type": "code",
   "execution_count": null,
   "id": "1b37b43b-8be8-480d-a730-45b249fc9661",
   "metadata": {},
   "outputs": [],
   "source": [
    "# range()\n",
    "nums = range(6)\n",
    "nums_list = list(nums)\n",
    "\n",
    "# range()\n",
    "nums_list2 = [*range(1,11,2)]"
   ]
  },
  {
   "cell_type": "markdown",
   "id": "ac120383-9e0f-4ee4-b266-e4033202624d",
   "metadata": {},
   "source": [
    "### enumerate()"
   ]
  },
  {
   "cell_type": "markdown",
   "id": "b1d3e864-a438-4040-8eb2-f36e4a4f2041",
   "metadata": {},
   "source": [
    "Instead of using ```for i in range(len(names))```, the for loop can be more clear when using the i as the index variable and name as the iterator variable and use enumerate()."
   ]
  },
  {
   "cell_type": "code",
   "execution_count": null,
   "id": "ac7d30ee-3df5-40c1-9c1d-b33c4238fc3f",
   "metadata": {},
   "outputs": [],
   "source": [
    "names = ['Jerry', 'Kramer', 'Elaine', 'George', 'Newman']\n",
    "\n",
    "# enumerate() -- for loop\n",
    "indexed_names = []\n",
    "for i,name in enumerate(names):\n",
    "    index_name = (i,name)\n",
    "    indexed_names.append(index_name) \n",
    "\n",
    "# enumerate() -- list comprehension\n",
    "indexed_names_comp = [(i,name) for i,name in enumerate(names)]\n",
    "\n",
    "# enumerate() -- unpack\n",
    "indexed_names_unpack = [*enumerate(names, 1)] # start index of 1 instead 0"
   ]
  },
  {
   "cell_type": "markdown",
   "id": "8158c853-d8ac-4a4e-b3fb-8fba77114cab",
   "metadata": {},
   "source": [
    "### map()"
   ]
  },
  {
   "cell_type": "code",
   "execution_count": null,
   "id": "706cfc67-a24c-4f18-9f33-08767a89187c",
   "metadata": {},
   "outputs": [],
   "source": [
    "# map(function, input) --> type = map\n",
    "names_map  = map(str.upper, names)\n",
    "\n",
    "# Unpack type map into a list\n",
    "names_uppercase = [*names_map]"
   ]
  },
  {
   "cell_type": "markdown",
   "id": "538ddad8-6620-41cc-bdbd-b261a4bf7065",
   "metadata": {},
   "source": [
    "### NumPy arrays\n",
    "Advantages of numpy arrays over lists:\n",
    "* Fast and efficient alternative to Pyton lists. Numpy arrays are homogeneous, so they must contain elements of the same type --> no need for datatype checking and thus faster than lists.\n",
    "* Lists dont support broadcasting, arrays does. List comprehensions and for loops can do the same, but arrays are more efficient. \n",
    "* Index capabilities are identical fo 1D lists/arrays, but more efficient for 2D when using arrays.\n",
    "* Boolean indexing only applicable for arrays, not for lists. Lists need for-loop or list comprehension"
   ]
  },
  {
   "cell_type": "code",
   "execution_count": null,
   "id": "f69657d2-1112-42f3-b612-1a59fab83045",
   "metadata": {},
   "outputs": [],
   "source": [
    "# lists\n",
    "nums_list = list(range(5))\n",
    "\n",
    "# NumPy arrays\n",
    "import numpy as np\n",
    "nums_np = np.array(range(5))"
   ]
  },
  {
   "cell_type": "code",
   "execution_count": null,
   "id": "40d3de38-fc1c-4d11-898d-127b91c2671f",
   "metadata": {},
   "outputs": [],
   "source": [
    "# broadcasting\n",
    "nums_np = np.array([-2, -1, 0, 1, 2])\n",
    "nums_np ** 2"
   ]
  },
  {
   "cell_type": "code",
   "execution_count": null,
   "id": "85d0d4ba-5792-443b-8dba-94955b3ca73c",
   "metadata": {},
   "outputs": [],
   "source": [
    "# indexing\n",
    "nums2_list[0][1]\n",
    "nums2_np[0,1]\n",
    "\n",
    "[row[0] for row in nums2_list]\n",
    "nums2_np[:,0]"
   ]
  },
  {
   "cell_type": "code",
   "execution_count": null,
   "id": "d75dff5e-6a6e-4a25-a892-24cdc9a98c75",
   "metadata": {},
   "outputs": [],
   "source": [
    "# boolean indexing\n",
    "nums_np > 0\n",
    "nums_np[nums_np > 0]"
   ]
  },
  {
   "cell_type": "code",
   "execution_count": null,
   "id": "62321132-2a13-41e7-8a35-7dd5a7a235a0",
   "metadata": {},
   "outputs": [],
   "source": [
    "# Example\n",
    "\n",
    "# Create a list of arrival times\n",
    "arrival_times = [*range(10,60,10)]\n",
    "\n",
    "# Convert arrival_times to an array and update the times\n",
    "arrival_times_np = np.array(arrival_times)\n",
    "new_times = arrival_times_np - 3\n",
    "\n",
    "# Use list comprehension and enumerate to pair guests to new times\n",
    "guest_arrivals = [(names[i],time) for i,time in enumerate(new_times)]\n",
    "\n",
    "# Map the welcome_guest function to each (guest,time) pair\n",
    "welcome_map = map(function_welcome_guest, guest_arrivals)\n",
    "\n",
    "guest_welcomes = [*welcome_map]\n",
    "print(*function_welcome_guest, sep='\\n')"
   ]
  },
  {
   "cell_type": "markdown",
   "id": "634553ac-64ac-4278-adbb-e0adafcae523",
   "metadata": {},
   "source": [
    "### timeit\n",
    "Provides mean and std of time. Multiple loops (-n) and runs (-r) are executed.\n",
    "\n",
    "* line magic mode : ```%timeit```\n",
    "* cell magic mode : ```%%timeit```\n",
    "\n",
    "In general, literal syntax is faster than the formal name. E.g.:\n",
    "* formal name: ```list()```, literal name: ```[]```\n",
    "* formal name: ```dict()```, literal name: ```{}```\n",
    "* formal name: ```tuples()```, literal name: ```()```\n",
    "\n",
    "In general, exceuting time is:\n",
    "* unpacking > list comprehension\n",
    "* literal name > formal name\n",
    "* numpy array > loop"
   ]
  },
  {
   "cell_type": "code",
   "execution_count": null,
   "id": "110b5cb8-dfb3-4c0c-85f2-e8dc58203bd3",
   "metadata": {},
   "outputs": [],
   "source": [
    "# time a single line of code\n",
    "%timeit rand_nums = np.random.rand(1000)"
   ]
  },
  {
   "cell_type": "code",
   "execution_count": null,
   "id": "402a7a96-15d5-4153-8b0f-a41064ac5854",
   "metadata": {},
   "outputs": [],
   "source": [
    "# time a single line of code, with 2 runs and 10 loops\n",
    "%timeit -r2 -n10 rand_nums = np.random.rand(1000)"
   ]
  },
  {
   "cell_type": "code",
   "execution_count": null,
   "id": "cd65b817-9522-410d-8f3b-a4fac1c003c8",
   "metadata": {},
   "outputs": [],
   "source": [
    "# time a multiple line of code\n",
    "%%timeit\n",
    "nums = []\n",
    "for x in range(10):\n",
    "    nums.append()"
   ]
  },
  {
   "cell_type": "markdown",
   "id": "7301a5fb-5665-475d-8dec-84f1900a06ee",
   "metadata": {},
   "source": [
    "The output of the run time can be compared by saving the run time."
   ]
  },
  {
   "cell_type": "code",
   "execution_count": null,
   "id": "1ad62997-5b4b-4ce2-ab85-bc94c46a1837",
   "metadata": {},
   "outputs": [],
   "source": [
    "# saving timeit output\n",
    "times = %timeit -o rand_nums = np.random.rand(1000)"
   ]
  },
  {
   "cell_type": "code",
   "execution_count": null,
   "id": "0d41e1d8-4fff-4189-9806-0cebd83d2cad",
   "metadata": {},
   "outputs": [],
   "source": [
    "# examining runtime\n",
    "times.timings\n",
    "times.best\n",
    "times.worst"
   ]
  },
  {
   "cell_type": "markdown",
   "id": "a67563f9-7698-4628-a71b-5d3c6331c23f",
   "metadata": {},
   "source": [
    "A code profiling gives statistics about the run time for each individual line of code. \n",
    "\n",
    "1. First you have to install the package line_profiler by ```pip install line_profiler```.\n",
    "2. To execute the line_profiler has to be load into the code by ```%load_ext line_profiler```.\n",
    "3. Finally, the function time line by line can be examined by ```%lprun -f function function(arg1, arg2, arg3)```"
   ]
  },
  {
   "cell_type": "code",
   "execution_count": null,
   "id": "4231d996-60eb-4f68-94f2-561f9eb83c0b",
   "metadata": {},
   "outputs": [],
   "source": [
    "# Code profiling [ms]\n",
    "pip install line_profiler\n",
    "%load_ext line_profiler\n",
    "%lprun -f function function(arg1, arg2, arg3)"
   ]
  },
  {
   "cell_type": "markdown",
   "id": "1c2e9944-d2a5-4efa-ae54-8bbdbfe665ab",
   "metadata": {},
   "source": [
    "Code profiling for memory usage. The memory of an object can be described line by line.\n",
    "\n",
    "1. First you have to install the package memory_profiler by ```pip install memory_profiler```.\n",
    "2. To execute the memory_profiler has to be load into the code by ```%load_ext memory_profiler```.\n",
    "3. Finally, the function time line by line can be examined by ```%mprun -f function function(arg1, arg2, arg3)```\n",
    "\n",
    "Attention: mprun can only be used on functions defined in physical files, not in the IPython session.\n",
    "Functions must be imported when using memory_profiler."
   ]
  },
  {
   "cell_type": "code",
   "execution_count": null,
   "id": "5d8c63fb-f3d2-458b-bd3a-277f2e1d9b5d",
   "metadata": {},
   "outputs": [],
   "source": [
    "# Import system specific functions\n",
    "import sys\n",
    "\n",
    "# Give size in bits of a signle object (not line-by-line)\n",
    "nums_list = [*range(1000)]\n",
    "sys.getsizeof(nums_list)\n",
    "\n",
    "nums_np = np.array(range(1000))\n",
    "sys.getsizeof(nums_np)"
   ]
  },
  {
   "cell_type": "code",
   "execution_count": null,
   "id": "dc177c09-6f43-4eb9-8df7-c589ed9352d0",
   "metadata": {},
   "outputs": [],
   "source": [
    "# Code profiling [MiB]\n",
    "pip install memory_profiler\n",
    "%load_ext memory_profiler\n",
    "from package import function\n",
    "%mprun -f function function(arg1, arg2, arg3)"
   ]
  },
  {
   "cell_type": "code",
   "execution_count": null,
   "id": "264acbb5-318c-4e8e-be2f-e3ceb1b30638",
   "metadata": {},
   "outputs": [],
   "source": [
    "%lprun -f get_publisher_heroes get_publisher_heroes(heroes, publishers, desired_publisher)"
   ]
  }
 ],
 "metadata": {
  "kernelspec": {
   "display_name": "Python 3 (ipykernel)",
   "language": "python",
   "name": "python3"
  },
  "language_info": {
   "codemirror_mode": {
    "name": "ipython",
    "version": 3
   },
   "file_extension": ".py",
   "mimetype": "text/x-python",
   "name": "python",
   "nbconvert_exporter": "python",
   "pygments_lexer": "ipython3",
   "version": "3.10.9"
  }
 },
 "nbformat": 4,
 "nbformat_minor": 5
}
