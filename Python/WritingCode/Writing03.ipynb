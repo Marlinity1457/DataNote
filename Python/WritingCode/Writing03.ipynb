{
 "cells": [
  {
   "cell_type": "code",
   "execution_count": null,
   "id": "897f5193-1efb-4dec-8ce5-13ae7b2d0cbd",
   "metadata": {},
   "outputs": [],
   "source": []
  },
  {
   "cell_type": "markdown",
   "id": "3d747072-dea8-4cae-b28c-1442c4360fa2",
   "metadata": {},
   "source": [
    "# String manipulation"
   ]
  },
  {
   "cell_type": "markdown",
   "id": "9540d68a-eb5e-479c-948f-7c02514a819a",
   "metadata": {},
   "source": [
    "### Basics"
   ]
  },
  {
   "cell_type": "code",
   "execution_count": 8,
   "id": "6ec1c6bd-c44a-41ee-a39f-88b7c06c1ff3",
   "metadata": {},
   "outputs": [],
   "source": [
    "string = \"This is a NiCe StriNg. This is a much NiCer StriNg. But this is The MoSt NicEst StriNg!\""
   ]
  },
  {
   "cell_type": "code",
   "execution_count": 23,
   "id": "ba749290-1b4f-411e-8af6-acfa21acfe4a",
   "metadata": {},
   "outputs": [
    {
     "data": {
      "text/plain": [
       "'this is a nice string. this is a much nicer string. but this is the most nicest string!'"
      ]
     },
     "execution_count": 23,
     "metadata": {},
     "output_type": "execute_result"
    }
   ],
   "source": [
    "string.lower()"
   ]
  },
  {
   "cell_type": "code",
   "execution_count": 24,
   "id": "29c15533-7f97-40c3-b68f-4662d284a932",
   "metadata": {},
   "outputs": [
    {
     "data": {
      "text/plain": [
       "'THIS IS A NICE STRING. THIS IS A MUCH NICER STRING. BUT THIS IS THE MOST NICEST STRING!'"
      ]
     },
     "execution_count": 24,
     "metadata": {},
     "output_type": "execute_result"
    }
   ],
   "source": [
    "string.upper()"
   ]
  },
  {
   "cell_type": "code",
   "execution_count": 25,
   "id": "237496ad-dcbe-4b42-88e7-36739947c9ca",
   "metadata": {},
   "outputs": [
    {
     "data": {
      "text/plain": [
       "'This is a nice string. this is a much nicer string. but this is the most nicest string!'"
      ]
     },
     "execution_count": 25,
     "metadata": {},
     "output_type": "execute_result"
    }
   ],
   "source": [
    "string.capitalize()"
   ]
  },
  {
   "cell_type": "code",
   "execution_count": 26,
   "id": "a34541a3-be1e-44c6-88b4-66ba606868b5",
   "metadata": {},
   "outputs": [
    {
     "data": {
      "text/plain": [
       "['This is a NiCe StriNg',\n",
       " 'This is a much NiCer StriNg',\n",
       " 'But this is The MoSt NicEst StriNg!']"
      ]
     },
     "execution_count": 26,
     "metadata": {},
     "output_type": "execute_result"
    }
   ],
   "source": [
    "string.split(sep = '. ', maxsplit = 2)"
   ]
  },
  {
   "cell_type": "code",
   "execution_count": 21,
   "id": "7642cc9d-4538-401f-bce5-f8d097f89069",
   "metadata": {},
   "outputs": [
    {
     "data": {
      "text/plain": [
       "['This is a NiCe StriNg',\n",
       " 'This is a much NiCer StriNg',\n",
       " 'But this is The MoSt NicEst StriNg!']"
      ]
     },
     "execution_count": 21,
     "metadata": {},
     "output_type": "execute_result"
    }
   ],
   "source": [
    "string.rsplit(sep = '. ', maxsplit = 2)"
   ]
  },
  {
   "cell_type": "code",
   "execution_count": 22,
   "id": "359412b9-7d1e-4ba7-ad84-ab36c62f1f64",
   "metadata": {},
   "outputs": [],
   "source": [
    "string_2 = \"This is a NiCe StriNg.\\nThis is a much NiCer StriNg\\nbut this is The MoSt NicEst StriNg!\""
   ]
  },
  {
   "cell_type": "markdown",
   "id": "12d17a5a-005a-4649-913a-09b64eb79db2",
   "metadata": {},
   "source": [
    "#### Separate lines"
   ]
  },
  {
   "cell_type": "code",
   "execution_count": 15,
   "id": "d3b4e16c-8dc7-430f-a78e-ed3f584c0684",
   "metadata": {},
   "outputs": [
    {
     "name": "stdout",
     "output_type": "stream",
     "text": [
      "This is a NiCe StriNg.\n",
      "This is a much NiCer StriNg\n",
      "but this is The MoSt NicEst StriNg!\n"
     ]
    }
   ],
   "source": [
    "print(string_2)"
   ]
  },
  {
   "cell_type": "code",
   "execution_count": 13,
   "id": "1e70b601-64c1-4408-991e-ba9615e26b6b",
   "metadata": {},
   "outputs": [
    {
     "data": {
      "text/plain": [
       "['This is a NiCe StriNg.',\n",
       " 'This is a much NiCer StriNg',\n",
       " 'but this is The MoSt NicEst StriNg!']"
      ]
     },
     "execution_count": 13,
     "metadata": {},
     "output_type": "execute_result"
    }
   ],
   "source": [
    "string_2.splitlines()"
   ]
  },
  {
   "cell_type": "markdown",
   "id": "22461614-e237-4b12-b811-6e11c837ce42",
   "metadata": {},
   "source": [
    "Joining a list of string"
   ]
  },
  {
   "cell_type": "code",
   "execution_count": 16,
   "id": "b09655ee-6e84-4381-b31a-9cfcf12683a1",
   "metadata": {},
   "outputs": [
    {
     "name": "stdout",
     "output_type": "stream",
     "text": [
      "This would be a string\n"
     ]
    }
   ],
   "source": [
    "my_list = ['This','would','be','a','string']\n",
    "print(\" \".join(my_list))"
   ]
  },
  {
   "cell_type": "markdown",
   "id": "198dd27e-6673-4ce8-92d9-9a34ef731b02",
   "metadata": {},
   "source": [
    "#### Specify a character"
   ]
  },
  {
   "cell_type": "code",
   "execution_count": 17,
   "id": "f1229f79-ce64-4e03-9fa0-93dc1079015d",
   "metadata": {},
   "outputs": [],
   "source": [
    "string_3 = \" This string will be stripped\\n\""
   ]
  },
  {
   "cell_type": "code",
   "execution_count": 18,
   "id": "156c8689-66a8-4b82-a436-91f57a6fa2ad",
   "metadata": {},
   "outputs": [
    {
     "data": {
      "text/plain": [
       "'This string will be stripped'"
      ]
     },
     "execution_count": 18,
     "metadata": {},
     "output_type": "execute_result"
    }
   ],
   "source": [
    "string_3.strip()"
   ]
  },
  {
   "cell_type": "code",
   "execution_count": 19,
   "id": "06351937-5c49-483f-9c58-80e136fd5a78",
   "metadata": {},
   "outputs": [
    {
     "data": {
      "text/plain": [
       "' This string will be stripped'"
      ]
     },
     "execution_count": 19,
     "metadata": {},
     "output_type": "execute_result"
    }
   ],
   "source": [
    "string_3.rstrip()"
   ]
  },
  {
   "cell_type": "code",
   "execution_count": 27,
   "id": "c0bd37a7-1018-42a3-ae52-e6a56e048002",
   "metadata": {},
   "outputs": [
    {
     "data": {
      "text/plain": [
       "'This string will be stripped\\n'"
      ]
     },
     "execution_count": 27,
     "metadata": {},
     "output_type": "execute_result"
    }
   ],
   "source": [
    "string_3.lstrip()"
   ]
  },
  {
   "cell_type": "code",
   "execution_count": null,
   "id": "0bf32858-2d6f-437e-a6f0-4a66dfb37bd5",
   "metadata": {},
   "outputs": [],
   "source": []
  }
 ],
 "metadata": {
  "kernelspec": {
   "display_name": "Python 3 (ipykernel)",
   "language": "python",
   "name": "python3"
  },
  "language_info": {
   "codemirror_mode": {
    "name": "ipython",
    "version": 3
   },
   "file_extension": ".py",
   "mimetype": "text/x-python",
   "name": "python",
   "nbconvert_exporter": "python",
   "pygments_lexer": "ipython3",
   "version": "3.10.9"
  }
 },
 "nbformat": 4,
 "nbformat_minor": 5
}
